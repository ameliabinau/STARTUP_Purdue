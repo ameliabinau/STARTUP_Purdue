{
  "cells": [
    {
      "cell_type": "markdown",
      "id": "309072f4",
      "metadata": {
        "id": "309072f4"
      },
      "source": [
        "# $\\color{Violet}{\\text{Week 1: Python and GitHub Intro}}$"
      ]
    },
    {
      "cell_type": "markdown",
      "id": "9174c7df",
      "metadata": {
        "id": "9174c7df"
      },
      "source": [
        "**Instructions:** Read all text blocks and comments in code cells carefully. These contain important information regarding content you'll need to know for operating the notebook and research/coding in general. They may also contain instructions/hints for filling out activity blocks."
      ]
    },
    {
      "cell_type": "markdown",
      "id": "c1fb1bcc",
      "metadata": {
        "id": "c1fb1bcc"
      },
      "source": [
        "## $\\color{Red}{\\text{Reminder: Documentation and Stack Exchange are your best friends!}}$"
      ]
    },
    {
      "cell_type": "markdown",
      "id": "61a62695",
      "metadata": {
        "id": "61a62695"
      },
      "source": [
        "___________________________________________"
      ]
    },
    {
      "cell_type": "markdown",
      "id": "528fd72a",
      "metadata": {
        "id": "528fd72a"
      },
      "source": [
        "# Importing, Updating, and Downloading Packages"
      ]
    },
    {
      "cell_type": "markdown",
      "id": "181c5d1b",
      "metadata": {
        "id": "181c5d1b"
      },
      "source": [
        "The first thing you must do whenever you create a new notebook or other coding file is to import all the packages you'll need to complete your computations. Packages are a relatively universal concept in higher-level programming; not all functionalities needed for a project are necessarily going to be incorportated into the natural programming language, so we must import external code telling Python how to compute special functions. It's good to have a single block you can run at the beginning of the notebook that initializes all the imports. **Once this block is run, you won't have to run it again so long as you don't shut down or restart your kernel.**"
      ]
    },
    {
      "cell_type": "code",
      "execution_count": 3,
      "id": "80c8e72e",
      "metadata": {
        "id": "80c8e72e"
      },
      "outputs": [],
      "source": [
        "# Run this cell. Notice that a number appears on the left-hand side. This number keeps track of the order in which the cells are run.\n",
        "# Use a pound symbol '#' to insert comments into coding blocks. It is important that you keep your code well-commented so others can follow along.\n",
        "\n",
        "import numpy as np #Whenever we reference the NumPy package later, we will abreviate it as 'np'; using \"as np\" tells the computer this is our intention. 'np' is the standard abbreviation for NumPy.\n",
        "import scipy\n",
        "import pandas as pd #'pd' is the standard Pandas abbreviation\n",
        "import matplotlib as plt"
      ]
    },
    {
      "cell_type": "markdown",
      "id": "0b3a1162",
      "metadata": {
        "id": "0b3a1162"
      },
      "source": [
        "Let's check what version of each package we're using. Whenever the developers of the package update something, the version changes. This can cause problems if one package requires a certain version of another; we can change which version we use if needed."
      ]
    },
    {
      "cell_type": "code",
      "execution_count": null,
      "id": "da366642",
      "metadata": {
        "colab": {
          "base_uri": "https://localhost:8080/"
        },
        "id": "da366642",
        "outputId": "5d2ffeff-9336-41a4-9acf-7d6d6d7d047e"
      },
      "outputs": [
        {
          "output_type": "stream",
          "name": "stdout",
          "text": [
            "1.25.2\n",
            "We are running NumPy version 1.25.2.\n"
          ]
        }
      ],
      "source": [
        "print(np.__version__) #The '.__version__' command prints the version of the package\n",
        "\n",
        "#Let's format this into a sentance we can print. If you need help with Python strings and datatypes, we recommend CodeAcademy's intro course.\n",
        "version_number = np.__version__ #Save the version number as a variable\n",
        "print(f\"We are running NumPy version {version_number}.\") #This formatting is called an f-string. It prints combined strings and variables as strings."
      ]
    },
    {
      "cell_type": "markdown",
      "id": "82684296",
      "metadata": {
        "id": "82684296"
      },
      "source": [
        "Let's say we need to use a new Python package that's not already installed on our kernel. We won't have access to the source code we need unless we install this package. We do this using the `!pip install` command. Once this command is run for a particular package, it never needs run again. `!pip install` is also a Bash command that works in Terminal, too."
      ]
    },
    {
      "cell_type": "code",
      "execution_count": null,
      "id": "7641f8c1",
      "metadata": {
        "colab": {
          "base_uri": "https://localhost:8080/"
        },
        "id": "7641f8c1",
        "outputId": "f1a0663c-8949-4c33-fbe7-3f81f55501d6"
      },
      "outputs": [
        {
          "output_type": "stream",
          "name": "stdout",
          "text": [
            "Requirement already satisfied: numpy in /usr/local/lib/python3.10/dist-packages (1.26.4)\n"
          ]
        }
      ],
      "source": [
        "#Let's pip install NumPy just for practice, even though it is generally installed on most servers by default. It should return a line telling you the package is already installed (\"Requirement already satisfied\")\n",
        "!pip install numpy"
      ]
    },
    {
      "cell_type": "markdown",
      "id": "cd9e432c",
      "metadata": {
        "id": "cd9e432c"
      },
      "source": [
        "Let's say we want to use a different version of NumPy, maybe because of some dependency issues. We can revert to an older version and update the package. We need to reinstall the package under a new version using `! pip install` again. You may get some errors, pip install is really finiky, just run the cell again to see that the requirement is satisfied.\n",
        "\n",
        "If you're having problems in your code, it is important to read the errors that are returned. You can Google these errors or ask ChatGPT to find solutions."
      ]
    },
    {
      "cell_type": "code",
      "execution_count": null,
      "id": "0e5e0a35",
      "metadata": {
        "colab": {
          "base_uri": "https://localhost:8080/"
        },
        "id": "0e5e0a35",
        "outputId": "2a96f709-b89a-495d-8b53-264c526bbf83"
      },
      "outputs": [
        {
          "output_type": "stream",
          "name": "stdout",
          "text": [
            "Collecting numpy==1.20.0\n",
            "  Using cached numpy-1.20.0.zip (8.0 MB)\n",
            "  Installing build dependencies ... \u001b[?25l\u001b[?25hdone\n",
            "  Getting requirements to build wheel ... \u001b[?25l\u001b[?25hdone\n",
            "  Preparing metadata (pyproject.toml) ... \u001b[?25l\u001b[?25hdone\n",
            "Building wheels for collected packages: numpy\n",
            "  \u001b[1;31merror\u001b[0m: \u001b[1msubprocess-exited-with-error\u001b[0m\n",
            "  \n",
            "  \u001b[31m×\u001b[0m \u001b[32mBuilding wheel for numpy \u001b[0m\u001b[1;32m(\u001b[0m\u001b[32mpyproject.toml\u001b[0m\u001b[1;32m)\u001b[0m did not run successfully.\n",
            "  \u001b[31m│\u001b[0m exit code: \u001b[1;36m1\u001b[0m\n",
            "  \u001b[31m╰─>\u001b[0m See above for output.\n",
            "  \n",
            "  \u001b[1;35mnote\u001b[0m: This error originates from a subprocess, and is likely not a problem with pip.\n",
            "  Building wheel for numpy (pyproject.toml) ... \u001b[?25l\u001b[?25herror\n",
            "\u001b[31m  ERROR: Failed building wheel for numpy\u001b[0m\u001b[31m\n",
            "\u001b[0mFailed to build numpy\n",
            "\u001b[31mERROR: Could not build wheels for numpy, which is required to install pyproject.toml-based projects\u001b[0m\u001b[31m\n",
            "\u001b[0m"
          ]
        }
      ],
      "source": [
        "!pip install numpy==1.20.0"
      ]
    },
    {
      "cell_type": "markdown",
      "id": "3ffffac1",
      "metadata": {
        "id": "3ffffac1"
      },
      "source": [
        "But uh oh! We realize that reverting to an older version of NumPy causes some dependency problems (newer packages we're using rely on updated versions of NumPy, so they won't run unless we make sure NumPy is updated). Let's use `!pip install` to uninstall the old version of NumPy and reinstall a new version of NumPy."
      ]
    },
    {
      "cell_type": "code",
      "execution_count": null,
      "id": "188efd8e",
      "metadata": {
        "colab": {
          "base_uri": "https://localhost:8080/"
        },
        "id": "188efd8e",
        "outputId": "f45851f4-33d3-4ee8-fae5-b98a561c055b"
      },
      "outputs": [
        {
          "output_type": "stream",
          "name": "stdout",
          "text": [
            "Requirement already satisfied: numpy in /usr/local/lib/python3.10/dist-packages (1.26.4)\n",
            "The updated version number of NumPy is 1.26.4.\n"
          ]
        }
      ],
      "source": [
        "!pip install numpy --upgrade\n",
        "\n",
        "new_version = np.__version__\n",
        "print(f\"The updated version number of NumPy is {new_version}.\")"
      ]
    },
    {
      "cell_type": "markdown",
      "id": "79efbc08",
      "metadata": {
        "id": "79efbc08"
      },
      "source": [
        "### $\\color{orange}{\\text{Activity 1: Import and Update}}$"
      ]
    },
    {
      "cell_type": "markdown",
      "id": "1c07c2b3",
      "metadata": {
        "id": "1c07c2b3"
      },
      "source": [
        "In the block below, install a Python package of your choosing (find some here: https://www.geeksforgeeks.org/python-packages/), import it, and check the version number. Research the package documentation/GitHub to ensure it is the most recent version number."
      ]
    },
    {
      "cell_type": "markdown",
      "id": "b75e99d8",
      "metadata": {
        "id": "b75e99d8"
      },
      "source": [
        "In the block below, import the package of your choosing (find some here: https://www.geeksforgeeks.org/python-packages/) and make sure it's updated to the latest version."
      ]
    },
    {
      "cell_type": "code",
      "execution_count": null,
      "id": "f77721c5",
      "metadata": {
        "colab": {
          "base_uri": "https://localhost:8080/"
        },
        "id": "f77721c5",
        "outputId": "9fbc2cdf-2872-4b64-eec9-33f76618c82e"
      },
      "outputs": [
        {
          "output_type": "stream",
          "name": "stdout",
          "text": [
            "Requirement already satisfied: plotly in /usr/local/lib/python3.10/dist-packages (5.22.0)\n",
            "Requirement already satisfied: tenacity>=6.2.0 in /usr/local/lib/python3.10/dist-packages (from plotly) (8.3.0)\n",
            "Requirement already satisfied: packaging in /usr/local/lib/python3.10/dist-packages (from plotly) (24.0)\n",
            "This version of plotly is 5.22.0\n"
          ]
        }
      ],
      "source": [
        "## Activity 1\n",
        "import plotly as pl\n",
        "!pip install plotly --upgrade\n",
        "plversion = pl.__version__\n",
        "print(f\"This version of plotly is {plversion}\")\n"
      ]
    },
    {
      "cell_type": "markdown",
      "id": "2b57486f",
      "metadata": {
        "id": "2b57486f"
      },
      "source": [
        "Cool. Our packges are ready to use."
      ]
    },
    {
      "cell_type": "markdown",
      "id": "4ad0f43b",
      "metadata": {
        "id": "4ad0f43b"
      },
      "source": [
        "________________________________________"
      ]
    },
    {
      "cell_type": "markdown",
      "id": "ced8a8e4",
      "metadata": {
        "id": "ced8a8e4"
      },
      "source": [
        "# Pulling from GitHub"
      ]
    },
    {
      "cell_type": "markdown",
      "id": "3d2b74a4",
      "metadata": {
        "id": "3d2b74a4"
      },
      "source": [
        "We have the course GitHub, where you probably got this notebook. You can download individual notebooks from GitHub, similar to how you's upload a new notebook to GitHub **(IMPORTANT: all Python Jupyter notebooks end in a .ipynb file type)**. Let's \"clone\" the entire repository into our local folder, however, and just download it all at once. We can do this using Jupyter notebooks."
      ]
    },
    {
      "cell_type": "code",
      "execution_count": null,
      "id": "86adee99",
      "metadata": {
        "colab": {
          "base_uri": "https://localhost:8080/"
        },
        "id": "86adee99",
        "outputId": "3fe31141-46a0-4198-ebc0-bc31f811afc6"
      },
      "outputs": [
        {
          "output_type": "stream",
          "name": "stdout",
          "text": [
            "Cloning into 'STARTUP_Purdue'...\n",
            "remote: Enumerating objects: 46, done.\u001b[K\n",
            "remote: Counting objects: 100% (46/46), done.\u001b[K\n",
            "remote: Compressing objects: 100% (32/32), done.\u001b[K\n",
            "remote: Total 46 (delta 5), reused 0 (delta 0), pack-reused 0\u001b[K\n",
            "Receiving objects: 100% (46/46), 74.80 KiB | 2.67 MiB/s, done.\n",
            "Resolving deltas: 100% (5/5), done.\n"
          ]
        }
      ],
      "source": [
        "!git clone https://github.com/ameliabinau/STARTUP_Purdue.git #This address can be found under \"<>Code\" -> \"HTTPS\" on the homepage of the repository."
      ]
    },
    {
      "cell_type": "markdown",
      "id": "bd4dd903",
      "metadata": {
        "id": "bd4dd903"
      },
      "source": [
        "Check your files. The entire repository should be saved under a new folder there."
      ]
    },
    {
      "cell_type": "markdown",
      "id": "f6eac0a7",
      "metadata": {
        "id": "f6eac0a7"
      },
      "source": [
        "### $\\color{orange}{\\text{Activity 2: Commit to GitHub}}$"
      ]
    },
    {
      "cell_type": "markdown",
      "id": "c05fb909",
      "metadata": {
        "id": "c05fb909"
      },
      "source": [
        "When you have completed working through this notebook, download a copy (File -> Download as -> Notebook (.ipynb)). In the course GitHub, upload a copy of this notebook under the folder `Week_1/Week_1_Completed`."
      ]
    },
    {
      "cell_type": "markdown",
      "id": "e33800b2",
      "metadata": {
        "id": "e33800b2"
      },
      "source": [
        "If you were working in a group on a project that needs **continuously updated as you work on it**, GitHub allows you to sync your notebooks with the repository. This is, in fact, what GitHub is designed for and a common use for the repositories. While we will not be using this functionality for this course, find more information here: https://docs.qubole.com/en/latest/user-guide/notebooks-and-dashboards/notebooks/jupyter-notebooks/managing-jupy-notebook-versions/link-jupy-notebook-github.html"
      ]
    },
    {
      "cell_type": "markdown",
      "id": "c3ebf5ce",
      "metadata": {
        "id": "c3ebf5ce"
      },
      "source": [
        "# NumPy"
      ]
    },
    {
      "cell_type": "markdown",
      "id": "cb5c8012",
      "metadata": {
        "id": "cb5c8012"
      },
      "source": [
        "Let's use NumPy for some array manipulation. **NumPy is a standard package for computaing involving large sets of data, including statistical analyses.** Documentation and more information, inculding an array of interesting compatable packages for research purposes, can be found here: https://numpy.org/."
      ]
    },
    {
      "cell_type": "code",
      "execution_count": null,
      "id": "f6686674",
      "metadata": {
        "id": "f6686674"
      },
      "outputs": [],
      "source": [
        "#Let's create a 4x4 NumPy array. A NumPy array is a specific dataframe type that is used universally across many packages.\n",
        "array = np.array([[2.4, 6.4, 2.1, 8.0], [1.1, 1.2, 6.4, 3.2], [9.3, 0.3, 5.6, 5.7], [7.8, 3.2, 5.5, 7.0]])"
      ]
    },
    {
      "cell_type": "code",
      "execution_count": null,
      "id": "c73b6206",
      "metadata": {
        "colab": {
          "base_uri": "https://localhost:8080/"
        },
        "id": "c73b6206",
        "outputId": "921839a6-0e09-44bc-bdc3-dbdcee0cbd42"
      },
      "outputs": [
        {
          "output_type": "stream",
          "name": "stdout",
          "text": [
            "float64\n",
            "<class 'numpy.ndarray'>\n"
          ]
        }
      ],
      "source": [
        "#Let's check the data and object types.\n",
        "print(array.dtype)\n",
        "print(type(array))"
      ]
    },
    {
      "cell_type": "markdown",
      "id": "d7504016",
      "metadata": {
        "id": "d7504016"
      },
      "source": [
        "Often, we will have to convert to the appropriate dataframe/object type in order to use certain functions. NumPy has some functions that convert between object types. Let's generate a regular Python list and convert it to a NumPy array."
      ]
    },
    {
      "cell_type": "code",
      "execution_count": null,
      "id": "babfa107",
      "metadata": {
        "colab": {
          "base_uri": "https://localhost:8080/"
        },
        "id": "babfa107",
        "outputId": "653b4e1b-a24e-461c-b122-a002d32197da"
      },
      "outputs": [
        {
          "output_type": "stream",
          "name": "stdout",
          "text": [
            "[1, 2, 3, 4, 5, 6, 7]\n",
            "<class 'list'>\n",
            "[1 2 3 4 5 6 7]\n",
            "<class 'numpy.ndarray'>\n"
          ]
        }
      ],
      "source": [
        "list = [1, 2, 3, 4, 5, 6, 7]\n",
        "print(list)\n",
        "print(type(list))\n",
        "\n",
        "list = np.asarray(list)\n",
        "print(list)\n",
        "print(type(list))"
      ]
    },
    {
      "cell_type": "markdown",
      "id": "f9f140a2",
      "metadata": {
        "id": "f9f140a2"
      },
      "source": [
        "See what happened there?"
      ]
    },
    {
      "cell_type": "markdown",
      "id": "113c56f2",
      "metadata": {
        "id": "113c56f2"
      },
      "source": [
        "### $\\color{orange}{\\text{Activity 3: Manipulating NumPy Arrays}}$"
      ]
    },
    {
      "cell_type": "markdown",
      "id": "719842f4",
      "metadata": {
        "id": "719842f4"
      },
      "source": [
        "Print this NumPy array.\n",
        "\n",
        "**1.** Use indexing to return/print the element in the [3,3] position.\n",
        "\n",
        "**2.** Then, swap the element in the [2,4] position with the element in the [1,3] position; print the result.\n",
        "\n",
        "**3.** Next, rewrite the element in the [1,4] position to equal 0. Print the result.\n",
        "\n",
        "**4.** Lastly, use indexing to locate which coordinate the value of 9.3 is located. Print the result.\n",
        "\n",
        "More information on indexing and basic NumPy can be found here: https://numpy.org/doc/stable/user/absolute_beginners.html"
      ]
    },
    {
      "cell_type": "code",
      "execution_count": null,
      "id": "1b988801",
      "metadata": {
        "colab": {
          "base_uri": "https://localhost:8080/"
        },
        "id": "1b988801",
        "outputId": "0acdc5ce-3d5c-42a9-c801-e60d3c76d84c"
      },
      "outputs": [
        {
          "output_type": "stream",
          "name": "stdout",
          "text": [
            "[[2.4 6.4 2.1 8. ]\n",
            " [1.1 1.2 6.4 3.2]\n",
            " [9.3 0.3 5.6 5.7]\n",
            " [7.8 3.2 5.5 7. ]]\n",
            "5.6\n",
            "[[2.4 6.4 3.2 8. ]\n",
            " [1.1 1.2 6.4 2.1]\n",
            " [9.3 0.3 5.6 5.7]\n",
            " [7.8 3.2 5.5 7. ]]\n",
            "0.0\n",
            "The coordinate that contains 9.3 is [3,1]\n"
          ]
        }
      ],
      "source": [
        "#Activity 3\n",
        "\n",
        "print(array)\n",
        "print(array[2,2])\n",
        "s=array[1,3]\n",
        "array[1,3]=array[0,2]\n",
        "array[0,2]=s\n",
        "print(array)\n",
        "array[0,3]=0\n",
        "print(array[0,3])\n",
        "for i in range(0,3):\n",
        "  for j in range(0,3):\n",
        "    if array[i,j]==9.3:\n",
        "     print(f\"The coordinate that contains 9.3 is [{i+1},{j+1}]\")\n",
        "\n"
      ]
    },
    {
      "cell_type": "markdown",
      "id": "dad63821",
      "metadata": {
        "id": "dad63821"
      },
      "source": [
        "### np.mean & More!"
      ]
    },
    {
      "cell_type": "markdown",
      "id": "8d5a120b",
      "metadata": {
        "id": "8d5a120b"
      },
      "source": [
        "NumPy hosts an array of statistical functions that are relatively easy to use. Let's find the mean of the array we created."
      ]
    },
    {
      "cell_type": "code",
      "execution_count": null,
      "id": "08a4a55d",
      "metadata": {
        "colab": {
          "base_uri": "https://localhost:8080/"
        },
        "id": "08a4a55d",
        "outputId": "ed94e91e-ca17-4ec3-cf3a-6d7b00faa622"
      },
      "outputs": [
        {
          "output_type": "stream",
          "name": "stdout",
          "text": [
            "4.2\n",
            "[5.15  2.775 5.175 3.7  ]\n"
          ]
        }
      ],
      "source": [
        "print(np.mean(array)) #This takes the mean of all 16 values in the array.\n",
        "\n",
        "mean = np.mean(array, axis=0)\n",
        "print(mean) #Prints an array of the mean of each column of the array."
      ]
    },
    {
      "cell_type": "markdown",
      "id": "78375f08",
      "metadata": {
        "id": "78375f08"
      },
      "source": [
        "You can also take the standard deviation. See documentation for more example functions (https://numpy.org/doc/stable/reference/routines.statistics.html)."
      ]
    },
    {
      "cell_type": "code",
      "execution_count": null,
      "id": "5162bd05",
      "metadata": {
        "colab": {
          "base_uri": "https://localhost:8080/"
        },
        "id": "5162bd05",
        "outputId": "3496ab98-2eae-4933-d22c-dbfbdbcc2317"
      },
      "outputs": [
        {
          "output_type": "stream",
          "name": "stdout",
          "text": [
            "2.7782638463616087\n"
          ]
        }
      ],
      "source": [
        "print(np.std(array))"
      ]
    },
    {
      "cell_type": "markdown",
      "id": "1bf85a52",
      "metadata": {
        "id": "1bf85a52"
      },
      "source": [
        "### $\\color{orange}{\\text{Activity 4: Statistics}}$"
      ]
    },
    {
      "cell_type": "markdown",
      "id": "6b29b737",
      "metadata": {
        "id": "6b29b737"
      },
      "source": [
        "This activity will have you test a variety of statistical functions from NumPy on the dataframe `array`. Use NumPy documentation to find the appropriate functions for each step.\n",
        "\n",
        "**1.** Compute and print the variance ($\\sigma^2$) of the entire array.\n",
        "\n",
        "**2.** Compute and print the median, first quartile, and third quartile of the enitre array.\n",
        "\n",
        "**3.** Compute and print the corrolation coefficient, using indexing, of Row 1 against Row 2 of the array."
      ]
    },
    {
      "cell_type": "code",
      "execution_count": null,
      "id": "74cd221f",
      "metadata": {
        "id": "74cd221f",
        "colab": {
          "base_uri": "https://localhost:8080/"
        },
        "outputId": "e2deff65-703a-43ff-8cee-8ad395e45605"
      },
      "outputs": [
        {
          "output_type": "stream",
          "name": "stdout",
          "text": [
            "7.71875\n",
            "4.35\n",
            "1.875\n",
            "6.4\n",
            "[[ 1.         -0.08047361]\n",
            " [-0.08047361  1.        ]]\n"
          ]
        }
      ],
      "source": [
        "#Activity 4\n",
        "print(np.var(array))\n",
        "print(np.median(array))\n",
        "print(np.quantile(array,0.25))\n",
        "print(np.quantile(array,0.75))\n",
        "print(np.corrcoef(array[0],array[1]))\n"
      ]
    },
    {
      "cell_type": "markdown",
      "id": "a3116fee",
      "metadata": {
        "id": "a3116fee"
      },
      "source": [
        "### np.random"
      ]
    },
    {
      "cell_type": "markdown",
      "id": "811a978a",
      "metadata": {
        "id": "811a978a"
      },
      "source": [
        "NumPy can be used to generate arrays of random variables, selected using a variety of sampling methods."
      ]
    },
    {
      "cell_type": "code",
      "execution_count": null,
      "id": "3ea6f099",
      "metadata": {
        "id": "3ea6f099",
        "outputId": "80792773-ba53-433d-aaf8-a1c323a766e5",
        "colab": {
          "base_uri": "https://localhost:8080/"
        }
      },
      "outputs": [
        {
          "output_type": "stream",
          "name": "stdout",
          "text": [
            "[[0.93187682 0.08515594 0.90836798 0.64372295]]\n"
          ]
        }
      ],
      "source": [
        "random_array = np.random.rand(1,4) #np.random.rand generates an array of the given size from a uniform distribution between 0 (inclusive) and 1 (exclusive).\n",
        "print(random_array)"
      ]
    },
    {
      "cell_type": "markdown",
      "id": "b71ec01d",
      "metadata": {
        "id": "b71ec01d"
      },
      "source": [
        "### $\\color{orange}{\\text{Activity 5: Random Normal and Poisson Distributions}}$"
      ]
    },
    {
      "cell_type": "markdown",
      "id": "7c12b4d3",
      "metadata": {
        "id": "7c12b4d3"
      },
      "source": [
        "Use NumPy documentation to learn how to generate random values selected from a Normal and a Poisson distribution. Comment the link to the documentation. Then:\n",
        "\n",
        "**1.** Generate a random array of size [10000] of values selected from a Poisson distribution of frequency $\\lambda$ = 2.0. Do not print the array! (Note: How did I get the lambda symbol on here? You can use LaTeX formatting in Python. We will talk about this next week.)\n",
        "\n",
        "**2.** Calculate and print the mean of this distribution, the standard deviation, the first and third quartile, and the median using NumPy.\n",
        "\n",
        "**3.** Now generate a new Poisson-sampled array of size [10]. Calculate and print the mean, standard deviation, first and third quartile, and median.\n",
        "\n",
        "**4.** Compare the values between Steps 2 and 3. What changed? Why? What is a Poisson distribution and what is it used for?\n",
        "\n",
        "**5.** Repeat Steps 1-4 for random values sampled from a normal distribution of mean $\\mu$ = 10.0 and standard deviation $\\sigma$ = 3.0.\n",
        "\n",
        "**6.** Why do you think understanding statistics and the distributions from which random numbers are generated is important to physics research?"
      ]
    },
    {
      "cell_type": "code",
      "execution_count": null,
      "id": "b3177f2c",
      "metadata": {
        "id": "b3177f2c",
        "colab": {
          "base_uri": "https://localhost:8080/"
        },
        "outputId": "df912971-ca93-48b2-9e2d-1dd3ec8cf605"
      },
      "outputs": [
        {
          "output_type": "stream",
          "name": "stdout",
          "text": [
            "Output for random array with Poission distribution, Frequency of 2 and Size of 10000\n",
            "2.0115\n",
            "1.4171689207712677\n",
            "1.0\n",
            "3.0\n",
            "2.0\n",
            "Output for random array with Poission distribution, Frequency of 2 and Size of 10\n",
            "2.0\n",
            "0.7745966692414834\n",
            "1.25\n",
            "2.75\n",
            "2.0\n",
            "Output for random array with Normal distribution, Size of 10, Mean of 10 and Standard Deviation of 3\n",
            "10.79914488271792\n",
            "7.490682180825714\n",
            "6.376042982647999\n",
            "15.534283955149412\n",
            "11.423219227441065\n",
            "Output for random array with Normal distribution, Size of 10000, Mean of 10 and Standard Deviation of 3\n",
            "10001.937235147905\n",
            "10.394167049410315\n",
            "9995.861398338235\n",
            "10008.556727374518\n",
            "10003.02454598179\n"
          ]
        }
      ],
      "source": [
        "# Activity 5\n",
        "r = np.random.poisson(2,10000)\n",
        "print(\"Output for random array with Poission distribution, Frequency of 2 and Size of 10000\")\n",
        "print(np.mean(r))\n",
        "print(np.std(r))\n",
        "print(np.quantile(r,0.25))\n",
        "print(np.quantile(r,0.75))\n",
        "print(np.median(r))\n",
        "ser = np.random.poisson(2,10)\n",
        "print(\"Output for random array with Poission distribution, Frequency of 2 and Size of 10\")\n",
        "print(np.mean(ser))\n",
        "print(np.std(ser))\n",
        "print(np.quantile(ser,0.25))\n",
        "print(np.quantile(ser,0.75))\n",
        "print(np.median(ser))\n",
        "# The mean, standard deviation, first quartile, median, and third quartile all became more accurate due to the size of the array. Poisson distributions predict a certain amount of discrete events happening independently of each other at a specified frequency. It can be used in scenarios such as in detecting particles.\n",
        "n = np.random.normal(10,3)\n",
        "print(\"Output for random array with Normal distribution, Size of 10, Mean of 10 and Standard Deviation of 3\")\n",
        "n = np.random.normal(10,10,3)\n",
        "print(np.mean(n))\n",
        "print(np.std(n))\n",
        "print(np.quantile(n,0.25))\n",
        "print(np.quantile(n,0.75))\n",
        "print(np.median(n))\n",
        "print(\"Output for random array with Normal distribution, Size of 10000, Mean of 10 and Standard Deviation of 3\")\n",
        "n = np.random.normal(10000,10,3)\n",
        "print(np.mean(n))\n",
        "print(np.std(n))\n",
        "print(np.quantile(n,0.25))\n",
        "print(np.quantile(n,0.75))\n",
        "print(np.median(n))\n",
        "# Understanding statistics and distributions is important in physics research as probability is needed when looking at smaller-scale events, which are the most researched on when it comes to physics.\n"
      ]
    },
    {
      "cell_type": "markdown",
      "id": "19c6348f",
      "metadata": {
        "id": "19c6348f"
      },
      "source": [
        "### Math in NumPy"
      ]
    },
    {
      "cell_type": "markdown",
      "id": "46ada0e0",
      "metadata": {
        "id": "46ada0e0"
      },
      "source": [
        "NumPy has a few mathematical functions available that it stole from SciPy (reformatting a function in this way, between packages, objects, or programming languages, is broadly called a \"wrapper\"). Let's practice using some of these (found here: https://numpy.org/doc/stable/reference/routines.emath.html)."
      ]
    },
    {
      "cell_type": "code",
      "execution_count": null,
      "id": "e77ffca7",
      "metadata": {
        "id": "e77ffca7",
        "outputId": "d454575d-b202-404e-bab3-4fc1f73db6b6",
        "colab": {
          "base_uri": "https://localhost:8080/"
        }
      },
      "outputs": [
        {
          "output_type": "stream",
          "name": "stdout",
          "text": [
            "[[1.54919334 2.52982213 1.78885438 0.        ]\n",
            " [1.04880885 1.09544512 2.52982213 1.44913767]\n",
            " [3.04959014 0.54772256 2.36643191 2.38746728]\n",
            " [2.79284801 1.78885438 2.34520788 2.64575131]]\n"
          ]
        }
      ],
      "source": [
        "#Lets take the square root of the original array and save it under the same variable.\n",
        "array = np.sqrt(array)\n",
        "print(array)"
      ]
    },
    {
      "cell_type": "markdown",
      "id": "22022865",
      "metadata": {
        "id": "22022865"
      },
      "source": [
        "### $\\color{orange}{\\text{Activity 6: Log Transform}}$"
      ]
    },
    {
      "cell_type": "markdown",
      "id": "8a7af354",
      "metadata": {
        "id": "8a7af354"
      },
      "source": [
        "Use NumPy mathematical functions to take the base-10 logrithum of the entire `array`. This is called a log transform and is often performed on data displayed in graphs to emphasize certain trends/data points. We will talk about this more next week."
      ]
    },
    {
      "cell_type": "code",
      "execution_count": null,
      "id": "a13963be",
      "metadata": {
        "id": "a13963be",
        "colab": {
          "base_uri": "https://localhost:8080/"
        },
        "outputId": "24861c65-ba3b-4498-f5f0-aa4d84dac52d"
      },
      "outputs": [
        {
          "output_type": "stream",
          "name": "stderr",
          "text": [
            "<ipython-input-62-6d562ce3d47d>:2: RuntimeWarning: divide by zero encountered in log10\n",
            "  np.log10(array)\n"
          ]
        },
        {
          "output_type": "execute_result",
          "data": {
            "text/plain": [
              "array([[ 0.19010562,  0.40308999,  0.25257499,        -inf],\n",
              "       [ 0.02069634,  0.03959062,  0.40308999,  0.16110965],\n",
              "       [ 0.48424147, -0.26143937,  0.37409401,  0.37793743],\n",
              "       [ 0.4460473 ,  0.25257499,  0.37018134,  0.42254902]])"
            ]
          },
          "metadata": {},
          "execution_count": 62
        }
      ],
      "source": [
        "# Activity 6\n",
        "np.log10(array)"
      ]
    },
    {
      "cell_type": "markdown",
      "id": "1ca77b9e",
      "metadata": {
        "id": "1ca77b9e"
      },
      "source": [
        "### Special Functions in NumPy"
      ]
    },
    {
      "cell_type": "markdown",
      "id": "9b6f0b16",
      "metadata": {
        "id": "9b6f0b16"
      },
      "source": [
        "Aside from these, NumPy hosts an array (Ha! See what I did there?) of other special functions that can be applied to NumPy dataframes."
      ]
    },
    {
      "cell_type": "markdown",
      "id": "e22ef28b",
      "metadata": {
        "id": "e22ef28b"
      },
      "source": [
        "### $\\color{orange}{\\text{Activity 7: Fast Fourier Transform}}$"
      ]
    },
    {
      "cell_type": "code",
      "execution_count": null,
      "id": "1f1fcde8",
      "metadata": {
        "id": "1f1fcde8"
      },
      "outputs": [],
      "source": [
        "data = np.random.rand(100)"
      ]
    },
    {
      "cell_type": "markdown",
      "id": "514c2e68",
      "metadata": {
        "id": "514c2e68"
      },
      "source": [
        "Use NumPy and documentation to perform a 1D, discrete fast Fourier Transform on the `data` dataframe provided. Print the result and describe the data; are the data real or complex? What is a Fourier Transform?"
      ]
    },
    {
      "cell_type": "code",
      "execution_count": null,
      "id": "a4a526bd",
      "metadata": {
        "id": "a4a526bd",
        "colab": {
          "base_uri": "https://localhost:8080/"
        },
        "outputId": "77435278-6e35-44e6-b5da-7cc029192136"
      },
      "outputs": [
        {
          "output_type": "stream",
          "name": "stdout",
          "text": [
            "[47.81333193+0.00000000e+00j  4.61041847+8.78262884e-03j\n",
            " -0.53641951-1.87788857e+00j  0.18234128+2.94346176e+00j\n",
            " -1.0407516 +3.22630851e+00j  0.44985271+3.25883071e+00j\n",
            " -0.48358991+3.91500496e+00j  0.30005558+1.30479956e+00j\n",
            "  1.20589678-1.78587238e+00j -2.55477211-2.53173337e+00j\n",
            "  1.18174694-7.83657902e-01j -1.84174571-2.03629826e+00j\n",
            " -1.35960572-6.41349845e-01j  2.71014343-3.35833928e+00j\n",
            "  3.98279249+2.03748712e-01j  2.12876735-6.62862430e-01j\n",
            "  0.13579335-4.48167600e-01j  1.97200864-1.13686690e+00j\n",
            " -3.9268344 -2.00166227e-01j -0.21842085-9.52638354e-01j\n",
            " -1.82472789+7.68698978e-01j  3.0959865 -2.80342919e+00j\n",
            "  6.03244499+1.06345968e+00j  0.06073371-1.05765088e-01j\n",
            "  3.5048824 +2.59195328e+00j  0.17316592+5.79005130e-01j\n",
            "  2.46362982+1.22942193e+00j -3.55193233-3.05591394e+00j\n",
            " -1.17500121+5.93812991e-01j  1.01505492-9.52134892e-01j\n",
            " -1.86018037-8.88144653e-01j  3.06949446+2.90291520e+00j\n",
            "  2.39029791-1.40276361e-01j -1.08791938+1.36764685e+00j\n",
            " -2.51936613+1.29885049e+00j  1.40131195-3.88924175e+00j\n",
            "  3.71487467+5.57975579e-02j  0.4531117 -7.22837963e-01j\n",
            " -6.61878014+4.77722978e-01j  2.02687038+3.02848542e+00j\n",
            "  0.0913954 -7.42055518e-03j -2.53576215-1.82351575e+00j\n",
            " -1.0057819 -7.78964281e-01j  0.28617218+1.02101111e-01j\n",
            " -1.52206992-2.11241838e+00j  0.7945954 -1.29463308e+00j\n",
            " -2.11102281+1.35221139e+00j -1.34323759-1.40478134e+00j\n",
            "  0.36213988-4.63796519e-01j -2.46354797-7.78665252e-01j\n",
            " -3.42503446-2.77555756e-16j -2.46354797+7.78665252e-01j\n",
            "  0.36213988+4.63796519e-01j -1.34323759+1.40478134e+00j\n",
            " -2.11102281-1.35221139e+00j  0.7945954 +1.29463308e+00j\n",
            " -1.52206992+2.11241838e+00j  0.28617218-1.02101111e-01j\n",
            " -1.0057819 +7.78964281e-01j -2.53576215+1.82351575e+00j\n",
            "  0.0913954 +7.42055518e-03j  2.02687038-3.02848542e+00j\n",
            " -6.61878014-4.77722978e-01j  0.4531117 +7.22837963e-01j\n",
            "  3.71487467-5.57975579e-02j  1.40131195+3.88924175e+00j\n",
            " -2.51936613-1.29885049e+00j -1.08791938-1.36764685e+00j\n",
            "  2.39029791+1.40276361e-01j  3.06949446-2.90291520e+00j\n",
            " -1.86018037+8.88144653e-01j  1.01505492+9.52134892e-01j\n",
            " -1.17500121-5.93812991e-01j -3.55193233+3.05591394e+00j\n",
            "  2.46362982-1.22942193e+00j  0.17316592-5.79005130e-01j\n",
            "  3.5048824 -2.59195328e+00j  0.06073371+1.05765088e-01j\n",
            "  6.03244499-1.06345968e+00j  3.0959865 +2.80342919e+00j\n",
            " -1.82472789-7.68698978e-01j -0.21842085+9.52638354e-01j\n",
            " -3.9268344 +2.00166227e-01j  1.97200864+1.13686690e+00j\n",
            "  0.13579335+4.48167600e-01j  2.12876735+6.62862430e-01j\n",
            "  3.98279249-2.03748712e-01j  2.71014343+3.35833928e+00j\n",
            " -1.35960572+6.41349845e-01j -1.84174571+2.03629826e+00j\n",
            "  1.18174694+7.83657902e-01j -2.55477211+2.53173337e+00j\n",
            "  1.20589678+1.78587238e+00j  0.30005558-1.30479956e+00j\n",
            " -0.48358991-3.91500496e+00j  0.44985271-3.25883071e+00j\n",
            " -1.0407516 -3.22630851e+00j  0.18234128-2.94346176e+00j\n",
            " -0.53641951+1.87788857e+00j  4.61041847-8.78262884e-03j]\n"
          ]
        }
      ],
      "source": [
        "#Activity 7\n",
        "print(np.fft.fft(data))\n",
        "# The data is complex. A Fourier Transform is an integral that takes a function and breaks it down into complex trig functions."
      ]
    },
    {
      "cell_type": "markdown",
      "id": "f63e2285",
      "metadata": {
        "id": "f63e2285"
      },
      "source": [
        "____________________________________________________"
      ]
    },
    {
      "cell_type": "markdown",
      "id": "1bcb1c7e",
      "metadata": {
        "id": "1bcb1c7e"
      },
      "source": [
        "# Matplotlib"
      ]
    },
    {
      "cell_type": "markdown",
      "id": "95782d52",
      "metadata": {
        "id": "95782d52"
      },
      "source": [
        "Where there is science, there's observations. Where there's observations, there's data. How do we plot the data we collect such that conclusions can be drawn and results communicated? We mostly frequently use a Python package called `Matplotlib`."
      ]
    },
    {
      "cell_type": "markdown",
      "id": "1dd4404b",
      "metadata": {
        "id": "1dd4404b"
      },
      "source": [
        "$\\color{Blue}{\\text{A helpful Matplotlib cheatsheet is located here:}}$ https://matplotlib.org/cheatsheets/_images/cheatsheets-1.png\n",
        "\n",
        "\n",
        "$\\color{Green}{\\text{An important part of data visualization is what colors you use to represent datasets. A list of Matplotlib color names is located here:}}$ https://matplotlib.org/stable/gallery/color/named_colors.html#sphx-glr-gallery-color-named-colors-py$\\color{Green}{\\text{. A list of color gradient names is located here:}}$ https://matplotlib.org/stable/users/explain/colors/colormaps.html\n"
      ]
    },
    {
      "cell_type": "markdown",
      "id": "b43751d0",
      "metadata": {
        "id": "b43751d0"
      },
      "source": [
        "Let's create a variety of basic plots."
      ]
    },
    {
      "cell_type": "markdown",
      "id": "97924fb5",
      "metadata": {
        "id": "97924fb5"
      },
      "source": [
        "### Plotting a Function"
      ]
    },
    {
      "cell_type": "code",
      "execution_count": 4,
      "id": "9ef08db4",
      "metadata": {
        "id": "9ef08db4",
        "outputId": "8c0734ad-766e-4d2c-f06d-ad0c6154dc65",
        "colab": {
          "base_uri": "https://localhost:8080/",
          "height": 472
        }
      },
      "outputs": [
        {
          "output_type": "display_data",
          "data": {
            "text/plain": [
              "<Figure size 640x480 with 1 Axes>"
            ],
            "image/png": "[encoded data removed]"
          },
          "metadata": {}
        }
      ],
      "source": [
        "#Let's plot a quadratic function.\n",
        "import matplotlib.pyplot as plt\n",
        "\n",
        "def y(x):\n",
        "    return x**2\n",
        "x = np.linspace(-10, 10, 100) #It's important to understand what this function does: https://numpy.org/doc/stable/reference/generated/numpy.linspace.html\n",
        "y = y(x)\n",
        "\n",
        "plot = plt.plot(x, y, color='red') #Plotting a continuous curve requires the `plt.plot()` function.\n",
        "plt.xlabel(\"x\") #x-axis label\n",
        "plt.ylabel(\"y\") #y-axis label\n",
        "plt.title(\"Quadratic Function\")\n",
        "plt.show() #While not needed for some `plt` functions, `plt.show()` must often be written in order to tell"
      ]
    },
    {
      "cell_type": "markdown",
      "id": "e1274117",
      "metadata": {
        "id": "e1274117"
      },
      "source": [
        "### Scatterplots and Histograms"
      ]
    },
    {
      "cell_type": "markdown",
      "id": "01e9da84",
      "metadata": {
        "id": "01e9da84"
      },
      "source": [
        "Let's generate two arrays of random datapoints taken from a chi-squared distribution (see a description of Chi-Squared distributions here: https://www.scribbr.com/statistics/chi-square-distributions/) using NumPy and plot both of them using a scatterplot and histograms."
      ]
    },
    {
      "cell_type": "code",
      "execution_count": 6,
      "id": "e43dace3",
      "metadata": {
        "id": "e43dace3"
      },
      "outputs": [],
      "source": [
        "chi_squared_1 = np.random.chisquare(5, 100)\n",
        "chi_squared_2 = np.random.chisquare(3, 100)"
      ]
    },
    {
      "cell_type": "code",
      "execution_count": 7,
      "id": "ed3e9548",
      "metadata": {
        "id": "ed3e9548",
        "outputId": "4f1611d7-3b19-4e61-ebc2-d41023fd3d14",
        "colab": {
          "base_uri": "https://localhost:8080/",
          "height": 472
        }
      },
      "outputs": [
        {
          "output_type": "display_data",
          "data": {
            "text/plain": [
              "<Figure size 640x480 with 1 Axes>"
            ],
            "image/png": "[encoded data removed]"
          },
          "metadata": {}
        }
      ],
      "source": [
        "#Scatterplot (takes two variables)\n",
        "\n",
        "plot2 = plt.scatter(chi_squared_1, chi_squared_2, color = 'navy', marker = \"*\") #Notice the markers!\n",
        "plt.xlabel(\"Chi-Squared 1\") #x-axis label\n",
        "plt.ylabel(\"Chi-Squared 2\") #y-axis label\n",
        "plt.title(\"Chi-Squared Compared\")\n",
        "plt.show()"
      ]
    },
    {
      "cell_type": "code",
      "execution_count": 8,
      "id": "b9a5108f",
      "metadata": {
        "id": "b9a5108f",
        "outputId": "74cb5fb2-5eeb-4b9e-dc41-6a07bd9e84c1",
        "colab": {
          "base_uri": "https://localhost:8080/",
          "height": 927
        }
      },
      "outputs": [
        {
          "output_type": "display_data",
          "data": {
            "text/plain": [
              "<Figure size 640x480 with 1 Axes>"
            ],
            "image/png": "[encoded data removed]"
          },
          "metadata": {}
        },
        {
          "output_type": "display_data",
          "data": {
            "text/plain": [
              "<Figure size 640x480 with 1 Axes>"
            ],
            "image/png": "[encoded data removed]"
          },
          "metadata": {}
        }
      ],
      "source": [
        "#Two histograms (one-dimensional), one for each dataset\n",
        "\n",
        "plot3 = plt.hist(chi_squared_1, bins = 20, color = 'violet') #The \"bins\" value is the number of divisions/bars that display the frequency of datapoints within the numeric range of each bin.\n",
        "plt.xlabel(\"Values\")\n",
        "plt.ylabel(\"Frequency\")\n",
        "plt.title(\"Chi-Squared 1\")\n",
        "plt.show()\n",
        "\n",
        "plot4 = plt.hist(chi_squared_2, bins = 20, color = 'darkviolet') #The \"bins\" value is the number of divisions/bars that display the frequency of datapoints within the numeric range of each bin.\n",
        "plt.xlabel(\"Values\")\n",
        "plt.ylabel(\"Frequency\")\n",
        "plt.title(\"Chi-Squared 2\")\n",
        "plt.show()"
      ]
    },
    {
      "cell_type": "markdown",
      "id": "77e1b5e0",
      "metadata": {
        "id": "77e1b5e0"
      },
      "source": [
        "### $\\color{orange}{\\text{Activity 8: 2D Histograms}}$"
      ]
    },
    {
      "cell_type": "markdown",
      "id": "9a21adff",
      "metadata": {
        "id": "9a21adff"
      },
      "source": [
        "Histograms display the number/frequency of datapoints in a dataset that reside in numeric bins lying along a 1D \"axis.\" What if we want to display the number of datapoints in bins along two intersecting axes? In this case, we use a 2D histogram which uses a \"colorbar\" to represent the frequency of datapoints in each bin. Below is some code used to plot one such 2D histogram."
      ]
    },
    {
      "cell_type": "code",
      "execution_count": 9,
      "id": "e854d3f1",
      "metadata": {
        "id": "e854d3f1",
        "outputId": "5385dcc3-6a59-4c07-cbf3-90c581a67d81",
        "colab": {
          "base_uri": "https://localhost:8080/",
          "height": 558
        }
      },
      "outputs": [
        {
          "output_type": "stream",
          "name": "stderr",
          "text": [
            "<ipython-input-9-7fbb530c8b42>:8: MatplotlibDeprecationWarning: Unable to determine Axes to steal space for Colorbar. Using gca(), but will raise in the future. Either provide the *cax* argument to use as the Axes for the Colorbar, provide the *ax* argument to steal space from it, or add *mappable* to an Axes.\n",
            "  fig.colorbar(mpl.cm.ScalarMappable())\n"
          ]
        },
        {
          "output_type": "execute_result",
          "data": {
            "text/plain": [
              "<matplotlib.colorbar.Colorbar at 0x7b646e871ea0>"
            ]
          },
          "metadata": {},
          "execution_count": 9
        },
        {
          "output_type": "display_data",
          "data": {
            "text/plain": [
              "<Figure size 640x480 with 2 Axes>"
            ],
            "image/png": "[encoded data removed]"
          },
          "metadata": {}
        }
      ],
      "source": [
        "import matplotlib.pyplot as plt\n",
        "import matplotlib as mpl\n",
        "\n",
        "fig, ax = plt.subplots(tight_layout=True)\n",
        "hist = ax.hist2d(chi_squared_1, chi_squared_2, norm=mpl.colors.LogNorm())\n",
        "plt.xlabel(\"Chi-Squared 1\")\n",
        "plt.ylabel(\"Chi-Squared 2\")\n",
        "fig.colorbar(mpl.cm.ScalarMappable())"
      ]
    },
    {
      "cell_type": "markdown",
      "id": "6db4dd49",
      "metadata": {
        "id": "6db4dd49"
      },
      "source": [
        "Use documentation, StackExchange, ChatGPT, etc. to learn how to add x- and y-labels and a colorbar to this graph."
      ]
    },
    {
      "cell_type": "markdown",
      "id": "ce0c0ac0",
      "metadata": {
        "id": "ce0c0ac0"
      },
      "source": [
        "--------------------------------------------------------"
      ]
    },
    {
      "cell_type": "markdown",
      "id": "7df6888c",
      "metadata": {
        "id": "7df6888c"
      },
      "source": [
        "# SciPy"
      ]
    },
    {
      "cell_type": "markdown",
      "id": "5d832610",
      "metadata": {
        "id": "5d832610"
      },
      "source": [
        "SciPy is a package that contains a variety of advanced mathematical functions such as numerical intregration, special functions, optimization (linear regressions, etc.), linear algebra, and more.\n",
        "\n",
        "First, let's check which version of SciPy we're using."
      ]
    },
    {
      "cell_type": "markdown",
      "id": "31baf3bd",
      "metadata": {
        "id": "31baf3bd"
      },
      "source": [
        "### $\\color{orange}{\\text{Activity 9: SciPy Version}}$"
      ]
    },
    {
      "cell_type": "markdown",
      "id": "9da01006",
      "metadata": {
        "id": "9da01006"
      },
      "source": [
        "Print which version of SciPy you're running using an f-string that reads \"The version of SciPy we're running is {insert version number}.\""
      ]
    },
    {
      "cell_type": "code",
      "execution_count": 10,
      "id": "9096e51b",
      "metadata": {
        "id": "9096e51b",
        "colab": {
          "base_uri": "https://localhost:8080/"
        },
        "outputId": "3d23dc91-973c-4a36-a6ac-b81038cf69c3"
      },
      "outputs": [
        {
          "output_type": "stream",
          "name": "stdout",
          "text": [
            "The version of SciPy we're running is 1.11.4\n"
          ]
        }
      ],
      "source": [
        "#Activity 9\n",
        "import scipy as sp\n",
        "print(f\"The version of SciPy we're running is {sp.__version__}\")"
      ]
    },
    {
      "cell_type": "markdown",
      "id": "5a7fd3f3",
      "metadata": {
        "id": "5a7fd3f3"
      },
      "source": [
        "### scipy.integrate: Numerical Integration"
      ]
    },
    {
      "cell_type": "markdown",
      "id": "175ea129",
      "metadata": {
        "id": "175ea129"
      },
      "source": [
        "One of the most common reasons to use SciPy is its numerical integration function. Let's integrate a variety of functions provided by SciPy.\n",
        "\n",
        "A list of SciPy special functions are provided here: https://docs.scipy.org/doc/scipy/reference/special.html"
      ]
    },
    {
      "cell_type": "code",
      "execution_count": 11,
      "id": "8cca14b2",
      "metadata": {
        "id": "8cca14b2",
        "outputId": "2d85ae75-a725-4ba8-d1d8-b8194f411bf5",
        "colab": {
          "base_uri": "https://localhost:8080/"
        }
      },
      "outputs": [
        {
          "output_type": "stream",
          "name": "stdout",
          "text": [
            "(2490.0, 2.7661051045708712e-11)\n"
          ]
        }
      ],
      "source": [
        "#Import submodules of SciPy, which are not necessarily imported with the base package. Additionally, this makes it easier to call the entire submodule AND SciPy when we go to use a function from that submodule.\n",
        "import scipy.integrate as integrate\n",
        "import scipy.special as special #Special functions in SciPy.\n",
        "\n",
        "#Let's define a simple function using variable x and output \"function\"\n",
        "def function(x):\n",
        "    return (x**3 - 1) #Python uses ** to represent exponentiation.\n",
        "\n",
        "#Integrate using integrate.quad (https://docs.scipy.org/doc/scipy/tutorial/integrate.html)\n",
        "#Here, we integrate from x = 0 to x = 10.\n",
        "numerical = integrate.quad(function, 0, 10)\n",
        "print(numerical)"
      ]
    },
    {
      "cell_type": "markdown",
      "id": "e63da795",
      "metadata": {
        "id": "e63da795"
      },
      "source": [
        "In the printed result, there are two values. The first is the actual value of the definite integral. The second in the error in that value, since `integrate.quad` uses numerical integration using the quadrature method."
      ]
    },
    {
      "cell_type": "markdown",
      "id": "31cbf962",
      "metadata": {
        "id": "31cbf962"
      },
      "source": [
        "### $\\color{orange}{\\text{Activity 10: Integrating Bessel Functions}}$"
      ]
    },
    {
      "cell_type": "markdown",
      "id": "a07e56cd",
      "metadata": {
        "id": "a07e56cd"
      },
      "source": [
        "Use SciPy to integrate a Bessel Function (`scipy.special.jv`, https://docs.scipy.org/doc/scipy/reference/generated/scipy.special.jv.html#scipy.special.jv) at $\\nu$ = 1 from z = 0 to z = 10. Hint: Check documentation on `scipy.integrate`! Print the results.\n",
        "\n",
        "Then, perform the same calculation using Trapezoidal integration. Print the results.\n",
        "\n",
        "What is a Bessel function? What types of physical phenomena do they represent?"
      ]
    },
    {
      "cell_type": "code",
      "execution_count": 12,
      "id": "9caefb17",
      "metadata": {
        "id": "9caefb17",
        "colab": {
          "base_uri": "https://localhost:8080/"
        },
        "outputId": "57d48682-8fdf-4db6-8170-35a1d145279a"
      },
      "outputs": [
        {
          "output_type": "stream",
          "name": "stdout",
          "text": [
            "(1.2459357644513482, 1.1600766172282117e-12)\n",
            "-0.7326668341814702\n"
          ]
        }
      ],
      "source": [
        "#Activity 10\n",
        "z = np.linspace(0, 10, 10)\n",
        "def function(z):\n",
        " return scipy.special.jv(1,z)\n",
        "integral=integrate.quad(function,0,10)\n",
        "print(integral)\n",
        "m=function(z)\n",
        "secintegral=integrate.trapezoid(z,m)\n",
        "print(secintegral)"
      ]
    },
    {
      "cell_type": "markdown",
      "id": "87643987",
      "metadata": {
        "id": "87643987"
      },
      "source": [
        "### Curve-fitting"
      ]
    },
    {
      "cell_type": "markdown",
      "id": "72563b49",
      "metadata": {
        "id": "72563b49"
      },
      "source": [
        "If you take anything from this homework, **curve fitting may be one of the most important topics to remember.** In experimental physics, a vast majority of data processesing (and eventually, discoveries!) are made by fitting functions, either by hand or with machine learning, to data. This way, theoretical predictions can be matched to real data and background noise can be removed. Let's generate some random data and fit a 1. linear function and 2. a normal distribution to it."
      ]
    },
    {
      "cell_type": "markdown",
      "id": "6b9c9d63",
      "metadata": {
        "id": "6b9c9d63"
      },
      "source": [
        "To create a histogram of data, we use the `Boost_Histogram`package. This package allows us to create an \"axis\" of \"bins\" we can \"fill\" with data (i.e. if there are five data points, x = 0,1,2,4,5 and two bins, one between x = 0 and x = 3 and one between x = 3 and x = 6, three datapoints would go in the first bin and two in the second bin). In this example, we fill a `Boost_Histogram` histogram called `random_hist` with our data and plot it. You can get the center \"x\" value of each histogram bin (if a bin spans from x = 0 to x = 3, its center will be at x = 1.5) using `random_hist.axes[0].centers` (you can define a histogram with multiple axes; here, we use a histogram with just one axis, a.k.a. a 1D axis). `random_hist.values()` returns an array of the number of datapoints in each bin, and `random_hist.axes[0].widths` return an array of the \"size\" of each bin along the \"x\" axis (a bin that spans from x = 0 to 3 will have a width of 3)."
      ]
    },
    {
      "cell_type": "code",
      "execution_count": 13,
      "id": "0477cd4d",
      "metadata": {
        "id": "0477cd4d",
        "outputId": "268e5796-aed7-48d8-aa8a-2b714bcf3b63",
        "colab": {
          "base_uri": "https://localhost:8080/",
          "height": 568
        }
      },
      "outputs": [
        {
          "output_type": "stream",
          "name": "stdout",
          "text": [
            "Collecting boost_histogram\n",
            "  Downloading boost_histogram-1.4.1-cp310-cp310-manylinux_2_17_x86_64.manylinux2014_x86_64.whl (1.6 MB)\n",
            "\u001b[2K     \u001b[90m━━━━━━━━━━━━━━━━━━━━━━━━━━━━━━━━━━━━━━━━\u001b[0m \u001b[32m1.6/1.6 MB\u001b[0m \u001b[31m29.0 MB/s\u001b[0m eta \u001b[36m0:00:00\u001b[0m\n",
            "\u001b[?25hRequirement already satisfied: numpy in /usr/local/lib/python3.10/dist-packages (from boost_histogram) (1.25.2)\n",
            "Installing collected packages: boost_histogram\n",
            "Successfully installed boost_histogram-1.4.1\n"
          ]
        },
        {
          "output_type": "execute_result",
          "data": {
            "text/plain": [
              "Text(0, 0.5, 'Frequency')"
            ]
          },
          "metadata": {},
          "execution_count": 13
        },
        {
          "output_type": "display_data",
          "data": {
            "text/plain": [
              "<Figure size 640x480 with 1 Axes>"
            ],
            "image/png": "[encoded data removed]"
          },
          "metadata": {}
        }
      ],
      "source": [
        "#First, let's import.\n",
        "import scipy.optimize as optimize\n",
        "\n",
        "#Now, let's create some data.\n",
        "random = np.random.normal(loc=0, scale=1, size=1000) #This is a normal distribution centered around 0 with a standard distribution of 1.\n",
        "\n",
        "#We'll fill a histogram with these data.\n",
        "!pip install boost_histogram\n",
        "import boost_histogram as bh\n",
        "random_hist = bh.Histogram(bh.axis.Regular(20, -3, 3))\n",
        "random_hist.fill(random)\n",
        "\n",
        "#Let's plot this data. We use `matplotlib` to plot histograms. We'll discuss this later in the notebook.\n",
        "import matplotlib.pyplot as plt\n",
        "random_plot = plt.bar(random_hist.axes[0].centers, random_hist.values(), width=random_hist.axes[0].widths, color = \"mediumspringgreen\")\n",
        "plt.xlabel(\"Value\")\n",
        "plt.ylabel(\"Frequency\")"
      ]
    },
    {
      "cell_type": "code",
      "execution_count": 14,
      "id": "25ee1143",
      "metadata": {
        "id": "25ee1143",
        "outputId": "fccdc907-44da-4643-d452-337466b417d0",
        "colab": {
          "base_uri": "https://localhost:8080/"
        }
      },
      "outputs": [
        {
          "output_type": "stream",
          "name": "stdout",
          "text": [
            "(array([-0.0726817, 49.85     ]), array([[3.34522875e+01, 2.87321840e-15],\n",
            "       [2.87321840e-15, 1.00106205e+02]]))\n"
          ]
        }
      ],
      "source": [
        "#Now, we will use curve_fit to fit a linear function to the data and plot it on he same graph. We'll notice that the linear function doesn't \"fit\" very well to this normal distribution, which makes sense.\n",
        "#To do this, we need to define a linear function fro curve_fit to use as the first argument.\n",
        "\n",
        "def linear(x, a, b):\n",
        "    return a*x+b   #Pretty underwhelming. The point of `curve_fit` is to find an a and b that produce a line that best matches the `random` data.\n",
        "\n",
        "#`optimize.curve_fit` will return a tuple of parameters that describe the geometry of the function of best fit. For it to compute the linear regression on the data that produces this function of best fit,\n",
        "#we must provide it an \"x\" axis through which to analyze (we'll use a linear range, defined using np.linspace(), to provide this axis) and the y function (the regression function in action) to analyze.\n",
        "\n",
        "x = np.linspace(-4, 4, 1000)\n",
        "\n",
        "#We can now fit a cur\n",
        "parameters = scipy.optimize.curve_fit(linear, random_hist.axes[0].centers, random_hist.values(), p0=[0,60]) #\"Linear\" is our function of best fit, \"x\" is our x-axis range,\"random\" are our randomly generated data graphed above, and \"p0\" is an optional \"starting place\" we can provide the curve_fit function for [a,b] to help it \"make guesses\" as it calculates the regression.\n",
        "print(parameters)"
      ]
    },
    {
      "cell_type": "markdown",
      "id": "6569b799",
      "metadata": {
        "id": "6569b799"
      },
      "source": [
        "We have now printed an tuple this two arrays: the first, `parameters[0]`, are the a and b values of `linear` which produce the line of best fit. `parameters[1]` are the values of the covariance matrix for the line of best fit. The covariance matrix describes the 'proportionality' of the variables in question (in this case, `a` and `b`). Because the [1,2] and [2,1] entries (covariances) of the covariance matrix are both positive, we know that when `curve_fit` is running the regression, large `a` values tend to correspond to large `b` values (positive correlation). See: https://en.wikipedia.org/wiki/Covariance\n",
        "\n",
        "Notice the produced `a` and `b` values are pretty close to our initial guess `p0` in the `curve_fit` function. Feel free to change this `p0` and see what happens. Since this is a pretty simple dataset and function, statistically speaking, `curve_fit` does a pretty good job, no matter what the initial guess is, generating the line of best fit.  \n",
        "\n",
        "Let's plot the line of best fit with the data."
      ]
    },
    {
      "cell_type": "code",
      "execution_count": 15,
      "id": "9f914acf",
      "metadata": {
        "id": "9f914acf",
        "outputId": "6de47a44-13a2-446d-81fc-86a0b33df00a",
        "colab": {
          "base_uri": "https://localhost:8080/",
          "height": 453
        }
      },
      "outputs": [
        {
          "output_type": "display_data",
          "data": {
            "text/plain": [
              "<Figure size 640x480 with 1 Axes>"
            ],
            "image/png": "[encoded data removed]"
          },
          "metadata": {}
        }
      ],
      "source": [
        "a_b_values = parameters[0]\n",
        "a = a_b_values[0]\n",
        "b = a_b_values[1]\n",
        "\n",
        "random_plot = plt.hist(random, bins=20, range=[-4,4], color = 'mediumspringgreen')\n",
        "random_plot_linear = plt.plot(x, linear(x, a, b), color = 'purple')\n",
        "plt.xlabel(\"Value\")\n",
        "plt.ylabel(\"Frequency\")\n",
        "plt.show()"
      ]
    },
    {
      "cell_type": "markdown",
      "id": "1ff6fbb4",
      "metadata": {
        "id": "1ff6fbb4"
      },
      "source": [
        "The line of best fit is placed about halfway up the \"pile\" of data. It won't look very \"well-fit,\" so to speak. Why do you think this is?"
      ]
    },
    {
      "cell_type": "markdown",
      "id": "915591b6",
      "metadata": {
        "id": "915591b6"
      },
      "source": [
        "### $\\color{orange}{\\text{Activity 11: Fitting a Normal Curve}}$"
      ]
    },
    {
      "cell_type": "markdown",
      "id": "4ad899f1",
      "metadata": {
        "id": "4ad899f1"
      },
      "source": [
        "Similar to the example, fit a Gaussian normal curve to the data in `random_hist`. Print the parameters generated and plot the Gaussian with the data. Use the provided function `Gaussian` to define the curve."
      ]
    },
    {
      "cell_type": "code",
      "execution_count": 17,
      "id": "16c20d9f",
      "metadata": {
        "id": "16c20d9f"
      },
      "outputs": [],
      "source": [
        "def normal_distribution(x, a, m, s):\n",
        "    return a*(1 / (s * np.sqrt(2 * np.pi))) * np.exp(-0.5 * ((x - m) / s) ** 2) #I definitely didn't use ChatGPT to generate this function."
      ]
    },
    {
      "cell_type": "code",
      "execution_count": 35,
      "id": "3ee9376f",
      "metadata": {
        "id": "3ee9376f",
        "colab": {
          "base_uri": "https://localhost:8080/",
          "height": 447
        },
        "outputId": "e46a4ebc-248d-46a3-f6dc-1bb784646d5c"
      },
      "outputs": [
        {
          "output_type": "display_data",
          "data": {
            "text/plain": [
              "<Figure size 640x480 with 1 Axes>"
            ],
            "image/png": "[encoded data removed]"
          },
          "metadata": {}
        },
        {
          "output_type": "stream",
          "name": "stdout",
          "text": [
            "Amplitude: 303.38737491174885, Mean: -0.007411413635405516, Standard Deviation: 1.0192954537933012\n"
          ]
        }
      ],
      "source": [
        "#Activity 11\n",
        "\n",
        "separameters = scipy.optimize.curve_fit(normal_distribution, random_hist.axes[0].centers, random_hist.values(),p0=[1,0,1])\n",
        "amplitude, mean, stddev = separameters[0]\n",
        "x=np.linspace(-4,4,1000)\n",
        "y=normal_distribution(x, *separameters[0])\n",
        "random_plot = plt.hist(random, bins=22, range=[-4,4], color = 'mediumspringgreen')\n",
        "random_plot_normal = plt.plot(x, y, color = 'purple')\n",
        "plt.show()\n",
        "print(f\"Amplitude: {amplitude}, Mean: {mean}, Standard Deviation: {stddev}\")"
      ]
    },
    {
      "cell_type": "markdown",
      "id": "e850b711",
      "metadata": {
        "id": "e850b711"
      },
      "source": [
        "_______________________________________________"
      ]
    },
    {
      "cell_type": "markdown",
      "id": "2294432e",
      "metadata": {
        "id": "2294432e"
      },
      "source": [
        "# Pandas"
      ]
    },
    {
      "cell_type": "markdown",
      "id": "a96d201e",
      "metadata": {
        "id": "a96d201e"
      },
      "source": [
        "Lastly, we will take a look at the Python package `Pandas`. `Pandas` is a package for manipulating dataframes, which are more organized \"structures\" or \"tables\" of data that can easily be edited.\n",
        "\n",
        "`Pandas` hosts two main object types for holding data, the series and the dataframe. Most commonly, a dataframe will be used, which serves as an organized matrix of data with column and row titles, reflecting how someone may input data into an Excel spreadsheet. Let's generate a dataframe for us to use using `Pandas`. `Pandas` dataframes can use a combination of string and float entry values. Recall we imported `Pandas` as \"pd.\""
      ]
    },
    {
      "cell_type": "code",
      "execution_count": null,
      "id": "37ab7215",
      "metadata": {
        "id": "37ab7215",
        "outputId": "9e58c518-e623-4de4-a86d-0fc59769c79e",
        "colab": {
          "base_uri": "https://localhost:8080/"
        }
      },
      "outputs": [
        {
          "output_type": "stream",
          "name": "stdout",
          "text": [
            "  Experiment Name          Experiment Type  Fiducial Volume (Tonnes)  \\\n",
            "0         XENONnT         Liquid Xenon TPC                   7.00000   \n",
            "1              LZ         Liquid Xenon TPC                   6.00000   \n",
            "2             LUX         Liquid Xenon TPC                   0.37000   \n",
            "3       PandaX-II         Liquid Xenon TPC                   0.50000   \n",
            "4      CRESST-III  Cryogenic Scintillators                   0.00002   \n",
            "\n",
            "   Unnamed Random Statistic Detected Darkmatter?  \n",
            "0                    0.3350                   No  \n",
            "1                    0.1345                   No  \n",
            "2                    0.4420                   No  \n",
            "3                    0.4620                   No  \n",
            "4                    0.8590                   No  \n"
          ]
        }
      ],
      "source": [
        "#Let's create some data that needs organized\n",
        "experiment_names = [\"XENONnT\", \"LZ\", \"LUX\", \"PandaX-II\", \"CRESST-III\"]\n",
        "experiment_type = [\"Liquid Xenon TPC\", \"Liquid Xenon TPC\", \"Liquid Xenon TPC\", \"Liquid Xenon TPC\", \"Cryogenic Scintillators\"]\n",
        "fiducial_volume_tonnes = [7, 6, 0.37, 0.5, 0.00002]\n",
        "random_other_statistic = [0.335, 0.1345, 0.442, 0.462, 0.859]\n",
        "detected_darkmatter = [\"No\", \"No\", \"No\", \"No\", \"No\"]\n",
        "\n",
        "#Constructing the dataframe\n",
        "dark_matter_data = pd.DataFrame({\"Experiment Name\": experiment_names, \"Experiment Type\": experiment_type, \"Fiducial Volume (Tonnes)\": fiducial_volume_tonnes, \"Unnamed Random Statistic\": random_other_statistic, \"Detected Darkmatter?\": detected_darkmatter})\n",
        "\n",
        "#Let's view our dataframe.\n",
        "print(dark_matter_data)"
      ]
    },
    {
      "cell_type": "markdown",
      "id": "fd54aa75",
      "metadata": {
        "id": "fd54aa75"
      },
      "source": [
        "When a `Pandas` dataframe is printed, it will contain a somewhat unorganized display of all columns and their contents. Let's say our dataframe is HUGE. That is, maybe it has several hundred rows and we just want to view the first few or last few rows to get a sense of the data contained inside. To do this, we use the `.head()` and `.tail()` function. Additionally, `Pandas` will format the data into a much more readable display."
      ]
    },
    {
      "cell_type": "code",
      "execution_count": null,
      "id": "b2723166",
      "metadata": {
        "id": "b2723166",
        "outputId": "122357d3-c257-4ddb-a9b0-b58a0b9f7446",
        "colab": {
          "base_uri": "https://localhost:8080/",
          "height": 111
        }
      },
      "outputs": [
        {
          "output_type": "execute_result",
          "data": {
            "text/plain": [
              "  Experiment Name   Experiment Type  Fiducial Volume (Tonnes)  \\\n",
              "0         XENONnT  Liquid Xenon TPC                       7.0   \n",
              "1              LZ  Liquid Xenon TPC                       6.0   \n",
              "\n",
              "   Unnamed Random Statistic Detected Darkmatter?  \n",
              "0                    0.3350                   No  \n",
              "1                    0.1345                   No  "
            ],
            "text/html": [
              "\n",
              "  <div id=\"df-cc436200-327e-4c6a-a2c3-a073ac30af33\" class=\"colab-df-container\">\n",
              "    <div>\n",
              "<style scoped>\n",
              "    .dataframe tbody tr th:only-of-type {\n",
              "        vertical-align: middle;\n",
              "    }\n",
              "\n",
              "    .dataframe tbody tr th {\n",
              "        vertical-align: top;\n",
              "    }\n",
              "\n",
              "    .dataframe thead th {\n",
              "        text-align: right;\n",
              "    }\n",
              "</style>\n",
              "<table border=\"1\" class=\"dataframe\">\n",
              "  <thead>\n",
              "    <tr style=\"text-align: right;\">\n",
              "      <th></th>\n",
              "      <th>Experiment Name</th>\n",
              "      <th>Experiment Type</th>\n",
              "      <th>Fiducial Volume (Tonnes)</th>\n",
              "      <th>Unnamed Random Statistic</th>\n",
              "      <th>Detected Darkmatter?</th>\n",
              "    </tr>\n",
              "  </thead>\n",
              "  <tbody>\n",
              "    <tr>\n",
              "      <th>0</th>\n",
              "      <td>XENONnT</td>\n",
              "      <td>Liquid Xenon TPC</td>\n",
              "      <td>7.0</td>\n",
              "      <td>0.3350</td>\n",
              "      <td>No</td>\n",
              "    </tr>\n",
              "    <tr>\n",
              "      <th>1</th>\n",
              "      <td>LZ</td>\n",
              "      <td>Liquid Xenon TPC</td>\n",
              "      <td>6.0</td>\n",
              "      <td>0.1345</td>\n",
              "      <td>No</td>\n",
              "    </tr>\n",
              "  </tbody>\n",
              "</table>\n",
              "</div>\n",
              "    <div class=\"colab-df-buttons\">\n",
              "\n",
              "  <div class=\"colab-df-container\">\n",
              "    <button class=\"colab-df-convert\" onclick=\"convertToInteractive('df-cc436200-327e-4c6a-a2c3-a073ac30af33')\"\n",
              "            title=\"Convert this dataframe to an interactive table.\"\n",
              "            style=\"display:none;\">\n",
              "\n",
              "  <svg xmlns=\"http://www.w3.org/2000/svg\" height=\"24px\" viewBox=\"0 -960 960 960\">\n",
              "    <path d=\"M120-120v-720h720v720H120Zm60-500h600v-160H180v160Zm220 220h160v-160H400v160Zm0 220h160v-160H400v160ZM180-400h160v-160H180v160Zm440 0h160v-160H620v160ZM180-180h160v-160H180v160Zm440 0h160v-160H620v160Z\"/>\n",
              "  </svg>\n",
              "    </button>\n",
              "\n",
              "  <style>\n",
              "    .colab-df-container {\n",
              "      display:flex;\n",
              "      gap: 12px;\n",
              "    }\n",
              "\n",
              "    .colab-df-convert {\n",
              "      background-color: #E8F0FE;\n",
              "      border: none;\n",
              "      border-radius: 50%;\n",
              "      cursor: pointer;\n",
              "      display: none;\n",
              "      fill: #1967D2;\n",
              "      height: 32px;\n",
              "      padding: 0 0 0 0;\n",
              "      width: 32px;\n",
              "    }\n",
              "\n",
              "    .colab-df-convert:hover {\n",
              "      background-color: #E2EBFA;\n",
              "      box-shadow: 0px 1px 2px rgba(60, 64, 67, 0.3), 0px 1px 3px 1px rgba(60, 64, 67, 0.15);\n",
              "      fill: #174EA6;\n",
              "    }\n",
              "\n",
              "    .colab-df-buttons div {\n",
              "      margin-bottom: 4px;\n",
              "    }\n",
              "\n",
              "    [theme=dark] .colab-df-convert {\n",
              "      background-color: #3B4455;\n",
              "      fill: #D2E3FC;\n",
              "    }\n",
              "\n",
              "    [theme=dark] .colab-df-convert:hover {\n",
              "      background-color: #434B5C;\n",
              "      box-shadow: 0px 1px 3px 1px rgba(0, 0, 0, 0.15);\n",
              "      filter: drop-shadow(0px 1px 2px rgba(0, 0, 0, 0.3));\n",
              "      fill: #FFFFFF;\n",
              "    }\n",
              "  </style>\n",
              "\n",
              "    <script>\n",
              "      const buttonEl =\n",
              "        document.querySelector('#df-cc436200-327e-4c6a-a2c3-a073ac30af33 button.colab-df-convert');\n",
              "      buttonEl.style.display =\n",
              "        google.colab.kernel.accessAllowed ? 'block' : 'none';\n",
              "\n",
              "      async function convertToInteractive(key) {\n",
              "        const element = document.querySelector('#df-cc436200-327e-4c6a-a2c3-a073ac30af33');\n",
              "        const dataTable =\n",
              "          await google.colab.kernel.invokeFunction('convertToInteractive',\n",
              "                                                    [key], {});\n",
              "        if (!dataTable) return;\n",
              "\n",
              "        const docLinkHtml = 'Like what you see? Visit the ' +\n",
              "          '<a target=\"_blank\" href=https://colab.research.google.com/notebooks/data_table.ipynb>data table notebook</a>'\n",
              "          + ' to learn more about interactive tables.';\n",
              "        element.innerHTML = '';\n",
              "        dataTable['output_type'] = 'display_data';\n",
              "        await google.colab.output.renderOutput(dataTable, element);\n",
              "        const docLink = document.createElement('div');\n",
              "        docLink.innerHTML = docLinkHtml;\n",
              "        element.appendChild(docLink);\n",
              "      }\n",
              "    </script>\n",
              "  </div>\n",
              "\n",
              "\n",
              "<div id=\"df-28f1a19e-bbe1-4541-95fd-c779634015d2\">\n",
              "  <button class=\"colab-df-quickchart\" onclick=\"quickchart('df-28f1a19e-bbe1-4541-95fd-c779634015d2')\"\n",
              "            title=\"Suggest charts\"\n",
              "            style=\"display:none;\">\n",
              "\n",
              "<svg xmlns=\"http://www.w3.org/2000/svg\" height=\"24px\"viewBox=\"0 0 24 24\"\n",
              "     width=\"24px\">\n",
              "    <g>\n",
              "        <path d=\"M19 3H5c-1.1 0-2 .9-2 2v14c0 1.1.9 2 2 2h14c1.1 0 2-.9 2-2V5c0-1.1-.9-2-2-2zM9 17H7v-7h2v7zm4 0h-2V7h2v10zm4 0h-2v-4h2v4z\"/>\n",
              "    </g>\n",
              "</svg>\n",
              "  </button>\n",
              "\n",
              "<style>\n",
              "  .colab-df-quickchart {\n",
              "      --bg-color: #E8F0FE;\n",
              "      --fill-color: #1967D2;\n",
              "      --hover-bg-color: #E2EBFA;\n",
              "      --hover-fill-color: #174EA6;\n",
              "      --disabled-fill-color: #AAA;\n",
              "      --disabled-bg-color: #DDD;\n",
              "  }\n",
              "\n",
              "  [theme=dark] .colab-df-quickchart {\n",
              "      --bg-color: #3B4455;\n",
              "      --fill-color: #D2E3FC;\n",
              "      --hover-bg-color: #434B5C;\n",
              "      --hover-fill-color: #FFFFFF;\n",
              "      --disabled-bg-color: #3B4455;\n",
              "      --disabled-fill-color: #666;\n",
              "  }\n",
              "\n",
              "  .colab-df-quickchart {\n",
              "    background-color: var(--bg-color);\n",
              "    border: none;\n",
              "    border-radius: 50%;\n",
              "    cursor: pointer;\n",
              "    display: none;\n",
              "    fill: var(--fill-color);\n",
              "    height: 32px;\n",
              "    padding: 0;\n",
              "    width: 32px;\n",
              "  }\n",
              "\n",
              "  .colab-df-quickchart:hover {\n",
              "    background-color: var(--hover-bg-color);\n",
              "    box-shadow: 0 1px 2px rgba(60, 64, 67, 0.3), 0 1px 3px 1px rgba(60, 64, 67, 0.15);\n",
              "    fill: var(--button-hover-fill-color);\n",
              "  }\n",
              "\n",
              "  .colab-df-quickchart-complete:disabled,\n",
              "  .colab-df-quickchart-complete:disabled:hover {\n",
              "    background-color: var(--disabled-bg-color);\n",
              "    fill: var(--disabled-fill-color);\n",
              "    box-shadow: none;\n",
              "  }\n",
              "\n",
              "  .colab-df-spinner {\n",
              "    border: 2px solid var(--fill-color);\n",
              "    border-color: transparent;\n",
              "    border-bottom-color: var(--fill-color);\n",
              "    animation:\n",
              "      spin 1s steps(1) infinite;\n",
              "  }\n",
              "\n",
              "  @keyframes spin {\n",
              "    0% {\n",
              "      border-color: transparent;\n",
              "      border-bottom-color: var(--fill-color);\n",
              "      border-left-color: var(--fill-color);\n",
              "    }\n",
              "    20% {\n",
              "      border-color: transparent;\n",
              "      border-left-color: var(--fill-color);\n",
              "      border-top-color: var(--fill-color);\n",
              "    }\n",
              "    30% {\n",
              "      border-color: transparent;\n",
              "      border-left-color: var(--fill-color);\n",
              "      border-top-color: var(--fill-color);\n",
              "      border-right-color: var(--fill-color);\n",
              "    }\n",
              "    40% {\n",
              "      border-color: transparent;\n",
              "      border-right-color: var(--fill-color);\n",
              "      border-top-color: var(--fill-color);\n",
              "    }\n",
              "    60% {\n",
              "      border-color: transparent;\n",
              "      border-right-color: var(--fill-color);\n",
              "    }\n",
              "    80% {\n",
              "      border-color: transparent;\n",
              "      border-right-color: var(--fill-color);\n",
              "      border-bottom-color: var(--fill-color);\n",
              "    }\n",
              "    90% {\n",
              "      border-color: transparent;\n",
              "      border-bottom-color: var(--fill-color);\n",
              "    }\n",
              "  }\n",
              "</style>\n",
              "\n",
              "  <script>\n",
              "    async function quickchart(key) {\n",
              "      const quickchartButtonEl =\n",
              "        document.querySelector('#' + key + ' button');\n",
              "      quickchartButtonEl.disabled = true;  // To prevent multiple clicks.\n",
              "      quickchartButtonEl.classList.add('colab-df-spinner');\n",
              "      try {\n",
              "        const charts = await google.colab.kernel.invokeFunction(\n",
              "            'suggestCharts', [key], {});\n",
              "      } catch (error) {\n",
              "        console.error('Error during call to suggestCharts:', error);\n",
              "      }\n",
              "      quickchartButtonEl.classList.remove('colab-df-spinner');\n",
              "      quickchartButtonEl.classList.add('colab-df-quickchart-complete');\n",
              "    }\n",
              "    (() => {\n",
              "      let quickchartButtonEl =\n",
              "        document.querySelector('#df-28f1a19e-bbe1-4541-95fd-c779634015d2 button');\n",
              "      quickchartButtonEl.style.display =\n",
              "        google.colab.kernel.accessAllowed ? 'block' : 'none';\n",
              "    })();\n",
              "  </script>\n",
              "</div>\n",
              "\n",
              "    </div>\n",
              "  </div>\n"
            ],
            "application/vnd.google.colaboratory.intrinsic+json": {
              "type": "dataframe",
              "variable_name": "dark_matter_data",
              "summary": "{\n  \"name\": \"dark_matter_data\",\n  \"rows\": 5,\n  \"fields\": [\n    {\n      \"column\": \"Experiment Name\",\n      \"properties\": {\n        \"dtype\": \"string\",\n        \"num_unique_values\": 5,\n        \"samples\": [\n          \"LZ\",\n          \"CRESST-III\",\n          \"LUX\"\n        ],\n        \"semantic_type\": \"\",\n        \"description\": \"\"\n      }\n    },\n    {\n      \"column\": \"Experiment Type\",\n      \"properties\": {\n        \"dtype\": \"category\",\n        \"num_unique_values\": 2,\n        \"samples\": [\n          \"Cryogenic Scintillators\",\n          \"Liquid Xenon TPC\"\n        ],\n        \"semantic_type\": \"\",\n        \"description\": \"\"\n      }\n    },\n    {\n      \"column\": \"Fiducial Volume (Tonnes)\",\n      \"properties\": {\n        \"dtype\": \"number\",\n        \"std\": 3.424595196527613,\n        \"min\": 2e-05,\n        \"max\": 7.0,\n        \"num_unique_values\": 5,\n        \"samples\": [\n          6.0,\n          2e-05\n        ],\n        \"semantic_type\": \"\",\n        \"description\": \"\"\n      }\n    },\n    {\n      \"column\": \"Unnamed Random Statistic\",\n      \"properties\": {\n        \"dtype\": \"number\",\n        \"std\": 0.2646662993280406,\n        \"min\": 0.1345,\n        \"max\": 0.859,\n        \"num_unique_values\": 5,\n        \"samples\": [\n          0.1345,\n          0.859\n        ],\n        \"semantic_type\": \"\",\n        \"description\": \"\"\n      }\n    },\n    {\n      \"column\": \"Detected Darkmatter?\",\n      \"properties\": {\n        \"dtype\": \"category\",\n        \"num_unique_values\": 1,\n        \"samples\": [\n          \"No\"\n        ],\n        \"semantic_type\": \"\",\n        \"description\": \"\"\n      }\n    }\n  ]\n}"
            }
          },
          "metadata": {},
          "execution_count": 26
        }
      ],
      "source": [
        "dark_matter_data.head(2) #Prints the first two ROWS of data."
      ]
    },
    {
      "cell_type": "code",
      "execution_count": null,
      "id": "6fd60305",
      "metadata": {
        "id": "6fd60305",
        "outputId": "c44d318c-7f4e-41aa-cb61-bca3d8b70548",
        "colab": {
          "base_uri": "https://localhost:8080/",
          "height": 111
        }
      },
      "outputs": [
        {
          "output_type": "execute_result",
          "data": {
            "text/plain": [
              "  Experiment Name          Experiment Type  Fiducial Volume (Tonnes)  \\\n",
              "3       PandaX-II         Liquid Xenon TPC                   0.50000   \n",
              "4      CRESST-III  Cryogenic Scintillators                   0.00002   \n",
              "\n",
              "   Unnamed Random Statistic Detected Darkmatter?  \n",
              "3                     0.462                   No  \n",
              "4                     0.859                   No  "
            ],
            "text/html": [
              "\n",
              "  <div id=\"df-de79daf7-9f5e-434d-9aa6-6344a387c247\" class=\"colab-df-container\">\n",
              "    <div>\n",
              "<style scoped>\n",
              "    .dataframe tbody tr th:only-of-type {\n",
              "        vertical-align: middle;\n",
              "    }\n",
              "\n",
              "    .dataframe tbody tr th {\n",
              "        vertical-align: top;\n",
              "    }\n",
              "\n",
              "    .dataframe thead th {\n",
              "        text-align: right;\n",
              "    }\n",
              "</style>\n",
              "<table border=\"1\" class=\"dataframe\">\n",
              "  <thead>\n",
              "    <tr style=\"text-align: right;\">\n",
              "      <th></th>\n",
              "      <th>Experiment Name</th>\n",
              "      <th>Experiment Type</th>\n",
              "      <th>Fiducial Volume (Tonnes)</th>\n",
              "      <th>Unnamed Random Statistic</th>\n",
              "      <th>Detected Darkmatter?</th>\n",
              "    </tr>\n",
              "  </thead>\n",
              "  <tbody>\n",
              "    <tr>\n",
              "      <th>3</th>\n",
              "      <td>PandaX-II</td>\n",
              "      <td>Liquid Xenon TPC</td>\n",
              "      <td>0.50000</td>\n",
              "      <td>0.462</td>\n",
              "      <td>No</td>\n",
              "    </tr>\n",
              "    <tr>\n",
              "      <th>4</th>\n",
              "      <td>CRESST-III</td>\n",
              "      <td>Cryogenic Scintillators</td>\n",
              "      <td>0.00002</td>\n",
              "      <td>0.859</td>\n",
              "      <td>No</td>\n",
              "    </tr>\n",
              "  </tbody>\n",
              "</table>\n",
              "</div>\n",
              "    <div class=\"colab-df-buttons\">\n",
              "\n",
              "  <div class=\"colab-df-container\">\n",
              "    <button class=\"colab-df-convert\" onclick=\"convertToInteractive('df-de79daf7-9f5e-434d-9aa6-6344a387c247')\"\n",
              "            title=\"Convert this dataframe to an interactive table.\"\n",
              "            style=\"display:none;\">\n",
              "\n",
              "  <svg xmlns=\"http://www.w3.org/2000/svg\" height=\"24px\" viewBox=\"0 -960 960 960\">\n",
              "    <path d=\"M120-120v-720h720v720H120Zm60-500h600v-160H180v160Zm220 220h160v-160H400v160Zm0 220h160v-160H400v160ZM180-400h160v-160H180v160Zm440 0h160v-160H620v160ZM180-180h160v-160H180v160Zm440 0h160v-160H620v160Z\"/>\n",
              "  </svg>\n",
              "    </button>\n",
              "\n",
              "  <style>\n",
              "    .colab-df-container {\n",
              "      display:flex;\n",
              "      gap: 12px;\n",
              "    }\n",
              "\n",
              "    .colab-df-convert {\n",
              "      background-color: #E8F0FE;\n",
              "      border: none;\n",
              "      border-radius: 50%;\n",
              "      cursor: pointer;\n",
              "      display: none;\n",
              "      fill: #1967D2;\n",
              "      height: 32px;\n",
              "      padding: 0 0 0 0;\n",
              "      width: 32px;\n",
              "    }\n",
              "\n",
              "    .colab-df-convert:hover {\n",
              "      background-color: #E2EBFA;\n",
              "      box-shadow: 0px 1px 2px rgba(60, 64, 67, 0.3), 0px 1px 3px 1px rgba(60, 64, 67, 0.15);\n",
              "      fill: #174EA6;\n",
              "    }\n",
              "\n",
              "    .colab-df-buttons div {\n",
              "      margin-bottom: 4px;\n",
              "    }\n",
              "\n",
              "    [theme=dark] .colab-df-convert {\n",
              "      background-color: #3B4455;\n",
              "      fill: #D2E3FC;\n",
              "    }\n",
              "\n",
              "    [theme=dark] .colab-df-convert:hover {\n",
              "      background-color: #434B5C;\n",
              "      box-shadow: 0px 1px 3px 1px rgba(0, 0, 0, 0.15);\n",
              "      filter: drop-shadow(0px 1px 2px rgba(0, 0, 0, 0.3));\n",
              "      fill: #FFFFFF;\n",
              "    }\n",
              "  </style>\n",
              "\n",
              "    <script>\n",
              "      const buttonEl =\n",
              "        document.querySelector('#df-de79daf7-9f5e-434d-9aa6-6344a387c247 button.colab-df-convert');\n",
              "      buttonEl.style.display =\n",
              "        google.colab.kernel.accessAllowed ? 'block' : 'none';\n",
              "\n",
              "      async function convertToInteractive(key) {\n",
              "        const element = document.querySelector('#df-de79daf7-9f5e-434d-9aa6-6344a387c247');\n",
              "        const dataTable =\n",
              "          await google.colab.kernel.invokeFunction('convertToInteractive',\n",
              "                                                    [key], {});\n",
              "        if (!dataTable) return;\n",
              "\n",
              "        const docLinkHtml = 'Like what you see? Visit the ' +\n",
              "          '<a target=\"_blank\" href=https://colab.research.google.com/notebooks/data_table.ipynb>data table notebook</a>'\n",
              "          + ' to learn more about interactive tables.';\n",
              "        element.innerHTML = '';\n",
              "        dataTable['output_type'] = 'display_data';\n",
              "        await google.colab.output.renderOutput(dataTable, element);\n",
              "        const docLink = document.createElement('div');\n",
              "        docLink.innerHTML = docLinkHtml;\n",
              "        element.appendChild(docLink);\n",
              "      }\n",
              "    </script>\n",
              "  </div>\n",
              "\n",
              "\n",
              "<div id=\"df-db4c37b6-1100-429d-b893-d180a4159494\">\n",
              "  <button class=\"colab-df-quickchart\" onclick=\"quickchart('df-db4c37b6-1100-429d-b893-d180a4159494')\"\n",
              "            title=\"Suggest charts\"\n",
              "            style=\"display:none;\">\n",
              "\n",
              "<svg xmlns=\"http://www.w3.org/2000/svg\" height=\"24px\"viewBox=\"0 0 24 24\"\n",
              "     width=\"24px\">\n",
              "    <g>\n",
              "        <path d=\"M19 3H5c-1.1 0-2 .9-2 2v14c0 1.1.9 2 2 2h14c1.1 0 2-.9 2-2V5c0-1.1-.9-2-2-2zM9 17H7v-7h2v7zm4 0h-2V7h2v10zm4 0h-2v-4h2v4z\"/>\n",
              "    </g>\n",
              "</svg>\n",
              "  </button>\n",
              "\n",
              "<style>\n",
              "  .colab-df-quickchart {\n",
              "      --bg-color: #E8F0FE;\n",
              "      --fill-color: #1967D2;\n",
              "      --hover-bg-color: #E2EBFA;\n",
              "      --hover-fill-color: #174EA6;\n",
              "      --disabled-fill-color: #AAA;\n",
              "      --disabled-bg-color: #DDD;\n",
              "  }\n",
              "\n",
              "  [theme=dark] .colab-df-quickchart {\n",
              "      --bg-color: #3B4455;\n",
              "      --fill-color: #D2E3FC;\n",
              "      --hover-bg-color: #434B5C;\n",
              "      --hover-fill-color: #FFFFFF;\n",
              "      --disabled-bg-color: #3B4455;\n",
              "      --disabled-fill-color: #666;\n",
              "  }\n",
              "\n",
              "  .colab-df-quickchart {\n",
              "    background-color: var(--bg-color);\n",
              "    border: none;\n",
              "    border-radius: 50%;\n",
              "    cursor: pointer;\n",
              "    display: none;\n",
              "    fill: var(--fill-color);\n",
              "    height: 32px;\n",
              "    padding: 0;\n",
              "    width: 32px;\n",
              "  }\n",
              "\n",
              "  .colab-df-quickchart:hover {\n",
              "    background-color: var(--hover-bg-color);\n",
              "    box-shadow: 0 1px 2px rgba(60, 64, 67, 0.3), 0 1px 3px 1px rgba(60, 64, 67, 0.15);\n",
              "    fill: var(--button-hover-fill-color);\n",
              "  }\n",
              "\n",
              "  .colab-df-quickchart-complete:disabled,\n",
              "  .colab-df-quickchart-complete:disabled:hover {\n",
              "    background-color: var(--disabled-bg-color);\n",
              "    fill: var(--disabled-fill-color);\n",
              "    box-shadow: none;\n",
              "  }\n",
              "\n",
              "  .colab-df-spinner {\n",
              "    border: 2px solid var(--fill-color);\n",
              "    border-color: transparent;\n",
              "    border-bottom-color: var(--fill-color);\n",
              "    animation:\n",
              "      spin 1s steps(1) infinite;\n",
              "  }\n",
              "\n",
              "  @keyframes spin {\n",
              "    0% {\n",
              "      border-color: transparent;\n",
              "      border-bottom-color: var(--fill-color);\n",
              "      border-left-color: var(--fill-color);\n",
              "    }\n",
              "    20% {\n",
              "      border-color: transparent;\n",
              "      border-left-color: var(--fill-color);\n",
              "      border-top-color: var(--fill-color);\n",
              "    }\n",
              "    30% {\n",
              "      border-color: transparent;\n",
              "      border-left-color: var(--fill-color);\n",
              "      border-top-color: var(--fill-color);\n",
              "      border-right-color: var(--fill-color);\n",
              "    }\n",
              "    40% {\n",
              "      border-color: transparent;\n",
              "      border-right-color: var(--fill-color);\n",
              "      border-top-color: var(--fill-color);\n",
              "    }\n",
              "    60% {\n",
              "      border-color: transparent;\n",
              "      border-right-color: var(--fill-color);\n",
              "    }\n",
              "    80% {\n",
              "      border-color: transparent;\n",
              "      border-right-color: var(--fill-color);\n",
              "      border-bottom-color: var(--fill-color);\n",
              "    }\n",
              "    90% {\n",
              "      border-color: transparent;\n",
              "      border-bottom-color: var(--fill-color);\n",
              "    }\n",
              "  }\n",
              "</style>\n",
              "\n",
              "  <script>\n",
              "    async function quickchart(key) {\n",
              "      const quickchartButtonEl =\n",
              "        document.querySelector('#' + key + ' button');\n",
              "      quickchartButtonEl.disabled = true;  // To prevent multiple clicks.\n",
              "      quickchartButtonEl.classList.add('colab-df-spinner');\n",
              "      try {\n",
              "        const charts = await google.colab.kernel.invokeFunction(\n",
              "            'suggestCharts', [key], {});\n",
              "      } catch (error) {\n",
              "        console.error('Error during call to suggestCharts:', error);\n",
              "      }\n",
              "      quickchartButtonEl.classList.remove('colab-df-spinner');\n",
              "      quickchartButtonEl.classList.add('colab-df-quickchart-complete');\n",
              "    }\n",
              "    (() => {\n",
              "      let quickchartButtonEl =\n",
              "        document.querySelector('#df-db4c37b6-1100-429d-b893-d180a4159494 button');\n",
              "      quickchartButtonEl.style.display =\n",
              "        google.colab.kernel.accessAllowed ? 'block' : 'none';\n",
              "    })();\n",
              "  </script>\n",
              "</div>\n",
              "\n",
              "    </div>\n",
              "  </div>\n"
            ],
            "application/vnd.google.colaboratory.intrinsic+json": {
              "type": "dataframe",
              "summary": "{\n  \"name\": \"dark_matter_data\",\n  \"rows\": 2,\n  \"fields\": [\n    {\n      \"column\": \"Experiment Name\",\n      \"properties\": {\n        \"dtype\": \"string\",\n        \"num_unique_values\": 2,\n        \"samples\": [\n          \"CRESST-III\",\n          \"PandaX-II\"\n        ],\n        \"semantic_type\": \"\",\n        \"description\": \"\"\n      }\n    },\n    {\n      \"column\": \"Experiment Type\",\n      \"properties\": {\n        \"dtype\": \"string\",\n        \"num_unique_values\": 2,\n        \"samples\": [\n          \"Cryogenic Scintillators\",\n          \"Liquid Xenon TPC\"\n        ],\n        \"semantic_type\": \"\",\n        \"description\": \"\"\n      }\n    },\n    {\n      \"column\": \"Fiducial Volume (Tonnes)\",\n      \"properties\": {\n        \"dtype\": \"number\",\n        \"std\": 0.35353924845765006,\n        \"min\": 2e-05,\n        \"max\": 0.5,\n        \"num_unique_values\": 2,\n        \"samples\": [\n          2e-05,\n          0.5\n        ],\n        \"semantic_type\": \"\",\n        \"description\": \"\"\n      }\n    },\n    {\n      \"column\": \"Unnamed Random Statistic\",\n      \"properties\": {\n        \"dtype\": \"number\",\n        \"std\": 0.28072139213105934,\n        \"min\": 0.462,\n        \"max\": 0.859,\n        \"num_unique_values\": 2,\n        \"samples\": [\n          0.859,\n          0.462\n        ],\n        \"semantic_type\": \"\",\n        \"description\": \"\"\n      }\n    },\n    {\n      \"column\": \"Detected Darkmatter?\",\n      \"properties\": {\n        \"dtype\": \"string\",\n        \"num_unique_values\": 1,\n        \"samples\": [\n          \"No\"\n        ],\n        \"semantic_type\": \"\",\n        \"description\": \"\"\n      }\n    }\n  ]\n}"
            }
          },
          "metadata": {},
          "execution_count": 27
        }
      ],
      "source": [
        "dark_matter_data.tail(2) #Prints the last two rows of data."
      ]
    },
    {
      "cell_type": "markdown",
      "id": "b6430e25",
      "metadata": {
        "id": "b6430e25"
      },
      "source": [
        "Using `.describe()` prints a statistical summary of the data in your dataframe."
      ]
    },
    {
      "cell_type": "code",
      "execution_count": null,
      "id": "02ec1402",
      "metadata": {
        "id": "02ec1402",
        "outputId": "7dfee3e6-d9d0-4a0a-d20f-cfa2b0a30a49",
        "colab": {
          "base_uri": "https://localhost:8080/",
          "height": 297
        }
      },
      "outputs": [
        {
          "output_type": "execute_result",
          "data": {
            "text/plain": [
              "       Fiducial Volume (Tonnes)  Unnamed Random Statistic\n",
              "count                  5.000000                  5.000000\n",
              "mean                   2.774004                  0.446500\n",
              "std                    3.424595                  0.264666\n",
              "min                    0.000020                  0.134500\n",
              "25%                    0.370000                  0.335000\n",
              "50%                    0.500000                  0.442000\n",
              "75%                    6.000000                  0.462000\n",
              "max                    7.000000                  0.859000"
            ],
            "text/html": [
              "\n",
              "  <div id=\"df-c6781d98-d101-4686-838e-d7902e895cf9\" class=\"colab-df-container\">\n",
              "    <div>\n",
              "<style scoped>\n",
              "    .dataframe tbody tr th:only-of-type {\n",
              "        vertical-align: middle;\n",
              "    }\n",
              "\n",
              "    .dataframe tbody tr th {\n",
              "        vertical-align: top;\n",
              "    }\n",
              "\n",
              "    .dataframe thead th {\n",
              "        text-align: right;\n",
              "    }\n",
              "</style>\n",
              "<table border=\"1\" class=\"dataframe\">\n",
              "  <thead>\n",
              "    <tr style=\"text-align: right;\">\n",
              "      <th></th>\n",
              "      <th>Fiducial Volume (Tonnes)</th>\n",
              "      <th>Unnamed Random Statistic</th>\n",
              "    </tr>\n",
              "  </thead>\n",
              "  <tbody>\n",
              "    <tr>\n",
              "      <th>count</th>\n",
              "      <td>5.000000</td>\n",
              "      <td>5.000000</td>\n",
              "    </tr>\n",
              "    <tr>\n",
              "      <th>mean</th>\n",
              "      <td>2.774004</td>\n",
              "      <td>0.446500</td>\n",
              "    </tr>\n",
              "    <tr>\n",
              "      <th>std</th>\n",
              "      <td>3.424595</td>\n",
              "      <td>0.264666</td>\n",
              "    </tr>\n",
              "    <tr>\n",
              "      <th>min</th>\n",
              "      <td>0.000020</td>\n",
              "      <td>0.134500</td>\n",
              "    </tr>\n",
              "    <tr>\n",
              "      <th>25%</th>\n",
              "      <td>0.370000</td>\n",
              "      <td>0.335000</td>\n",
              "    </tr>\n",
              "    <tr>\n",
              "      <th>50%</th>\n",
              "      <td>0.500000</td>\n",
              "      <td>0.442000</td>\n",
              "    </tr>\n",
              "    <tr>\n",
              "      <th>75%</th>\n",
              "      <td>6.000000</td>\n",
              "      <td>0.462000</td>\n",
              "    </tr>\n",
              "    <tr>\n",
              "      <th>max</th>\n",
              "      <td>7.000000</td>\n",
              "      <td>0.859000</td>\n",
              "    </tr>\n",
              "  </tbody>\n",
              "</table>\n",
              "</div>\n",
              "    <div class=\"colab-df-buttons\">\n",
              "\n",
              "  <div class=\"colab-df-container\">\n",
              "    <button class=\"colab-df-convert\" onclick=\"convertToInteractive('df-c6781d98-d101-4686-838e-d7902e895cf9')\"\n",
              "            title=\"Convert this dataframe to an interactive table.\"\n",
              "            style=\"display:none;\">\n",
              "\n",
              "  <svg xmlns=\"http://www.w3.org/2000/svg\" height=\"24px\" viewBox=\"0 -960 960 960\">\n",
              "    <path d=\"M120-120v-720h720v720H120Zm60-500h600v-160H180v160Zm220 220h160v-160H400v160Zm0 220h160v-160H400v160ZM180-400h160v-160H180v160Zm440 0h160v-160H620v160ZM180-180h160v-160H180v160Zm440 0h160v-160H620v160Z\"/>\n",
              "  </svg>\n",
              "    </button>\n",
              "\n",
              "  <style>\n",
              "    .colab-df-container {\n",
              "      display:flex;\n",
              "      gap: 12px;\n",
              "    }\n",
              "\n",
              "    .colab-df-convert {\n",
              "      background-color: #E8F0FE;\n",
              "      border: none;\n",
              "      border-radius: 50%;\n",
              "      cursor: pointer;\n",
              "      display: none;\n",
              "      fill: #1967D2;\n",
              "      height: 32px;\n",
              "      padding: 0 0 0 0;\n",
              "      width: 32px;\n",
              "    }\n",
              "\n",
              "    .colab-df-convert:hover {\n",
              "      background-color: #E2EBFA;\n",
              "      box-shadow: 0px 1px 2px rgba(60, 64, 67, 0.3), 0px 1px 3px 1px rgba(60, 64, 67, 0.15);\n",
              "      fill: #174EA6;\n",
              "    }\n",
              "\n",
              "    .colab-df-buttons div {\n",
              "      margin-bottom: 4px;\n",
              "    }\n",
              "\n",
              "    [theme=dark] .colab-df-convert {\n",
              "      background-color: #3B4455;\n",
              "      fill: #D2E3FC;\n",
              "    }\n",
              "\n",
              "    [theme=dark] .colab-df-convert:hover {\n",
              "      background-color: #434B5C;\n",
              "      box-shadow: 0px 1px 3px 1px rgba(0, 0, 0, 0.15);\n",
              "      filter: drop-shadow(0px 1px 2px rgba(0, 0, 0, 0.3));\n",
              "      fill: #FFFFFF;\n",
              "    }\n",
              "  </style>\n",
              "\n",
              "    <script>\n",
              "      const buttonEl =\n",
              "        document.querySelector('#df-c6781d98-d101-4686-838e-d7902e895cf9 button.colab-df-convert');\n",
              "      buttonEl.style.display =\n",
              "        google.colab.kernel.accessAllowed ? 'block' : 'none';\n",
              "\n",
              "      async function convertToInteractive(key) {\n",
              "        const element = document.querySelector('#df-c6781d98-d101-4686-838e-d7902e895cf9');\n",
              "        const dataTable =\n",
              "          await google.colab.kernel.invokeFunction('convertToInteractive',\n",
              "                                                    [key], {});\n",
              "        if (!dataTable) return;\n",
              "\n",
              "        const docLinkHtml = 'Like what you see? Visit the ' +\n",
              "          '<a target=\"_blank\" href=https://colab.research.google.com/notebooks/data_table.ipynb>data table notebook</a>'\n",
              "          + ' to learn more about interactive tables.';\n",
              "        element.innerHTML = '';\n",
              "        dataTable['output_type'] = 'display_data';\n",
              "        await google.colab.output.renderOutput(dataTable, element);\n",
              "        const docLink = document.createElement('div');\n",
              "        docLink.innerHTML = docLinkHtml;\n",
              "        element.appendChild(docLink);\n",
              "      }\n",
              "    </script>\n",
              "  </div>\n",
              "\n",
              "\n",
              "<div id=\"df-ea55d8f0-97dc-4bd3-9158-6849ae979a73\">\n",
              "  <button class=\"colab-df-quickchart\" onclick=\"quickchart('df-ea55d8f0-97dc-4bd3-9158-6849ae979a73')\"\n",
              "            title=\"Suggest charts\"\n",
              "            style=\"display:none;\">\n",
              "\n",
              "<svg xmlns=\"http://www.w3.org/2000/svg\" height=\"24px\"viewBox=\"0 0 24 24\"\n",
              "     width=\"24px\">\n",
              "    <g>\n",
              "        <path d=\"M19 3H5c-1.1 0-2 .9-2 2v14c0 1.1.9 2 2 2h14c1.1 0 2-.9 2-2V5c0-1.1-.9-2-2-2zM9 17H7v-7h2v7zm4 0h-2V7h2v10zm4 0h-2v-4h2v4z\"/>\n",
              "    </g>\n",
              "</svg>\n",
              "  </button>\n",
              "\n",
              "<style>\n",
              "  .colab-df-quickchart {\n",
              "      --bg-color: #E8F0FE;\n",
              "      --fill-color: #1967D2;\n",
              "      --hover-bg-color: #E2EBFA;\n",
              "      --hover-fill-color: #174EA6;\n",
              "      --disabled-fill-color: #AAA;\n",
              "      --disabled-bg-color: #DDD;\n",
              "  }\n",
              "\n",
              "  [theme=dark] .colab-df-quickchart {\n",
              "      --bg-color: #3B4455;\n",
              "      --fill-color: #D2E3FC;\n",
              "      --hover-bg-color: #434B5C;\n",
              "      --hover-fill-color: #FFFFFF;\n",
              "      --disabled-bg-color: #3B4455;\n",
              "      --disabled-fill-color: #666;\n",
              "  }\n",
              "\n",
              "  .colab-df-quickchart {\n",
              "    background-color: var(--bg-color);\n",
              "    border: none;\n",
              "    border-radius: 50%;\n",
              "    cursor: pointer;\n",
              "    display: none;\n",
              "    fill: var(--fill-color);\n",
              "    height: 32px;\n",
              "    padding: 0;\n",
              "    width: 32px;\n",
              "  }\n",
              "\n",
              "  .colab-df-quickchart:hover {\n",
              "    background-color: var(--hover-bg-color);\n",
              "    box-shadow: 0 1px 2px rgba(60, 64, 67, 0.3), 0 1px 3px 1px rgba(60, 64, 67, 0.15);\n",
              "    fill: var(--button-hover-fill-color);\n",
              "  }\n",
              "\n",
              "  .colab-df-quickchart-complete:disabled,\n",
              "  .colab-df-quickchart-complete:disabled:hover {\n",
              "    background-color: var(--disabled-bg-color);\n",
              "    fill: var(--disabled-fill-color);\n",
              "    box-shadow: none;\n",
              "  }\n",
              "\n",
              "  .colab-df-spinner {\n",
              "    border: 2px solid var(--fill-color);\n",
              "    border-color: transparent;\n",
              "    border-bottom-color: var(--fill-color);\n",
              "    animation:\n",
              "      spin 1s steps(1) infinite;\n",
              "  }\n",
              "\n",
              "  @keyframes spin {\n",
              "    0% {\n",
              "      border-color: transparent;\n",
              "      border-bottom-color: var(--fill-color);\n",
              "      border-left-color: var(--fill-color);\n",
              "    }\n",
              "    20% {\n",
              "      border-color: transparent;\n",
              "      border-left-color: var(--fill-color);\n",
              "      border-top-color: var(--fill-color);\n",
              "    }\n",
              "    30% {\n",
              "      border-color: transparent;\n",
              "      border-left-color: var(--fill-color);\n",
              "      border-top-color: var(--fill-color);\n",
              "      border-right-color: var(--fill-color);\n",
              "    }\n",
              "    40% {\n",
              "      border-color: transparent;\n",
              "      border-right-color: var(--fill-color);\n",
              "      border-top-color: var(--fill-color);\n",
              "    }\n",
              "    60% {\n",
              "      border-color: transparent;\n",
              "      border-right-color: var(--fill-color);\n",
              "    }\n",
              "    80% {\n",
              "      border-color: transparent;\n",
              "      border-right-color: var(--fill-color);\n",
              "      border-bottom-color: var(--fill-color);\n",
              "    }\n",
              "    90% {\n",
              "      border-color: transparent;\n",
              "      border-bottom-color: var(--fill-color);\n",
              "    }\n",
              "  }\n",
              "</style>\n",
              "\n",
              "  <script>\n",
              "    async function quickchart(key) {\n",
              "      const quickchartButtonEl =\n",
              "        document.querySelector('#' + key + ' button');\n",
              "      quickchartButtonEl.disabled = true;  // To prevent multiple clicks.\n",
              "      quickchartButtonEl.classList.add('colab-df-spinner');\n",
              "      try {\n",
              "        const charts = await google.colab.kernel.invokeFunction(\n",
              "            'suggestCharts', [key], {});\n",
              "      } catch (error) {\n",
              "        console.error('Error during call to suggestCharts:', error);\n",
              "      }\n",
              "      quickchartButtonEl.classList.remove('colab-df-spinner');\n",
              "      quickchartButtonEl.classList.add('colab-df-quickchart-complete');\n",
              "    }\n",
              "    (() => {\n",
              "      let quickchartButtonEl =\n",
              "        document.querySelector('#df-ea55d8f0-97dc-4bd3-9158-6849ae979a73 button');\n",
              "      quickchartButtonEl.style.display =\n",
              "        google.colab.kernel.accessAllowed ? 'block' : 'none';\n",
              "    })();\n",
              "  </script>\n",
              "</div>\n",
              "\n",
              "    </div>\n",
              "  </div>\n"
            ],
            "application/vnd.google.colaboratory.intrinsic+json": {
              "type": "dataframe",
              "summary": "{\n  \"name\": \"dark_matter_data\",\n  \"rows\": 8,\n  \"fields\": [\n    {\n      \"column\": \"Fiducial Volume (Tonnes)\",\n      \"properties\": {\n        \"dtype\": \"number\",\n        \"std\": 2.7059561790331004,\n        \"min\": 2e-05,\n        \"max\": 7.0,\n        \"num_unique_values\": 8,\n        \"samples\": [\n          2.7740039999999997,\n          0.5,\n          5.0\n        ],\n        \"semantic_type\": \"\",\n        \"description\": \"\"\n      }\n    },\n    {\n      \"column\": \"Unnamed Random Statistic\",\n      \"properties\": {\n        \"dtype\": \"number\",\n        \"std\": 1.6326440197078653,\n        \"min\": 0.1345,\n        \"max\": 5.0,\n        \"num_unique_values\": 8,\n        \"samples\": [\n          0.4465,\n          0.442,\n          5.0\n        ],\n        \"semantic_type\": \"\",\n        \"description\": \"\"\n      }\n    }\n  ]\n}"
            }
          },
          "metadata": {},
          "execution_count": 28
        }
      ],
      "source": [
        "dark_matter_data.describe()"
      ]
    },
    {
      "cell_type": "markdown",
      "id": "befe3fc7",
      "metadata": {
        "id": "befe3fc7"
      },
      "source": [
        "Let's say we imported a dataframe and need to check how large it is. There are two ways to do this. One way, using the `np.size()` function, prints the number of elements in the dataframe. Then, the `np.shape()` function returns the dimensions, in (row,column) format, of the dataframe. Let's try it. As you can tell from the format, these are actually `NumPy` functions that we are applying to `Pandas` dataframe."
      ]
    },
    {
      "cell_type": "code",
      "execution_count": null,
      "id": "ba712fd7",
      "metadata": {
        "id": "ba712fd7",
        "outputId": "a0b99dc8-6ad0-4821-fd07-7d55c2085546",
        "colab": {
          "base_uri": "https://localhost:8080/"
        }
      },
      "outputs": [
        {
          "output_type": "execute_result",
          "data": {
            "text/plain": [
              "25"
            ]
          },
          "metadata": {},
          "execution_count": 29
        }
      ],
      "source": [
        "np.size(dark_matter_data)"
      ]
    },
    {
      "cell_type": "code",
      "execution_count": null,
      "id": "28915b77",
      "metadata": {
        "id": "28915b77",
        "outputId": "aeedb971-fa25-4e91-f194-3740bfee2e2b",
        "colab": {
          "base_uri": "https://localhost:8080/"
        }
      },
      "outputs": [
        {
          "output_type": "execute_result",
          "data": {
            "text/plain": [
              "(5, 5)"
            ]
          },
          "metadata": {},
          "execution_count": 30
        }
      ],
      "source": [
        "np.shape(dark_matter_data)"
      ]
    },
    {
      "cell_type": "markdown",
      "id": "46005c53",
      "metadata": {
        "id": "46005c53"
      },
      "source": [
        "### $\\color{orange}{\\text{Activity 12: Working with Dataframes}}$"
      ]
    },
    {
      "cell_type": "markdown",
      "id": "9e35c6c3",
      "metadata": {
        "id": "9e35c6c3"
      },
      "source": [
        "You will need to reference documentation for this problem: https://pandas.pydata.org/docs/user_guide/10min.html\n",
        "\n",
        "You need to generate a `Pandas` dataframe containing some data you collected in the lab. This dataframe should have 5 columns and 7 rows. Construct a dataframe, containing a combination of floating-point data and strings, that describe a fictional experiment of your own design (i.e. the data can be random). Then:\n",
        "\n",
        "**1.** Print the size and shape of the dataframe. Print a list of statistics for the floating-point values in your dataframe.\n",
        "\n",
        "**2.** Oops! You made a systematic error in taking three of your datapoints. Use indexing to replace 3 elements of data, at random, with a `NaN`. What does `NaN` represent?\n",
        "\n",
        "**3.** Use the `concat()` function and indexing to select the 3rd and 5th column and create a new dataframe with them.\n",
        "\n",
        "**4.** Convert your original dataframe (not the one from part 3) to a .csv file and then read it back in from the .csv format."
      ]
    },
    {
      "cell_type": "code",
      "execution_count": null,
      "id": "ffd652c7",
      "metadata": {
        "id": "ffd652c7",
        "colab": {
          "base_uri": "https://localhost:8080/"
        },
        "outputId": "2c6b3ec7-bdd2-48a7-f99d-7a7c3dfc74ef"
      },
      "outputs": [
        {
          "output_type": "stream",
          "name": "stdout",
          "text": [
            "      Experiment Name Experiment Type  Sugar Level  Visibility Healthy\n",
            "0               Honey      Solubility            7      0.3350      No\n",
            "1               Agave      Solubility            6      0.1345      No\n",
            "2         Maple Syrup      Solubility            8      0.4420      No\n",
            "3             Jaggery      Solubility            9      0.2000      No\n",
            "4  Refined Cane Sugar      Solubility           10      0.0000      No\n",
            "5       Coconut Sugar      Solubility            8      0.1000      No\n",
            "6    Brown Cane Sugar      Solubility           10      0.1500      No\n",
            "35\n",
            "(7, 5)\n",
            "       Sugar Level  Visibility\n",
            "count     7.000000     7.00000\n",
            "mean      8.285714     0.19450\n",
            "std       1.496026     0.14909\n",
            "min       6.000000     0.00000\n",
            "25%       7.500000     0.11725\n",
            "50%       8.000000     0.15000\n",
            "75%       9.500000     0.26750\n",
            "max      10.000000     0.44200\n",
            "   Sugar Level Healthy\n",
            "0            7      No\n",
            "1            6      No\n",
            "2            8      No\n",
            "3            9      No\n",
            "4           10      No\n",
            "5            8      No\n",
            "6           10      No\n"
          ]
        }
      ],
      "source": [
        "#Activity 12\n",
        "\n",
        "experiment_names = [\"Honey\", \"Agave\", \"Maple Syrup\", \"Jaggery\", \"Refined Cane Sugar\", \"Coconut Sugar\", \"Brown Cane Sugar\"]\n",
        "experiment_type = [\"Solubility\", \"Solubility\", \"Solubility\", \"Solubility\", \"Solubility\", \"Solubility\", \"Solubility\"]\n",
        "sugar_level = [7, 6, 8, 9, 10, 8, 10]\n",
        "visibility = [0.335, 0.1345, 0.442, 0.2, 0, 0.1, 0.15]\n",
        "healthy = [\"No\", \"No\", \"No\", \"No\", \"No\", \"No\", \"No\"]\n",
        "\n",
        "sugar_data = pd.DataFrame({\"Experiment Name\": experiment_names, \"Experiment Type\": experiment_type, \"Sugar Level\": sugar_level, \"Visibility\": visibility, \"Healthy\": healthy})\n",
        "\n",
        "print(sugar_data)\n",
        "\n",
        "print(np.size(sugar_data))\n",
        "print(np.shape(sugar_data))\n",
        "print(sugar_data.describe())\n",
        "\n",
        "for i in range(0,6):\n",
        "  for j in range(0,4):\n",
        "    if isinstance(sugar_data.iloc[i,j],str):\n",
        "     sugar_data.iloc[i,j]=np.nan\n",
        "\n",
        "new_sugar_data = pd.concat([sugar_data.iloc[:,2],sugar_data.iloc[:,4]],axis=1)\n",
        "\n",
        "print(new_sugar_data)\n",
        "\n",
        "sugar_data.to_csv('sugar_data.csv', index=False)\n",
        "sugar_data_fromcsv = pd.read_csv('sugar_data.csv')\n",
        "\n",
        "# Nan means \"not a number\"\n",
        "\n"
      ]
    },
    {
      "cell_type": "markdown",
      "id": "5c37fc0f",
      "metadata": {
        "id": "5c37fc0f"
      },
      "source": [
        "___________________________"
      ]
    },
    {
      "cell_type": "markdown",
      "id": "99f45b1a",
      "metadata": {
        "id": "99f45b1a"
      },
      "source": [
        "## $\\color{Blue}{\\text{Congrats! You've completed Week 1 of STARTUP homework!}}$\n",
        "### $\\color{Orange}{\\text{Remember to commit this notebook to GitHub as instructed in Activity 2.}}$"
      ]
    }
  ],
  "metadata": {
    "kernelspec": {
      "display_name": "Python 3.9 (Default)",
      "language": "python",
      "name": "python3"
    },
    "language_info": {
      "codemirror_mode": {
        "name": "ipython",
        "version": 3
      },
      "file_extension": ".py",
      "mimetype": "text/x-python",
      "name": "python",
      "nbconvert_exporter": "python",
      "pygments_lexer": "ipython3",
      "version": "3.9.7"
    },
    "colab": {
      "provenance": []
    }
  },
  "nbformat": 4,
  "nbformat_minor": 5
}
