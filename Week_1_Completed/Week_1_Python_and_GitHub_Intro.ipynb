{
  "cells": [
    {
      "cell_type": "markdown",
      "id": "309072f4",
      "metadata": {
        "id": "309072f4"
      },
      "source": [
        "# $\\color{Violet}{\\text{Week 1: Python and GitHub Intro}}$"
      ]
    },
    {
      "cell_type": "markdown",
      "id": "9174c7df",
      "metadata": {
        "id": "9174c7df"
      },
      "source": [
        "**Instructions:** Read all text blocks and comments in code cells carefully. These contain important information regarding content you'll need to know for operating the notebook and research/coding in general. They may also contain instructions/hints for filling out activity blocks."
      ]
    },
    {
      "cell_type": "markdown",
      "id": "c1fb1bcc",
      "metadata": {
        "id": "c1fb1bcc"
      },
      "source": [
        "## $\\color{Red}{\\text{Reminder: Documentation and Stack Exchange are your best friends!}}$"
      ]
    },
    {
      "cell_type": "markdown",
      "id": "61a62695",
      "metadata": {
        "id": "61a62695"
      },
      "source": [
        "___________________________________________"
      ]
    },
    {
      "cell_type": "markdown",
      "id": "528fd72a",
      "metadata": {
        "id": "528fd72a"
      },
      "source": [
        "# Importing, Updating, and Downloading Packages"
      ]
    },
    {
      "cell_type": "markdown",
      "id": "181c5d1b",
      "metadata": {
        "id": "181c5d1b"
      },
      "source": [
        "The first thing you must do whenever you create a new notebook or other coding file is to import all the packages you'll need to complete your computations. Packages are a relatively universal concept in higher-level programming; not all functionalities needed for a project are necessarily going to be incorportated into the natural programming language, so we must import external code telling Python how to compute special functions. It's good to have a single block you can run at the beginning of the notebook that initializes all the imports. **Once this block is run, you won't have to run it again so long as you don't shut down or restart your kernel.**"
      ]
    },
    {
      "cell_type": "code",
      "execution_count": 21,
      "id": "80c8e72e",
      "metadata": {
        "id": "80c8e72e"
      },
      "outputs": [],
      "source": [
        "# Run this cell. Notice that a number appears on the left-hand side. This number keeps track of the order in which the cells are run.\n",
        "# Use a pound symbol '#' to insert comments into coding blocks. It is important that you keep your code well-commented so others can follow along.\n",
        "\n",
        "import numpy as np #Whenever we reference the NumPy package later, we will abreviate it as 'np'; using \"as np\" tells the computer this is our intention. 'np' is the standard abbreviation for NumPy.\n",
        "import scipy\n",
        "import pandas as pd #'pd' is the standard Pandas abbreviation\n",
        "import matplotlib as plt"
      ]
    },
    {
      "cell_type": "markdown",
      "id": "0b3a1162",
      "metadata": {
        "id": "0b3a1162"
      },
      "source": [
        "Let's check what version of each package we're using. Whenever the developers of the package update something, the version changes. This can cause problems if one package requires a certain version of another; we can change which version we use if needed."
      ]
    },
    {
      "cell_type": "code",
      "execution_count": null,
      "id": "da366642",
      "metadata": {
        "id": "da366642",
        "outputId": "e4644dd4-089e-4c8a-f709-3e994fcd6ead"
      },
      "outputs": [
        {
          "name": "stdout",
          "output_type": "stream",
          "text": [
            "1.26.4\n",
            "We are running NumPy version 1.26.4.\n"
          ]
        }
      ],
      "source": [
        "print(np.__version__) #The '.__version__' command prints the version of the package\n",
        "\n",
        "#Let's format this into a sentance we can print. If you need help with Python strings and datatypes, we recommend CodeAcademy's intro course.\n",
        "version_number = np.__version__ #Save the version number as a variable\n",
        "print(f\"We are running NumPy version {version_number}.\") #This formatting is called an f-string. It prints combined strings and variables as strings."
      ]
    },
    {
      "cell_type": "markdown",
      "id": "82684296",
      "metadata": {
        "id": "82684296"
      },
      "source": [
        "Let's say we need to use a new Python package that's not already installed on our kernel. We won't have access to the source code we need unless we install this package. We do this using the `!pip install` command. Once this command is run for a particular package, it never needs run again. `!pip install` is also a Bash command that works in Terminal, too."
      ]
    },
    {
      "cell_type": "code",
      "execution_count": null,
      "id": "7641f8c1",
      "metadata": {
        "colab": {
          "base_uri": "https://localhost:8080/"
        },
        "id": "7641f8c1",
        "outputId": "7f1f6a1d-ef83-4093-a3a3-7231b4a069d1"
      },
      "outputs": [
        {
          "output_type": "stream",
          "name": "stdout",
          "text": [
            "Requirement already satisfied: numpy in /usr/local/lib/python3.10/dist-packages (1.25.2)\n"
          ]
        }
      ],
      "source": [
        "#Let's pip install NumPy just for practice, even though it is generally installed on most servers by default. It should return a line telling you the package is already installed (\"Requirement already satisfied\")\n",
        "!pip install numpy"
      ]
    },
    {
      "cell_type": "markdown",
      "id": "cd9e432c",
      "metadata": {
        "id": "cd9e432c"
      },
      "source": [
        "Let's say we want to use a different version of NumPy, maybe because of some dependency issues. We can revert to an older version and update the package. We need to reinstall the package under a new version using `! pip install` again. You may get some errors, pip install is really finiky, just run the cell again to see that the requirement is satisfied.\n",
        "\n",
        "If you're having problems in your code, it is important to read the errors that are returned. You can Google these errors or ask ChatGPT to find solutions."
      ]
    },
    {
      "cell_type": "code",
      "execution_count": null,
      "id": "0e5e0a35",
      "metadata": {
        "colab": {
          "base_uri": "https://localhost:8080/"
        },
        "id": "0e5e0a35",
        "outputId": "7a92cbff-5a8c-46bc-fb4d-0ddcdebe23af"
      },
      "outputs": [
        {
          "output_type": "stream",
          "name": "stdout",
          "text": [
            "Collecting numpy==1.20.0\n",
            "  Downloading numpy-1.20.0.zip (8.0 MB)\n",
            "\u001b[2K     \u001b[90m━━━━━━━━━━━━━━━━━━━━━━━━━━━━━━━━━━━━━━━━\u001b[0m \u001b[32m8.0/8.0 MB\u001b[0m \u001b[31m18.7 MB/s\u001b[0m eta \u001b[36m0:00:00\u001b[0m\n",
            "\u001b[?25h  Installing build dependencies ... \u001b[?25l\u001b[?25hdone\n",
            "  Getting requirements to build wheel ... \u001b[?25l\u001b[?25hdone\n",
            "  Preparing metadata (pyproject.toml) ... \u001b[?25l\u001b[?25hdone\n",
            "Building wheels for collected packages: numpy\n",
            "  \u001b[1;31merror\u001b[0m: \u001b[1msubprocess-exited-with-error\u001b[0m\n",
            "  \n",
            "  \u001b[31m×\u001b[0m \u001b[32mBuilding wheel for numpy \u001b[0m\u001b[1;32m(\u001b[0m\u001b[32mpyproject.toml\u001b[0m\u001b[1;32m)\u001b[0m did not run successfully.\n",
            "  \u001b[31m│\u001b[0m exit code: \u001b[1;36m1\u001b[0m\n",
            "  \u001b[31m╰─>\u001b[0m See above for output.\n",
            "  \n",
            "  \u001b[1;35mnote\u001b[0m: This error originates from a subprocess, and is likely not a problem with pip.\n",
            "  Building wheel for numpy (pyproject.toml) ... \u001b[?25l\u001b[?25herror\n",
            "\u001b[31m  ERROR: Failed building wheel for numpy\u001b[0m\u001b[31m\n",
            "\u001b[0mFailed to build numpy\n",
            "\u001b[31mERROR: Could not build wheels for numpy, which is required to install pyproject.toml-based projects\u001b[0m\u001b[31m\n",
            "\u001b[0m"
          ]
        }
      ],
      "source": [
        "!pip install numpy==1.20.0"
      ]
    },
    {
      "cell_type": "markdown",
      "id": "3ffffac1",
      "metadata": {
        "id": "3ffffac1"
      },
      "source": [
        "But uh oh! We realize that reverting to an older version of NumPy causes some dependency problems (newer packages we're using rely on updated versions of NumPy, so they won't run unless we make sure NumPy is updated). Let's use `!pip install` to uninstall the old version of NumPy and reinstall a new version of NumPy."
      ]
    },
    {
      "cell_type": "code",
      "execution_count": null,
      "id": "188efd8e",
      "metadata": {
        "id": "188efd8e",
        "outputId": "1494a047-2adc-40d9-96d6-02ddb6dc4b41"
      },
      "outputs": [
        {
          "name": "stdout",
          "output_type": "stream",
          "text": [
            "Defaulting to user installation because normal site-packages is not writeable\n",
            "Requirement already satisfied: numpy in ./.local/lib/python3.9/site-packages (1.20.0)\n",
            "Collecting numpy\n",
            "  Using cached numpy-1.26.4-cp39-cp39-manylinux_2_17_x86_64.manylinux2014_x86_64.whl (18.2 MB)\n",
            "Installing collected packages: numpy\n",
            "  Attempting uninstall: numpy\n",
            "    Found existing installation: numpy 1.20.0\n",
            "    Uninstalling numpy-1.20.0:\n",
            "      Successfully uninstalled numpy-1.20.0\n",
            "\u001b[33m  WARNING: The script f2py is installed in '/home/abinau/.local/bin' which is not on PATH.\n",
            "  Consider adding this directory to PATH or, if you prefer to suppress this warning, use --no-warn-script-location.\u001b[0m\n",
            "Successfully installed numpy-1.26.4\n",
            "The updated version number of NumPy is 1.26.4.\n"
          ]
        }
      ],
      "source": [
        "!pip install numpy --upgrade\n",
        "\n",
        "new_version = np.__version__\n",
        "print(f\"The updated version number of NumPy is {new_version}.\")"
      ]
    },
    {
      "cell_type": "markdown",
      "id": "79efbc08",
      "metadata": {
        "id": "79efbc08"
      },
      "source": [
        "### $\\color{orange}{\\text{Activity 1: Import and Update}}$"
      ]
    },
    {
      "cell_type": "markdown",
      "id": "1c07c2b3",
      "metadata": {
        "id": "1c07c2b3"
      },
      "source": [
        "In the block below, install a Python package of your choosing (find some here: https://www.geeksforgeeks.org/python-packages/), import it, and check the version number. Research the package documentation/GitHub to ensure it is the most recent version number."
      ]
    },
    {
      "cell_type": "markdown",
      "id": "b75e99d8",
      "metadata": {
        "id": "b75e99d8"
      },
      "source": [
        "In the block below, import the package of your choosing (find some here: https://www.geeksforgeeks.org/python-packages/) and make sure it's updated to the latest version."
      ]
    },
    {
      "cell_type": "code",
      "execution_count": null,
      "id": "f77721c5",
      "metadata": {
        "colab": {
          "base_uri": "https://localhost:8080/"
        },
        "id": "f77721c5",
        "outputId": "9b2d962a-5b39-41ea-f12e-837e8d450eb4"
      },
      "outputs": [
        {
          "output_type": "stream",
          "name": "stdout",
          "text": [
            "We are running Keras version: 2.15.0\n"
          ]
        }
      ],
      "source": [
        "## Activity 1\n",
        "\n",
        "import keras\n",
        "\n",
        "version = keras.__version__\n",
        "\n",
        "print(\"We are running Keras version:\", version)\n",
        "\n",
        "#this is a popular ai based package\n",
        "\n"
      ]
    },
    {
      "cell_type": "markdown",
      "id": "2b57486f",
      "metadata": {
        "id": "2b57486f"
      },
      "source": [
        "Cool. Our packges are ready to use."
      ]
    },
    {
      "cell_type": "markdown",
      "id": "4ad0f43b",
      "metadata": {
        "id": "4ad0f43b"
      },
      "source": [
        "________________________________________"
      ]
    },
    {
      "cell_type": "markdown",
      "id": "ced8a8e4",
      "metadata": {
        "id": "ced8a8e4"
      },
      "source": [
        "# Pulling from GitHub"
      ]
    },
    {
      "cell_type": "markdown",
      "id": "3d2b74a4",
      "metadata": {
        "id": "3d2b74a4"
      },
      "source": [
        "We have the course GitHub, where you probably got this notebook. You can download individual notebooks from GitHub, similar to how you's upload a new notebook to GitHub **(IMPORTANT: all Python Jupyter notebooks end in a .ipynb file type)**. Let's \"clone\" the entire repository into our local folder, however, and just download it all at once. We can do this using Jupyter notebooks."
      ]
    },
    {
      "cell_type": "code",
      "execution_count": null,
      "id": "86adee99",
      "metadata": {
        "colab": {
          "base_uri": "https://localhost:8080/"
        },
        "id": "86adee99",
        "outputId": "42a2c9f4-cea3-41d4-c908-e82a13487b5f"
      },
      "outputs": [
        {
          "output_type": "stream",
          "name": "stdout",
          "text": [
            "fatal: destination path 'STARTUP_Purdue' already exists and is not an empty directory.\n"
          ]
        }
      ],
      "source": [
        "!git clone https://github.com/ameliabinau/STARTUP_Purdue.git #This address can be found under \"<>Code\" -> \"HTTPS\" on the homepage of the repository."
      ]
    },
    {
      "cell_type": "markdown",
      "id": "bd4dd903",
      "metadata": {
        "id": "bd4dd903"
      },
      "source": [
        "Check your files. The entire repository should be saved under a new folder there."
      ]
    },
    {
      "cell_type": "code",
      "source": [],
      "metadata": {
        "id": "StDOi-KSP6tt"
      },
      "id": "StDOi-KSP6tt",
      "execution_count": null,
      "outputs": []
    },
    {
      "cell_type": "markdown",
      "source": [],
      "metadata": {
        "id": "1hlNwbnNP5MO"
      },
      "id": "1hlNwbnNP5MO"
    },
    {
      "cell_type": "markdown",
      "id": "f6eac0a7",
      "metadata": {
        "id": "f6eac0a7"
      },
      "source": [
        "### $\\color{orange}{\\text{Activity 2: Commit to GitHub}}$"
      ]
    },
    {
      "cell_type": "markdown",
      "id": "c05fb909",
      "metadata": {
        "id": "c05fb909"
      },
      "source": [
        "When you have completed working through this notebook, download a copy (File -> Download as -> Notebook (.ipynb)). In the course GitHub, upload a copy of this notebook under the folder `Week_1/Week_1_Completed`."
      ]
    },
    {
      "cell_type": "markdown",
      "id": "e33800b2",
      "metadata": {
        "id": "e33800b2"
      },
      "source": [
        "If you were working in a group on a project that needs **continuously updated as you work on it**, GitHub allows you to sync your notebooks with the repository. This is, in fact, what GitHub is designed for and a common use for the repositories. While we will not be using this functionality for this course, find more information here: https://docs.qubole.com/en/latest/user-guide/notebooks-and-dashboards/notebooks/jupyter-notebooks/managing-jupy-notebook-versions/link-jupy-notebook-github.html"
      ]
    },
    {
      "cell_type": "markdown",
      "id": "c3ebf5ce",
      "metadata": {
        "id": "c3ebf5ce"
      },
      "source": [
        "# NumPy"
      ]
    },
    {
      "cell_type": "markdown",
      "id": "cb5c8012",
      "metadata": {
        "id": "cb5c8012"
      },
      "source": [
        "Let's use NumPy for some array manipulation. **NumPy is a standard package for computaing involving large sets of data, including statistical analyses.** Documentation and more information, inculding an array of interesting compatable packages for research purposes, can be found here: https://numpy.org/."
      ]
    },
    {
      "cell_type": "code",
      "execution_count": null,
      "id": "f6686674",
      "metadata": {
        "id": "f6686674"
      },
      "outputs": [],
      "source": [
        "#Let's create a 4x4 NumPy array. A NumPy array is a specific dataframe type that is used universally across many packages.\n",
        "import numpy as np\n",
        "array = np.array([[2.4, 6.4, 2.1, 8.0], [1.1, 1.2, 6.4, 3.2], [9.3, 0.3, 5.6, 5.7], [7.8, 3.2, 5.5, 7.0]])"
      ]
    },
    {
      "cell_type": "code",
      "execution_count": null,
      "id": "c73b6206",
      "metadata": {
        "colab": {
          "base_uri": "https://localhost:8080/"
        },
        "id": "c73b6206",
        "outputId": "c5adbe28-65cc-44c2-cda1-100986c22b76"
      },
      "outputs": [
        {
          "output_type": "stream",
          "name": "stdout",
          "text": [
            "[[2.4 6.4 2.1 8. ]\n",
            " [1.1 1.2 6.4 3.2]\n",
            " [9.3 0.3 5.6 5.7]\n",
            " [7.8 3.2 5.5 7. ]]\n",
            "<class 'numpy.ndarray'>\n"
          ]
        }
      ],
      "source": [
        "#Let's check the data and object types.\n",
        "import numpy as np\n",
        "array = np.array([[2.4, 6.4, 2.1, 8.0], [1.1, 1.2, 6.4, 3.2], [9.3, 0.3, 5.6, 5.7], [7.8, 3.2, 5.5, 7.0]])\n",
        "print(array)\n",
        "print(type(array))"
      ]
    },
    {
      "cell_type": "markdown",
      "id": "d7504016",
      "metadata": {
        "id": "d7504016"
      },
      "source": [
        "Often, we will have to convert to the appropriate dataframe/object type in order to use certain functions. NumPy has some functions that convert between object types. Let's generate a regular Python list and convert it to a NumPy array."
      ]
    },
    {
      "cell_type": "code",
      "execution_count": null,
      "id": "babfa107",
      "metadata": {
        "colab": {
          "base_uri": "https://localhost:8080/"
        },
        "id": "babfa107",
        "outputId": "6a368596-fd75-484e-a176-6f67bda23a80"
      },
      "outputs": [
        {
          "output_type": "stream",
          "name": "stdout",
          "text": [
            "[1, 2, 3, 4, 5, 6, 7]\n",
            "<class 'list'>\n",
            "[1 2 3 4 5 6 7]\n",
            "<class 'numpy.ndarray'>\n"
          ]
        }
      ],
      "source": [
        "import numpy as np\n",
        "list = [1, 2, 3, 4, 5, 6, 7]\n",
        "print(list)\n",
        "print(type(list))\n",
        "\n",
        "list = np.asarray(list)\n",
        "print(list)\n",
        "print(type(list))"
      ]
    },
    {
      "cell_type": "markdown",
      "id": "f9f140a2",
      "metadata": {
        "id": "f9f140a2"
      },
      "source": [
        "See what happened there?"
      ]
    },
    {
      "cell_type": "markdown",
      "id": "113c56f2",
      "metadata": {
        "id": "113c56f2"
      },
      "source": [
        "### $\\color{orange}{\\text{Activity 3: Manipulating NumPy Arrays}}$"
      ]
    },
    {
      "cell_type": "markdown",
      "id": "719842f4",
      "metadata": {
        "id": "719842f4"
      },
      "source": [
        "Print this NumPy array.\n",
        "\n",
        "**1.** Use indexing to return/print the element in the [3,3] position.\n",
        "\n",
        "**2.** Then, swap the element in the [2,4] position with the element in the [1,3] position; print the result.\n",
        "\n",
        "**3.** Next, rewrite the element in the [1,4] position to equal 0. Print the result.\n",
        "\n",
        "**4.** Lastly, use indexing to locate which coordinate the value of 9.3 is located. Print the result.\n",
        "\n",
        "More information on indexing and basic NumPy can be found here: https://numpy.org/doc/stable/user/absolute_beginners.html"
      ]
    },
    {
      "cell_type": "code",
      "execution_count": 7,
      "id": "1b988801",
      "metadata": {
        "colab": {
          "base_uri": "https://localhost:8080/"
        },
        "id": "1b988801",
        "outputId": "694d9f47-75c8-45fb-8774-c4c241728f0f"
      },
      "outputs": [
        {
          "output_type": "stream",
          "name": "stdout",
          "text": [
            "7.0\n",
            "[[2.4 6.4 2.1 8. ]\n",
            " [1.1 1.2 6.4 5.7]\n",
            " [9.3 0.3 5.6 3.2]\n",
            " [7.8 3.2 5.5 7. ]]\n",
            "[[2.4 6.4 2.1 8. ]\n",
            " [1.1 1.2 6.4 0. ]\n",
            " [9.3 0.3 5.6 3.2]\n",
            " [7.8 3.2 5.5 7. ]]\n",
            "[[False False False False]\n",
            " [False False False False]\n",
            " [ True False False False]\n",
            " [False False False False]]\n"
          ]
        }
      ],
      "source": [
        "#Activity 3\n",
        "import numpy as np\n",
        "\n",
        "array = np.array([[2.4, 6.4, 2.1, 8.0], [1.1, 1.2, 6.4, 3.2], [9.3, 0.3, 5.6, 5.7], [7.8, 3.2, 5.5, 7.0]])\n",
        "#first part\n",
        "print(array[3,3])\n",
        "\n",
        "#second part\n",
        "element1 = array[2,3]\n",
        "element2 = array[1,3]\n",
        "\n",
        "array[1,3]=element1\n",
        "array[2,3]=element2\n",
        "\n",
        "print(array)\n",
        "\n",
        "#third part\n",
        "array[1,3] = 0\n",
        "print(array)\n",
        "\n",
        "#fourth part\n",
        "x = array == 9.3\n",
        "print(x)\n",
        "#tried a few different while statements and stuff but couldnt get it to work\n",
        "\n",
        "\n"
      ]
    },
    {
      "cell_type": "markdown",
      "id": "dad63821",
      "metadata": {
        "id": "dad63821"
      },
      "source": [
        "### np.mean & More!"
      ]
    },
    {
      "cell_type": "markdown",
      "id": "8d5a120b",
      "metadata": {
        "id": "8d5a120b"
      },
      "source": [
        "NumPy hosts an array of statistical functions that are relatively easy to use. Let's find the mean of the array we created."
      ]
    },
    {
      "cell_type": "code",
      "execution_count": null,
      "id": "08a4a55d",
      "metadata": {
        "colab": {
          "base_uri": "https://localhost:8080/"
        },
        "id": "08a4a55d",
        "outputId": "d5640cd4-1c66-4c13-9df2-e93f32dc477a"
      },
      "outputs": [
        {
          "output_type": "stream",
          "name": "stdout",
          "text": [
            "4.34375\n",
            "[5.15  2.775 4.9   4.55 ]\n"
          ]
        }
      ],
      "source": [
        "print(np.mean(array)) #This takes the mean of all 16 values in the array.\n",
        "\n",
        "mean = np.mean(array, axis=0)\n",
        "print(mean) #Prints an array of the mean of each column of the array."
      ]
    },
    {
      "cell_type": "markdown",
      "id": "78375f08",
      "metadata": {
        "id": "78375f08"
      },
      "source": [
        "You can also take the standard deviation. See documentation for more example functions (https://numpy.org/doc/stable/reference/routines.statistics.html)."
      ]
    },
    {
      "cell_type": "code",
      "execution_count": null,
      "id": "5162bd05",
      "metadata": {
        "id": "5162bd05",
        "outputId": "feedfd5e-c515-4945-e88d-72dcf0c2a240"
      },
      "outputs": [
        {
          "name": "stdout",
          "output_type": "stream",
          "text": [
            "2.696061942908582\n"
          ]
        }
      ],
      "source": [
        "print(np.std(array))"
      ]
    },
    {
      "cell_type": "markdown",
      "id": "1bf85a52",
      "metadata": {
        "id": "1bf85a52"
      },
      "source": [
        "### $\\color{orange}{\\text{Activity 4: Statistics}}$"
      ]
    },
    {
      "cell_type": "markdown",
      "id": "6b29b737",
      "metadata": {
        "id": "6b29b737"
      },
      "source": [
        "This activity will have you test a variety of statistical functions from NumPy on the dataframe `array`. Use NumPy documentation to find the appropriate functions for each step.\n",
        "\n",
        "**1.** Compute and print the variance ($\\sigma^2$) of the entire array.\n",
        "\n",
        "**2.** Compute and print the median, first quartile, and third quartile of the enitre array.\n",
        "\n",
        "**3.** Compute and print the corrolation coefficient, using indexing, of Row 1 against Row 2 of the array."
      ]
    },
    {
      "cell_type": "code",
      "execution_count": null,
      "id": "74cd221f",
      "metadata": {
        "colab": {
          "base_uri": "https://localhost:8080/"
        },
        "id": "74cd221f",
        "outputId": "f3e05252-b404-4b03-fa99-1590070424a2"
      },
      "outputs": [
        {
          "output_type": "stream",
          "name": "stdout",
          "text": [
            "8.459960937500002\n",
            "4.35\n",
            "1.875\n",
            "6.550000000000001\n",
            "[[ 1.         -0.68700066]\n",
            " [-0.68700066  1.        ]]\n"
          ]
        }
      ],
      "source": [
        "#Activity 4\n",
        "#1\n",
        "variance = np.square(np.std(array)) #theres also just a variance function in numpy\n",
        "print(variance)\n",
        "\n",
        "#2\n",
        "print(np.median(array))\n",
        "print(np.quantile(array, 0.25))\n",
        "print(np.quantile(array, 0.75))\n",
        "\n",
        "#3\n",
        "row1 = array[0]\n",
        "row2 = array[1]\n",
        "\n",
        "coef = np.corrcoef(row1,row2)\n",
        "print(coef)\n",
        "\n",
        "\n"
      ]
    },
    {
      "cell_type": "markdown",
      "id": "a3116fee",
      "metadata": {
        "id": "a3116fee"
      },
      "source": [
        "### np.random"
      ]
    },
    {
      "cell_type": "markdown",
      "id": "811a978a",
      "metadata": {
        "id": "811a978a"
      },
      "source": [
        "NumPy can be used to generate arrays of random variables, selected using a variety of sampling methods."
      ]
    },
    {
      "cell_type": "code",
      "execution_count": null,
      "id": "3ea6f099",
      "metadata": {
        "colab": {
          "base_uri": "https://localhost:8080/"
        },
        "id": "3ea6f099",
        "outputId": "0e037da1-b2c6-4b92-b2cc-346e16187cb5"
      },
      "outputs": [
        {
          "output_type": "stream",
          "name": "stdout",
          "text": [
            "[[0.17194673 0.34704357 0.5142686  0.55529006]]\n"
          ]
        }
      ],
      "source": [
        "random_array = np.random.rand(1,4) #np.random.rand generates an array of the given size from a uniform distribution between 0 (inclusive) and 1 (exclusive).\n",
        "print(random_array)"
      ]
    },
    {
      "cell_type": "markdown",
      "id": "b71ec01d",
      "metadata": {
        "id": "b71ec01d"
      },
      "source": [
        "### $\\color{orange}{\\text{Activity 5: Random Normal and Poisson Distributions}}$"
      ]
    },
    {
      "cell_type": "markdown",
      "id": "7c12b4d3",
      "metadata": {
        "id": "7c12b4d3"
      },
      "source": [
        "Use NumPy documentation to learn how to generate random values selected from a Normal and a Poisson distribution. Comment the link to the documentation. Then:\n",
        "\n",
        "**1.** Generate a random array of size [10000] of values selected from a Poisson distribution of frequency $\\lambda$ = 2.0. Do not print the array! (Note: How did I get the lambda symbol on here? You can use LaTeX formatting in Python. We will talk about this next week.)\n",
        "\n",
        "**2.** Calculate and print the mean of this distribution, the standard deviation, the first and third quartile, and the median using NumPy.\n",
        "\n",
        "**3.** Now generate a new Poisson-sampled array of size [10]. Calculate and print the mean, standard deviation, first and third quartile, and median.\n",
        "\n",
        "**4.** Compare the values between Steps 2 and 3. What changed? Why? What is a Poisson distribution and what is it used for?\n",
        "\n",
        "**5.** Repeat Steps 1-4 for random values sampled from a normal distribution of mean $\\mu$ = 10.0 and standard deviation $\\sigma$ = 3.0.\n",
        "\n",
        "**6.** Why do you think understanding statistics and the distributions from which random numbers are generated is important to physics research?"
      ]
    },
    {
      "cell_type": "code",
      "execution_count": null,
      "id": "b3177f2c",
      "metadata": {
        "colab": {
          "base_uri": "https://localhost:8080/"
        },
        "id": "b3177f2c",
        "outputId": "826c1486-88e1-4ff1-c82e-fc00f4c47609"
      },
      "outputs": [
        {
          "output_type": "stream",
          "name": "stdout",
          "text": [
            "Mean: 1.9876\n",
            "Standard Deviation: 1.3873882801869128\n",
            "First Quantile: 1.0\n",
            "Third Quantile: 3.0\n",
            "Median: 2.0\n",
            "=============\n",
            "Mean: 2.9\n",
            "Standard Deviation: 1.374772708486752\n",
            "First Quantile: 2.0\n",
            "Third Quantile: 3.75\n",
            "Median: 2.5\n",
            "||||||||||||||||||||||||||||||||||||||\n",
            "Mean: 10.014932643299833\n",
            "Std: 2.9895138797246776\n",
            "1st quartile: 8.007813371557818\n",
            "3rd quartile: 12.054965080944356\n",
            "Median: 9.993825487894801\n",
            "=========\n",
            "Mean: 10.139541997306534\n",
            "Std: 3.0595012250756777\n",
            "1st quartile: 7.105802003342592\n",
            "3rd quartile: 12.456398413503932\n",
            "Median: 9.838221910873665\n"
          ]
        }
      ],
      "source": [
        "# Activity 5\n",
        "#1\n",
        "randomarray = np.random.poisson(2,10000) #avg then size\n",
        "\n",
        "#2\n",
        "print(\"Mean:\", np.mean(randomarray))\n",
        "print(\"Standard Deviation:\", np.std(randomarray))\n",
        "print(\"First Quantile:\", np.quantile(randomarray, 0.25))\n",
        "print(\"Third Quantile:\", np.quantile(randomarray, 0.75))\n",
        "print(\"Median:\", np.median(randomarray))\n",
        "\n",
        "print(\"=============\")\n",
        "\n",
        "#3\n",
        "random2 = np.random.poisson(2,10)\n",
        "print(\"Mean:\", np.mean(random2))\n",
        "print(\"Standard Deviation:\", np.std(random2))\n",
        "print(\"First Quantile:\", np.quantile(random2, 0.25))\n",
        "print(\"Third Quantile:\", np.quantile(random2, 0.75))\n",
        "print(\"Median:\", np.median(random2))\n",
        "\n",
        "#4\n",
        "'''\n",
        "the values for the first distrubution are much closer to representing the given avg.\n",
        "the first and third quantile represents near perfect distribution away from the given avg of 2.\n",
        "while the second run with 10 iterations shows a more 'blocky' way of representing the data,\n",
        "sometimes having the quantiles hit directly on 2 which is not great to have if youre trying\n",
        "to represent some sort of data.\n",
        "'''\n",
        "\n",
        "#5\n",
        "print(\"||||||||||||||||||||||||||||||||||||||\")\n",
        "normal1 = np.random.normal(10, 3, 10000) # just remember: avg, SD, poisson\n",
        "\n",
        "print(f\"Mean: {np.mean(normal1)}\")\n",
        "print(f\"Std: {np.std(normal1)}\")\n",
        "print(f\"1st quartile: {np.quantile(normal1, 0.25)}\")\n",
        "print(f\"3rd quartile: {np.quantile(normal1, 0.75)}\")\n",
        "print(f\"Median: {np.median(normal1)}\")\n",
        "\n",
        "print(\"=========\")\n",
        "\n",
        "normal2 = np.random.normal(10, 3, 10)\n",
        "\n",
        "print(f\"Mean: {np.mean(normal2)}\")\n",
        "print(f\"Std: {np.std(normal2)}\")\n",
        "print(f\"1st quartile: {np.quantile(normal2, 0.25)}\")\n",
        "print(f\"3rd quartile: {np.quantile(normal2, 0.75)}\")\n",
        "print(f\"Median: {np.median(normal2)}\")\n",
        "\n",
        "\n",
        "#6\n",
        "'''\n",
        "I think understanding statistics of large numbers is important in physics research\n",
        "because i think alot of physics research deals with large array of data sets\n",
        "and it is crucial to find correlations and indictors of patterns within the\n",
        "large datasets that is given in physics.\n",
        "'''\n",
        "\n",
        "\n",
        "\n",
        "\n",
        "\n"
      ]
    },
    {
      "cell_type": "markdown",
      "id": "19c6348f",
      "metadata": {
        "id": "19c6348f"
      },
      "source": [
        "### Math in NumPy"
      ]
    },
    {
      "cell_type": "markdown",
      "id": "46ada0e0",
      "metadata": {
        "id": "46ada0e0"
      },
      "source": [
        "NumPy has a few mathematical functions available that it stole from SciPy (reformatting a function in this way, between packages, objects, or programming languages, is broadly called a \"wrapper\"). Let's practice using some of these (found here: https://numpy.org/doc/stable/reference/routines.emath.html)."
      ]
    },
    {
      "cell_type": "code",
      "execution_count": null,
      "id": "e77ffca7",
      "metadata": {
        "colab": {
          "base_uri": "https://localhost:8080/"
        },
        "id": "e77ffca7",
        "outputId": "4744f45c-6c68-4605-8a73-6bb04ccda717"
      },
      "outputs": [
        {
          "output_type": "stream",
          "name": "stdout",
          "text": [
            "[[1.54919334 2.52982213 1.44913767 2.82842712]\n",
            " [1.04880885 1.09544512 2.52982213 0.        ]\n",
            " [3.04959014 0.54772256 2.36643191 1.78885438]\n",
            " [2.79284801 1.78885438 2.34520788 2.64575131]]\n"
          ]
        }
      ],
      "source": [
        "#Lets take the square root of the original array and save it under the same variable.\n",
        "array = np.sqrt(array)\n",
        "print(array)"
      ]
    },
    {
      "cell_type": "markdown",
      "id": "22022865",
      "metadata": {
        "id": "22022865"
      },
      "source": [
        "### $\\color{orange}{\\text{Activity 6: Log Transform}}$"
      ]
    },
    {
      "cell_type": "markdown",
      "id": "8a7af354",
      "metadata": {
        "id": "8a7af354"
      },
      "source": [
        "Use NumPy mathematical functions to take the base-10 logrithum of the entire `array`. This is called a log transform and is often performed on data displayed in graphs to emphasize certain trends/data points. We will talk about this more next week."
      ]
    },
    {
      "cell_type": "code",
      "execution_count": null,
      "id": "a13963be",
      "metadata": {
        "colab": {
          "base_uri": "https://localhost:8080/"
        },
        "id": "a13963be",
        "outputId": "79d85628-45ce-4482-9577-3986d3dc92d1"
      },
      "outputs": [
        {
          "output_type": "stream",
          "name": "stdout",
          "text": [
            "[[1.54919334 2.52982213 1.44913767 2.82842712]\n",
            " [1.04880885 1.09544512 2.52982213 0.        ]\n",
            " [3.04959014 0.54772256 2.36643191 1.78885438]\n",
            " [2.79284801 1.78885438 2.34520788 2.64575131]]\n"
          ]
        },
        {
          "output_type": "stream",
          "name": "stderr",
          "text": [
            "<ipython-input-34-3507b901fbe9>:2: RuntimeWarning: divide by zero encountered in log10\n",
            "  logtrans = np.log10(array)\n"
          ]
        }
      ],
      "source": [
        "# Activity 6\n",
        "logtrans = np.log10(array)\n",
        "print(array)"
      ]
    },
    {
      "cell_type": "markdown",
      "id": "1ca77b9e",
      "metadata": {
        "id": "1ca77b9e"
      },
      "source": [
        "### Special Functions in NumPy"
      ]
    },
    {
      "cell_type": "markdown",
      "id": "9b6f0b16",
      "metadata": {
        "id": "9b6f0b16"
      },
      "source": [
        "Aside from these, NumPy hosts an array (Ha! See what I did there?) of other special functions that can be applied to NumPy dataframes."
      ]
    },
    {
      "cell_type": "markdown",
      "id": "e22ef28b",
      "metadata": {
        "id": "e22ef28b"
      },
      "source": [
        "### $\\color{orange}{\\text{Activity 7: Fast Fourier Transform}}$"
      ]
    },
    {
      "cell_type": "code",
      "execution_count": null,
      "id": "1f1fcde8",
      "metadata": {
        "id": "1f1fcde8"
      },
      "outputs": [],
      "source": [
        "data = np.random.rand(100)"
      ]
    },
    {
      "cell_type": "markdown",
      "id": "514c2e68",
      "metadata": {
        "id": "514c2e68"
      },
      "source": [
        "Use NumPy and documentation to perform a 1D, discrete fast Fourier Transform on the `data` dataframe provided. Print the result and describe the data; are the data real or complex? What is a Fourier Transform?"
      ]
    },
    {
      "cell_type": "code",
      "execution_count": null,
      "id": "a4a526bd",
      "metadata": {
        "colab": {
          "base_uri": "https://localhost:8080/"
        },
        "id": "a4a526bd",
        "outputId": "f8cf8644-782f-45e5-fdbe-41f3c6c1c843"
      },
      "outputs": [
        {
          "output_type": "stream",
          "name": "stdout",
          "text": [
            "[ 4.74296595e+01+0.00000000e+00j  9.35656245e-01-1.48587017e+00j\n",
            " -2.90643622e-01+1.96729199e+00j -1.21740812e+00-2.70898604e+00j\n",
            "  1.01894357e+00-2.65123289e-02j -3.52323951e-02+4.86566936e-01j\n",
            "  3.34163719e-01-2.32089157e+00j  9.08359382e-01-1.47919469e+00j\n",
            " -1.02017014e+00-7.80800988e-01j  2.63690807e+00+2.40484582e+00j\n",
            "  2.23014815e+00+3.84171080e+00j -3.24521851e+00+1.30783381e+00j\n",
            " -2.67136194e+00-1.11139982e+00j -3.36269225e+00+9.99999422e-01j\n",
            "  3.68546337e-02-7.36971047e-01j  7.93705720e-01+1.30407766e-01j\n",
            "  2.17312798e+00-8.22085591e-01j -1.03045918e+00-1.63078255e+00j\n",
            " -9.39761944e-01+2.36484426e+00j -1.08288104e+00+2.29717698e+00j\n",
            "  9.34561778e-02-9.59739593e-01j -3.12645454e+00-1.14985144e+00j\n",
            " -1.77495135e+00+1.40459198e+00j  2.40872913e+00-3.50931559e+00j\n",
            " -8.50089707e-01+6.20634215e-01j -2.10573685e+00+1.04714347e+00j\n",
            "  2.01452435e+00+1.43294755e+00j -2.95228454e+00-5.42890260e-01j\n",
            "  4.50841972e-01+2.82545678e+00j  1.88292941e+00+4.29004490e-01j\n",
            "  2.46156593e+00-1.12551035e+00j -8.68018217e-01-2.67578243e+00j\n",
            " -3.94804189e+00+6.20216153e-01j -4.31771240e+00+5.90775653e-01j\n",
            " -2.15099948e+00-2.53450354e+00j  5.14609622e-01+6.48802499e-01j\n",
            "  5.61778909e-01+2.56387089e+00j  8.29119697e-01+2.77467884e+00j\n",
            "  1.89228936e+00-2.01185592e+00j -3.81825337e+00+2.41787085e+00j\n",
            "  2.95132310e-02-1.29813278e-01j  1.16217521e+00-1.14240075e+00j\n",
            "  6.51086270e-01+3.59531033e+00j -4.42432817e+00-2.47429643e+00j\n",
            "  1.71854756e+00+2.30831283e+00j -9.76380017e-01+1.46897937e+00j\n",
            "  3.19955318e-01-3.53461203e-01j  2.59255244e+00+2.79772306e+00j\n",
            "  2.11975013e-01-2.04564057e+00j -2.75587272e+00+3.33251200e+00j\n",
            "  3.04283883e+00+8.88178420e-16j -2.75587272e+00-3.33251200e+00j\n",
            "  2.11975013e-01+2.04564057e+00j  2.59255244e+00-2.79772306e+00j\n",
            "  3.19955318e-01+3.53461203e-01j -9.76380017e-01-1.46897937e+00j\n",
            "  1.71854756e+00-2.30831283e+00j -4.42432817e+00+2.47429643e+00j\n",
            "  6.51086270e-01-3.59531033e+00j  1.16217521e+00+1.14240075e+00j\n",
            "  2.95132310e-02+1.29813278e-01j -3.81825337e+00-2.41787085e+00j\n",
            "  1.89228936e+00+2.01185592e+00j  8.29119697e-01-2.77467884e+00j\n",
            "  5.61778909e-01-2.56387089e+00j  5.14609622e-01-6.48802499e-01j\n",
            " -2.15099948e+00+2.53450354e+00j -4.31771240e+00-5.90775653e-01j\n",
            " -3.94804189e+00-6.20216153e-01j -8.68018217e-01+2.67578243e+00j\n",
            "  2.46156593e+00+1.12551035e+00j  1.88292941e+00-4.29004490e-01j\n",
            "  4.50841972e-01-2.82545678e+00j -2.95228454e+00+5.42890260e-01j\n",
            "  2.01452435e+00-1.43294755e+00j -2.10573685e+00-1.04714347e+00j\n",
            " -8.50089707e-01-6.20634215e-01j  2.40872913e+00+3.50931559e+00j\n",
            " -1.77495135e+00-1.40459198e+00j -3.12645454e+00+1.14985144e+00j\n",
            "  9.34561778e-02+9.59739593e-01j -1.08288104e+00-2.29717698e+00j\n",
            " -9.39761944e-01-2.36484426e+00j -1.03045918e+00+1.63078255e+00j\n",
            "  2.17312798e+00+8.22085591e-01j  7.93705720e-01-1.30407766e-01j\n",
            "  3.68546337e-02+7.36971047e-01j -3.36269225e+00-9.99999422e-01j\n",
            " -2.67136194e+00+1.11139982e+00j -3.24521851e+00-1.30783381e+00j\n",
            "  2.23014815e+00-3.84171080e+00j  2.63690807e+00-2.40484582e+00j\n",
            " -1.02017014e+00+7.80800988e-01j  9.08359382e-01+1.47919469e+00j\n",
            "  3.34163719e-01+2.32089157e+00j -3.52323951e-02-4.86566936e-01j\n",
            "  1.01894357e+00+2.65123289e-02j -1.21740812e+00+2.70898604e+00j\n",
            " -2.90643622e-01-1.96729199e+00j  9.35656245e-01+1.48587017e+00j]\n"
          ]
        }
      ],
      "source": [
        "#Activity 7\n",
        "\n",
        "print(np.fft.fft(data))\n",
        "\n"
      ]
    },
    {
      "cell_type": "markdown",
      "id": "f63e2285",
      "metadata": {
        "id": "f63e2285"
      },
      "source": [
        "____________________________________________________"
      ]
    },
    {
      "cell_type": "markdown",
      "id": "1bcb1c7e",
      "metadata": {
        "id": "1bcb1c7e"
      },
      "source": [
        "# Matplotlib"
      ]
    },
    {
      "cell_type": "markdown",
      "id": "95782d52",
      "metadata": {
        "id": "95782d52"
      },
      "source": [
        "Where there is science, there's observations. Where there's observations, there's data. How do we plot the data we collect such that conclusions can be drawn and results communicated? We mostly frequently use a Python package called `Matplotlib`."
      ]
    },
    {
      "cell_type": "markdown",
      "id": "1dd4404b",
      "metadata": {
        "id": "1dd4404b"
      },
      "source": [
        "$\\color{Blue}{\\text{A helpful Matplotlib cheatsheet is located here:}}$ https://matplotlib.org/cheatsheets/_images/cheatsheets-1.png\n",
        "\n",
        "\n",
        "$\\color{Green}{\\text{An important part of data visualization is what colors you use to represent datasets. A list of Matplotlib color names is located here:}}$ https://matplotlib.org/stable/gallery/color/named_colors.html#sphx-glr-gallery-color-named-colors-py$\\color{Green}{\\text{. A list of color gradient names is located here:}}$ https://matplotlib.org/stable/users/explain/colors/colormaps.html\n"
      ]
    },
    {
      "cell_type": "markdown",
      "id": "b43751d0",
      "metadata": {
        "id": "b43751d0"
      },
      "source": [
        "Let's create a variety of basic plots."
      ]
    },
    {
      "cell_type": "markdown",
      "id": "97924fb5",
      "metadata": {
        "id": "97924fb5"
      },
      "source": [
        "### Plotting a Function"
      ]
    },
    {
      "cell_type": "code",
      "execution_count": null,
      "id": "9ef08db4",
      "metadata": {
        "colab": {
          "base_uri": "https://localhost:8080/",
          "height": 472
        },
        "id": "9ef08db4",
        "outputId": "ec8f3d68-eda3-4326-f6c7-46764a004d81"
      },
      "outputs": [
        {
          "output_type": "display_data",
          "data": {
            "text/plain": [
              "<Figure size 640x480 with 1 Axes>"
            ],
            "image/png": "[encoded data removed]"
          },
          "metadata": {}
        }
      ],
      "source": [
        "#Let's plot a quadratic function.\n",
        "import matplotlib.pyplot as plt\n",
        "\n",
        "def y(x):\n",
        "    return x**2\n",
        "x = np.linspace(-10, 10, 100) #It's important to understand what this function does: https://numpy.org/doc/stable/reference/generated/numpy.linspace.html\n",
        "y = y(x)\n",
        "\n",
        "plot = plt.plot(x, y, color='red') #Plotting a continuous curve requires the `plt.plot()` function.\n",
        "plt.xlabel(\"x\") #x-axis label\n",
        "plt.ylabel(\"y\") #y-axis label\n",
        "plt.title(\"Quadratic Function\")\n",
        "plt.show() #While not needed for some `plt` functions, `plt.show()` must often be written in order to tell"
      ]
    },
    {
      "cell_type": "markdown",
      "id": "e1274117",
      "metadata": {
        "id": "e1274117"
      },
      "source": [
        "### Scatterplots and Histograms"
      ]
    },
    {
      "cell_type": "markdown",
      "id": "01e9da84",
      "metadata": {
        "id": "01e9da84"
      },
      "source": [
        "Let's generate two arrays of random datapoints taken from a chi-squared distribution (see a description of Chi-Squared distributions here: https://www.scribbr.com/statistics/chi-square-distributions/) using NumPy and plot both of them using a scatterplot and histograms."
      ]
    },
    {
      "cell_type": "code",
      "execution_count": null,
      "id": "e43dace3",
      "metadata": {
        "id": "e43dace3"
      },
      "outputs": [],
      "source": [
        "chi_squared_1 = np.random.chisquare(5, 100)\n",
        "chi_squared_2 = np.random.chisquare(3, 100)"
      ]
    },
    {
      "cell_type": "code",
      "execution_count": null,
      "id": "ed3e9548",
      "metadata": {
        "colab": {
          "base_uri": "https://localhost:8080/",
          "height": 472
        },
        "id": "ed3e9548",
        "outputId": "54141e90-ba24-4595-b2d1-e2ad23a1584b"
      },
      "outputs": [
        {
          "output_type": "display_data",
          "data": {
            "text/plain": [
              "<Figure size 640x480 with 1 Axes>"
            ],
            "image/png": "[encoded data removed]"
          },
          "metadata": {}
        }
      ],
      "source": [
        "#Scatterplot (takes two variables)\n",
        "\n",
        "plot2 = plt.scatter(chi_squared_1, chi_squared_2, color = 'navy', marker = \"*\") #Notice the markers!\n",
        "plt.xlabel(\"Chi-Squared 1\") #x-axis label\n",
        "plt.ylabel(\"Chi-Squared 2\") #y-axis label\n",
        "plt.title(\"Chi-Squared Compared\")\n",
        "plt.show()"
      ]
    },
    {
      "cell_type": "code",
      "execution_count": null,
      "id": "b9a5108f",
      "metadata": {
        "colab": {
          "base_uri": "https://localhost:8080/",
          "height": 927
        },
        "id": "b9a5108f",
        "outputId": "c3bb691e-e075-4a5d-9943-534e23ba57ee"
      },
      "outputs": [
        {
          "output_type": "display_data",
          "data": {
            "text/plain": [
              "<Figure size 640x480 with 1 Axes>"
            ],
            "image/png": "[encoded data removed]"
          },
          "metadata": {}
        },
        {
          "output_type": "display_data",
          "data": {
            "text/plain": [
              "<Figure size 640x480 with 1 Axes>"
            ],
            "image/png": "[encoded data removed]"
          },
          "metadata": {}
        }
      ],
      "source": [
        "#Two histograms (one-dimensional), one for each dataset\n",
        "\n",
        "plot3 = plt.hist(chi_squared_1, bins = 20, color = 'violet') #The \"bins\" value is the number of divisions/bars that display the frequency of datapoints within the numeric range of each bin.\n",
        "plt.xlabel(\"Values\")\n",
        "plt.ylabel(\"Frequency\")\n",
        "plt.title(\"Chi-Squared 1\")\n",
        "plt.show()\n",
        "\n",
        "plot4 = plt.hist(chi_squared_2, bins = 20, color = 'darkviolet') #The \"bins\" value is the number of divisions/bars that display the frequency of datapoints within the numeric range of each bin.\n",
        "plt.xlabel(\"Values\")\n",
        "plt.ylabel(\"Frequency\")\n",
        "plt.title(\"Chi-Squared 2\")\n",
        "plt.show()"
      ]
    },
    {
      "cell_type": "markdown",
      "id": "77e1b5e0",
      "metadata": {
        "id": "77e1b5e0"
      },
      "source": [
        "### $\\color{orange}{\\text{Activity 8: 2D Histograms}}$"
      ]
    },
    {
      "cell_type": "markdown",
      "id": "9a21adff",
      "metadata": {
        "id": "9a21adff"
      },
      "source": [
        "Histograms display the number/frequency of datapoints in a dataset that reside in numeric bins lying along a 1D \"axis.\" What if we want to display the number of datapoints in bins along two intersecting axes? In this case, we use a 2D histogram which uses a \"colorbar\" to represent the frequency of datapoints in each bin. Below is some code used to plot one such 2D histogram."
      ]
    },
    {
      "cell_type": "code",
      "execution_count": null,
      "id": "e854d3f1",
      "metadata": {
        "colab": {
          "base_uri": "https://localhost:8080/",
          "height": 487
        },
        "id": "e854d3f1",
        "outputId": "84cd7ec0-6578-4126-8b8a-62ca8805664d"
      },
      "outputs": [
        {
          "output_type": "display_data",
          "data": {
            "text/plain": [
              "<Figure size 640x480 with 1 Axes>"
            ],
            "image/png": "[encoded data removed]"
          },
          "metadata": {}
        }
      ],
      "source": [
        "import matplotlib.pyplot as plt\n",
        "import matplotlib as mpl\n",
        "\n",
        "fig, ax = plt.subplots(tight_layout=True)\n",
        "hist = ax.hist2d(chi_squared_1, chi_squared_2, norm=mpl.colors.LogNorm())"
      ]
    },
    {
      "cell_type": "markdown",
      "id": "6db4dd49",
      "metadata": {
        "id": "6db4dd49"
      },
      "source": [
        "Use documentation, StackExchange, ChatGPT, etc. to learn how to add x- and y-labels and a colorbar to this graph."
      ]
    },
    {
      "cell_type": "markdown",
      "id": "ce0c0ac0",
      "metadata": {
        "id": "ce0c0ac0"
      },
      "source": [
        "--------------------------------------------------------"
      ]
    },
    {
      "cell_type": "markdown",
      "id": "7df6888c",
      "metadata": {
        "id": "7df6888c"
      },
      "source": [
        "# SciPy"
      ]
    },
    {
      "cell_type": "markdown",
      "id": "5d832610",
      "metadata": {
        "id": "5d832610"
      },
      "source": [
        "SciPy is a package that contains a variety of advanced mathematical functions such as numerical intregration, special functions, optimization (linear regressions, etc.), linear algebra, and more.\n",
        "\n",
        "First, let's check which version of SciPy we're using."
      ]
    },
    {
      "cell_type": "markdown",
      "id": "31baf3bd",
      "metadata": {
        "id": "31baf3bd"
      },
      "source": [
        "### $\\color{orange}{\\text{Activity 9: SciPy Version}}$"
      ]
    },
    {
      "cell_type": "markdown",
      "id": "9da01006",
      "metadata": {
        "id": "9da01006"
      },
      "source": [
        "Print which version of SciPy you're running using an f-string that reads \"The version of SciPy we're running is {insert version number}.\""
      ]
    },
    {
      "cell_type": "code",
      "execution_count": null,
      "id": "9096e51b",
      "metadata": {
        "colab": {
          "base_uri": "https://localhost:8080/"
        },
        "id": "9096e51b",
        "outputId": "e2f928a4-3121-4eba-92e7-3e7faadf2a4d"
      },
      "outputs": [
        {
          "output_type": "stream",
          "name": "stdout",
          "text": [
            "The version of SciPy we're running is 1.11.4\n"
          ]
        }
      ],
      "source": [
        "#Activity 9\n",
        "import scipy\n",
        "versionnumber = scipy.__version__\n",
        "print(\"The version of SciPy we're running is\", versionnumber)\n"
      ]
    },
    {
      "cell_type": "markdown",
      "id": "5a7fd3f3",
      "metadata": {
        "id": "5a7fd3f3"
      },
      "source": [
        "### scipy.integrate: Numerical Integration"
      ]
    },
    {
      "cell_type": "markdown",
      "id": "175ea129",
      "metadata": {
        "id": "175ea129"
      },
      "source": [
        "One of the most common reasons to use SciPy is its numerical integration function. Let's integrate a variety of functions provided by SciPy.\n",
        "\n",
        "A list of SciPy special functions are provided here: https://docs.scipy.org/doc/scipy/reference/special.html"
      ]
    },
    {
      "cell_type": "code",
      "execution_count": null,
      "id": "8cca14b2",
      "metadata": {
        "colab": {
          "base_uri": "https://localhost:8080/"
        },
        "id": "8cca14b2",
        "outputId": "284a7038-d884-4353-b8e5-4ddf17a68ab5"
      },
      "outputs": [
        {
          "output_type": "stream",
          "name": "stdout",
          "text": [
            "(2490.0, 2.7661051045708712e-11)\n"
          ]
        }
      ],
      "source": [
        "#Import submodules of SciPy, which are not necessarily imported with the base package. Additionally, this makes it easier to call the entire submodule AND SciPy when we go to use a function from that submodule.\n",
        "import scipy.integrate as integrate\n",
        "import scipy.special as special #Special functions in SciPy.\n",
        "\n",
        "#Let's define a simple function using variable x and output \"function\"\n",
        "def function(x):\n",
        "    return (x**3 - 1) #Python uses ** to represent exponentiation.\n",
        "\n",
        "#Integrate using integrate.quad (https://docs.scipy.org/doc/scipy/tutorial/integrate.html)\n",
        "#Here, we integrate from x = 0 to x = 10.\n",
        "numerical = integrate.quad(function, 0, 10)\n",
        "print(numerical)"
      ]
    },
    {
      "cell_type": "markdown",
      "id": "e63da795",
      "metadata": {
        "id": "e63da795"
      },
      "source": [
        "In the printed result, there are two values. The first is the actual value of the definite integral. The second in the error in that value, since `integrate.quad` uses numerical integration using the quadrature method."
      ]
    },
    {
      "cell_type": "markdown",
      "id": "31cbf962",
      "metadata": {
        "id": "31cbf962"
      },
      "source": [
        "### $\\color{orange}{\\text{Activity 10: Integrating Bessel Functions}}$"
      ]
    },
    {
      "cell_type": "markdown",
      "id": "a07e56cd",
      "metadata": {
        "id": "a07e56cd"
      },
      "source": [
        "Use SciPy to integrate a Bessel Function (`scipy.special.jv`, https://docs.scipy.org/doc/scipy/reference/generated/scipy.special.jv.html#scipy.special.jv) at $\\nu$ = 1 from z = 0 to z = 10. Hint: Check documentation on `scipy.integrate`! Print the results.\n",
        "\n",
        "Then, perform the same calculation using Trapezoidal integration. Print the results.\n",
        "\n",
        "What is a Bessel function? What types of physical phenomena do they represent?"
      ]
    },
    {
      "cell_type": "code",
      "execution_count": 5,
      "id": "9caefb17",
      "metadata": {
        "id": "9caefb17",
        "colab": {
          "base_uri": "https://localhost:8080/"
        },
        "outputId": "ad8cc260-4bd2-48df-a29b-306d870caa34"
      },
      "outputs": [
        {
          "output_type": "stream",
          "name": "stdout",
          "text": [
            "(1.2459357644513482, 1.1600766172282117e-12)\n"
          ]
        }
      ],
      "source": [
        "#Activity 10\n",
        "import scipy.integrate as integrate\n",
        "import scipy.special as special\n",
        "result = integrate.quad(lambda x: special.jv(1,x), 0, 10)\n",
        "print(result)\n"
      ]
    },
    {
      "cell_type": "markdown",
      "id": "87643987",
      "metadata": {
        "id": "87643987"
      },
      "source": [
        "### Curve-fitting"
      ]
    },
    {
      "cell_type": "markdown",
      "id": "72563b49",
      "metadata": {
        "id": "72563b49"
      },
      "source": [
        "If you take anything from this homework, **curve fitting may be one of the most important topics to remember.** In experimental physics, a vast majority of data processesing (and eventually, discoveries!) are made by fitting functions, either by hand or with machine learning, to data. This way, theoretical predictions can be matched to real data and background noise can be removed. Let's generate some random data and fit a 1. linear function and 2. a normal distribution to it."
      ]
    },
    {
      "cell_type": "markdown",
      "id": "6b9c9d63",
      "metadata": {
        "id": "6b9c9d63"
      },
      "source": [
        "To create a histogram of data, we use the `Boost_Histogram`package. This package allows us to create an \"axis\" of \"bins\" we can \"fill\" with data (i.e. if there are five data points, x = 0,1,2,4,5 and two bins, one between x = 0 and x = 3 and one between x = 3 and x = 6, three datapoints would go in the first bin and two in the second bin). In this example, we fill a `Boost_Histogram` histogram called `random_hist` with our data and plot it. You can get the center \"x\" value of each histogram bin (if a bin spans from x = 0 to x = 3, its center will be at x = 1.5) using `random_hist.axes[0].centers` (you can define a histogram with multiple axes; here, we use a histogram with just one axis, a.k.a. a 1D axis). `random_hist.values()` returns an array of the number of datapoints in each bin, and `random_hist.axes[0].widths` return an array of the \"size\" of each bin along the \"x\" axis (a bin that spans from x = 0 to 3 will have a width of 3)."
      ]
    },
    {
      "cell_type": "code",
      "execution_count": 18,
      "id": "0477cd4d",
      "metadata": {
        "colab": {
          "base_uri": "https://localhost:8080/",
          "height": 527
        },
        "id": "0477cd4d",
        "outputId": "93f60632-2a3c-428c-a46a-d3c0309e4f13"
      },
      "outputs": [
        {
          "output_type": "stream",
          "name": "stdout",
          "text": [
            "Requirement already satisfied: boost-histogram in /usr/local/lib/python3.10/dist-packages (1.4.1)\n",
            "Requirement already satisfied: numpy in /usr/local/lib/python3.10/dist-packages (from boost-histogram) (1.25.2)\n"
          ]
        },
        {
          "output_type": "execute_result",
          "data": {
            "text/plain": [
              "Text(0, 0.5, 'Frequency')"
            ]
          },
          "metadata": {},
          "execution_count": 18
        },
        {
          "output_type": "display_data",
          "data": {
            "text/plain": [
              "<Figure size 640x480 with 1 Axes>"
            ],
            "image/png": "[encoded data removed]"
          },
          "metadata": {}
        }
      ],
      "source": [
        "#First, let's import.\n",
        "import scipy.optimize as optimize\n",
        "\n",
        "#Now, let's create some data.\n",
        "random = np.random.normal(loc=0, scale=1, size=1000) #This is a normal distribution centered around 0 with a standard distribution of 1.\n",
        "\n",
        "!pip install boost-histogram\n",
        "#We'll fill a histogram with these data.\n",
        "import boost_histogram as bh\n",
        "random_hist = bh.Histogram(bh.axis.Regular(20, -3, 3))\n",
        "random_hist.fill(random)\n",
        "\n",
        "#Let's plot this data. We use `matplotlib` to plot histograms. We'll discuss this later in the notebook.\n",
        "import matplotlib.pyplot as plt\n",
        "random_plot = plt.bar(random_hist.axes[0].centers, random_hist.values(), width=random_hist.axes[0].widths, color = \"mediumspringgreen\")\n",
        "plt.xlabel(\"Value\")\n",
        "plt.ylabel(\"Frequency\")"
      ]
    },
    {
      "cell_type": "code",
      "execution_count": 12,
      "id": "25ee1143",
      "metadata": {
        "colab": {
          "base_uri": "https://localhost:8080/"
        },
        "id": "25ee1143",
        "outputId": "1d04dc77-4a8b-41b0-9eca-99b175d16f59"
      },
      "outputs": [
        {
          "output_type": "stream",
          "name": "stdout",
          "text": [
            "(array([ 0.51378442, 49.85      ]), array([[2.95003705e+01, 2.11637322e-09],\n",
            "       [2.11637322e-09, 8.82798647e+01]]))\n"
          ]
        }
      ],
      "source": [
        "#Now, we will use curve_fit to fit a linear function to the data and plot it on he same graph. We'll notice that the linear function doesn't \"fit\" very well to this normal distribution, which makes sense.\n",
        "#To do this, we need to define a linear function fro curve_fit to use as the first argument.\n",
        "\n",
        "def linear(x, a, b):\n",
        "    return a*x+b   #Pretty underwhelming. The point of `curve_fit` is to find an a and b that produce a line that best matches the `random` data.\n",
        "\n",
        "#`optimize.curve_fit` will return a tuple of parameters that describe the geometry of the function of best fit. For it to compute the linear regression on the data that produces this function of best fit,\n",
        "#we must provide it an \"x\" axis through which to analyze (we'll use a linear range, defined using np.linspace(), to provide this axis) and the y function (the regression function in action) to analyze.\n",
        "\n",
        "x = np.linspace(-4, 4, 1000)\n",
        "\n",
        "#We can now fit a cur\n",
        "parameters = scipy.optimize.curve_fit(linear, random_hist.axes[0].centers, random_hist.values(), p0=[0,60]) #\"Linear\" is our function of best fit, \"x\" is our x-axis range,\"random\" are our randomly generated data graphed above, and \"p0\" is an optional \"starting place\" we can provide the curve_fit function for [a,b] to help it \"make guesses\" as it calculates the regression.\n",
        "print(parameters)"
      ]
    },
    {
      "cell_type": "markdown",
      "id": "6569b799",
      "metadata": {
        "id": "6569b799"
      },
      "source": [
        "We have now printed an tuple this two arrays: the first, `parameters[0]`, are the a and b values of `linear` which produce the line of best fit. `parameters[1]` are the values of the covariance matrix for the line of best fit. The covariance matrix describes the 'proportionality' of the variables in question (in this case, `a` and `b`). Because the [1,2] and [2,1] entries (covariances) of the covariance matrix are both positive, we know that when `curve_fit` is running the regression, large `a` values tend to correspond to large `b` values (positive correlation). See: https://en.wikipedia.org/wiki/Covariance\n",
        "\n",
        "Notice the produced `a` and `b` values are pretty close to our initial guess `p0` in the `curve_fit` function. Feel free to change this `p0` and see what happens. Since this is a pretty simple dataset and function, statistically speaking, `curve_fit` does a pretty good job, no matter what the initial guess is, generating the line of best fit.  \n",
        "\n",
        "Let's plot the line of best fit with the data."
      ]
    },
    {
      "cell_type": "code",
      "execution_count": 13,
      "id": "9f914acf",
      "metadata": {
        "colab": {
          "base_uri": "https://localhost:8080/",
          "height": 449
        },
        "id": "9f914acf",
        "outputId": "87dae06c-8ce1-498f-d23d-cb3fed1e0c53"
      },
      "outputs": [
        {
          "output_type": "display_data",
          "data": {
            "text/plain": [
              "<Figure size 640x480 with 1 Axes>"
            ],
            "image/png": "[encoded data removed]"
          },
          "metadata": {}
        }
      ],
      "source": [
        "a_b_values = parameters[0]\n",
        "a = a_b_values[0]\n",
        "b = a_b_values[1]\n",
        "\n",
        "random_plot = plt.hist(random, bins=20, range=[-4,4], color = 'mediumspringgreen')\n",
        "random_plot_linear = plt.plot(x, linear(x, a, b), color = 'purple')\n",
        "plt.xlabel(\"Value\")\n",
        "plt.ylabel(\"Frequency\")\n",
        "plt.show()"
      ]
    },
    {
      "cell_type": "markdown",
      "id": "1ff6fbb4",
      "metadata": {
        "id": "1ff6fbb4"
      },
      "source": [
        "The line of best fit is placed about halfway up the \"pile\" of data. It won't look very \"well-fit,\" so to speak. Why do you think this is?"
      ]
    },
    {
      "cell_type": "markdown",
      "id": "915591b6",
      "metadata": {
        "id": "915591b6"
      },
      "source": [
        "### $\\color{orange}{\\text{Activity 11: Fitting a Normal Curve}}$"
      ]
    },
    {
      "cell_type": "markdown",
      "id": "4ad899f1",
      "metadata": {
        "id": "4ad899f1"
      },
      "source": [
        "Similar to the example, fit a Gaussian normal curve to the data in `random_hist`. Print the parameters generated and plot the Gaussian with the data. Use the provided function `Gaussian` to define the curve."
      ]
    },
    {
      "cell_type": "code",
      "execution_count": 15,
      "id": "16c20d9f",
      "metadata": {
        "id": "16c20d9f"
      },
      "outputs": [],
      "source": [
        "def normal_distribution(x, m, s):\n",
        "    return (1 / (s * np.sqrt(2 * np.pi))) * np.exp(-0.5 * ((x - m) / s) ** 2)"
      ]
    },
    {
      "cell_type": "code",
      "execution_count": 19,
      "id": "3ee9376f",
      "metadata": {
        "colab": {
          "base_uri": "https://localhost:8080/",
          "height": 388
        },
        "id": "3ee9376f",
        "outputId": "e64d770d-8fcb-457b-a997-d658f641842e"
      },
      "outputs": [
        {
          "output_type": "error",
          "ename": "TypeError",
          "evalue": "normal_distribution() takes 3 positional arguments but 4 were given",
          "traceback": [
            "\u001b[0;31m---------------------------------------------------------------------------\u001b[0m",
            "\u001b[0;31mTypeError\u001b[0m                                 Traceback (most recent call last)",
            "\u001b[0;32m<ipython-input-19-7039d054719a>\u001b[0m in \u001b[0;36m<cell line: 3>\u001b[0;34m()\u001b[0m\n\u001b[1;32m      1\u001b[0m \u001b[0;31m#Activity 11\u001b[0m\u001b[0;34m\u001b[0m\u001b[0;34m\u001b[0m\u001b[0m\n\u001b[1;32m      2\u001b[0m \u001b[0;32mimport\u001b[0m \u001b[0mscipy\u001b[0m\u001b[0;34m\u001b[0m\u001b[0;34m\u001b[0m\u001b[0m\n\u001b[0;32m----> 3\u001b[0;31m \u001b[0mnormalized\u001b[0m \u001b[0;34m=\u001b[0m \u001b[0mscipy\u001b[0m\u001b[0;34m.\u001b[0m\u001b[0moptimize\u001b[0m\u001b[0;34m.\u001b[0m\u001b[0mcurve_fit\u001b[0m\u001b[0;34m(\u001b[0m\u001b[0mnormal_distribution\u001b[0m\u001b[0;34m,\u001b[0m \u001b[0mrandom_hist\u001b[0m\u001b[0;34m.\u001b[0m\u001b[0maxes\u001b[0m\u001b[0;34m[\u001b[0m\u001b[0;36m0\u001b[0m\u001b[0;34m]\u001b[0m\u001b[0;34m.\u001b[0m\u001b[0mcenters\u001b[0m\u001b[0;34m,\u001b[0m \u001b[0mrandom_hist\u001b[0m\u001b[0;34m.\u001b[0m\u001b[0mvalues\u001b[0m\u001b[0;34m(\u001b[0m\u001b[0;34m)\u001b[0m\u001b[0;34m,\u001b[0m \u001b[0mp0\u001b[0m\u001b[0;34m=\u001b[0m\u001b[0;34m[\u001b[0m\u001b[0;36m1\u001b[0m\u001b[0;34m,\u001b[0m\u001b[0;36m0\u001b[0m\u001b[0;34m,\u001b[0m\u001b[0;36m1\u001b[0m\u001b[0;34m]\u001b[0m\u001b[0;34m)\u001b[0m\u001b[0;34m\u001b[0m\u001b[0;34m\u001b[0m\u001b[0m\n\u001b[0m\u001b[1;32m      4\u001b[0m \u001b[0mprint\u001b[0m\u001b[0;34m(\u001b[0m\u001b[0mnormalized\u001b[0m\u001b[0;34m)\u001b[0m\u001b[0;34m\u001b[0m\u001b[0;34m\u001b[0m\u001b[0m\n\u001b[1;32m      5\u001b[0m \u001b[0;34m\u001b[0m\u001b[0m\n",
            "\u001b[0;32m/usr/local/lib/python3.10/dist-packages/scipy/optimize/_minpack_py.py\u001b[0m in \u001b[0;36mcurve_fit\u001b[0;34m(f, xdata, ydata, p0, sigma, absolute_sigma, check_finite, bounds, method, jac, full_output, nan_policy, **kwargs)\u001b[0m\n\u001b[1;32m    961\u001b[0m             raise TypeError(f\"The number of func parameters={n} must not\"\n\u001b[1;32m    962\u001b[0m                             f\" exceed the number of data points={ydata.size}\")\n\u001b[0;32m--> 963\u001b[0;31m         \u001b[0mres\u001b[0m \u001b[0;34m=\u001b[0m \u001b[0mleastsq\u001b[0m\u001b[0;34m(\u001b[0m\u001b[0mfunc\u001b[0m\u001b[0;34m,\u001b[0m \u001b[0mp0\u001b[0m\u001b[0;34m,\u001b[0m \u001b[0mDfun\u001b[0m\u001b[0;34m=\u001b[0m\u001b[0mjac\u001b[0m\u001b[0;34m,\u001b[0m \u001b[0mfull_output\u001b[0m\u001b[0;34m=\u001b[0m\u001b[0;36m1\u001b[0m\u001b[0;34m,\u001b[0m \u001b[0;34m**\u001b[0m\u001b[0mkwargs\u001b[0m\u001b[0;34m)\u001b[0m\u001b[0;34m\u001b[0m\u001b[0;34m\u001b[0m\u001b[0m\n\u001b[0m\u001b[1;32m    964\u001b[0m         \u001b[0mpopt\u001b[0m\u001b[0;34m,\u001b[0m \u001b[0mpcov\u001b[0m\u001b[0;34m,\u001b[0m \u001b[0minfodict\u001b[0m\u001b[0;34m,\u001b[0m \u001b[0merrmsg\u001b[0m\u001b[0;34m,\u001b[0m \u001b[0mier\u001b[0m \u001b[0;34m=\u001b[0m \u001b[0mres\u001b[0m\u001b[0;34m\u001b[0m\u001b[0;34m\u001b[0m\u001b[0m\n\u001b[1;32m    965\u001b[0m         \u001b[0mysize\u001b[0m \u001b[0;34m=\u001b[0m \u001b[0mlen\u001b[0m\u001b[0;34m(\u001b[0m\u001b[0minfodict\u001b[0m\u001b[0;34m[\u001b[0m\u001b[0;34m'fvec'\u001b[0m\u001b[0;34m]\u001b[0m\u001b[0;34m)\u001b[0m\u001b[0;34m\u001b[0m\u001b[0;34m\u001b[0m\u001b[0m\n",
            "\u001b[0;32m/usr/local/lib/python3.10/dist-packages/scipy/optimize/_minpack_py.py\u001b[0m in \u001b[0;36mleastsq\u001b[0;34m(func, x0, args, Dfun, full_output, col_deriv, ftol, xtol, gtol, maxfev, epsfcn, factor, diag)\u001b[0m\n\u001b[1;32m    413\u001b[0m     \u001b[0;32mif\u001b[0m \u001b[0;32mnot\u001b[0m \u001b[0misinstance\u001b[0m\u001b[0;34m(\u001b[0m\u001b[0margs\u001b[0m\u001b[0;34m,\u001b[0m \u001b[0mtuple\u001b[0m\u001b[0;34m)\u001b[0m\u001b[0;34m:\u001b[0m\u001b[0;34m\u001b[0m\u001b[0;34m\u001b[0m\u001b[0m\n\u001b[1;32m    414\u001b[0m         \u001b[0margs\u001b[0m \u001b[0;34m=\u001b[0m \u001b[0;34m(\u001b[0m\u001b[0margs\u001b[0m\u001b[0;34m,\u001b[0m\u001b[0;34m)\u001b[0m\u001b[0;34m\u001b[0m\u001b[0;34m\u001b[0m\u001b[0m\n\u001b[0;32m--> 415\u001b[0;31m     \u001b[0mshape\u001b[0m\u001b[0;34m,\u001b[0m \u001b[0mdtype\u001b[0m \u001b[0;34m=\u001b[0m \u001b[0m_check_func\u001b[0m\u001b[0;34m(\u001b[0m\u001b[0;34m'leastsq'\u001b[0m\u001b[0;34m,\u001b[0m \u001b[0;34m'func'\u001b[0m\u001b[0;34m,\u001b[0m \u001b[0mfunc\u001b[0m\u001b[0;34m,\u001b[0m \u001b[0mx0\u001b[0m\u001b[0;34m,\u001b[0m \u001b[0margs\u001b[0m\u001b[0;34m,\u001b[0m \u001b[0mn\u001b[0m\u001b[0;34m)\u001b[0m\u001b[0;34m\u001b[0m\u001b[0;34m\u001b[0m\u001b[0m\n\u001b[0m\u001b[1;32m    416\u001b[0m     \u001b[0mm\u001b[0m \u001b[0;34m=\u001b[0m \u001b[0mshape\u001b[0m\u001b[0;34m[\u001b[0m\u001b[0;36m0\u001b[0m\u001b[0;34m]\u001b[0m\u001b[0;34m\u001b[0m\u001b[0;34m\u001b[0m\u001b[0m\n\u001b[1;32m    417\u001b[0m \u001b[0;34m\u001b[0m\u001b[0m\n",
            "\u001b[0;32m/usr/local/lib/python3.10/dist-packages/scipy/optimize/_minpack_py.py\u001b[0m in \u001b[0;36m_check_func\u001b[0;34m(checker, argname, thefunc, x0, args, numinputs, output_shape)\u001b[0m\n\u001b[1;32m     23\u001b[0m def _check_func(checker, argname, thefunc, x0, args, numinputs,\n\u001b[1;32m     24\u001b[0m                 output_shape=None):\n\u001b[0;32m---> 25\u001b[0;31m     \u001b[0mres\u001b[0m \u001b[0;34m=\u001b[0m \u001b[0matleast_1d\u001b[0m\u001b[0;34m(\u001b[0m\u001b[0mthefunc\u001b[0m\u001b[0;34m(\u001b[0m\u001b[0;34m*\u001b[0m\u001b[0;34m(\u001b[0m\u001b[0;34m(\u001b[0m\u001b[0mx0\u001b[0m\u001b[0;34m[\u001b[0m\u001b[0;34m:\u001b[0m\u001b[0mnuminputs\u001b[0m\u001b[0;34m]\u001b[0m\u001b[0;34m,\u001b[0m\u001b[0;34m)\u001b[0m \u001b[0;34m+\u001b[0m \u001b[0margs\u001b[0m\u001b[0;34m)\u001b[0m\u001b[0;34m)\u001b[0m\u001b[0;34m)\u001b[0m\u001b[0;34m\u001b[0m\u001b[0;34m\u001b[0m\u001b[0m\n\u001b[0m\u001b[1;32m     26\u001b[0m     \u001b[0;32mif\u001b[0m \u001b[0;34m(\u001b[0m\u001b[0moutput_shape\u001b[0m \u001b[0;32mis\u001b[0m \u001b[0;32mnot\u001b[0m \u001b[0;32mNone\u001b[0m\u001b[0;34m)\u001b[0m \u001b[0;32mand\u001b[0m \u001b[0;34m(\u001b[0m\u001b[0mshape\u001b[0m\u001b[0;34m(\u001b[0m\u001b[0mres\u001b[0m\u001b[0;34m)\u001b[0m \u001b[0;34m!=\u001b[0m \u001b[0moutput_shape\u001b[0m\u001b[0;34m)\u001b[0m\u001b[0;34m:\u001b[0m\u001b[0;34m\u001b[0m\u001b[0;34m\u001b[0m\u001b[0m\n\u001b[1;32m     27\u001b[0m         \u001b[0;32mif\u001b[0m \u001b[0;34m(\u001b[0m\u001b[0moutput_shape\u001b[0m\u001b[0;34m[\u001b[0m\u001b[0;36m0\u001b[0m\u001b[0;34m]\u001b[0m \u001b[0;34m!=\u001b[0m \u001b[0;36m1\u001b[0m\u001b[0;34m)\u001b[0m\u001b[0;34m:\u001b[0m\u001b[0;34m\u001b[0m\u001b[0;34m\u001b[0m\u001b[0m\n",
            "\u001b[0;32m/usr/local/lib/python3.10/dist-packages/scipy/optimize/_minpack_py.py\u001b[0m in \u001b[0;36m_memoized_func\u001b[0;34m(params)\u001b[0m\n\u001b[1;32m    505\u001b[0m             \u001b[0;32mreturn\u001b[0m \u001b[0m_memoized_func\u001b[0m\u001b[0;34m.\u001b[0m\u001b[0mlast_val\u001b[0m\u001b[0;34m\u001b[0m\u001b[0;34m\u001b[0m\u001b[0m\n\u001b[1;32m    506\u001b[0m \u001b[0;34m\u001b[0m\u001b[0m\n\u001b[0;32m--> 507\u001b[0;31m         \u001b[0mval\u001b[0m \u001b[0;34m=\u001b[0m \u001b[0mf\u001b[0m\u001b[0;34m(\u001b[0m\u001b[0mparams\u001b[0m\u001b[0;34m)\u001b[0m\u001b[0;34m\u001b[0m\u001b[0;34m\u001b[0m\u001b[0m\n\u001b[0m\u001b[1;32m    508\u001b[0m \u001b[0;34m\u001b[0m\u001b[0m\n\u001b[1;32m    509\u001b[0m         \u001b[0;32mif\u001b[0m \u001b[0m_memoized_func\u001b[0m\u001b[0;34m.\u001b[0m\u001b[0mlast_params\u001b[0m \u001b[0;32mis\u001b[0m \u001b[0;32mNone\u001b[0m\u001b[0;34m:\u001b[0m\u001b[0;34m\u001b[0m\u001b[0;34m\u001b[0m\u001b[0m\n",
            "\u001b[0;32m/usr/local/lib/python3.10/dist-packages/scipy/optimize/_minpack_py.py\u001b[0m in \u001b[0;36mfunc_wrapped\u001b[0;34m(params)\u001b[0m\n\u001b[1;32m    521\u001b[0m     \u001b[0;32mif\u001b[0m \u001b[0mtransform\u001b[0m \u001b[0;32mis\u001b[0m \u001b[0;32mNone\u001b[0m\u001b[0;34m:\u001b[0m\u001b[0;34m\u001b[0m\u001b[0;34m\u001b[0m\u001b[0m\n\u001b[1;32m    522\u001b[0m         \u001b[0;32mdef\u001b[0m \u001b[0mfunc_wrapped\u001b[0m\u001b[0;34m(\u001b[0m\u001b[0mparams\u001b[0m\u001b[0;34m)\u001b[0m\u001b[0;34m:\u001b[0m\u001b[0;34m\u001b[0m\u001b[0;34m\u001b[0m\u001b[0m\n\u001b[0;32m--> 523\u001b[0;31m             \u001b[0;32mreturn\u001b[0m \u001b[0mfunc\u001b[0m\u001b[0;34m(\u001b[0m\u001b[0mxdata\u001b[0m\u001b[0;34m,\u001b[0m \u001b[0;34m*\u001b[0m\u001b[0mparams\u001b[0m\u001b[0;34m)\u001b[0m \u001b[0;34m-\u001b[0m \u001b[0mydata\u001b[0m\u001b[0;34m\u001b[0m\u001b[0;34m\u001b[0m\u001b[0m\n\u001b[0m\u001b[1;32m    524\u001b[0m     \u001b[0;32melif\u001b[0m \u001b[0mtransform\u001b[0m\u001b[0;34m.\u001b[0m\u001b[0mndim\u001b[0m \u001b[0;34m==\u001b[0m \u001b[0;36m1\u001b[0m\u001b[0;34m:\u001b[0m\u001b[0;34m\u001b[0m\u001b[0;34m\u001b[0m\u001b[0m\n\u001b[1;32m    525\u001b[0m         \u001b[0;32mdef\u001b[0m \u001b[0mfunc_wrapped\u001b[0m\u001b[0;34m(\u001b[0m\u001b[0mparams\u001b[0m\u001b[0;34m)\u001b[0m\u001b[0;34m:\u001b[0m\u001b[0;34m\u001b[0m\u001b[0;34m\u001b[0m\u001b[0m\n",
            "\u001b[0;31mTypeError\u001b[0m: normal_distribution() takes 3 positional arguments but 4 were given"
          ]
        }
      ],
      "source": [
        "#Activity 11\n",
        "import scipy\n",
        "normalized = scipy.optimize.curve_fit(normal_distribution, random_hist.axes[0].centers, random_hist.values(), p0=[1,0,1])\n",
        "print(normalized)\n",
        "\n",
        "#random hist works, but theres 4 paramters instead of 3, the code (that -i totally didnt steal from the solutions) appears to have 3 parameters so\n",
        "#this doesnt make sense..\n",
        "\n",
        "\n",
        "\n"
      ]
    },
    {
      "cell_type": "markdown",
      "id": "e850b711",
      "metadata": {
        "id": "e850b711"
      },
      "source": [
        "_______________________________________________"
      ]
    },
    {
      "cell_type": "markdown",
      "id": "2294432e",
      "metadata": {
        "id": "2294432e"
      },
      "source": [
        "# Pandas"
      ]
    },
    {
      "cell_type": "markdown",
      "id": "a96d201e",
      "metadata": {
        "id": "a96d201e"
      },
      "source": [
        "Lastly, we will take a look at the Python package `Pandas`. `Pandas` is a package for manipulating dataframes, which are more organized \"structures\" or \"tables\" of data that can easily be edited.\n",
        "\n",
        "`Pandas` hosts two main object types for holding data, the series and the dataframe. Most commonly, a dataframe will be used, which serves as an organized matrix of data with column and row titles, reflecting how someone may input data into an Excel spreadsheet. Let's generate a dataframe for us to use using `Pandas`. `Pandas` dataframes can use a combination of string and float entry values. Recall we imported `Pandas` as \"pd.\""
      ]
    },
    {
      "cell_type": "code",
      "execution_count": 22,
      "id": "37ab7215",
      "metadata": {
        "id": "37ab7215",
        "outputId": "13e6f951-f971-4a01-9a73-ee8d57bc199e",
        "colab": {
          "base_uri": "https://localhost:8080/"
        }
      },
      "outputs": [
        {
          "output_type": "stream",
          "name": "stdout",
          "text": [
            "  Experiment Name          Experiment Type  Fiducial Volume (Tonnes)  \\\n",
            "0         XENONnT         Liquid Xenon TPC                   7.00000   \n",
            "1              LZ         Liquid Xenon TPC                   6.00000   \n",
            "2             LUX         Liquid Xenon TPC                   0.37000   \n",
            "3       PandaX-II         Liquid Xenon TPC                   0.50000   \n",
            "4      CRESST-III  Cryogenic Scintillators                   0.00002   \n",
            "\n",
            "   Unnamed Random Statistic Detected Darkmatter?  \n",
            "0                    0.3350                   No  \n",
            "1                    0.1345                   No  \n",
            "2                    0.4420                   No  \n",
            "3                    0.4620                   No  \n",
            "4                    0.8590                   No  \n"
          ]
        }
      ],
      "source": [
        "#Let's create some data that needs organized\n",
        "experiment_names = [\"XENONnT\", \"LZ\", \"LUX\", \"PandaX-II\", \"CRESST-III\"]\n",
        "experiment_type = [\"Liquid Xenon TPC\", \"Liquid Xenon TPC\", \"Liquid Xenon TPC\", \"Liquid Xenon TPC\", \"Cryogenic Scintillators\"]\n",
        "fiducial_volume_tonnes = [7, 6, 0.37, 0.5, 0.00002]\n",
        "random_other_statistic = [0.335, 0.1345, 0.442, 0.462, 0.859]\n",
        "detected_darkmatter = [\"No\", \"No\", \"No\", \"No\", \"No\"]\n",
        "\n",
        "#Constructing the dataframe\n",
        "dark_matter_data = pd.DataFrame({\"Experiment Name\": experiment_names, \"Experiment Type\": experiment_type, \"Fiducial Volume (Tonnes)\": fiducial_volume_tonnes, \"Unnamed Random Statistic\": random_other_statistic, \"Detected Darkmatter?\": detected_darkmatter})\n",
        "\n",
        "#Let's view our dataframe.\n",
        "print(dark_matter_data)"
      ]
    },
    {
      "cell_type": "markdown",
      "id": "fd54aa75",
      "metadata": {
        "id": "fd54aa75"
      },
      "source": [
        "When a `Pandas` dataframe is printed, it will contain a somewhat unorganized display of all columns and their contents. Let's say our dataframe is HUGE. That is, maybe it has several hundred rows and we just want to view the first few or last few rows to get a sense of the data contained inside. To do this, we use the `.head()` and `.tail()` function. Additionally, `Pandas` will format the data into a much more readable display."
      ]
    },
    {
      "cell_type": "code",
      "execution_count": 23,
      "id": "b2723166",
      "metadata": {
        "id": "b2723166",
        "outputId": "f25cb430-4cfd-4e10-97ce-9e980f2331d2",
        "colab": {
          "base_uri": "https://localhost:8080/",
          "height": 164
        }
      },
      "outputs": [
        {
          "output_type": "execute_result",
          "data": {
            "text/plain": [
              "  Experiment Name   Experiment Type  Fiducial Volume (Tonnes)  \\\n",
              "0         XENONnT  Liquid Xenon TPC                       7.0   \n",
              "1              LZ  Liquid Xenon TPC                       6.0   \n",
              "\n",
              "   Unnamed Random Statistic Detected Darkmatter?  \n",
              "0                    0.3350                   No  \n",
              "1                    0.1345                   No  "
            ],
            "text/html": [
              "\n",
              "  <div id=\"df-dbd282dd-0804-4bff-9ce7-2dab5ca361d9\" class=\"colab-df-container\">\n",
              "    <div>\n",
              "<style scoped>\n",
              "    .dataframe tbody tr th:only-of-type {\n",
              "        vertical-align: middle;\n",
              "    }\n",
              "\n",
              "    .dataframe tbody tr th {\n",
              "        vertical-align: top;\n",
              "    }\n",
              "\n",
              "    .dataframe thead th {\n",
              "        text-align: right;\n",
              "    }\n",
              "</style>\n",
              "<table border=\"1\" class=\"dataframe\">\n",
              "  <thead>\n",
              "    <tr style=\"text-align: right;\">\n",
              "      <th></th>\n",
              "      <th>Experiment Name</th>\n",
              "      <th>Experiment Type</th>\n",
              "      <th>Fiducial Volume (Tonnes)</th>\n",
              "      <th>Unnamed Random Statistic</th>\n",
              "      <th>Detected Darkmatter?</th>\n",
              "    </tr>\n",
              "  </thead>\n",
              "  <tbody>\n",
              "    <tr>\n",
              "      <th>0</th>\n",
              "      <td>XENONnT</td>\n",
              "      <td>Liquid Xenon TPC</td>\n",
              "      <td>7.0</td>\n",
              "      <td>0.3350</td>\n",
              "      <td>No</td>\n",
              "    </tr>\n",
              "    <tr>\n",
              "      <th>1</th>\n",
              "      <td>LZ</td>\n",
              "      <td>Liquid Xenon TPC</td>\n",
              "      <td>6.0</td>\n",
              "      <td>0.1345</td>\n",
              "      <td>No</td>\n",
              "    </tr>\n",
              "  </tbody>\n",
              "</table>\n",
              "</div>\n",
              "    <div class=\"colab-df-buttons\">\n",
              "\n",
              "  <div class=\"colab-df-container\">\n",
              "    <button class=\"colab-df-convert\" onclick=\"convertToInteractive('df-dbd282dd-0804-4bff-9ce7-2dab5ca361d9')\"\n",
              "            title=\"Convert this dataframe to an interactive table.\"\n",
              "            style=\"display:none;\">\n",
              "\n",
              "  <svg xmlns=\"http://www.w3.org/2000/svg\" height=\"24px\" viewBox=\"0 -960 960 960\">\n",
              "    <path d=\"M120-120v-720h720v720H120Zm60-500h600v-160H180v160Zm220 220h160v-160H400v160Zm0 220h160v-160H400v160ZM180-400h160v-160H180v160Zm440 0h160v-160H620v160ZM180-180h160v-160H180v160Zm440 0h160v-160H620v160Z\"/>\n",
              "  </svg>\n",
              "    </button>\n",
              "\n",
              "  <style>\n",
              "    .colab-df-container {\n",
              "      display:flex;\n",
              "      gap: 12px;\n",
              "    }\n",
              "\n",
              "    .colab-df-convert {\n",
              "      background-color: #E8F0FE;\n",
              "      border: none;\n",
              "      border-radius: 50%;\n",
              "      cursor: pointer;\n",
              "      display: none;\n",
              "      fill: #1967D2;\n",
              "      height: 32px;\n",
              "      padding: 0 0 0 0;\n",
              "      width: 32px;\n",
              "    }\n",
              "\n",
              "    .colab-df-convert:hover {\n",
              "      background-color: #E2EBFA;\n",
              "      box-shadow: 0px 1px 2px rgba(60, 64, 67, 0.3), 0px 1px 3px 1px rgba(60, 64, 67, 0.15);\n",
              "      fill: #174EA6;\n",
              "    }\n",
              "\n",
              "    .colab-df-buttons div {\n",
              "      margin-bottom: 4px;\n",
              "    }\n",
              "\n",
              "    [theme=dark] .colab-df-convert {\n",
              "      background-color: #3B4455;\n",
              "      fill: #D2E3FC;\n",
              "    }\n",
              "\n",
              "    [theme=dark] .colab-df-convert:hover {\n",
              "      background-color: #434B5C;\n",
              "      box-shadow: 0px 1px 3px 1px rgba(0, 0, 0, 0.15);\n",
              "      filter: drop-shadow(0px 1px 2px rgba(0, 0, 0, 0.3));\n",
              "      fill: #FFFFFF;\n",
              "    }\n",
              "  </style>\n",
              "\n",
              "    <script>\n",
              "      const buttonEl =\n",
              "        document.querySelector('#df-dbd282dd-0804-4bff-9ce7-2dab5ca361d9 button.colab-df-convert');\n",
              "      buttonEl.style.display =\n",
              "        google.colab.kernel.accessAllowed ? 'block' : 'none';\n",
              "\n",
              "      async function convertToInteractive(key) {\n",
              "        const element = document.querySelector('#df-dbd282dd-0804-4bff-9ce7-2dab5ca361d9');\n",
              "        const dataTable =\n",
              "          await google.colab.kernel.invokeFunction('convertToInteractive',\n",
              "                                                    [key], {});\n",
              "        if (!dataTable) return;\n",
              "\n",
              "        const docLinkHtml = 'Like what you see? Visit the ' +\n",
              "          '<a target=\"_blank\" href=https://colab.research.google.com/notebooks/data_table.ipynb>data table notebook</a>'\n",
              "          + ' to learn more about interactive tables.';\n",
              "        element.innerHTML = '';\n",
              "        dataTable['output_type'] = 'display_data';\n",
              "        await google.colab.output.renderOutput(dataTable, element);\n",
              "        const docLink = document.createElement('div');\n",
              "        docLink.innerHTML = docLinkHtml;\n",
              "        element.appendChild(docLink);\n",
              "      }\n",
              "    </script>\n",
              "  </div>\n",
              "\n",
              "\n",
              "<div id=\"df-0673ce24-58bd-456d-b6a9-201cbf09452a\">\n",
              "  <button class=\"colab-df-quickchart\" onclick=\"quickchart('df-0673ce24-58bd-456d-b6a9-201cbf09452a')\"\n",
              "            title=\"Suggest charts\"\n",
              "            style=\"display:none;\">\n",
              "\n",
              "<svg xmlns=\"http://www.w3.org/2000/svg\" height=\"24px\"viewBox=\"0 0 24 24\"\n",
              "     width=\"24px\">\n",
              "    <g>\n",
              "        <path d=\"M19 3H5c-1.1 0-2 .9-2 2v14c0 1.1.9 2 2 2h14c1.1 0 2-.9 2-2V5c0-1.1-.9-2-2-2zM9 17H7v-7h2v7zm4 0h-2V7h2v10zm4 0h-2v-4h2v4z\"/>\n",
              "    </g>\n",
              "</svg>\n",
              "  </button>\n",
              "\n",
              "<style>\n",
              "  .colab-df-quickchart {\n",
              "      --bg-color: #E8F0FE;\n",
              "      --fill-color: #1967D2;\n",
              "      --hover-bg-color: #E2EBFA;\n",
              "      --hover-fill-color: #174EA6;\n",
              "      --disabled-fill-color: #AAA;\n",
              "      --disabled-bg-color: #DDD;\n",
              "  }\n",
              "\n",
              "  [theme=dark] .colab-df-quickchart {\n",
              "      --bg-color: #3B4455;\n",
              "      --fill-color: #D2E3FC;\n",
              "      --hover-bg-color: #434B5C;\n",
              "      --hover-fill-color: #FFFFFF;\n",
              "      --disabled-bg-color: #3B4455;\n",
              "      --disabled-fill-color: #666;\n",
              "  }\n",
              "\n",
              "  .colab-df-quickchart {\n",
              "    background-color: var(--bg-color);\n",
              "    border: none;\n",
              "    border-radius: 50%;\n",
              "    cursor: pointer;\n",
              "    display: none;\n",
              "    fill: var(--fill-color);\n",
              "    height: 32px;\n",
              "    padding: 0;\n",
              "    width: 32px;\n",
              "  }\n",
              "\n",
              "  .colab-df-quickchart:hover {\n",
              "    background-color: var(--hover-bg-color);\n",
              "    box-shadow: 0 1px 2px rgba(60, 64, 67, 0.3), 0 1px 3px 1px rgba(60, 64, 67, 0.15);\n",
              "    fill: var(--button-hover-fill-color);\n",
              "  }\n",
              "\n",
              "  .colab-df-quickchart-complete:disabled,\n",
              "  .colab-df-quickchart-complete:disabled:hover {\n",
              "    background-color: var(--disabled-bg-color);\n",
              "    fill: var(--disabled-fill-color);\n",
              "    box-shadow: none;\n",
              "  }\n",
              "\n",
              "  .colab-df-spinner {\n",
              "    border: 2px solid var(--fill-color);\n",
              "    border-color: transparent;\n",
              "    border-bottom-color: var(--fill-color);\n",
              "    animation:\n",
              "      spin 1s steps(1) infinite;\n",
              "  }\n",
              "\n",
              "  @keyframes spin {\n",
              "    0% {\n",
              "      border-color: transparent;\n",
              "      border-bottom-color: var(--fill-color);\n",
              "      border-left-color: var(--fill-color);\n",
              "    }\n",
              "    20% {\n",
              "      border-color: transparent;\n",
              "      border-left-color: var(--fill-color);\n",
              "      border-top-color: var(--fill-color);\n",
              "    }\n",
              "    30% {\n",
              "      border-color: transparent;\n",
              "      border-left-color: var(--fill-color);\n",
              "      border-top-color: var(--fill-color);\n",
              "      border-right-color: var(--fill-color);\n",
              "    }\n",
              "    40% {\n",
              "      border-color: transparent;\n",
              "      border-right-color: var(--fill-color);\n",
              "      border-top-color: var(--fill-color);\n",
              "    }\n",
              "    60% {\n",
              "      border-color: transparent;\n",
              "      border-right-color: var(--fill-color);\n",
              "    }\n",
              "    80% {\n",
              "      border-color: transparent;\n",
              "      border-right-color: var(--fill-color);\n",
              "      border-bottom-color: var(--fill-color);\n",
              "    }\n",
              "    90% {\n",
              "      border-color: transparent;\n",
              "      border-bottom-color: var(--fill-color);\n",
              "    }\n",
              "  }\n",
              "</style>\n",
              "\n",
              "  <script>\n",
              "    async function quickchart(key) {\n",
              "      const quickchartButtonEl =\n",
              "        document.querySelector('#' + key + ' button');\n",
              "      quickchartButtonEl.disabled = true;  // To prevent multiple clicks.\n",
              "      quickchartButtonEl.classList.add('colab-df-spinner');\n",
              "      try {\n",
              "        const charts = await google.colab.kernel.invokeFunction(\n",
              "            'suggestCharts', [key], {});\n",
              "      } catch (error) {\n",
              "        console.error('Error during call to suggestCharts:', error);\n",
              "      }\n",
              "      quickchartButtonEl.classList.remove('colab-df-spinner');\n",
              "      quickchartButtonEl.classList.add('colab-df-quickchart-complete');\n",
              "    }\n",
              "    (() => {\n",
              "      let quickchartButtonEl =\n",
              "        document.querySelector('#df-0673ce24-58bd-456d-b6a9-201cbf09452a button');\n",
              "      quickchartButtonEl.style.display =\n",
              "        google.colab.kernel.accessAllowed ? 'block' : 'none';\n",
              "    })();\n",
              "  </script>\n",
              "</div>\n",
              "\n",
              "    </div>\n",
              "  </div>\n"
            ],
            "application/vnd.google.colaboratory.intrinsic+json": {
              "type": "dataframe",
              "variable_name": "dark_matter_data",
              "summary": "{\n  \"name\": \"dark_matter_data\",\n  \"rows\": 5,\n  \"fields\": [\n    {\n      \"column\": \"Experiment Name\",\n      \"properties\": {\n        \"dtype\": \"string\",\n        \"num_unique_values\": 5,\n        \"samples\": [\n          \"LZ\",\n          \"CRESST-III\",\n          \"LUX\"\n        ],\n        \"semantic_type\": \"\",\n        \"description\": \"\"\n      }\n    },\n    {\n      \"column\": \"Experiment Type\",\n      \"properties\": {\n        \"dtype\": \"category\",\n        \"num_unique_values\": 2,\n        \"samples\": [\n          \"Cryogenic Scintillators\",\n          \"Liquid Xenon TPC\"\n        ],\n        \"semantic_type\": \"\",\n        \"description\": \"\"\n      }\n    },\n    {\n      \"column\": \"Fiducial Volume (Tonnes)\",\n      \"properties\": {\n        \"dtype\": \"number\",\n        \"std\": 3.424595196527613,\n        \"min\": 2e-05,\n        \"max\": 7.0,\n        \"num_unique_values\": 5,\n        \"samples\": [\n          6.0,\n          2e-05\n        ],\n        \"semantic_type\": \"\",\n        \"description\": \"\"\n      }\n    },\n    {\n      \"column\": \"Unnamed Random Statistic\",\n      \"properties\": {\n        \"dtype\": \"number\",\n        \"std\": 0.2646662993280406,\n        \"min\": 0.1345,\n        \"max\": 0.859,\n        \"num_unique_values\": 5,\n        \"samples\": [\n          0.1345,\n          0.859\n        ],\n        \"semantic_type\": \"\",\n        \"description\": \"\"\n      }\n    },\n    {\n      \"column\": \"Detected Darkmatter?\",\n      \"properties\": {\n        \"dtype\": \"category\",\n        \"num_unique_values\": 1,\n        \"samples\": [\n          \"No\"\n        ],\n        \"semantic_type\": \"\",\n        \"description\": \"\"\n      }\n    }\n  ]\n}"
            }
          },
          "metadata": {},
          "execution_count": 23
        }
      ],
      "source": [
        "dark_matter_data.head(2) #Prints the first two ROWS of data."
      ]
    },
    {
      "cell_type": "code",
      "execution_count": null,
      "id": "6fd60305",
      "metadata": {
        "id": "6fd60305",
        "outputId": "ecc0146f-1f0f-4efd-b6f7-620a78682124"
      },
      "outputs": [
        {
          "data": {
            "text/html": [
              "<div>\n",
              "<style scoped>\n",
              "    .dataframe tbody tr th:only-of-type {\n",
              "        vertical-align: middle;\n",
              "    }\n",
              "\n",
              "    .dataframe tbody tr th {\n",
              "        vertical-align: top;\n",
              "    }\n",
              "\n",
              "    .dataframe thead th {\n",
              "        text-align: right;\n",
              "    }\n",
              "</style>\n",
              "<table border=\"1\" class=\"dataframe\">\n",
              "  <thead>\n",
              "    <tr style=\"text-align: right;\">\n",
              "      <th></th>\n",
              "      <th>Experiment Name</th>\n",
              "      <th>Experiment Type</th>\n",
              "      <th>Fiducial Volume (Tonnes)</th>\n",
              "      <th>Unnamed Random Statistic</th>\n",
              "      <th>Detected Darkmatter?</th>\n",
              "    </tr>\n",
              "  </thead>\n",
              "  <tbody>\n",
              "    <tr>\n",
              "      <th>3</th>\n",
              "      <td>PandaX-II</td>\n",
              "      <td>Liquid Xenon TPC</td>\n",
              "      <td>0.50000</td>\n",
              "      <td>0.462</td>\n",
              "      <td>No</td>\n",
              "    </tr>\n",
              "    <tr>\n",
              "      <th>4</th>\n",
              "      <td>CRESST-III</td>\n",
              "      <td>Cryogenic Scintillators</td>\n",
              "      <td>0.00002</td>\n",
              "      <td>0.859</td>\n",
              "      <td>No</td>\n",
              "    </tr>\n",
              "  </tbody>\n",
              "</table>\n",
              "</div>"
            ],
            "text/plain": [
              "  Experiment Name          Experiment Type  Fiducial Volume (Tonnes)  \\\n",
              "3       PandaX-II         Liquid Xenon TPC                   0.50000   \n",
              "4      CRESST-III  Cryogenic Scintillators                   0.00002   \n",
              "\n",
              "   Unnamed Random Statistic Detected Darkmatter?  \n",
              "3                     0.462                   No  \n",
              "4                     0.859                   No  "
            ]
          },
          "execution_count": 42,
          "metadata": {},
          "output_type": "execute_result"
        }
      ],
      "source": [
        "dark_matter_data.tail(2) #Prints the last two rows of data."
      ]
    },
    {
      "cell_type": "markdown",
      "id": "b6430e25",
      "metadata": {
        "id": "b6430e25"
      },
      "source": [
        "Using `.describe()` prints a statistical summary of the data in your dataframe."
      ]
    },
    {
      "cell_type": "code",
      "execution_count": 24,
      "id": "02ec1402",
      "metadata": {
        "id": "02ec1402",
        "outputId": "eb2eb7dd-df15-4edc-f22c-2a436ec0a572",
        "colab": {
          "base_uri": "https://localhost:8080/",
          "height": 300
        }
      },
      "outputs": [
        {
          "output_type": "execute_result",
          "data": {
            "text/plain": [
              "       Fiducial Volume (Tonnes)  Unnamed Random Statistic\n",
              "count                  5.000000                  5.000000\n",
              "mean                   2.774004                  0.446500\n",
              "std                    3.424595                  0.264666\n",
              "min                    0.000020                  0.134500\n",
              "25%                    0.370000                  0.335000\n",
              "50%                    0.500000                  0.442000\n",
              "75%                    6.000000                  0.462000\n",
              "max                    7.000000                  0.859000"
            ],
            "text/html": [
              "\n",
              "  <div id=\"df-13825ffc-c6db-426e-8e05-2c57c216ea9e\" class=\"colab-df-container\">\n",
              "    <div>\n",
              "<style scoped>\n",
              "    .dataframe tbody tr th:only-of-type {\n",
              "        vertical-align: middle;\n",
              "    }\n",
              "\n",
              "    .dataframe tbody tr th {\n",
              "        vertical-align: top;\n",
              "    }\n",
              "\n",
              "    .dataframe thead th {\n",
              "        text-align: right;\n",
              "    }\n",
              "</style>\n",
              "<table border=\"1\" class=\"dataframe\">\n",
              "  <thead>\n",
              "    <tr style=\"text-align: right;\">\n",
              "      <th></th>\n",
              "      <th>Fiducial Volume (Tonnes)</th>\n",
              "      <th>Unnamed Random Statistic</th>\n",
              "    </tr>\n",
              "  </thead>\n",
              "  <tbody>\n",
              "    <tr>\n",
              "      <th>count</th>\n",
              "      <td>5.000000</td>\n",
              "      <td>5.000000</td>\n",
              "    </tr>\n",
              "    <tr>\n",
              "      <th>mean</th>\n",
              "      <td>2.774004</td>\n",
              "      <td>0.446500</td>\n",
              "    </tr>\n",
              "    <tr>\n",
              "      <th>std</th>\n",
              "      <td>3.424595</td>\n",
              "      <td>0.264666</td>\n",
              "    </tr>\n",
              "    <tr>\n",
              "      <th>min</th>\n",
              "      <td>0.000020</td>\n",
              "      <td>0.134500</td>\n",
              "    </tr>\n",
              "    <tr>\n",
              "      <th>25%</th>\n",
              "      <td>0.370000</td>\n",
              "      <td>0.335000</td>\n",
              "    </tr>\n",
              "    <tr>\n",
              "      <th>50%</th>\n",
              "      <td>0.500000</td>\n",
              "      <td>0.442000</td>\n",
              "    </tr>\n",
              "    <tr>\n",
              "      <th>75%</th>\n",
              "      <td>6.000000</td>\n",
              "      <td>0.462000</td>\n",
              "    </tr>\n",
              "    <tr>\n",
              "      <th>max</th>\n",
              "      <td>7.000000</td>\n",
              "      <td>0.859000</td>\n",
              "    </tr>\n",
              "  </tbody>\n",
              "</table>\n",
              "</div>\n",
              "    <div class=\"colab-df-buttons\">\n",
              "\n",
              "  <div class=\"colab-df-container\">\n",
              "    <button class=\"colab-df-convert\" onclick=\"convertToInteractive('df-13825ffc-c6db-426e-8e05-2c57c216ea9e')\"\n",
              "            title=\"Convert this dataframe to an interactive table.\"\n",
              "            style=\"display:none;\">\n",
              "\n",
              "  <svg xmlns=\"http://www.w3.org/2000/svg\" height=\"24px\" viewBox=\"0 -960 960 960\">\n",
              "    <path d=\"M120-120v-720h720v720H120Zm60-500h600v-160H180v160Zm220 220h160v-160H400v160Zm0 220h160v-160H400v160ZM180-400h160v-160H180v160Zm440 0h160v-160H620v160ZM180-180h160v-160H180v160Zm440 0h160v-160H620v160Z\"/>\n",
              "  </svg>\n",
              "    </button>\n",
              "\n",
              "  <style>\n",
              "    .colab-df-container {\n",
              "      display:flex;\n",
              "      gap: 12px;\n",
              "    }\n",
              "\n",
              "    .colab-df-convert {\n",
              "      background-color: #E8F0FE;\n",
              "      border: none;\n",
              "      border-radius: 50%;\n",
              "      cursor: pointer;\n",
              "      display: none;\n",
              "      fill: #1967D2;\n",
              "      height: 32px;\n",
              "      padding: 0 0 0 0;\n",
              "      width: 32px;\n",
              "    }\n",
              "\n",
              "    .colab-df-convert:hover {\n",
              "      background-color: #E2EBFA;\n",
              "      box-shadow: 0px 1px 2px rgba(60, 64, 67, 0.3), 0px 1px 3px 1px rgba(60, 64, 67, 0.15);\n",
              "      fill: #174EA6;\n",
              "    }\n",
              "\n",
              "    .colab-df-buttons div {\n",
              "      margin-bottom: 4px;\n",
              "    }\n",
              "\n",
              "    [theme=dark] .colab-df-convert {\n",
              "      background-color: #3B4455;\n",
              "      fill: #D2E3FC;\n",
              "    }\n",
              "\n",
              "    [theme=dark] .colab-df-convert:hover {\n",
              "      background-color: #434B5C;\n",
              "      box-shadow: 0px 1px 3px 1px rgba(0, 0, 0, 0.15);\n",
              "      filter: drop-shadow(0px 1px 2px rgba(0, 0, 0, 0.3));\n",
              "      fill: #FFFFFF;\n",
              "    }\n",
              "  </style>\n",
              "\n",
              "    <script>\n",
              "      const buttonEl =\n",
              "        document.querySelector('#df-13825ffc-c6db-426e-8e05-2c57c216ea9e button.colab-df-convert');\n",
              "      buttonEl.style.display =\n",
              "        google.colab.kernel.accessAllowed ? 'block' : 'none';\n",
              "\n",
              "      async function convertToInteractive(key) {\n",
              "        const element = document.querySelector('#df-13825ffc-c6db-426e-8e05-2c57c216ea9e');\n",
              "        const dataTable =\n",
              "          await google.colab.kernel.invokeFunction('convertToInteractive',\n",
              "                                                    [key], {});\n",
              "        if (!dataTable) return;\n",
              "\n",
              "        const docLinkHtml = 'Like what you see? Visit the ' +\n",
              "          '<a target=\"_blank\" href=https://colab.research.google.com/notebooks/data_table.ipynb>data table notebook</a>'\n",
              "          + ' to learn more about interactive tables.';\n",
              "        element.innerHTML = '';\n",
              "        dataTable['output_type'] = 'display_data';\n",
              "        await google.colab.output.renderOutput(dataTable, element);\n",
              "        const docLink = document.createElement('div');\n",
              "        docLink.innerHTML = docLinkHtml;\n",
              "        element.appendChild(docLink);\n",
              "      }\n",
              "    </script>\n",
              "  </div>\n",
              "\n",
              "\n",
              "<div id=\"df-c0143f0b-dd9a-44b3-9e73-9756dfbec535\">\n",
              "  <button class=\"colab-df-quickchart\" onclick=\"quickchart('df-c0143f0b-dd9a-44b3-9e73-9756dfbec535')\"\n",
              "            title=\"Suggest charts\"\n",
              "            style=\"display:none;\">\n",
              "\n",
              "<svg xmlns=\"http://www.w3.org/2000/svg\" height=\"24px\"viewBox=\"0 0 24 24\"\n",
              "     width=\"24px\">\n",
              "    <g>\n",
              "        <path d=\"M19 3H5c-1.1 0-2 .9-2 2v14c0 1.1.9 2 2 2h14c1.1 0 2-.9 2-2V5c0-1.1-.9-2-2-2zM9 17H7v-7h2v7zm4 0h-2V7h2v10zm4 0h-2v-4h2v4z\"/>\n",
              "    </g>\n",
              "</svg>\n",
              "  </button>\n",
              "\n",
              "<style>\n",
              "  .colab-df-quickchart {\n",
              "      --bg-color: #E8F0FE;\n",
              "      --fill-color: #1967D2;\n",
              "      --hover-bg-color: #E2EBFA;\n",
              "      --hover-fill-color: #174EA6;\n",
              "      --disabled-fill-color: #AAA;\n",
              "      --disabled-bg-color: #DDD;\n",
              "  }\n",
              "\n",
              "  [theme=dark] .colab-df-quickchart {\n",
              "      --bg-color: #3B4455;\n",
              "      --fill-color: #D2E3FC;\n",
              "      --hover-bg-color: #434B5C;\n",
              "      --hover-fill-color: #FFFFFF;\n",
              "      --disabled-bg-color: #3B4455;\n",
              "      --disabled-fill-color: #666;\n",
              "  }\n",
              "\n",
              "  .colab-df-quickchart {\n",
              "    background-color: var(--bg-color);\n",
              "    border: none;\n",
              "    border-radius: 50%;\n",
              "    cursor: pointer;\n",
              "    display: none;\n",
              "    fill: var(--fill-color);\n",
              "    height: 32px;\n",
              "    padding: 0;\n",
              "    width: 32px;\n",
              "  }\n",
              "\n",
              "  .colab-df-quickchart:hover {\n",
              "    background-color: var(--hover-bg-color);\n",
              "    box-shadow: 0 1px 2px rgba(60, 64, 67, 0.3), 0 1px 3px 1px rgba(60, 64, 67, 0.15);\n",
              "    fill: var(--button-hover-fill-color);\n",
              "  }\n",
              "\n",
              "  .colab-df-quickchart-complete:disabled,\n",
              "  .colab-df-quickchart-complete:disabled:hover {\n",
              "    background-color: var(--disabled-bg-color);\n",
              "    fill: var(--disabled-fill-color);\n",
              "    box-shadow: none;\n",
              "  }\n",
              "\n",
              "  .colab-df-spinner {\n",
              "    border: 2px solid var(--fill-color);\n",
              "    border-color: transparent;\n",
              "    border-bottom-color: var(--fill-color);\n",
              "    animation:\n",
              "      spin 1s steps(1) infinite;\n",
              "  }\n",
              "\n",
              "  @keyframes spin {\n",
              "    0% {\n",
              "      border-color: transparent;\n",
              "      border-bottom-color: var(--fill-color);\n",
              "      border-left-color: var(--fill-color);\n",
              "    }\n",
              "    20% {\n",
              "      border-color: transparent;\n",
              "      border-left-color: var(--fill-color);\n",
              "      border-top-color: var(--fill-color);\n",
              "    }\n",
              "    30% {\n",
              "      border-color: transparent;\n",
              "      border-left-color: var(--fill-color);\n",
              "      border-top-color: var(--fill-color);\n",
              "      border-right-color: var(--fill-color);\n",
              "    }\n",
              "    40% {\n",
              "      border-color: transparent;\n",
              "      border-right-color: var(--fill-color);\n",
              "      border-top-color: var(--fill-color);\n",
              "    }\n",
              "    60% {\n",
              "      border-color: transparent;\n",
              "      border-right-color: var(--fill-color);\n",
              "    }\n",
              "    80% {\n",
              "      border-color: transparent;\n",
              "      border-right-color: var(--fill-color);\n",
              "      border-bottom-color: var(--fill-color);\n",
              "    }\n",
              "    90% {\n",
              "      border-color: transparent;\n",
              "      border-bottom-color: var(--fill-color);\n",
              "    }\n",
              "  }\n",
              "</style>\n",
              "\n",
              "  <script>\n",
              "    async function quickchart(key) {\n",
              "      const quickchartButtonEl =\n",
              "        document.querySelector('#' + key + ' button');\n",
              "      quickchartButtonEl.disabled = true;  // To prevent multiple clicks.\n",
              "      quickchartButtonEl.classList.add('colab-df-spinner');\n",
              "      try {\n",
              "        const charts = await google.colab.kernel.invokeFunction(\n",
              "            'suggestCharts', [key], {});\n",
              "      } catch (error) {\n",
              "        console.error('Error during call to suggestCharts:', error);\n",
              "      }\n",
              "      quickchartButtonEl.classList.remove('colab-df-spinner');\n",
              "      quickchartButtonEl.classList.add('colab-df-quickchart-complete');\n",
              "    }\n",
              "    (() => {\n",
              "      let quickchartButtonEl =\n",
              "        document.querySelector('#df-c0143f0b-dd9a-44b3-9e73-9756dfbec535 button');\n",
              "      quickchartButtonEl.style.display =\n",
              "        google.colab.kernel.accessAllowed ? 'block' : 'none';\n",
              "    })();\n",
              "  </script>\n",
              "</div>\n",
              "\n",
              "    </div>\n",
              "  </div>\n"
            ],
            "application/vnd.google.colaboratory.intrinsic+json": {
              "type": "dataframe",
              "summary": "{\n  \"name\": \"dark_matter_data\",\n  \"rows\": 8,\n  \"fields\": [\n    {\n      \"column\": \"Fiducial Volume (Tonnes)\",\n      \"properties\": {\n        \"dtype\": \"number\",\n        \"std\": 2.7059561790331004,\n        \"min\": 2e-05,\n        \"max\": 7.0,\n        \"num_unique_values\": 8,\n        \"samples\": [\n          2.7740039999999997,\n          0.5,\n          5.0\n        ],\n        \"semantic_type\": \"\",\n        \"description\": \"\"\n      }\n    },\n    {\n      \"column\": \"Unnamed Random Statistic\",\n      \"properties\": {\n        \"dtype\": \"number\",\n        \"std\": 1.6326440197078653,\n        \"min\": 0.1345,\n        \"max\": 5.0,\n        \"num_unique_values\": 8,\n        \"samples\": [\n          0.4465,\n          0.442,\n          5.0\n        ],\n        \"semantic_type\": \"\",\n        \"description\": \"\"\n      }\n    }\n  ]\n}"
            }
          },
          "metadata": {},
          "execution_count": 24
        }
      ],
      "source": [
        "dark_matter_data.describe()"
      ]
    },
    {
      "cell_type": "markdown",
      "id": "befe3fc7",
      "metadata": {
        "id": "befe3fc7"
      },
      "source": [
        "Let's say we imported a dataframe and need to check how large it is. There are two ways to do this. One way, using the `np.size()` function, prints the number of elements in the dataframe. Then, the `np.shape()` function returns the dimensions, in (row,column) format, of the dataframe. Let's try it. As you can tell from the format, these are actually `NumPy` functions that we are applying to `Pandas` dataframe."
      ]
    },
    {
      "cell_type": "code",
      "execution_count": 25,
      "id": "ba712fd7",
      "metadata": {
        "id": "ba712fd7",
        "outputId": "b836e046-4489-4627-b1de-0200e71d7b33",
        "colab": {
          "base_uri": "https://localhost:8080/"
        }
      },
      "outputs": [
        {
          "output_type": "execute_result",
          "data": {
            "text/plain": [
              "25"
            ]
          },
          "metadata": {},
          "execution_count": 25
        }
      ],
      "source": [
        "np.size(dark_matter_data)"
      ]
    },
    {
      "cell_type": "code",
      "execution_count": 26,
      "id": "28915b77",
      "metadata": {
        "id": "28915b77",
        "outputId": "a712c342-d753-46f6-b3f3-d3d78db691a4",
        "colab": {
          "base_uri": "https://localhost:8080/"
        }
      },
      "outputs": [
        {
          "output_type": "execute_result",
          "data": {
            "text/plain": [
              "(5, 5)"
            ]
          },
          "metadata": {},
          "execution_count": 26
        }
      ],
      "source": [
        "np.shape(dark_matter_data)"
      ]
    },
    {
      "cell_type": "markdown",
      "id": "46005c53",
      "metadata": {
        "id": "46005c53"
      },
      "source": [
        "### $\\color{orange}{\\text{Activity 12: Working with Dataframes}}$"
      ]
    },
    {
      "cell_type": "markdown",
      "id": "9e35c6c3",
      "metadata": {
        "id": "9e35c6c3"
      },
      "source": [
        "You will need to reference documentation for this problem: https://pandas.pydata.org/docs/user_guide/10min.html\n",
        "\n",
        "You need to generate a `Pandas` dataframe containing some data you collected in the lab. This dataframe should have 5 columns and 7 rows. Construct a dataframe, containing a combination of floating-point data and strings, that describe a fictional experiment of your own design (i.e. the data can be random). Then:\n",
        "\n",
        "**1.** Print the size and shape of the dataframe. Print a list of statistics for the floating-point values in your dataframe.\n",
        "\n",
        "**2.** Oops! You made a systematic error in taking three of your datapoints. Use indexing to replace 3 elements of data, at random, with a `NaN`. What does `NaN` represent?\n",
        "\n",
        "**3.** Use the `concat()` function and indexing to select the 3rd and 5th column and create a new dataframe with them.\n",
        "\n",
        "**4.** Convert your original dataframe (not the one from part 3) to a .csv file and then read it back in from the .csv format."
      ]
    },
    {
      "cell_type": "code",
      "execution_count": 30,
      "id": "ffd652c7",
      "metadata": {
        "id": "ffd652c7",
        "colab": {
          "base_uri": "https://localhost:8080/"
        },
        "outputId": "e47b10a6-3d1e-477f-8a8c-e2eda98d14bf"
      },
      "outputs": [
        {
          "output_type": "stream",
          "name": "stdout",
          "text": [
            "  Participant        Brand  Coffee Volume in oz  Caffine Content per tbsp  \\\n",
            "0          P1    Starbucks                    8                       100   \n",
            "1          P2  Trader Joes                    8                        80   \n",
            "2          P3     Kirkland                    8                       100   \n",
            "3          P4    Mcdonalds                    6                        50   \n",
            "4          P5  Black Rifle                   12                       130   \n",
            "5          P6       Dunkin                    6                       110   \n",
            "6          P7     Joe Shmo                    8                       100   \n",
            "\n",
            "   Cognitive Test  \n",
            "0              80  \n",
            "1              89  \n",
            "2              68  \n",
            "3              34  \n",
            "4             100  \n",
            "5              75  \n",
            "6              99  \n"
          ]
        }
      ],
      "source": [
        "#Activity 12\n",
        "\n",
        "# participant id, brand, cups, caffine content, cognitive enhancement\n",
        "\n",
        "# in this expirement we will test different coffee brands and how much of it (cups)\n",
        "# to see the cognitive benefit out of each brand and amount\n",
        "# the cognitive benefit test is a fictionary test on a scale of 1-100\n",
        "\n",
        "participant = [\"P1\", \"P2\", \"P3\", \"P4\", \"P5\", \"P6\", \"P7\"]\n",
        "brand = [\"Starbucks\", \"Trader Joes\", \"Kirkland\", \"Mcdonalds\", \"Black Rifle\", \"Dunkin\", \"Joe Shmo\"]\n",
        "coffee_volume = [8,8,8,6,12,6,8] #this is in ounces fluid\n",
        "caffine_content = [100,80,100,50,130,110,100] #caffine content per tbsp of grounded up coffee\n",
        "cognitive_test = [80,89,68,34,100,75,99] #imaginary cognitive performace test 1-100\n",
        "\n",
        "\n",
        "coffee_data = pd.DataFrame({\"Participant\": participant, \"Brand\": brand, \"Coffee Volume in oz\": coffee_volume, \"Caffine Content per tbsp\": caffine_content, \"Cognitive Test\": cognitive_test})\n",
        "print(coffee_data)\n"
      ]
    },
    {
      "cell_type": "markdown",
      "id": "5c37fc0f",
      "metadata": {
        "id": "5c37fc0f"
      },
      "source": [
        "___________________________"
      ]
    },
    {
      "cell_type": "code",
      "source": [
        "print(np.size(coffee_data))\n",
        "print(np.shape(coffee_data))\n",
        "coffee_data.describe()"
      ],
      "metadata": {
        "colab": {
          "base_uri": "https://localhost:8080/",
          "height": 336
        },
        "id": "idvjGv26gv_R",
        "outputId": "196d33a0-716a-457a-d1d9-696a1aa9409b"
      },
      "id": "idvjGv26gv_R",
      "execution_count": 32,
      "outputs": [
        {
          "output_type": "stream",
          "name": "stdout",
          "text": [
            "35\n",
            "(7, 5)\n"
          ]
        },
        {
          "output_type": "execute_result",
          "data": {
            "text/plain": [
              "       Coffee Volume in oz  Caffine Content per tbsp  Cognitive Test\n",
              "count                  7.0                  7.000000        7.000000\n",
              "mean                   8.0                 95.714286       77.857143\n",
              "std                    2.0                 25.071327       22.711440\n",
              "min                    6.0                 50.000000       34.000000\n",
              "25%                    7.0                 90.000000       71.500000\n",
              "50%                    8.0                100.000000       80.000000\n",
              "75%                    8.0                105.000000       94.000000\n",
              "max                   12.0                130.000000      100.000000"
            ],
            "text/html": [
              "\n",
              "  <div id=\"df-525e494f-a063-4b16-80ac-b3c720010636\" class=\"colab-df-container\">\n",
              "    <div>\n",
              "<style scoped>\n",
              "    .dataframe tbody tr th:only-of-type {\n",
              "        vertical-align: middle;\n",
              "    }\n",
              "\n",
              "    .dataframe tbody tr th {\n",
              "        vertical-align: top;\n",
              "    }\n",
              "\n",
              "    .dataframe thead th {\n",
              "        text-align: right;\n",
              "    }\n",
              "</style>\n",
              "<table border=\"1\" class=\"dataframe\">\n",
              "  <thead>\n",
              "    <tr style=\"text-align: right;\">\n",
              "      <th></th>\n",
              "      <th>Coffee Volume in oz</th>\n",
              "      <th>Caffine Content per tbsp</th>\n",
              "      <th>Cognitive Test</th>\n",
              "    </tr>\n",
              "  </thead>\n",
              "  <tbody>\n",
              "    <tr>\n",
              "      <th>count</th>\n",
              "      <td>7.0</td>\n",
              "      <td>7.000000</td>\n",
              "      <td>7.000000</td>\n",
              "    </tr>\n",
              "    <tr>\n",
              "      <th>mean</th>\n",
              "      <td>8.0</td>\n",
              "      <td>95.714286</td>\n",
              "      <td>77.857143</td>\n",
              "    </tr>\n",
              "    <tr>\n",
              "      <th>std</th>\n",
              "      <td>2.0</td>\n",
              "      <td>25.071327</td>\n",
              "      <td>22.711440</td>\n",
              "    </tr>\n",
              "    <tr>\n",
              "      <th>min</th>\n",
              "      <td>6.0</td>\n",
              "      <td>50.000000</td>\n",
              "      <td>34.000000</td>\n",
              "    </tr>\n",
              "    <tr>\n",
              "      <th>25%</th>\n",
              "      <td>7.0</td>\n",
              "      <td>90.000000</td>\n",
              "      <td>71.500000</td>\n",
              "    </tr>\n",
              "    <tr>\n",
              "      <th>50%</th>\n",
              "      <td>8.0</td>\n",
              "      <td>100.000000</td>\n",
              "      <td>80.000000</td>\n",
              "    </tr>\n",
              "    <tr>\n",
              "      <th>75%</th>\n",
              "      <td>8.0</td>\n",
              "      <td>105.000000</td>\n",
              "      <td>94.000000</td>\n",
              "    </tr>\n",
              "    <tr>\n",
              "      <th>max</th>\n",
              "      <td>12.0</td>\n",
              "      <td>130.000000</td>\n",
              "      <td>100.000000</td>\n",
              "    </tr>\n",
              "  </tbody>\n",
              "</table>\n",
              "</div>\n",
              "    <div class=\"colab-df-buttons\">\n",
              "\n",
              "  <div class=\"colab-df-container\">\n",
              "    <button class=\"colab-df-convert\" onclick=\"convertToInteractive('df-525e494f-a063-4b16-80ac-b3c720010636')\"\n",
              "            title=\"Convert this dataframe to an interactive table.\"\n",
              "            style=\"display:none;\">\n",
              "\n",
              "  <svg xmlns=\"http://www.w3.org/2000/svg\" height=\"24px\" viewBox=\"0 -960 960 960\">\n",
              "    <path d=\"M120-120v-720h720v720H120Zm60-500h600v-160H180v160Zm220 220h160v-160H400v160Zm0 220h160v-160H400v160ZM180-400h160v-160H180v160Zm440 0h160v-160H620v160ZM180-180h160v-160H180v160Zm440 0h160v-160H620v160Z\"/>\n",
              "  </svg>\n",
              "    </button>\n",
              "\n",
              "  <style>\n",
              "    .colab-df-container {\n",
              "      display:flex;\n",
              "      gap: 12px;\n",
              "    }\n",
              "\n",
              "    .colab-df-convert {\n",
              "      background-color: #E8F0FE;\n",
              "      border: none;\n",
              "      border-radius: 50%;\n",
              "      cursor: pointer;\n",
              "      display: none;\n",
              "      fill: #1967D2;\n",
              "      height: 32px;\n",
              "      padding: 0 0 0 0;\n",
              "      width: 32px;\n",
              "    }\n",
              "\n",
              "    .colab-df-convert:hover {\n",
              "      background-color: #E2EBFA;\n",
              "      box-shadow: 0px 1px 2px rgba(60, 64, 67, 0.3), 0px 1px 3px 1px rgba(60, 64, 67, 0.15);\n",
              "      fill: #174EA6;\n",
              "    }\n",
              "\n",
              "    .colab-df-buttons div {\n",
              "      margin-bottom: 4px;\n",
              "    }\n",
              "\n",
              "    [theme=dark] .colab-df-convert {\n",
              "      background-color: #3B4455;\n",
              "      fill: #D2E3FC;\n",
              "    }\n",
              "\n",
              "    [theme=dark] .colab-df-convert:hover {\n",
              "      background-color: #434B5C;\n",
              "      box-shadow: 0px 1px 3px 1px rgba(0, 0, 0, 0.15);\n",
              "      filter: drop-shadow(0px 1px 2px rgba(0, 0, 0, 0.3));\n",
              "      fill: #FFFFFF;\n",
              "    }\n",
              "  </style>\n",
              "\n",
              "    <script>\n",
              "      const buttonEl =\n",
              "        document.querySelector('#df-525e494f-a063-4b16-80ac-b3c720010636 button.colab-df-convert');\n",
              "      buttonEl.style.display =\n",
              "        google.colab.kernel.accessAllowed ? 'block' : 'none';\n",
              "\n",
              "      async function convertToInteractive(key) {\n",
              "        const element = document.querySelector('#df-525e494f-a063-4b16-80ac-b3c720010636');\n",
              "        const dataTable =\n",
              "          await google.colab.kernel.invokeFunction('convertToInteractive',\n",
              "                                                    [key], {});\n",
              "        if (!dataTable) return;\n",
              "\n",
              "        const docLinkHtml = 'Like what you see? Visit the ' +\n",
              "          '<a target=\"_blank\" href=https://colab.research.google.com/notebooks/data_table.ipynb>data table notebook</a>'\n",
              "          + ' to learn more about interactive tables.';\n",
              "        element.innerHTML = '';\n",
              "        dataTable['output_type'] = 'display_data';\n",
              "        await google.colab.output.renderOutput(dataTable, element);\n",
              "        const docLink = document.createElement('div');\n",
              "        docLink.innerHTML = docLinkHtml;\n",
              "        element.appendChild(docLink);\n",
              "      }\n",
              "    </script>\n",
              "  </div>\n",
              "\n",
              "\n",
              "<div id=\"df-def3d690-2264-40fe-a987-876e36ee3767\">\n",
              "  <button class=\"colab-df-quickchart\" onclick=\"quickchart('df-def3d690-2264-40fe-a987-876e36ee3767')\"\n",
              "            title=\"Suggest charts\"\n",
              "            style=\"display:none;\">\n",
              "\n",
              "<svg xmlns=\"http://www.w3.org/2000/svg\" height=\"24px\"viewBox=\"0 0 24 24\"\n",
              "     width=\"24px\">\n",
              "    <g>\n",
              "        <path d=\"M19 3H5c-1.1 0-2 .9-2 2v14c0 1.1.9 2 2 2h14c1.1 0 2-.9 2-2V5c0-1.1-.9-2-2-2zM9 17H7v-7h2v7zm4 0h-2V7h2v10zm4 0h-2v-4h2v4z\"/>\n",
              "    </g>\n",
              "</svg>\n",
              "  </button>\n",
              "\n",
              "<style>\n",
              "  .colab-df-quickchart {\n",
              "      --bg-color: #E8F0FE;\n",
              "      --fill-color: #1967D2;\n",
              "      --hover-bg-color: #E2EBFA;\n",
              "      --hover-fill-color: #174EA6;\n",
              "      --disabled-fill-color: #AAA;\n",
              "      --disabled-bg-color: #DDD;\n",
              "  }\n",
              "\n",
              "  [theme=dark] .colab-df-quickchart {\n",
              "      --bg-color: #3B4455;\n",
              "      --fill-color: #D2E3FC;\n",
              "      --hover-bg-color: #434B5C;\n",
              "      --hover-fill-color: #FFFFFF;\n",
              "      --disabled-bg-color: #3B4455;\n",
              "      --disabled-fill-color: #666;\n",
              "  }\n",
              "\n",
              "  .colab-df-quickchart {\n",
              "    background-color: var(--bg-color);\n",
              "    border: none;\n",
              "    border-radius: 50%;\n",
              "    cursor: pointer;\n",
              "    display: none;\n",
              "    fill: var(--fill-color);\n",
              "    height: 32px;\n",
              "    padding: 0;\n",
              "    width: 32px;\n",
              "  }\n",
              "\n",
              "  .colab-df-quickchart:hover {\n",
              "    background-color: var(--hover-bg-color);\n",
              "    box-shadow: 0 1px 2px rgba(60, 64, 67, 0.3), 0 1px 3px 1px rgba(60, 64, 67, 0.15);\n",
              "    fill: var(--button-hover-fill-color);\n",
              "  }\n",
              "\n",
              "  .colab-df-quickchart-complete:disabled,\n",
              "  .colab-df-quickchart-complete:disabled:hover {\n",
              "    background-color: var(--disabled-bg-color);\n",
              "    fill: var(--disabled-fill-color);\n",
              "    box-shadow: none;\n",
              "  }\n",
              "\n",
              "  .colab-df-spinner {\n",
              "    border: 2px solid var(--fill-color);\n",
              "    border-color: transparent;\n",
              "    border-bottom-color: var(--fill-color);\n",
              "    animation:\n",
              "      spin 1s steps(1) infinite;\n",
              "  }\n",
              "\n",
              "  @keyframes spin {\n",
              "    0% {\n",
              "      border-color: transparent;\n",
              "      border-bottom-color: var(--fill-color);\n",
              "      border-left-color: var(--fill-color);\n",
              "    }\n",
              "    20% {\n",
              "      border-color: transparent;\n",
              "      border-left-color: var(--fill-color);\n",
              "      border-top-color: var(--fill-color);\n",
              "    }\n",
              "    30% {\n",
              "      border-color: transparent;\n",
              "      border-left-color: var(--fill-color);\n",
              "      border-top-color: var(--fill-color);\n",
              "      border-right-color: var(--fill-color);\n",
              "    }\n",
              "    40% {\n",
              "      border-color: transparent;\n",
              "      border-right-color: var(--fill-color);\n",
              "      border-top-color: var(--fill-color);\n",
              "    }\n",
              "    60% {\n",
              "      border-color: transparent;\n",
              "      border-right-color: var(--fill-color);\n",
              "    }\n",
              "    80% {\n",
              "      border-color: transparent;\n",
              "      border-right-color: var(--fill-color);\n",
              "      border-bottom-color: var(--fill-color);\n",
              "    }\n",
              "    90% {\n",
              "      border-color: transparent;\n",
              "      border-bottom-color: var(--fill-color);\n",
              "    }\n",
              "  }\n",
              "</style>\n",
              "\n",
              "  <script>\n",
              "    async function quickchart(key) {\n",
              "      const quickchartButtonEl =\n",
              "        document.querySelector('#' + key + ' button');\n",
              "      quickchartButtonEl.disabled = true;  // To prevent multiple clicks.\n",
              "      quickchartButtonEl.classList.add('colab-df-spinner');\n",
              "      try {\n",
              "        const charts = await google.colab.kernel.invokeFunction(\n",
              "            'suggestCharts', [key], {});\n",
              "      } catch (error) {\n",
              "        console.error('Error during call to suggestCharts:', error);\n",
              "      }\n",
              "      quickchartButtonEl.classList.remove('colab-df-spinner');\n",
              "      quickchartButtonEl.classList.add('colab-df-quickchart-complete');\n",
              "    }\n",
              "    (() => {\n",
              "      let quickchartButtonEl =\n",
              "        document.querySelector('#df-def3d690-2264-40fe-a987-876e36ee3767 button');\n",
              "      quickchartButtonEl.style.display =\n",
              "        google.colab.kernel.accessAllowed ? 'block' : 'none';\n",
              "    })();\n",
              "  </script>\n",
              "</div>\n",
              "\n",
              "    </div>\n",
              "  </div>\n"
            ],
            "application/vnd.google.colaboratory.intrinsic+json": {
              "type": "dataframe",
              "summary": "{\n  \"name\": \"coffee_data\",\n  \"rows\": 8,\n  \"fields\": [\n    {\n      \"column\": \"Coffee Volume in oz\",\n      \"properties\": {\n        \"dtype\": \"number\",\n        \"std\": 2.7645717829090897,\n        \"min\": 2.0,\n        \"max\": 12.0,\n        \"num_unique_values\": 5,\n        \"samples\": [\n          8.0,\n          12.0,\n          2.0\n        ],\n        \"semantic_type\": \"\",\n        \"description\": \"\"\n      }\n    },\n    {\n      \"column\": \"Caffine Content per tbsp\",\n      \"properties\": {\n        \"dtype\": \"number\",\n        \"std\": 43.00329569331495,\n        \"min\": 7.0,\n        \"max\": 130.0,\n        \"num_unique_values\": 8,\n        \"samples\": [\n          95.71428571428571,\n          100.0,\n          7.0\n        ],\n        \"semantic_type\": \"\",\n        \"description\": \"\"\n      }\n    },\n    {\n      \"column\": \"Cognitive Test\",\n      \"properties\": {\n        \"dtype\": \"number\",\n        \"std\": 34.79802667122295,\n        \"min\": 7.0,\n        \"max\": 100.0,\n        \"num_unique_values\": 8,\n        \"samples\": [\n          77.85714285714286,\n          80.0,\n          7.0\n        ],\n        \"semantic_type\": \"\",\n        \"description\": \"\"\n      }\n    }\n  ]\n}"
            }
          },
          "metadata": {},
          "execution_count": 32
        }
      ]
    },
    {
      "cell_type": "code",
      "source": [
        "coffee_data.head()"
      ],
      "metadata": {
        "colab": {
          "base_uri": "https://localhost:8080/",
          "height": 206
        },
        "id": "qKz3siG1hA51",
        "outputId": "f1abe65d-9fc5-4621-c15c-45691abe814f"
      },
      "id": "qKz3siG1hA51",
      "execution_count": 34,
      "outputs": [
        {
          "output_type": "execute_result",
          "data": {
            "text/plain": [
              "  Participant        Brand  Coffee Volume in oz  Caffine Content per tbsp  \\\n",
              "0          P1    Starbucks                    8                       100   \n",
              "1          P2  Trader Joes                    8                        80   \n",
              "2          P3     Kirkland                    8                       100   \n",
              "3          P4    Mcdonalds                    6                        50   \n",
              "4          P5  Black Rifle                   12                       130   \n",
              "\n",
              "   Cognitive Test  \n",
              "0              80  \n",
              "1              89  \n",
              "2              68  \n",
              "3              34  \n",
              "4             100  "
            ],
            "text/html": [
              "\n",
              "  <div id=\"df-bd177a58-1538-46cf-a6cd-3fa8dff1bca3\" class=\"colab-df-container\">\n",
              "    <div>\n",
              "<style scoped>\n",
              "    .dataframe tbody tr th:only-of-type {\n",
              "        vertical-align: middle;\n",
              "    }\n",
              "\n",
              "    .dataframe tbody tr th {\n",
              "        vertical-align: top;\n",
              "    }\n",
              "\n",
              "    .dataframe thead th {\n",
              "        text-align: right;\n",
              "    }\n",
              "</style>\n",
              "<table border=\"1\" class=\"dataframe\">\n",
              "  <thead>\n",
              "    <tr style=\"text-align: right;\">\n",
              "      <th></th>\n",
              "      <th>Participant</th>\n",
              "      <th>Brand</th>\n",
              "      <th>Coffee Volume in oz</th>\n",
              "      <th>Caffine Content per tbsp</th>\n",
              "      <th>Cognitive Test</th>\n",
              "    </tr>\n",
              "  </thead>\n",
              "  <tbody>\n",
              "    <tr>\n",
              "      <th>0</th>\n",
              "      <td>P1</td>\n",
              "      <td>Starbucks</td>\n",
              "      <td>8</td>\n",
              "      <td>100</td>\n",
              "      <td>80</td>\n",
              "    </tr>\n",
              "    <tr>\n",
              "      <th>1</th>\n",
              "      <td>P2</td>\n",
              "      <td>Trader Joes</td>\n",
              "      <td>8</td>\n",
              "      <td>80</td>\n",
              "      <td>89</td>\n",
              "    </tr>\n",
              "    <tr>\n",
              "      <th>2</th>\n",
              "      <td>P3</td>\n",
              "      <td>Kirkland</td>\n",
              "      <td>8</td>\n",
              "      <td>100</td>\n",
              "      <td>68</td>\n",
              "    </tr>\n",
              "    <tr>\n",
              "      <th>3</th>\n",
              "      <td>P4</td>\n",
              "      <td>Mcdonalds</td>\n",
              "      <td>6</td>\n",
              "      <td>50</td>\n",
              "      <td>34</td>\n",
              "    </tr>\n",
              "    <tr>\n",
              "      <th>4</th>\n",
              "      <td>P5</td>\n",
              "      <td>Black Rifle</td>\n",
              "      <td>12</td>\n",
              "      <td>130</td>\n",
              "      <td>100</td>\n",
              "    </tr>\n",
              "  </tbody>\n",
              "</table>\n",
              "</div>\n",
              "    <div class=\"colab-df-buttons\">\n",
              "\n",
              "  <div class=\"colab-df-container\">\n",
              "    <button class=\"colab-df-convert\" onclick=\"convertToInteractive('df-bd177a58-1538-46cf-a6cd-3fa8dff1bca3')\"\n",
              "            title=\"Convert this dataframe to an interactive table.\"\n",
              "            style=\"display:none;\">\n",
              "\n",
              "  <svg xmlns=\"http://www.w3.org/2000/svg\" height=\"24px\" viewBox=\"0 -960 960 960\">\n",
              "    <path d=\"M120-120v-720h720v720H120Zm60-500h600v-160H180v160Zm220 220h160v-160H400v160Zm0 220h160v-160H400v160ZM180-400h160v-160H180v160Zm440 0h160v-160H620v160ZM180-180h160v-160H180v160Zm440 0h160v-160H620v160Z\"/>\n",
              "  </svg>\n",
              "    </button>\n",
              "\n",
              "  <style>\n",
              "    .colab-df-container {\n",
              "      display:flex;\n",
              "      gap: 12px;\n",
              "    }\n",
              "\n",
              "    .colab-df-convert {\n",
              "      background-color: #E8F0FE;\n",
              "      border: none;\n",
              "      border-radius: 50%;\n",
              "      cursor: pointer;\n",
              "      display: none;\n",
              "      fill: #1967D2;\n",
              "      height: 32px;\n",
              "      padding: 0 0 0 0;\n",
              "      width: 32px;\n",
              "    }\n",
              "\n",
              "    .colab-df-convert:hover {\n",
              "      background-color: #E2EBFA;\n",
              "      box-shadow: 0px 1px 2px rgba(60, 64, 67, 0.3), 0px 1px 3px 1px rgba(60, 64, 67, 0.15);\n",
              "      fill: #174EA6;\n",
              "    }\n",
              "\n",
              "    .colab-df-buttons div {\n",
              "      margin-bottom: 4px;\n",
              "    }\n",
              "\n",
              "    [theme=dark] .colab-df-convert {\n",
              "      background-color: #3B4455;\n",
              "      fill: #D2E3FC;\n",
              "    }\n",
              "\n",
              "    [theme=dark] .colab-df-convert:hover {\n",
              "      background-color: #434B5C;\n",
              "      box-shadow: 0px 1px 3px 1px rgba(0, 0, 0, 0.15);\n",
              "      filter: drop-shadow(0px 1px 2px rgba(0, 0, 0, 0.3));\n",
              "      fill: #FFFFFF;\n",
              "    }\n",
              "  </style>\n",
              "\n",
              "    <script>\n",
              "      const buttonEl =\n",
              "        document.querySelector('#df-bd177a58-1538-46cf-a6cd-3fa8dff1bca3 button.colab-df-convert');\n",
              "      buttonEl.style.display =\n",
              "        google.colab.kernel.accessAllowed ? 'block' : 'none';\n",
              "\n",
              "      async function convertToInteractive(key) {\n",
              "        const element = document.querySelector('#df-bd177a58-1538-46cf-a6cd-3fa8dff1bca3');\n",
              "        const dataTable =\n",
              "          await google.colab.kernel.invokeFunction('convertToInteractive',\n",
              "                                                    [key], {});\n",
              "        if (!dataTable) return;\n",
              "\n",
              "        const docLinkHtml = 'Like what you see? Visit the ' +\n",
              "          '<a target=\"_blank\" href=https://colab.research.google.com/notebooks/data_table.ipynb>data table notebook</a>'\n",
              "          + ' to learn more about interactive tables.';\n",
              "        element.innerHTML = '';\n",
              "        dataTable['output_type'] = 'display_data';\n",
              "        await google.colab.output.renderOutput(dataTable, element);\n",
              "        const docLink = document.createElement('div');\n",
              "        docLink.innerHTML = docLinkHtml;\n",
              "        element.appendChild(docLink);\n",
              "      }\n",
              "    </script>\n",
              "  </div>\n",
              "\n",
              "\n",
              "<div id=\"df-b86347f9-c9eb-456e-97ce-799c6fbdca88\">\n",
              "  <button class=\"colab-df-quickchart\" onclick=\"quickchart('df-b86347f9-c9eb-456e-97ce-799c6fbdca88')\"\n",
              "            title=\"Suggest charts\"\n",
              "            style=\"display:none;\">\n",
              "\n",
              "<svg xmlns=\"http://www.w3.org/2000/svg\" height=\"24px\"viewBox=\"0 0 24 24\"\n",
              "     width=\"24px\">\n",
              "    <g>\n",
              "        <path d=\"M19 3H5c-1.1 0-2 .9-2 2v14c0 1.1.9 2 2 2h14c1.1 0 2-.9 2-2V5c0-1.1-.9-2-2-2zM9 17H7v-7h2v7zm4 0h-2V7h2v10zm4 0h-2v-4h2v4z\"/>\n",
              "    </g>\n",
              "</svg>\n",
              "  </button>\n",
              "\n",
              "<style>\n",
              "  .colab-df-quickchart {\n",
              "      --bg-color: #E8F0FE;\n",
              "      --fill-color: #1967D2;\n",
              "      --hover-bg-color: #E2EBFA;\n",
              "      --hover-fill-color: #174EA6;\n",
              "      --disabled-fill-color: #AAA;\n",
              "      --disabled-bg-color: #DDD;\n",
              "  }\n",
              "\n",
              "  [theme=dark] .colab-df-quickchart {\n",
              "      --bg-color: #3B4455;\n",
              "      --fill-color: #D2E3FC;\n",
              "      --hover-bg-color: #434B5C;\n",
              "      --hover-fill-color: #FFFFFF;\n",
              "      --disabled-bg-color: #3B4455;\n",
              "      --disabled-fill-color: #666;\n",
              "  }\n",
              "\n",
              "  .colab-df-quickchart {\n",
              "    background-color: var(--bg-color);\n",
              "    border: none;\n",
              "    border-radius: 50%;\n",
              "    cursor: pointer;\n",
              "    display: none;\n",
              "    fill: var(--fill-color);\n",
              "    height: 32px;\n",
              "    padding: 0;\n",
              "    width: 32px;\n",
              "  }\n",
              "\n",
              "  .colab-df-quickchart:hover {\n",
              "    background-color: var(--hover-bg-color);\n",
              "    box-shadow: 0 1px 2px rgba(60, 64, 67, 0.3), 0 1px 3px 1px rgba(60, 64, 67, 0.15);\n",
              "    fill: var(--button-hover-fill-color);\n",
              "  }\n",
              "\n",
              "  .colab-df-quickchart-complete:disabled,\n",
              "  .colab-df-quickchart-complete:disabled:hover {\n",
              "    background-color: var(--disabled-bg-color);\n",
              "    fill: var(--disabled-fill-color);\n",
              "    box-shadow: none;\n",
              "  }\n",
              "\n",
              "  .colab-df-spinner {\n",
              "    border: 2px solid var(--fill-color);\n",
              "    border-color: transparent;\n",
              "    border-bottom-color: var(--fill-color);\n",
              "    animation:\n",
              "      spin 1s steps(1) infinite;\n",
              "  }\n",
              "\n",
              "  @keyframes spin {\n",
              "    0% {\n",
              "      border-color: transparent;\n",
              "      border-bottom-color: var(--fill-color);\n",
              "      border-left-color: var(--fill-color);\n",
              "    }\n",
              "    20% {\n",
              "      border-color: transparent;\n",
              "      border-left-color: var(--fill-color);\n",
              "      border-top-color: var(--fill-color);\n",
              "    }\n",
              "    30% {\n",
              "      border-color: transparent;\n",
              "      border-left-color: var(--fill-color);\n",
              "      border-top-color: var(--fill-color);\n",
              "      border-right-color: var(--fill-color);\n",
              "    }\n",
              "    40% {\n",
              "      border-color: transparent;\n",
              "      border-right-color: var(--fill-color);\n",
              "      border-top-color: var(--fill-color);\n",
              "    }\n",
              "    60% {\n",
              "      border-color: transparent;\n",
              "      border-right-color: var(--fill-color);\n",
              "    }\n",
              "    80% {\n",
              "      border-color: transparent;\n",
              "      border-right-color: var(--fill-color);\n",
              "      border-bottom-color: var(--fill-color);\n",
              "    }\n",
              "    90% {\n",
              "      border-color: transparent;\n",
              "      border-bottom-color: var(--fill-color);\n",
              "    }\n",
              "  }\n",
              "</style>\n",
              "\n",
              "  <script>\n",
              "    async function quickchart(key) {\n",
              "      const quickchartButtonEl =\n",
              "        document.querySelector('#' + key + ' button');\n",
              "      quickchartButtonEl.disabled = true;  // To prevent multiple clicks.\n",
              "      quickchartButtonEl.classList.add('colab-df-spinner');\n",
              "      try {\n",
              "        const charts = await google.colab.kernel.invokeFunction(\n",
              "            'suggestCharts', [key], {});\n",
              "      } catch (error) {\n",
              "        console.error('Error during call to suggestCharts:', error);\n",
              "      }\n",
              "      quickchartButtonEl.classList.remove('colab-df-spinner');\n",
              "      quickchartButtonEl.classList.add('colab-df-quickchart-complete');\n",
              "    }\n",
              "    (() => {\n",
              "      let quickchartButtonEl =\n",
              "        document.querySelector('#df-b86347f9-c9eb-456e-97ce-799c6fbdca88 button');\n",
              "      quickchartButtonEl.style.display =\n",
              "        google.colab.kernel.accessAllowed ? 'block' : 'none';\n",
              "    })();\n",
              "  </script>\n",
              "</div>\n",
              "\n",
              "    </div>\n",
              "  </div>\n"
            ],
            "application/vnd.google.colaboratory.intrinsic+json": {
              "type": "dataframe",
              "variable_name": "coffee_data",
              "summary": "{\n  \"name\": \"coffee_data\",\n  \"rows\": 7,\n  \"fields\": [\n    {\n      \"column\": \"Participant\",\n      \"properties\": {\n        \"dtype\": \"string\",\n        \"num_unique_values\": 7,\n        \"samples\": [\n          \"P1\",\n          \"P2\",\n          \"P6\"\n        ],\n        \"semantic_type\": \"\",\n        \"description\": \"\"\n      }\n    },\n    {\n      \"column\": \"Brand\",\n      \"properties\": {\n        \"dtype\": \"string\",\n        \"num_unique_values\": 7,\n        \"samples\": [\n          \"Starbucks\",\n          \"Trader Joes\",\n          \"Dunkin\"\n        ],\n        \"semantic_type\": \"\",\n        \"description\": \"\"\n      }\n    },\n    {\n      \"column\": \"Coffee Volume in oz\",\n      \"properties\": {\n        \"dtype\": \"number\",\n        \"std\": 2,\n        \"min\": 6,\n        \"max\": 12,\n        \"num_unique_values\": 3,\n        \"samples\": [\n          8,\n          6,\n          12\n        ],\n        \"semantic_type\": \"\",\n        \"description\": \"\"\n      }\n    },\n    {\n      \"column\": \"Caffine Content per tbsp\",\n      \"properties\": {\n        \"dtype\": \"number\",\n        \"std\": 25,\n        \"min\": 50,\n        \"max\": 130,\n        \"num_unique_values\": 5,\n        \"samples\": [\n          80,\n          110,\n          50\n        ],\n        \"semantic_type\": \"\",\n        \"description\": \"\"\n      }\n    },\n    {\n      \"column\": \"Cognitive Test\",\n      \"properties\": {\n        \"dtype\": \"number\",\n        \"std\": 22,\n        \"min\": 34,\n        \"max\": 100,\n        \"num_unique_values\": 7,\n        \"samples\": [\n          80,\n          89,\n          75\n        ],\n        \"semantic_type\": \"\",\n        \"description\": \"\"\n      }\n    }\n  ]\n}"
            }
          },
          "metadata": {},
          "execution_count": 34
        }
      ]
    },
    {
      "cell_type": "code",
      "source": [
        "coffee_data.iloc[0,3] = np.nan\n",
        "coffee_data.iloc[1,3] = np.nan\n",
        "coffee_data.iloc[2,3] = np.nan"
      ],
      "metadata": {
        "id": "UfaZEMSOhHp0"
      },
      "id": "UfaZEMSOhHp0",
      "execution_count": 36,
      "outputs": []
    },
    {
      "cell_type": "code",
      "source": [
        "coffee_data.head()"
      ],
      "metadata": {
        "colab": {
          "base_uri": "https://localhost:8080/",
          "height": 206
        },
        "id": "8yi09IQFhnq0",
        "outputId": "ce0d8e82-a3f8-49d1-cb8c-3c0b42d4079d"
      },
      "id": "8yi09IQFhnq0",
      "execution_count": 37,
      "outputs": [
        {
          "output_type": "execute_result",
          "data": {
            "text/plain": [
              "  Participant        Brand  Coffee Volume in oz  Caffine Content per tbsp  \\\n",
              "0          P1    Starbucks                    8                       NaN   \n",
              "1          P2  Trader Joes                    8                       NaN   \n",
              "2          P3     Kirkland                    8                       NaN   \n",
              "3          P4    Mcdonalds                    6                      50.0   \n",
              "4          P5  Black Rifle                   12                     130.0   \n",
              "\n",
              "   Cognitive Test  \n",
              "0              80  \n",
              "1              89  \n",
              "2              68  \n",
              "3              34  \n",
              "4             100  "
            ],
            "text/html": [
              "\n",
              "  <div id=\"df-f29136f3-e9fc-4018-96ea-85b448d33551\" class=\"colab-df-container\">\n",
              "    <div>\n",
              "<style scoped>\n",
              "    .dataframe tbody tr th:only-of-type {\n",
              "        vertical-align: middle;\n",
              "    }\n",
              "\n",
              "    .dataframe tbody tr th {\n",
              "        vertical-align: top;\n",
              "    }\n",
              "\n",
              "    .dataframe thead th {\n",
              "        text-align: right;\n",
              "    }\n",
              "</style>\n",
              "<table border=\"1\" class=\"dataframe\">\n",
              "  <thead>\n",
              "    <tr style=\"text-align: right;\">\n",
              "      <th></th>\n",
              "      <th>Participant</th>\n",
              "      <th>Brand</th>\n",
              "      <th>Coffee Volume in oz</th>\n",
              "      <th>Caffine Content per tbsp</th>\n",
              "      <th>Cognitive Test</th>\n",
              "    </tr>\n",
              "  </thead>\n",
              "  <tbody>\n",
              "    <tr>\n",
              "      <th>0</th>\n",
              "      <td>P1</td>\n",
              "      <td>Starbucks</td>\n",
              "      <td>8</td>\n",
              "      <td>NaN</td>\n",
              "      <td>80</td>\n",
              "    </tr>\n",
              "    <tr>\n",
              "      <th>1</th>\n",
              "      <td>P2</td>\n",
              "      <td>Trader Joes</td>\n",
              "      <td>8</td>\n",
              "      <td>NaN</td>\n",
              "      <td>89</td>\n",
              "    </tr>\n",
              "    <tr>\n",
              "      <th>2</th>\n",
              "      <td>P3</td>\n",
              "      <td>Kirkland</td>\n",
              "      <td>8</td>\n",
              "      <td>NaN</td>\n",
              "      <td>68</td>\n",
              "    </tr>\n",
              "    <tr>\n",
              "      <th>3</th>\n",
              "      <td>P4</td>\n",
              "      <td>Mcdonalds</td>\n",
              "      <td>6</td>\n",
              "      <td>50.0</td>\n",
              "      <td>34</td>\n",
              "    </tr>\n",
              "    <tr>\n",
              "      <th>4</th>\n",
              "      <td>P5</td>\n",
              "      <td>Black Rifle</td>\n",
              "      <td>12</td>\n",
              "      <td>130.0</td>\n",
              "      <td>100</td>\n",
              "    </tr>\n",
              "  </tbody>\n",
              "</table>\n",
              "</div>\n",
              "    <div class=\"colab-df-buttons\">\n",
              "\n",
              "  <div class=\"colab-df-container\">\n",
              "    <button class=\"colab-df-convert\" onclick=\"convertToInteractive('df-f29136f3-e9fc-4018-96ea-85b448d33551')\"\n",
              "            title=\"Convert this dataframe to an interactive table.\"\n",
              "            style=\"display:none;\">\n",
              "\n",
              "  <svg xmlns=\"http://www.w3.org/2000/svg\" height=\"24px\" viewBox=\"0 -960 960 960\">\n",
              "    <path d=\"M120-120v-720h720v720H120Zm60-500h600v-160H180v160Zm220 220h160v-160H400v160Zm0 220h160v-160H400v160ZM180-400h160v-160H180v160Zm440 0h160v-160H620v160ZM180-180h160v-160H180v160Zm440 0h160v-160H620v160Z\"/>\n",
              "  </svg>\n",
              "    </button>\n",
              "\n",
              "  <style>\n",
              "    .colab-df-container {\n",
              "      display:flex;\n",
              "      gap: 12px;\n",
              "    }\n",
              "\n",
              "    .colab-df-convert {\n",
              "      background-color: #E8F0FE;\n",
              "      border: none;\n",
              "      border-radius: 50%;\n",
              "      cursor: pointer;\n",
              "      display: none;\n",
              "      fill: #1967D2;\n",
              "      height: 32px;\n",
              "      padding: 0 0 0 0;\n",
              "      width: 32px;\n",
              "    }\n",
              "\n",
              "    .colab-df-convert:hover {\n",
              "      background-color: #E2EBFA;\n",
              "      box-shadow: 0px 1px 2px rgba(60, 64, 67, 0.3), 0px 1px 3px 1px rgba(60, 64, 67, 0.15);\n",
              "      fill: #174EA6;\n",
              "    }\n",
              "\n",
              "    .colab-df-buttons div {\n",
              "      margin-bottom: 4px;\n",
              "    }\n",
              "\n",
              "    [theme=dark] .colab-df-convert {\n",
              "      background-color: #3B4455;\n",
              "      fill: #D2E3FC;\n",
              "    }\n",
              "\n",
              "    [theme=dark] .colab-df-convert:hover {\n",
              "      background-color: #434B5C;\n",
              "      box-shadow: 0px 1px 3px 1px rgba(0, 0, 0, 0.15);\n",
              "      filter: drop-shadow(0px 1px 2px rgba(0, 0, 0, 0.3));\n",
              "      fill: #FFFFFF;\n",
              "    }\n",
              "  </style>\n",
              "\n",
              "    <script>\n",
              "      const buttonEl =\n",
              "        document.querySelector('#df-f29136f3-e9fc-4018-96ea-85b448d33551 button.colab-df-convert');\n",
              "      buttonEl.style.display =\n",
              "        google.colab.kernel.accessAllowed ? 'block' : 'none';\n",
              "\n",
              "      async function convertToInteractive(key) {\n",
              "        const element = document.querySelector('#df-f29136f3-e9fc-4018-96ea-85b448d33551');\n",
              "        const dataTable =\n",
              "          await google.colab.kernel.invokeFunction('convertToInteractive',\n",
              "                                                    [key], {});\n",
              "        if (!dataTable) return;\n",
              "\n",
              "        const docLinkHtml = 'Like what you see? Visit the ' +\n",
              "          '<a target=\"_blank\" href=https://colab.research.google.com/notebooks/data_table.ipynb>data table notebook</a>'\n",
              "          + ' to learn more about interactive tables.';\n",
              "        element.innerHTML = '';\n",
              "        dataTable['output_type'] = 'display_data';\n",
              "        await google.colab.output.renderOutput(dataTable, element);\n",
              "        const docLink = document.createElement('div');\n",
              "        docLink.innerHTML = docLinkHtml;\n",
              "        element.appendChild(docLink);\n",
              "      }\n",
              "    </script>\n",
              "  </div>\n",
              "\n",
              "\n",
              "<div id=\"df-57778611-36b8-4f92-b297-95fd0907c3d1\">\n",
              "  <button class=\"colab-df-quickchart\" onclick=\"quickchart('df-57778611-36b8-4f92-b297-95fd0907c3d1')\"\n",
              "            title=\"Suggest charts\"\n",
              "            style=\"display:none;\">\n",
              "\n",
              "<svg xmlns=\"http://www.w3.org/2000/svg\" height=\"24px\"viewBox=\"0 0 24 24\"\n",
              "     width=\"24px\">\n",
              "    <g>\n",
              "        <path d=\"M19 3H5c-1.1 0-2 .9-2 2v14c0 1.1.9 2 2 2h14c1.1 0 2-.9 2-2V5c0-1.1-.9-2-2-2zM9 17H7v-7h2v7zm4 0h-2V7h2v10zm4 0h-2v-4h2v4z\"/>\n",
              "    </g>\n",
              "</svg>\n",
              "  </button>\n",
              "\n",
              "<style>\n",
              "  .colab-df-quickchart {\n",
              "      --bg-color: #E8F0FE;\n",
              "      --fill-color: #1967D2;\n",
              "      --hover-bg-color: #E2EBFA;\n",
              "      --hover-fill-color: #174EA6;\n",
              "      --disabled-fill-color: #AAA;\n",
              "      --disabled-bg-color: #DDD;\n",
              "  }\n",
              "\n",
              "  [theme=dark] .colab-df-quickchart {\n",
              "      --bg-color: #3B4455;\n",
              "      --fill-color: #D2E3FC;\n",
              "      --hover-bg-color: #434B5C;\n",
              "      --hover-fill-color: #FFFFFF;\n",
              "      --disabled-bg-color: #3B4455;\n",
              "      --disabled-fill-color: #666;\n",
              "  }\n",
              "\n",
              "  .colab-df-quickchart {\n",
              "    background-color: var(--bg-color);\n",
              "    border: none;\n",
              "    border-radius: 50%;\n",
              "    cursor: pointer;\n",
              "    display: none;\n",
              "    fill: var(--fill-color);\n",
              "    height: 32px;\n",
              "    padding: 0;\n",
              "    width: 32px;\n",
              "  }\n",
              "\n",
              "  .colab-df-quickchart:hover {\n",
              "    background-color: var(--hover-bg-color);\n",
              "    box-shadow: 0 1px 2px rgba(60, 64, 67, 0.3), 0 1px 3px 1px rgba(60, 64, 67, 0.15);\n",
              "    fill: var(--button-hover-fill-color);\n",
              "  }\n",
              "\n",
              "  .colab-df-quickchart-complete:disabled,\n",
              "  .colab-df-quickchart-complete:disabled:hover {\n",
              "    background-color: var(--disabled-bg-color);\n",
              "    fill: var(--disabled-fill-color);\n",
              "    box-shadow: none;\n",
              "  }\n",
              "\n",
              "  .colab-df-spinner {\n",
              "    border: 2px solid var(--fill-color);\n",
              "    border-color: transparent;\n",
              "    border-bottom-color: var(--fill-color);\n",
              "    animation:\n",
              "      spin 1s steps(1) infinite;\n",
              "  }\n",
              "\n",
              "  @keyframes spin {\n",
              "    0% {\n",
              "      border-color: transparent;\n",
              "      border-bottom-color: var(--fill-color);\n",
              "      border-left-color: var(--fill-color);\n",
              "    }\n",
              "    20% {\n",
              "      border-color: transparent;\n",
              "      border-left-color: var(--fill-color);\n",
              "      border-top-color: var(--fill-color);\n",
              "    }\n",
              "    30% {\n",
              "      border-color: transparent;\n",
              "      border-left-color: var(--fill-color);\n",
              "      border-top-color: var(--fill-color);\n",
              "      border-right-color: var(--fill-color);\n",
              "    }\n",
              "    40% {\n",
              "      border-color: transparent;\n",
              "      border-right-color: var(--fill-color);\n",
              "      border-top-color: var(--fill-color);\n",
              "    }\n",
              "    60% {\n",
              "      border-color: transparent;\n",
              "      border-right-color: var(--fill-color);\n",
              "    }\n",
              "    80% {\n",
              "      border-color: transparent;\n",
              "      border-right-color: var(--fill-color);\n",
              "      border-bottom-color: var(--fill-color);\n",
              "    }\n",
              "    90% {\n",
              "      border-color: transparent;\n",
              "      border-bottom-color: var(--fill-color);\n",
              "    }\n",
              "  }\n",
              "</style>\n",
              "\n",
              "  <script>\n",
              "    async function quickchart(key) {\n",
              "      const quickchartButtonEl =\n",
              "        document.querySelector('#' + key + ' button');\n",
              "      quickchartButtonEl.disabled = true;  // To prevent multiple clicks.\n",
              "      quickchartButtonEl.classList.add('colab-df-spinner');\n",
              "      try {\n",
              "        const charts = await google.colab.kernel.invokeFunction(\n",
              "            'suggestCharts', [key], {});\n",
              "      } catch (error) {\n",
              "        console.error('Error during call to suggestCharts:', error);\n",
              "      }\n",
              "      quickchartButtonEl.classList.remove('colab-df-spinner');\n",
              "      quickchartButtonEl.classList.add('colab-df-quickchart-complete');\n",
              "    }\n",
              "    (() => {\n",
              "      let quickchartButtonEl =\n",
              "        document.querySelector('#df-57778611-36b8-4f92-b297-95fd0907c3d1 button');\n",
              "      quickchartButtonEl.style.display =\n",
              "        google.colab.kernel.accessAllowed ? 'block' : 'none';\n",
              "    })();\n",
              "  </script>\n",
              "</div>\n",
              "\n",
              "    </div>\n",
              "  </div>\n"
            ],
            "application/vnd.google.colaboratory.intrinsic+json": {
              "type": "dataframe",
              "variable_name": "coffee_data",
              "summary": "{\n  \"name\": \"coffee_data\",\n  \"rows\": 7,\n  \"fields\": [\n    {\n      \"column\": \"Participant\",\n      \"properties\": {\n        \"dtype\": \"string\",\n        \"num_unique_values\": 7,\n        \"samples\": [\n          \"P1\",\n          \"P2\",\n          \"P6\"\n        ],\n        \"semantic_type\": \"\",\n        \"description\": \"\"\n      }\n    },\n    {\n      \"column\": \"Brand\",\n      \"properties\": {\n        \"dtype\": \"string\",\n        \"num_unique_values\": 7,\n        \"samples\": [\n          \"Starbucks\",\n          \"Trader Joes\",\n          \"Dunkin\"\n        ],\n        \"semantic_type\": \"\",\n        \"description\": \"\"\n      }\n    },\n    {\n      \"column\": \"Coffee Volume in oz\",\n      \"properties\": {\n        \"dtype\": \"number\",\n        \"std\": 2,\n        \"min\": 6,\n        \"max\": 12,\n        \"num_unique_values\": 3,\n        \"samples\": [\n          8,\n          6,\n          12\n        ],\n        \"semantic_type\": \"\",\n        \"description\": \"\"\n      }\n    },\n    {\n      \"column\": \"Caffine Content per tbsp\",\n      \"properties\": {\n        \"dtype\": \"number\",\n        \"std\": 34.03429642777023,\n        \"min\": 50.0,\n        \"max\": 130.0,\n        \"num_unique_values\": 4,\n        \"samples\": [\n          130.0,\n          100.0,\n          50.0\n        ],\n        \"semantic_type\": \"\",\n        \"description\": \"\"\n      }\n    },\n    {\n      \"column\": \"Cognitive Test\",\n      \"properties\": {\n        \"dtype\": \"number\",\n        \"std\": 22,\n        \"min\": 34,\n        \"max\": 100,\n        \"num_unique_values\": 7,\n        \"samples\": [\n          80,\n          89,\n          75\n        ],\n        \"semantic_type\": \"\",\n        \"description\": \"\"\n      }\n    }\n  ]\n}"
            }
          },
          "metadata": {},
          "execution_count": 37
        }
      ]
    },
    {
      "cell_type": "code",
      "source": [
        "third_column = coffee_data.iloc[:,2]\n",
        "fifth_column = coffee_data.iloc[:,4]\n",
        "\n",
        "new_data = pd.concat([third_column, fifth_column], axis=1) #axis=1 sets the function to concat by columns.\n",
        "print(new_data)#totally didnt steal this from solutions too but i understand what its doing"
      ],
      "metadata": {
        "colab": {
          "base_uri": "https://localhost:8080/"
        },
        "id": "9WyVuTrWhrBO",
        "outputId": "09b14116-eb6e-4aac-ab47-405d323bfd6e"
      },
      "id": "9WyVuTrWhrBO",
      "execution_count": 38,
      "outputs": [
        {
          "output_type": "stream",
          "name": "stdout",
          "text": [
            "   Coffee Volume in oz  Cognitive Test\n",
            "0                    8              80\n",
            "1                    8              89\n",
            "2                    8              68\n",
            "3                    6              34\n",
            "4                   12             100\n",
            "5                    6              75\n",
            "6                    8              99\n"
          ]
        }
      ]
    },
    {
      "cell_type": "code",
      "source": [
        "coffee_data.to_csv('coffee_data.csv', index=False)\n",
        "coffee_data_fromcsv = pd.read_csv('coffee_data.csv')"
      ],
      "metadata": {
        "id": "_KSXZaLfiRJt"
      },
      "id": "_KSXZaLfiRJt",
      "execution_count": 40,
      "outputs": []
    },
    {
      "cell_type": "markdown",
      "id": "99f45b1a",
      "metadata": {
        "id": "99f45b1a"
      },
      "source": [
        "## $\\color{Blue}{\\text{Congrats! You've completed Week 1 of STARTUP homework!}}$\n",
        "### $\\color{Orange}{\\text{Remember to commit this notebook to GitHub as instructed in Activity 2.}}$"
      ]
    }
  ],
  "metadata": {
    "kernelspec": {
      "display_name": "Python 3.9 (Default)",
      "language": "python",
      "name": "python3"
    },
    "language_info": {
      "codemirror_mode": {
        "name": "ipython",
        "version": 3
      },
      "file_extension": ".py",
      "mimetype": "text/x-python",
      "name": "python",
      "nbconvert_exporter": "python",
      "pygments_lexer": "ipython3",
      "version": "3.9.7"
    },
    "colab": {
      "provenance": []
    }
  },
  "nbformat": 4,
  "nbformat_minor": 5
}