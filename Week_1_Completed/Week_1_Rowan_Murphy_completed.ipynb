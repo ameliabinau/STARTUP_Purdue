{
  "cells": [
    {
      "cell_type": "markdown",
      "id": "309072f4",
      "metadata": {
        "id": "309072f4"
      },
      "source": [
        "# $\\color{Violet}{\\text{Week 1: Python and GitHub Intro}}$"
      ]
    },
    {
      "cell_type": "markdown",
      "id": "9174c7df",
      "metadata": {
        "id": "9174c7df"
      },
      "source": [
        "**Instructions:** Read all text blocks and comments in code cells carefully. These contain important information regarding content you'll need to know for operating the notebook and research/coding in general. They may also contain instructions/hints for filling out activity blocks."
      ]
    },
    {
      "cell_type": "markdown",
      "id": "c1fb1bcc",
      "metadata": {
        "id": "c1fb1bcc"
      },
      "source": [
        "## $\\color{Red}{\\text{Reminder: Documentation and Stack Exchange are your best friends!}}$"
      ]
    },
    {
      "cell_type": "markdown",
      "id": "61a62695",
      "metadata": {
        "id": "61a62695"
      },
      "source": [
        "___________________________________________"
      ]
    },
    {
      "cell_type": "markdown",
      "id": "528fd72a",
      "metadata": {
        "id": "528fd72a"
      },
      "source": [
        "# Importing, Updating, and Downloading Packages"
      ]
    },
    {
      "cell_type": "markdown",
      "id": "181c5d1b",
      "metadata": {
        "id": "181c5d1b"
      },
      "source": [
        "The first thing you must do whenever you create a new notebook or other coding file is to import all the packages you'll need to complete your computations. Packages are a relatively universal concept in higher-level programming; not all functionalities needed for a project are necessarily going to be incorportated into the natural programming language, so we must import external code telling Python how to compute special functions. It's good to have a single block you can run at the beginning of the notebook that initializes all the imports. **Once this block is run, you won't have to run it again so long as you don't shut down or restart your kernel.**"
      ]
    },
    {
      "cell_type": "code",
      "execution_count": null,
      "id": "80c8e72e",
      "metadata": {
        "id": "80c8e72e"
      },
      "outputs": [],
      "source": [
        "# Run this cell. Notice that a number appears on the left-hand side. This number keeps track of the order in which the cells are run.\n",
        "# Use a pound symbol '#' to insert comments into coding blocks. It is important that you keep your code well-commented so others can follow along.\n",
        "\n",
        "import numpy as np #Whenever we reference the NumPy package later, we will abreviate it as 'np'; using \"as np\" tells the computer this is our intention. 'np' is the standard abbreviation for NumPy.\n",
        "import scipy\n",
        "import pandas as pd #'pd' is the standard Pandas abbreviation\n",
        "import matplotlib as plt"
      ]
    },
    {
      "cell_type": "markdown",
      "id": "0b3a1162",
      "metadata": {
        "id": "0b3a1162"
      },
      "source": [
        "Let's check what version of each package we're using. Whenever the developers of the package update something, the version changes. This can cause problems if one package requires a certain version of another; we can change which version we use if needed."
      ]
    },
    {
      "cell_type": "code",
      "execution_count": null,
      "id": "da366642",
      "metadata": {
        "colab": {
          "base_uri": "https://localhost:8080/"
        },
        "id": "da366642",
        "outputId": "8de0ebce-bb53-455d-c53e-aab6b280f8d6"
      },
      "outputs": [
        {
          "output_type": "stream",
          "name": "stdout",
          "text": [
            "1.25.2\n",
            "We are running NumPy version 1.25.2.\n"
          ]
        }
      ],
      "source": [
        "print(np.__version__) #The '.__version__' command prints the version of the package\n",
        "\n",
        "#Let's format this into a sentance we can print. If you need help with Python strings and datatypes, we recommend CodeAcademy's intro course.\n",
        "version_number = np.__version__ #Save the version number as a variable\n",
        "print(f\"We are running NumPy version {version_number}.\") #This formatting is called an f-string. It prints combined strings and variables as strings."
      ]
    },
    {
      "cell_type": "markdown",
      "id": "82684296",
      "metadata": {
        "id": "82684296"
      },
      "source": [
        "Let's say we need to use a new Python package that's not already installed on our kernel. We won't have access to the source code we need unless we install this package. We do this using the `!pip install` command. Once this command is run for a particular package, it never needs run again. `!pip install` is also a Bash command that works in Terminal, too."
      ]
    },
    {
      "cell_type": "code",
      "execution_count": null,
      "id": "7641f8c1",
      "metadata": {
        "colab": {
          "base_uri": "https://localhost:8080/"
        },
        "id": "7641f8c1",
        "outputId": "7be89d4f-4804-47d4-d256-09bfb6dd6376"
      },
      "outputs": [
        {
          "output_type": "stream",
          "name": "stdout",
          "text": [
            "Requirement already satisfied: numpy in /usr/local/lib/python3.10/dist-packages (1.26.4)\n"
          ]
        }
      ],
      "source": [
        "#Let's pip install NumPy just for practice, even though it is generally installed on most servers by default. It should return a line telling you the package is already installed (\"Requirement already satisfied\")\n",
        "!pip install numpy"
      ]
    },
    {
      "cell_type": "markdown",
      "id": "cd9e432c",
      "metadata": {
        "id": "cd9e432c"
      },
      "source": [
        "Let's say we want to use a different version of NumPy, maybe because of some dependency issues. We can revert to an older version and update the package. We need to reinstall the package under a new version using `! pip install` again. You may get some errors, pip install is really finiky, just run the cell again to see that the requirement is satisfied.\n",
        "\n",
        "If you're having problems in your code, it is important to read the errors that are returned. You can Google these errors or ask ChatGPT to find solutions."
      ]
    },
    {
      "cell_type": "code",
      "execution_count": null,
      "id": "0e5e0a35",
      "metadata": {
        "id": "0e5e0a35"
      },
      "outputs": [],
      "source": [
        "#!pip install numpy==1.20.0"
      ]
    },
    {
      "cell_type": "markdown",
      "id": "3ffffac1",
      "metadata": {
        "id": "3ffffac1"
      },
      "source": [
        "But uh oh! We realize that reverting to an older version of NumPy causes some dependency problems (newer packages we're using rely on updated versions of NumPy, so they won't run unless we make sure NumPy is updated). Let's use `!pip install` to uninstall the old version of NumPy and reinstall a new version of NumPy."
      ]
    },
    {
      "cell_type": "code",
      "execution_count": null,
      "id": "188efd8e",
      "metadata": {
        "id": "188efd8e",
        "outputId": "bb0af5a0-da88-4711-c922-b1760d7ad09a",
        "colab": {
          "base_uri": "https://localhost:8080/"
        }
      },
      "outputs": [
        {
          "output_type": "stream",
          "name": "stdout",
          "text": [
            "Requirement already satisfied: numpy in /usr/local/lib/python3.10/dist-packages (1.26.4)\n",
            "The updated version number of NumPy is 1.25.2.\n"
          ]
        }
      ],
      "source": [
        "!pip install numpy --upgrade\n",
        "new_version = np.__version__\n",
        "print(f\"The updated version number of NumPy is {new_version}.\")"
      ]
    },
    {
      "cell_type": "markdown",
      "id": "79efbc08",
      "metadata": {
        "id": "79efbc08"
      },
      "source": [
        "### $\\color{orange}{\\text{Activity 1: Import and Update}}$"
      ]
    },
    {
      "cell_type": "markdown",
      "id": "1c07c2b3",
      "metadata": {
        "id": "1c07c2b3"
      },
      "source": [
        "In the block below, install a Python package of your choosing (find some here: https://www.geeksforgeeks.org/python-packages/), import it, and check the version number. Research the package documentation/GitHub to ensure it is the most recent version number."
      ]
    },
    {
      "cell_type": "markdown",
      "id": "b75e99d8",
      "metadata": {
        "id": "b75e99d8"
      },
      "source": [
        "In the block below, import the package of your choosing (find some here: https://www.geeksforgeeks.org/python-packages/) and make sure it's updated to the latest version."
      ]
    },
    {
      "cell_type": "code",
      "execution_count": null,
      "id": "f77721c5",
      "metadata": {
        "id": "f77721c5"
      },
      "outputs": [],
      "source": [
        "## Activity 1\n",
        "#!pip install plotly"
      ]
    },
    {
      "cell_type": "code",
      "source": [
        "!pip install plotly --upgrade\n",
        "import plotly as plt\n",
        "print(plt.__version__)"
      ],
      "metadata": {
        "colab": {
          "base_uri": "https://localhost:8080/"
        },
        "id": "EuRvviF1J3bN",
        "outputId": "238c20bf-f2e0-45ec-8ee5-4005fbcfbf2c"
      },
      "id": "EuRvviF1J3bN",
      "execution_count": null,
      "outputs": [
        {
          "output_type": "stream",
          "name": "stdout",
          "text": [
            "Requirement already satisfied: plotly in /usr/local/lib/python3.10/dist-packages (5.22.0)\n",
            "Requirement already satisfied: tenacity>=6.2.0 in /usr/local/lib/python3.10/dist-packages (from plotly) (8.3.0)\n",
            "Requirement already satisfied: packaging in /usr/local/lib/python3.10/dist-packages (from plotly) (24.0)\n",
            "5.22.0\n"
          ]
        }
      ]
    },
    {
      "cell_type": "markdown",
      "id": "2b57486f",
      "metadata": {
        "id": "2b57486f"
      },
      "source": [
        "Cool. Our packges are ready to use."
      ]
    },
    {
      "cell_type": "markdown",
      "id": "4ad0f43b",
      "metadata": {
        "id": "4ad0f43b"
      },
      "source": [
        "________________________________________"
      ]
    },
    {
      "cell_type": "markdown",
      "id": "ced8a8e4",
      "metadata": {
        "id": "ced8a8e4"
      },
      "source": [
        "# Pulling from GitHub"
      ]
    },
    {
      "cell_type": "markdown",
      "id": "3d2b74a4",
      "metadata": {
        "id": "3d2b74a4"
      },
      "source": [
        "We have the course GitHub, where you probably got this notebook. You can download individual notebooks from GitHub, similar to how you's upload a new notebook to GitHub **(IMPORTANT: all Python Jupyter notebooks end in a .ipynb file type)**. Let's \"clone\" the entire repository into our local folder, however, and just download it all at once. We can do this using Jupyter notebooks."
      ]
    },
    {
      "cell_type": "code",
      "execution_count": null,
      "id": "86adee99",
      "metadata": {
        "id": "86adee99",
        "outputId": "570f13f3-014f-4044-b4e4-998c169809c8",
        "colab": {
          "base_uri": "https://localhost:8080/"
        }
      },
      "outputs": [
        {
          "output_type": "stream",
          "name": "stdout",
          "text": [
            "fatal: destination path 'STARTUP_Purdue' already exists and is not an empty directory.\n"
          ]
        }
      ],
      "source": [
        "!git clone https://github.com/ameliabinau/STARTUP_Purdue.git #This address can be found under \"<>Code\" -> \"HTTPS\" on the homepage of the repository."
      ]
    },
    {
      "cell_type": "markdown",
      "id": "bd4dd903",
      "metadata": {
        "id": "bd4dd903"
      },
      "source": [
        "Check your files. The entire repository should be saved under a new folder there."
      ]
    },
    {
      "cell_type": "markdown",
      "id": "f6eac0a7",
      "metadata": {
        "id": "f6eac0a7"
      },
      "source": [
        "### $\\color{orange}{\\text{Activity 2: Commit to GitHub}}$"
      ]
    },
    {
      "cell_type": "markdown",
      "id": "c05fb909",
      "metadata": {
        "id": "c05fb909"
      },
      "source": [
        "When you have completed working through this notebook, download a copy (File -> Download as -> Notebook (.ipynb)). In the course GitHub, upload a copy of this notebook under the folder `Week_1/Week_1_Completed`."
      ]
    },
    {
      "cell_type": "markdown",
      "id": "e33800b2",
      "metadata": {
        "id": "e33800b2"
      },
      "source": [
        "If you were working in a group on a project that needs **continuously updated as you work on it**, GitHub allows you to sync your notebooks with the repository. This is, in fact, what GitHub is designed for and a common use for the repositories. While we will not be using this functionality for this course, find more information here: https://docs.qubole.com/en/latest/user-guide/notebooks-and-dashboards/notebooks/jupyter-notebooks/managing-jupy-notebook-versions/link-jupy-notebook-github.html"
      ]
    },
    {
      "cell_type": "markdown",
      "id": "c3ebf5ce",
      "metadata": {
        "id": "c3ebf5ce"
      },
      "source": [
        "# NumPy"
      ]
    },
    {
      "cell_type": "markdown",
      "id": "cb5c8012",
      "metadata": {
        "id": "cb5c8012"
      },
      "source": [
        "Let's use NumPy for some array manipulation. **NumPy is a standard package for computaing involving large sets of data, including statistical analyses.** Documentation and more information, inculding an array of interesting compatable packages for research purposes, can be found here: https://numpy.org/."
      ]
    },
    {
      "cell_type": "code",
      "execution_count": null,
      "id": "f6686674",
      "metadata": {
        "id": "f6686674"
      },
      "outputs": [],
      "source": [
        "#Let's create a 4x4 NumPy array. A NumPy array is a specific dataframe type that is used universally across many packages.\n",
        "array = np.array([[2.4, 6.4, 2.1, 8.0], [1.1, 1.2, 6.4, 3.2], [9.3, 0.3, 5.6, 5.7], [7.8, 3.2, 5.5, 7.0]])"
      ]
    },
    {
      "cell_type": "code",
      "execution_count": null,
      "id": "c73b6206",
      "metadata": {
        "id": "c73b6206",
        "outputId": "feaa59e4-ce4e-4343-b987-3df1d6431366",
        "colab": {
          "base_uri": "https://localhost:8080/"
        }
      },
      "outputs": [
        {
          "output_type": "stream",
          "name": "stdout",
          "text": [
            "float64\n",
            "<class 'numpy.ndarray'>\n",
            "[[2.4 6.4 2.1 8. ]\n",
            " [1.1 1.2 6.4 3.2]\n",
            " [9.3 0.3 5.6 5.7]\n",
            " [7.8 3.2 5.5 7. ]]\n"
          ]
        }
      ],
      "source": [
        "#Let's check the data and object types.\n",
        "print(array.dtype)\n",
        "print(type(array))\n",
        "print(array)"
      ]
    },
    {
      "cell_type": "markdown",
      "id": "d7504016",
      "metadata": {
        "id": "d7504016"
      },
      "source": [
        "Often, we will have to convert to the appropriate dataframe/object type in order to use certain functions. NumPy has some functions that convert between object types. Let's generate a regular Python list and convert it to a NumPy array."
      ]
    },
    {
      "cell_type": "code",
      "execution_count": null,
      "id": "babfa107",
      "metadata": {
        "id": "babfa107",
        "outputId": "adc062ec-26a6-4cb3-c5be-886f1a5fe403",
        "colab": {
          "base_uri": "https://localhost:8080/"
        }
      },
      "outputs": [
        {
          "output_type": "stream",
          "name": "stdout",
          "text": [
            "[1, 2, 3, 4, 5, 6, 7]\n",
            "<class 'list'>\n",
            "[1 2 3 4 5 6 7]\n",
            "<class 'numpy.ndarray'>\n"
          ]
        }
      ],
      "source": [
        "list = [1, 2, 3, 4, 5, 6, 7]\n",
        "print(list)\n",
        "print(type(list))\n",
        "\n",
        "list = np.asarray(list)\n",
        "print(list)\n",
        "print(type(list))"
      ]
    },
    {
      "cell_type": "markdown",
      "id": "f9f140a2",
      "metadata": {
        "id": "f9f140a2"
      },
      "source": [
        "See what happened there?"
      ]
    },
    {
      "cell_type": "markdown",
      "id": "113c56f2",
      "metadata": {
        "id": "113c56f2"
      },
      "source": [
        "### $\\color{orange}{\\text{Activity 3: Manipulating NumPy Arrays}}$"
      ]
    },
    {
      "cell_type": "markdown",
      "id": "719842f4",
      "metadata": {
        "id": "719842f4"
      },
      "source": [
        "Print this NumPy array.\n",
        "\n",
        "**1.** Use indexing to return/print the element in the [3,3] position.\n",
        "\n",
        "**2.** Then, swap the element in the [2,4] position with the element in the [1,3] position; print the result.\n",
        "\n",
        "**3.** Next, rewrite the element in the [1,4] position to equal 0. Print the result.\n",
        "\n",
        "**4.** Lastly, use indexing to locate which coordinate the value of 9.3 is located. Print the result.\n",
        "\n",
        "More information on indexing and basic NumPy can be found here: https://numpy.org/doc/stable/user/absolute_beginners.html"
      ]
    },
    {
      "cell_type": "code",
      "execution_count": null,
      "id": "1b988801",
      "metadata": {
        "id": "1b988801",
        "colab": {
          "base_uri": "https://localhost:8080/"
        },
        "outputId": "0f3e9290-68b0-48fe-d28d-74d9ebd669b6"
      },
      "outputs": [
        {
          "output_type": "stream",
          "name": "stdout",
          "text": [
            "[[2.4 6.4 2.1 8. ]\n",
            " [1.1 1.2 6.4 3.2]\n",
            " [9.3 0.3 5.6 5.7]\n",
            " [7.8 3.2 5.5 7. ]]\n",
            "5.6\n",
            "[[2.4 6.4 3.2 8. ]\n",
            " [1.1 1.2 6.4 2.1]\n",
            " [9.3 0.3 5.6 5.7]\n",
            " [7.8 3.2 5.5 7. ]]\n",
            "[[2.4 6.4 3.2 0. ]\n",
            " [1.1 1.2 6.4 2.1]\n",
            " [9.3 0.3 5.6 5.7]\n",
            " [7.8 3.2 5.5 7. ]]\n"
          ]
        },
        {
          "output_type": "execute_result",
          "data": {
            "text/plain": [
              "(array([2]), array([0]))"
            ]
          },
          "metadata": {},
          "execution_count": 56
        }
      ],
      "source": [
        "#Activity 3\n",
        "array = np.array([[2.4, 6.4, 2.1, 8.0], [1.1, 1.2, 6.4, 3.2], [9.3, 0.3, 5.6, 5.7], [7.8, 3.2, 5.5, 7.0]])\n",
        "\n",
        "print(array)\n",
        "\n",
        "print(array[2,2])\n",
        "\n",
        "var = array[0,2]\n",
        "array[0,2] = array[1,3]\n",
        "array[1,3] = var\n",
        "print(array)\n",
        "\n",
        "array[0,3] = 0\n",
        "print(array)\n",
        "\n",
        "newArray = np.nonzero(array == 9.3)\n",
        "newArray\n",
        "#Therefore 9.3 occurs at position (3,1)"
      ]
    },
    {
      "cell_type": "markdown",
      "id": "dad63821",
      "metadata": {
        "id": "dad63821"
      },
      "source": [
        "### np.mean & More!"
      ]
    },
    {
      "cell_type": "markdown",
      "id": "8d5a120b",
      "metadata": {
        "id": "8d5a120b"
      },
      "source": [
        "NumPy hosts an array of statistical functions that are relatively easy to use. Let's find the mean of the array we created."
      ]
    },
    {
      "cell_type": "code",
      "execution_count": null,
      "id": "08a4a55d",
      "metadata": {
        "id": "08a4a55d",
        "outputId": "428d5f5d-cbb5-4e1a-c855-4893f311f956",
        "colab": {
          "base_uri": "https://localhost:8080/"
        }
      },
      "outputs": [
        {
          "output_type": "stream",
          "name": "stdout",
          "text": [
            "4.2\n",
            "[5.15  2.775 5.175 3.7  ]\n"
          ]
        }
      ],
      "source": [
        "print(np.mean(array)) #This takes the mean of all 16 values in the array.\n",
        "\n",
        "mean = np.mean(array, axis=0)\n",
        "print(mean) #Prints an array of the mean of each column of the array."
      ]
    },
    {
      "cell_type": "markdown",
      "id": "78375f08",
      "metadata": {
        "id": "78375f08"
      },
      "source": [
        "You can also take the standard deviation. See documentation for more example functions (https://numpy.org/doc/stable/reference/routines.statistics.html)."
      ]
    },
    {
      "cell_type": "code",
      "execution_count": null,
      "id": "5162bd05",
      "metadata": {
        "id": "5162bd05",
        "outputId": "5bda0697-afe5-4e33-a023-7b392742f3bb",
        "colab": {
          "base_uri": "https://localhost:8080/"
        }
      },
      "outputs": [
        {
          "output_type": "stream",
          "name": "stdout",
          "text": [
            "2.7782638463616087\n"
          ]
        }
      ],
      "source": [
        "print(np.std(array))"
      ]
    },
    {
      "cell_type": "markdown",
      "id": "1bf85a52",
      "metadata": {
        "id": "1bf85a52"
      },
      "source": [
        "### $\\color{orange}{\\text{Activity 4: Statistics}}$"
      ]
    },
    {
      "cell_type": "markdown",
      "id": "6b29b737",
      "metadata": {
        "id": "6b29b737"
      },
      "source": [
        "This activity will have you test a variety of statistical functions from NumPy on the dataframe `array`. Use NumPy documentation to find the appropriate functions for each step.\n",
        "\n",
        "**1.** Compute and print the variance ($\\sigma^2$) of the entire array.\n",
        "\n",
        "**2.** Compute and print the median, first quartile, and third quartile of the enitre array.\n",
        "\n",
        "**3.** Compute and print the corrolation coefficient, using indexing, of Row 1 against Row 2 of the array."
      ]
    },
    {
      "cell_type": "code",
      "execution_count": null,
      "id": "74cd221f",
      "metadata": {
        "id": "74cd221f",
        "colab": {
          "base_uri": "https://localhost:8080/"
        },
        "outputId": "ca6e9dc3-28c1-4b68-8f0c-e73aaf3c5ebb"
      },
      "outputs": [
        {
          "output_type": "stream",
          "name": "stdout",
          "text": [
            "7.71875\n",
            "4.35\n",
            "1.875\n",
            "6.4\n",
            "[[ 1.         -0.08047361]\n",
            " [-0.08047361  1.        ]]\n"
          ]
        }
      ],
      "source": [
        "#Activity 4\n",
        "\n",
        "var = np.var(array)\n",
        "print(var)\n",
        "\n",
        "print(np.median(array))\n",
        "print(np.quantile(array, 0.25))\n",
        "print(np.quantile(array, 0.75))\n",
        "\n",
        "print(np.corrcoef(array[0], array[1]))\n"
      ]
    },
    {
      "cell_type": "markdown",
      "id": "a3116fee",
      "metadata": {
        "id": "a3116fee"
      },
      "source": [
        "### np.random"
      ]
    },
    {
      "cell_type": "markdown",
      "id": "811a978a",
      "metadata": {
        "id": "811a978a"
      },
      "source": [
        "NumPy can be used to generate arrays of random variables, selected using a variety of sampling methods."
      ]
    },
    {
      "cell_type": "code",
      "execution_count": null,
      "id": "3ea6f099",
      "metadata": {
        "id": "3ea6f099",
        "outputId": "ad7d6511-1b40-400e-a32c-7826864309f5",
        "colab": {
          "base_uri": "https://localhost:8080/"
        }
      },
      "outputs": [
        {
          "output_type": "stream",
          "name": "stdout",
          "text": [
            "[[0.65823325 0.55451798 0.41945795 0.70048007]]\n"
          ]
        }
      ],
      "source": [
        "random_array = np.random.rand(1,4) #np.random.rand generates an array of the given size from a uniform distribution between 0 (inclusive) and 1 (exclusive).\n",
        "print(random_array)"
      ]
    },
    {
      "cell_type": "markdown",
      "id": "b71ec01d",
      "metadata": {
        "id": "b71ec01d"
      },
      "source": [
        "### $\\color{orange}{\\text{Activity 5: Random Normal and Poisson Distributions}}$"
      ]
    },
    {
      "cell_type": "markdown",
      "id": "7c12b4d3",
      "metadata": {
        "id": "7c12b4d3"
      },
      "source": [
        "Use NumPy documentation to learn how to generate random values selected from a Normal and a Poisson distribution. Comment the link to the documentation. Then:\n",
        "\n",
        "**1.** Generate a random array of size [10000] of values selected from a Poisson distribution of frequency $\\lambda$ = 2.0. Do not print the array! (Note: How did I get the lambda symbol on here? You can use LaTeX formatting in Python. We will talk about this next week.)\n",
        "\n",
        "**2.** Calculate and print the mean of this distribution, the standard deviation, the first and third quartile, and the median using NumPy.\n",
        "\n",
        "**3.** Now generate a new Poisson-sampled array of size [10]. Calculate and print the mean, standard deviation, first and third quartile, and median.\n",
        "\n",
        "**4.** Compare the values between Steps 2 and 3. What changed? Why? What is a Poisson distribution and what is it used for?\n",
        "\n",
        "**5.** Repeat Steps 1-4 for random values sampled from a normal distribution of mean $\\mu$ = 10.0 and standard deviation $\\sigma$ = 3.0.\n",
        "\n",
        "**6.** Why do you think understanding statistics and the distributions from which random numbers are generated is important to physics research?"
      ]
    },
    {
      "cell_type": "code",
      "execution_count": null,
      "id": "b3177f2c",
      "metadata": {
        "id": "b3177f2c",
        "colab": {
          "base_uri": "https://localhost:8080/"
        },
        "outputId": "696e998c-d515-4884-d272-e1434484bc46"
      },
      "outputs": [
        {
          "output_type": "stream",
          "name": "stdout",
          "text": [
            "Array of 10000\n",
            "2.0005\n",
            "1.415874199920318\n",
            "1.0\n",
            "3.0\n",
            "2.0\n",
            "Array of 10\n",
            "1.6\n",
            "1.2\n",
            "1.0\n",
            "2.0\n",
            "1.5\n"
          ]
        }
      ],
      "source": [
        "# Activity 5\n",
        "#https://numpy.org/doc/stable/reference/random/generated/numpy.random.RandomState.poisson.html\n",
        "#https://numpy.org/doc/stable/reference/random/generated/numpy.random.RandomState.normal.html\n",
        "print(\"Array of 10000\")\n",
        "arr = np.random.poisson(2, 10000)\n",
        "print(np.mean(arr))\n",
        "print(np.std(arr))\n",
        "print(np.quantile(arr, 0.25))\n",
        "print(np.quantile(arr, 0.75))\n",
        "print(np.median(arr))\n",
        "print(\"Array of 10\")\n",
        "newArr = np.random.poisson(2, 10)\n",
        "print(np.mean(newArr))\n",
        "print(np.std(newArr))\n",
        "print(np.quantile(newArr, 0.25))\n",
        "print(np.quantile(newArr, 0.75))\n",
        "print(np.median(newArr))"
      ]
    },
    {
      "cell_type": "markdown",
      "source": [
        "When there are 10000 data points the average is much closer to the middle so a lot more accurate than when there are only 10 points. This is why you need more data points for your data to be more accurate.\n",
        "Poisson distribution (getting my information from wikipedia) describes the probability of a number of events occuring over a fixed span of time. I don't fully understand this but some examples wikipedia gave were pretty good. https://en.wikipedia.org/wiki/Poisson_distribution"
      ],
      "metadata": {
        "id": "EsXxgby1LW68"
      },
      "id": "EsXxgby1LW68"
    },
    {
      "cell_type": "code",
      "source": [
        "print(\"Array of 10000\")\n",
        "arr = np.random.normal(10, 3, 10000)\n",
        "print(np.mean(arr))\n",
        "print(np.std(arr))\n",
        "print(np.quantile(arr, 0.25))\n",
        "print(np.quantile(arr, 0.75))\n",
        "print(np.median(arr))\n",
        "print(\"Array of 10\")\n",
        "newArr = np.random.normal(10, 3, 10)\n",
        "print(np.mean(newArr))\n",
        "print(np.std(newArr))\n",
        "print(np.quantile(newArr, 0.25))\n",
        "print(np.quantile(newArr, 0.75))\n",
        "print(np.median(newArr))"
      ],
      "metadata": {
        "colab": {
          "base_uri": "https://localhost:8080/"
        },
        "id": "lTPGbxwBSFIV",
        "outputId": "4459c03f-a191-4eb4-c683-da1f622455d7"
      },
      "id": "lTPGbxwBSFIV",
      "execution_count": null,
      "outputs": [
        {
          "output_type": "stream",
          "name": "stdout",
          "text": [
            "Array of 10000\n",
            "10.028040866161922\n",
            "3.0057495158445993\n",
            "8.00521668553024\n",
            "12.00675881100251\n",
            "10.035925360773298\n",
            "Array of 10\n",
            "10.446740732410607\n",
            "2.8930149202058915\n",
            "9.09668444016065\n",
            "12.260184201826776\n",
            "10.141153258900614\n"
          ]
        }
      ]
    },
    {
      "cell_type": "markdown",
      "source": [
        "Again like the Poisson distributions, when there were 10000 the data was a lot more accurate to the mean than when there were only 10."
      ],
      "metadata": {
        "id": "_2FL_OJNSu1f"
      },
      "id": "_2FL_OJNSu1f"
    },
    {
      "cell_type": "markdown",
      "source": [
        "In nature, particles and other objects act in certain ways, so understanding all these distributions and statistics gives us ways to model and simulate some types of physics."
      ],
      "metadata": {
        "id": "Mv5ydmLTTH0x"
      },
      "id": "Mv5ydmLTTH0x"
    },
    {
      "cell_type": "markdown",
      "id": "19c6348f",
      "metadata": {
        "id": "19c6348f"
      },
      "source": [
        "### Math in NumPy"
      ]
    },
    {
      "cell_type": "markdown",
      "id": "46ada0e0",
      "metadata": {
        "id": "46ada0e0"
      },
      "source": [
        "NumPy has a few mathematical functions available that it stole from SciPy (reformatting a function in this way, between packages, objects, or programming languages, is broadly called a \"wrapper\"). Let's practice using some of these (found here: https://numpy.org/doc/stable/reference/routines.emath.html)."
      ]
    },
    {
      "cell_type": "code",
      "execution_count": null,
      "id": "e77ffca7",
      "metadata": {
        "id": "e77ffca7",
        "outputId": "cd0a4064-4a76-4d71-e2e7-d953a5f0f429",
        "colab": {
          "base_uri": "https://localhost:8080/"
        }
      },
      "outputs": [
        {
          "output_type": "stream",
          "name": "stdout",
          "text": [
            "[[1.54919334 2.52982213 1.78885438 0.        ]\n",
            " [1.04880885 1.09544512 2.52982213 1.44913767]\n",
            " [3.04959014 0.54772256 2.36643191 2.38746728]\n",
            " [2.79284801 1.78885438 2.34520788 2.64575131]]\n"
          ]
        }
      ],
      "source": [
        "#Lets take the square root of the original array and save it under the same variable.\n",
        "array = np.sqrt(array)\n",
        "print(array)"
      ]
    },
    {
      "cell_type": "markdown",
      "id": "22022865",
      "metadata": {
        "id": "22022865"
      },
      "source": [
        "### $\\color{orange}{\\text{Activity 6: Log Transform}}$"
      ]
    },
    {
      "cell_type": "markdown",
      "id": "8a7af354",
      "metadata": {
        "id": "8a7af354"
      },
      "source": [
        "Use NumPy mathematical functions to take the base-10 logrithum of the entire `array`. This is called a log transform and is often performed on data displayed in graphs to emphasize certain trends/data points. We will talk about this more next week."
      ]
    },
    {
      "cell_type": "code",
      "execution_count": null,
      "id": "a13963be",
      "metadata": {
        "id": "a13963be",
        "colab": {
          "base_uri": "https://localhost:8080/"
        },
        "outputId": "51135817-428e-46a9-9288-d486c0aebd8e"
      },
      "outputs": [
        {
          "output_type": "stream",
          "name": "stdout",
          "text": [
            "[[1.54919334 2.52982213 1.78885438 0.        ]\n",
            " [1.04880885 1.09544512 2.52982213 1.44913767]\n",
            " [3.04959014 0.54772256 2.36643191 2.38746728]\n",
            " [2.79284801 1.78885438 2.34520788 2.64575131]]\n",
            "[[ 0.19010562  0.40308999  0.25257499        -inf]\n",
            " [ 0.02069634  0.03959062  0.40308999  0.16110965]\n",
            " [ 0.48424147 -0.26143937  0.37409401  0.37793743]\n",
            " [ 0.4460473   0.25257499  0.37018134  0.42254902]]\n"
          ]
        },
        {
          "output_type": "stream",
          "name": "stderr",
          "text": [
            "/usr/local/lib/python3.10/dist-packages/numpy/lib/scimath.py:346: RuntimeWarning: divide by zero encountered in log10\n",
            "  return nx.log10(x)\n"
          ]
        }
      ],
      "source": [
        "# Activity 6\n",
        "print(array)\n",
        "print(np.emath.log10(array))"
      ]
    },
    {
      "cell_type": "markdown",
      "id": "1ca77b9e",
      "metadata": {
        "id": "1ca77b9e"
      },
      "source": [
        "### Special Functions in NumPy"
      ]
    },
    {
      "cell_type": "markdown",
      "id": "9b6f0b16",
      "metadata": {
        "id": "9b6f0b16"
      },
      "source": [
        "Aside from these, NumPy hosts an array (Ha! See what I did there?) of other special functions that can be applied to NumPy dataframes."
      ]
    },
    {
      "cell_type": "markdown",
      "id": "e22ef28b",
      "metadata": {
        "id": "e22ef28b"
      },
      "source": [
        "### $\\color{orange}{\\text{Activity 7: Fast Fourier Transform}}$"
      ]
    },
    {
      "cell_type": "code",
      "execution_count": null,
      "id": "1f1fcde8",
      "metadata": {
        "id": "1f1fcde8"
      },
      "outputs": [],
      "source": [
        "data = np.random.rand(100)"
      ]
    },
    {
      "cell_type": "markdown",
      "id": "514c2e68",
      "metadata": {
        "id": "514c2e68"
      },
      "source": [
        "Use NumPy and documentation to perform a 1D, discrete fast Fourier Transform on the `data` dataframe provided. Print the result and describe the data; are the data real or complex? What is a Fourier Transform?"
      ]
    },
    {
      "cell_type": "code",
      "execution_count": null,
      "id": "a4a526bd",
      "metadata": {
        "id": "a4a526bd",
        "colab": {
          "base_uri": "https://localhost:8080/"
        },
        "outputId": "e1435ea5-83fd-4d1e-80b2-29cce5eec3d5"
      },
      "outputs": [
        {
          "output_type": "stream",
          "name": "stdout",
          "text": [
            "[52.32631903+0.j         -1.40450705-0.74144721j  0.76763919+2.50576344j\n",
            "  0.52226026+1.79645359j  6.06078442-1.63239805j  1.4970391 -0.36421137j\n",
            " -0.67041659+3.02102578j  2.15711031-1.79888214j  0.92634601-0.36848477j\n",
            "  2.56767152+1.98845644j  1.7453003 +1.21465644j  3.06502345-0.5182671j\n",
            " -2.02958431-1.83873597j -0.47686532+2.16434546j  1.67017117-0.46841777j\n",
            "  1.79326001+3.03819076j  0.07769043+2.52430954j  2.57247089-0.75385816j\n",
            "  0.65675042+0.05484794j  1.55242811+4.32861256j  1.67137672-2.28129551j\n",
            "  0.29464586-1.29163861j -1.69471023-3.51530186j -2.41651913+2.71275222j\n",
            " -2.76147005+0.55101012j  1.85461696-1.91312273j -0.64945205-1.95573635j\n",
            "  1.44163072-1.67292841j -0.73881931+1.33901174j  0.2444584 +1.96486887j\n",
            " -3.07667907-1.95969125j -1.97321491+0.65101944j  2.35732824-2.09099304j\n",
            "  3.68745309-0.10533118j  5.0206158 +1.90009723j  1.39089016-3.09621028j\n",
            " -1.6797635 -0.36248438j -3.37881678+1.04197379j  1.8759076 -3.96677549j\n",
            " -2.59244791+2.15820142j -2.06119297-0.21702048j  0.17339298-0.67381316j\n",
            " -1.52018234+0.78533606j  1.72294315+3.9205605j  -3.52028757-0.67183772j\n",
            " -0.06380579+3.71643148j -1.62220455+0.62126418j  1.01546004-3.33351171j\n",
            "  0.08402616+1.58295424j -0.39390875-0.75303461j  2.4557148 +0.j\n",
            " -0.39390875+0.75303461j  0.08402616-1.58295424j  1.01546004+3.33351171j\n",
            " -1.62220455-0.62126418j -0.06380579-3.71643148j -3.52028757+0.67183772j\n",
            "  1.72294315-3.9205605j  -1.52018234-0.78533606j  0.17339298+0.67381316j\n",
            " -2.06119297+0.21702048j -2.59244791-2.15820142j  1.8759076 +3.96677549j\n",
            " -3.37881678-1.04197379j -1.6797635 +0.36248438j  1.39089016+3.09621028j\n",
            "  5.0206158 -1.90009723j  3.68745309+0.10533118j  2.35732824+2.09099304j\n",
            " -1.97321491-0.65101944j -3.07667907+1.95969125j  0.2444584 -1.96486887j\n",
            " -0.73881931-1.33901174j  1.44163072+1.67292841j -0.64945205+1.95573635j\n",
            "  1.85461696+1.91312273j -2.76147005-0.55101012j -2.41651913-2.71275222j\n",
            " -1.69471023+3.51530186j  0.29464586+1.29163861j  1.67137672+2.28129551j\n",
            "  1.55242811-4.32861256j  0.65675042-0.05484794j  2.57247089+0.75385816j\n",
            "  0.07769043-2.52430954j  1.79326001-3.03819076j  1.67017117+0.46841777j\n",
            " -0.47686532-2.16434546j -2.02958431+1.83873597j  3.06502345+0.5182671j\n",
            "  1.7453003 -1.21465644j  2.56767152-1.98845644j  0.92634601+0.36848477j\n",
            "  2.15711031+1.79888214j -0.67041659-3.02102578j  1.4970391 +0.36421137j\n",
            "  6.06078442+1.63239805j  0.52226026-1.79645359j  0.76763919-2.50576344j\n",
            " -1.40450705+0.74144721j]\n"
          ]
        }
      ],
      "source": [
        "#Activity 7\n",
        "\n",
        "print(np.fft.fft(data))\n",
        "\n",
        "#The output data is complex\n",
        "#I'm not 100% sure, but from what I understand, a fourier transform basically looks at a set of data, and would transform it to where points or parts of the data that reoccur have a higher peak in the new fourier graph, so it's a lot easier to see which numbers in this case come up more than others."
      ]
    },
    {
      "cell_type": "markdown",
      "id": "f63e2285",
      "metadata": {
        "id": "f63e2285"
      },
      "source": [
        "____________________________________________________"
      ]
    },
    {
      "cell_type": "markdown",
      "id": "1bcb1c7e",
      "metadata": {
        "id": "1bcb1c7e"
      },
      "source": [
        "# Matplotlib"
      ]
    },
    {
      "cell_type": "markdown",
      "id": "95782d52",
      "metadata": {
        "id": "95782d52"
      },
      "source": [
        "Where there is science, there's observations. Where there's observations, there's data. How do we plot the data we collect such that conclusions can be drawn and results communicated? We mostly frequently use a Python package called `Matplotlib`."
      ]
    },
    {
      "cell_type": "markdown",
      "id": "1dd4404b",
      "metadata": {
        "id": "1dd4404b"
      },
      "source": [
        "$\\color{Blue}{\\text{A helpful Matplotlib cheatsheet is located here:}}$ https://matplotlib.org/cheatsheets/_images/cheatsheets-1.png\n",
        "\n",
        "\n",
        "$\\color{Green}{\\text{An important part of data visualization is what colors you use to represent datasets. A list of Matplotlib color names is located here:}}$ https://matplotlib.org/stable/gallery/color/named_colors.html#sphx-glr-gallery-color-named-colors-py$\\color{Green}{\\text{. A list of color gradient names is located here:}}$ https://matplotlib.org/stable/users/explain/colors/colormaps.html\n"
      ]
    },
    {
      "cell_type": "markdown",
      "id": "b43751d0",
      "metadata": {
        "id": "b43751d0"
      },
      "source": [
        "Let's create a variety of basic plots."
      ]
    },
    {
      "cell_type": "markdown",
      "id": "97924fb5",
      "metadata": {
        "id": "97924fb5"
      },
      "source": [
        "### Plotting a Function"
      ]
    },
    {
      "cell_type": "code",
      "execution_count": null,
      "id": "9ef08db4",
      "metadata": {
        "id": "9ef08db4",
        "outputId": "1fd57cf8-f841-427d-d154-6c18b68efa8d",
        "colab": {
          "base_uri": "https://localhost:8080/",
          "height": 472
        }
      },
      "outputs": [
        {
          "output_type": "display_data",
          "data": {
            "text/plain": [
              "<Figure size 640x480 with 1 Axes>"
            ],
            "image/png": "[encoded data removed]"
          },
          "metadata": {}
        }
      ],
      "source": [
        "#Let's plot a quadratic function.\n",
        "import matplotlib.pyplot as plt\n",
        "\n",
        "def y(x):\n",
        "    return x**2\n",
        "x = np.linspace(-10, 10, 100) #It's important to understand what this function does: https://numpy.org/doc/stable/reference/generated/numpy.linspace.html\n",
        "y = y(x)\n",
        "\n",
        "plot = plt.plot(x, y, color='red') #Plotting a continuous curve requires the `plt.plot()` function.\n",
        "plt.xlabel(\"x\") #x-axis label\n",
        "plt.ylabel(\"y\") #y-axis label\n",
        "plt.title(\"Quadratic Function\")\n",
        "plt.show() #While not needed for some `plt` functions, `plt.show()` must often be written in order to tell"
      ]
    },
    {
      "cell_type": "markdown",
      "id": "e1274117",
      "metadata": {
        "id": "e1274117"
      },
      "source": [
        "### Scatterplots and Histograms"
      ]
    },
    {
      "cell_type": "markdown",
      "id": "01e9da84",
      "metadata": {
        "id": "01e9da84"
      },
      "source": [
        "Let's generate two arrays of random datapoints taken from a chi-squared distribution (see a description of Chi-Squared distributions here: https://www.scribbr.com/statistics/chi-square-distributions/) using NumPy and plot both of them using a scatterplot and histograms."
      ]
    },
    {
      "cell_type": "code",
      "execution_count": null,
      "id": "e43dace3",
      "metadata": {
        "id": "e43dace3"
      },
      "outputs": [],
      "source": [
        "chi_squared_1 = np.random.chisquare(5, 100)\n",
        "chi_squared_2 = np.random.chisquare(3, 100)"
      ]
    },
    {
      "cell_type": "code",
      "execution_count": null,
      "id": "ed3e9548",
      "metadata": {
        "id": "ed3e9548",
        "outputId": "9b408c96-ac8d-489f-83cd-524dd5a0731d",
        "colab": {
          "base_uri": "https://localhost:8080/",
          "height": 472
        }
      },
      "outputs": [
        {
          "output_type": "display_data",
          "data": {
            "text/plain": [
              "<Figure size 640x480 with 1 Axes>"
            ],
            "image/png": "[encoded data removed]"
          },
          "metadata": {}
        }
      ],
      "source": [
        "#Scatterplot (takes two variables)\n",
        "\n",
        "plot2 = plt.scatter(chi_squared_1, chi_squared_2, color = 'navy', marker = \"*\") #Notice the markers!\n",
        "plt.xlabel(\"Chi-Squared 1\") #x-axis label\n",
        "plt.ylabel(\"Chi-Squared 2\") #y-axis label\n",
        "plt.title(\"Chi-Squared Compared\")\n",
        "plt.show()"
      ]
    },
    {
      "cell_type": "code",
      "execution_count": null,
      "id": "b9a5108f",
      "metadata": {
        "id": "b9a5108f",
        "outputId": "a74d1b82-7cbe-4d3b-fa84-b8af785b9dde",
        "colab": {
          "base_uri": "https://localhost:8080/",
          "height": 927
        }
      },
      "outputs": [
        {
          "output_type": "display_data",
          "data": {
            "text/plain": [
              "<Figure size 640x480 with 1 Axes>"
            ],
            "image/png": "[encoded data removed]"
          },
          "metadata": {}
        },
        {
          "output_type": "display_data",
          "data": {
            "text/plain": [
              "<Figure size 640x480 with 1 Axes>"
            ],
            "image/png": "[encoded data removed]"
          },
          "metadata": {}
        }
      ],
      "source": [
        "#Two histograms (one-dimensional), one for each dataset\n",
        "\n",
        "plot3 = plt.hist(chi_squared_1, bins = 20, color = 'violet') #The \"bins\" value is the number of divisions/bars that display the frequency of datapoints within the numeric range of each bin.\n",
        "plt.xlabel(\"Values\")\n",
        "plt.ylabel(\"Frequency\")\n",
        "plt.title(\"Chi-Squared 1\")\n",
        "plt.show()\n",
        "\n",
        "plot4 = plt.hist(chi_squared_2, bins = 20, color = 'darkviolet') #The \"bins\" value is the number of divisions/bars that display the frequency of datapoints within the numeric range of each bin.\n",
        "plt.xlabel(\"Values\")\n",
        "plt.ylabel(\"Frequency\")\n",
        "plt.title(\"Chi-Squared 2\")\n",
        "plt.show()"
      ]
    },
    {
      "cell_type": "markdown",
      "id": "77e1b5e0",
      "metadata": {
        "id": "77e1b5e0"
      },
      "source": [
        "### $\\color{orange}{\\text{Activity 8: 2D Histograms}}$"
      ]
    },
    {
      "cell_type": "markdown",
      "id": "9a21adff",
      "metadata": {
        "id": "9a21adff"
      },
      "source": [
        "Histograms display the number/frequency of datapoints in a dataset that reside in numeric bins lying along a 1D \"axis.\" What if we want to display the number of datapoints in bins along two intersecting axes? In this case, we use a 2D histogram which uses a \"colorbar\" to represent the frequency of datapoints in each bin. Below is some code used to plot one such 2D histogram."
      ]
    },
    {
      "cell_type": "code",
      "execution_count": null,
      "id": "e854d3f1",
      "metadata": {
        "id": "e854d3f1",
        "outputId": "61acff77-c266-4fcd-aef1-ef75b08af26b",
        "colab": {
          "base_uri": "https://localhost:8080/",
          "height": 486
        }
      },
      "outputs": [
        {
          "output_type": "display_data",
          "data": {
            "text/plain": [
              "<Figure size 640x480 with 2 Axes>"
            ],
            "image/png": "[encoded data removed]"
          },
          "metadata": {}
        }
      ],
      "source": [
        "import matplotlib.pyplot as plt\n",
        "import matplotlib as mpl\n",
        "\n",
        "fig, ax = plt.subplots(tight_layout=True)\n",
        "hist = ax.hist2d(chi_squared_1, chi_squared_2, norm=mpl.colors.LogNorm())\n",
        "\n",
        "#For this next part of code I tried looking in documentation, but unfortunately I couldn't find it. I'm not even sure where to look, so I used chatGPT for this, and I checked it with the answer\n",
        "#you gave in your answers code and it was nearly identical.\n",
        "\n",
        "ax.set_xlabel(\"chi_squared 1\")\n",
        "ax.set_ylabel(\"chi_squared 2\")\n",
        "\n",
        "bar = fig.colorbar(hist[3])\n",
        "bar.set_label(\"Frequency\")"
      ]
    },
    {
      "cell_type": "markdown",
      "id": "6db4dd49",
      "metadata": {
        "id": "6db4dd49"
      },
      "source": [
        "Use documentation, StackExchange, ChatGPT, etc. to learn how to add x- and y-labels and a colorbar to this graph."
      ]
    },
    {
      "cell_type": "markdown",
      "id": "ce0c0ac0",
      "metadata": {
        "id": "ce0c0ac0"
      },
      "source": [
        "--------------------------------------------------------"
      ]
    },
    {
      "cell_type": "markdown",
      "id": "7df6888c",
      "metadata": {
        "id": "7df6888c"
      },
      "source": [
        "# SciPy"
      ]
    },
    {
      "cell_type": "markdown",
      "id": "5d832610",
      "metadata": {
        "id": "5d832610"
      },
      "source": [
        "SciPy is a package that contains a variety of advanced mathematical functions such as numerical intregration, special functions, optimization (linear regressions, etc.), linear algebra, and more.\n",
        "\n",
        "First, let's check which version of SciPy we're using."
      ]
    },
    {
      "cell_type": "markdown",
      "id": "31baf3bd",
      "metadata": {
        "id": "31baf3bd"
      },
      "source": [
        "### $\\color{orange}{\\text{Activity 9: SciPy Version}}$"
      ]
    },
    {
      "cell_type": "markdown",
      "id": "9da01006",
      "metadata": {
        "id": "9da01006"
      },
      "source": [
        "Print which version of SciPy you're running using an f-string that reads \"The version of SciPy we're running is {insert version number}.\""
      ]
    },
    {
      "cell_type": "code",
      "execution_count": 78,
      "id": "9096e51b",
      "metadata": {
        "id": "9096e51b",
        "colab": {
          "base_uri": "https://localhost:8080/"
        },
        "outputId": "b7199728-0e1a-4eb0-c100-c7f433f0af99"
      },
      "outputs": [
        {
          "output_type": "stream",
          "name": "stdout",
          "text": [
            "The version of SciPy we're running is 1.11.4\n"
          ]
        }
      ],
      "source": [
        "#Activity 9\n",
        "print(f\"The version of SciPy we're running is {scipy.__version__}\")"
      ]
    },
    {
      "cell_type": "markdown",
      "id": "5a7fd3f3",
      "metadata": {
        "id": "5a7fd3f3"
      },
      "source": [
        "### scipy.integrate: Numerical Integration"
      ]
    },
    {
      "cell_type": "markdown",
      "id": "175ea129",
      "metadata": {
        "id": "175ea129"
      },
      "source": [
        "One of the most common reasons to use SciPy is its numerical integration function. Let's integrate a variety of functions provided by SciPy.\n",
        "\n",
        "A list of SciPy special functions are provided here: https://docs.scipy.org/doc/scipy/reference/special.html"
      ]
    },
    {
      "cell_type": "code",
      "execution_count": 79,
      "id": "8cca14b2",
      "metadata": {
        "id": "8cca14b2",
        "outputId": "b9b06cbb-c428-4846-b10c-724dbf5ab049",
        "colab": {
          "base_uri": "https://localhost:8080/",
          "height": 529
        }
      },
      "outputs": [
        {
          "output_type": "error",
          "ename": "ImportError",
          "evalue": "cannot import name '_NoValue' from 'scipy._lib.deprecation' (/usr/local/lib/python3.10/dist-packages/scipy/_lib/deprecation.py)",
          "traceback": [
            "\u001b[0;31m---------------------------------------------------------------------------\u001b[0m",
            "\u001b[0;31mImportError\u001b[0m                               Traceback (most recent call last)",
            "\u001b[0;32m<ipython-input-79-b7446a9957db>\u001b[0m in \u001b[0;36m<cell line: 2>\u001b[0;34m()\u001b[0m\n\u001b[1;32m      1\u001b[0m \u001b[0;31m#Import submodules of SciPy, which are not necessarily imported with the base package. Additionally, this makes it easier to call the entire submodule AND SciPy when we go to use a function from that submodule.\u001b[0m\u001b[0;34m\u001b[0m\u001b[0;34m\u001b[0m\u001b[0m\n\u001b[0;32m----> 2\u001b[0;31m \u001b[0;32mimport\u001b[0m \u001b[0mscipy\u001b[0m\u001b[0;34m.\u001b[0m\u001b[0mintegrate\u001b[0m \u001b[0;32mas\u001b[0m \u001b[0mintegrate\u001b[0m\u001b[0;34m\u001b[0m\u001b[0;34m\u001b[0m\u001b[0m\n\u001b[0m\u001b[1;32m      3\u001b[0m \u001b[0;32mimport\u001b[0m \u001b[0mscipy\u001b[0m\u001b[0;34m.\u001b[0m\u001b[0mspecial\u001b[0m \u001b[0;32mas\u001b[0m \u001b[0mspecial\u001b[0m \u001b[0;31m#Special functions in SciPy.\u001b[0m\u001b[0;34m\u001b[0m\u001b[0;34m\u001b[0m\u001b[0m\n\u001b[1;32m      4\u001b[0m \u001b[0;34m\u001b[0m\u001b[0m\n\u001b[1;32m      5\u001b[0m \u001b[0;31m#Let's define a simple function using variable x and output \"function\"\u001b[0m\u001b[0;34m\u001b[0m\u001b[0;34m\u001b[0m\u001b[0m\n",
            "\u001b[0;32m/usr/local/lib/python3.10/dist-packages/scipy/integrate/__init__.py\u001b[0m in \u001b[0;36m<module>\u001b[0;34m\u001b[0m\n\u001b[1;32m     92\u001b[0m \u001b[0;34m\u001b[0m\u001b[0m\n\u001b[1;32m     93\u001b[0m \u001b[0;34m\u001b[0m\u001b[0m\n\u001b[0;32m---> 94\u001b[0;31m \u001b[0;32mfrom\u001b[0m \u001b[0;34m.\u001b[0m\u001b[0m_quadrature\u001b[0m \u001b[0;32mimport\u001b[0m \u001b[0;34m*\u001b[0m\u001b[0;34m\u001b[0m\u001b[0;34m\u001b[0m\u001b[0m\n\u001b[0m\u001b[1;32m     95\u001b[0m \u001b[0;32mfrom\u001b[0m \u001b[0;34m.\u001b[0m\u001b[0m_odepack_py\u001b[0m \u001b[0;32mimport\u001b[0m \u001b[0;34m*\u001b[0m\u001b[0;34m\u001b[0m\u001b[0;34m\u001b[0m\u001b[0m\n\u001b[1;32m     96\u001b[0m \u001b[0;32mfrom\u001b[0m \u001b[0;34m.\u001b[0m\u001b[0m_quadpack_py\u001b[0m \u001b[0;32mimport\u001b[0m \u001b[0;34m*\u001b[0m\u001b[0;34m\u001b[0m\u001b[0;34m\u001b[0m\u001b[0m\n",
            "\u001b[0;32m/usr/local/lib/python3.10/dist-packages/scipy/integrate/_quadrature.py\u001b[0m in \u001b[0;36m<module>\u001b[0;34m\u001b[0m\n\u001b[1;32m      7\u001b[0m \u001b[0;32mfrom\u001b[0m \u001b[0mcollections\u001b[0m \u001b[0;32mimport\u001b[0m \u001b[0mnamedtuple\u001b[0m\u001b[0;34m\u001b[0m\u001b[0;34m\u001b[0m\u001b[0m\n\u001b[1;32m      8\u001b[0m \u001b[0;34m\u001b[0m\u001b[0m\n\u001b[0;32m----> 9\u001b[0;31m \u001b[0;32mfrom\u001b[0m \u001b[0mscipy\u001b[0m\u001b[0;34m.\u001b[0m\u001b[0mspecial\u001b[0m \u001b[0;32mimport\u001b[0m \u001b[0mroots_legendre\u001b[0m\u001b[0;34m\u001b[0m\u001b[0;34m\u001b[0m\u001b[0m\n\u001b[0m\u001b[1;32m     10\u001b[0m \u001b[0;32mfrom\u001b[0m \u001b[0mscipy\u001b[0m\u001b[0;34m.\u001b[0m\u001b[0mspecial\u001b[0m \u001b[0;32mimport\u001b[0m \u001b[0mgammaln\u001b[0m\u001b[0;34m,\u001b[0m \u001b[0mlogsumexp\u001b[0m\u001b[0;34m\u001b[0m\u001b[0;34m\u001b[0m\u001b[0m\n\u001b[1;32m     11\u001b[0m \u001b[0;32mfrom\u001b[0m \u001b[0mscipy\u001b[0m\u001b[0;34m.\u001b[0m\u001b[0m_lib\u001b[0m\u001b[0;34m.\u001b[0m\u001b[0m_util\u001b[0m \u001b[0;32mimport\u001b[0m \u001b[0m_rng_spawn\u001b[0m\u001b[0;34m\u001b[0m\u001b[0;34m\u001b[0m\u001b[0m\n",
            "\u001b[0;32m/usr/local/lib/python3.10/dist-packages/scipy/special/__init__.py\u001b[0m in \u001b[0;36m<module>\u001b[0;34m\u001b[0m\n\u001b[1;32m    783\u001b[0m     gammaln, gammainc, gammaincc, logit, expit)\n\u001b[1;32m    784\u001b[0m \u001b[0;34m\u001b[0m\u001b[0m\n\u001b[0;32m--> 785\u001b[0;31m \u001b[0;32mfrom\u001b[0m \u001b[0;34m.\u001b[0m \u001b[0;32mimport\u001b[0m \u001b[0m_basic\u001b[0m\u001b[0;34m\u001b[0m\u001b[0;34m\u001b[0m\u001b[0m\n\u001b[0m\u001b[1;32m    786\u001b[0m \u001b[0;32mfrom\u001b[0m \u001b[0;34m.\u001b[0m\u001b[0m_basic\u001b[0m \u001b[0;32mimport\u001b[0m \u001b[0;34m*\u001b[0m\u001b[0;34m\u001b[0m\u001b[0;34m\u001b[0m\u001b[0m\n\u001b[1;32m    787\u001b[0m \u001b[0;34m\u001b[0m\u001b[0m\n",
            "\u001b[0;32m/usr/local/lib/python3.10/dist-packages/scipy/special/_basic.py\u001b[0m in \u001b[0;36m<module>\u001b[0;34m\u001b[0m\n\u001b[1;32m     17\u001b[0m \u001b[0;32mfrom\u001b[0m \u001b[0;34m.\u001b[0m \u001b[0;32mimport\u001b[0m \u001b[0m_specfun\u001b[0m\u001b[0;34m\u001b[0m\u001b[0;34m\u001b[0m\u001b[0m\n\u001b[1;32m     18\u001b[0m \u001b[0;32mfrom\u001b[0m \u001b[0;34m.\u001b[0m\u001b[0m_comb\u001b[0m \u001b[0;32mimport\u001b[0m \u001b[0m_comb_int\u001b[0m\u001b[0;34m\u001b[0m\u001b[0;34m\u001b[0m\u001b[0m\n\u001b[0;32m---> 19\u001b[0;31m \u001b[0;32mfrom\u001b[0m \u001b[0mscipy\u001b[0m\u001b[0;34m.\u001b[0m\u001b[0m_lib\u001b[0m\u001b[0;34m.\u001b[0m\u001b[0mdeprecation\u001b[0m \u001b[0;32mimport\u001b[0m \u001b[0m_NoValue\u001b[0m\u001b[0;34m,\u001b[0m \u001b[0m_deprecate_positional_args\u001b[0m\u001b[0;34m\u001b[0m\u001b[0;34m\u001b[0m\u001b[0m\n\u001b[0m\u001b[1;32m     20\u001b[0m \u001b[0;34m\u001b[0m\u001b[0m\n\u001b[1;32m     21\u001b[0m \u001b[0;34m\u001b[0m\u001b[0m\n",
            "\u001b[0;31mImportError\u001b[0m: cannot import name '_NoValue' from 'scipy._lib.deprecation' (/usr/local/lib/python3.10/dist-packages/scipy/_lib/deprecation.py)",
            "",
            "\u001b[0;31m---------------------------------------------------------------------------\u001b[0;32m\nNOTE: If your import is failing due to a missing package, you can\nmanually install dependencies using either !pip or !apt.\n\nTo view examples of installing some common dependencies, click the\n\"Open Examples\" button below.\n\u001b[0;31m---------------------------------------------------------------------------\u001b[0m\n"
          ],
          "errorDetails": {
            "actions": [
              {
                "action": "open_url",
                "actionText": "Open Examples",
                "url": "/notebooks/snippets/importing_libraries.ipynb"
              }
            ]
          }
        }
      ],
      "source": [
        "#Import submodules of SciPy, which are not necessarily imported with the base package. Additionally, this makes it easier to call the entire submodule AND SciPy when we go to use a function from that submodule.\n",
        "import scipy.integrate as integrate\n",
        "import scipy.special as special #Special functions in SciPy.\n",
        "\n",
        "#Let's define a simple function using variable x and output \"function\"\n",
        "def function(x):\n",
        "    return (x**3 - 1) #Python uses ** to represent exponentiation.\n",
        "\n",
        "#Integrate using integrate.quad (https://docs.scipy.org/doc/scipy/tutorial/integrate.html)\n",
        "#Here, we integrate from x = 0 to x = 10.\n",
        "numerical = integrate.quad(function, 0, 10)\n",
        "print(numerical)\n",
        "\n",
        "\n",
        "\n",
        "#I have NO idea what went wrong here, I think it's something stored somewhere or something, cause I've uninstalled, upgraded, tried reloading, and nothing works. But then I tried in an entirely different google collab file and it worked\n",
        "# so I really dont know whats wrong."
      ]
    },
    {
      "cell_type": "markdown",
      "id": "e63da795",
      "metadata": {
        "id": "e63da795"
      },
      "source": [
        "In the printed result, there are two values. The first is the actual value of the definite integral. The second in the error in that value, since `integrate.quad` uses numerical integration using the quadrature method."
      ]
    },
    {
      "cell_type": "markdown",
      "id": "31cbf962",
      "metadata": {
        "id": "31cbf962"
      },
      "source": [
        "### $\\color{orange}{\\text{Activity 10: Integrating Bessel Functions}}$"
      ]
    },
    {
      "cell_type": "markdown",
      "id": "a07e56cd",
      "metadata": {
        "id": "a07e56cd"
      },
      "source": [
        "Use SciPy to integrate a Bessel Function (`scipy.special.jv`, https://docs.scipy.org/doc/scipy/reference/generated/scipy.special.jv.html#scipy.special.jv) at $\\nu$ = 1 from z = 0 to z = 10. Hint: Check documentation on `scipy.integrate`! Print the results.\n",
        "\n",
        "Then, perform the same calculation using Trapezoidal integration. Print the results.\n",
        "\n",
        "What is a Bessel function? What types of physical phenomena do they represent?"
      ]
    },
    {
      "cell_type": "code",
      "execution_count": null,
      "id": "9caefb17",
      "metadata": {
        "id": "9caefb17",
        "colab": {
          "base_uri": "https://localhost:8080/",
          "height": 193
        },
        "outputId": "6b56ab90-461b-4989-846a-9a5f2702b375"
      },
      "outputs": [
        {
          "output_type": "stream",
          "name": "stdout",
          "text": [
            "Using normal integration:\n"
          ]
        },
        {
          "output_type": "error",
          "ename": "NameError",
          "evalue": "name 'integrate' is not defined",
          "traceback": [
            "\u001b[0;31m---------------------------------------------------------------------------\u001b[0m",
            "\u001b[0;31mNameError\u001b[0m                                 Traceback (most recent call last)",
            "\u001b[0;32m<ipython-input-77-4af45b0f57d4>\u001b[0m in \u001b[0;36m<cell line: 4>\u001b[0;34m()\u001b[0m\n\u001b[1;32m      2\u001b[0m \u001b[0;34m\u001b[0m\u001b[0m\n\u001b[1;32m      3\u001b[0m \u001b[0mprint\u001b[0m\u001b[0;34m(\u001b[0m\u001b[0;34m\"Using normal integration:\"\u001b[0m\u001b[0;34m)\u001b[0m\u001b[0;34m\u001b[0m\u001b[0;34m\u001b[0m\u001b[0m\n\u001b[0;32m----> 4\u001b[0;31m \u001b[0mintegrate\u001b[0m\u001b[0;34m.\u001b[0m\u001b[0mquad\u001b[0m\u001b[0;34m(\u001b[0m\u001b[0;32mlambda\u001b[0m \u001b[0mx\u001b[0m\u001b[0;34m:\u001b[0m \u001b[0mspecial\u001b[0m\u001b[0;34m.\u001b[0m\u001b[0mjv\u001b[0m\u001b[0;34m(\u001b[0m\u001b[0;36m1\u001b[0m\u001b[0;34m,\u001b[0m\u001b[0mx\u001b[0m\u001b[0;34m)\u001b[0m\u001b[0;34m,\u001b[0m \u001b[0;36m0\u001b[0m\u001b[0;34m,\u001b[0m \u001b[0;36m10\u001b[0m\u001b[0;34m)\u001b[0m\u001b[0;34m\u001b[0m\u001b[0;34m\u001b[0m\u001b[0m\n\u001b[0m",
            "\u001b[0;31mNameError\u001b[0m: name 'integrate' is not defined"
          ]
        }
      ],
      "source": [
        "#Activity 10\n",
        "\n",
        "print(\"Using normal integration:\")\n",
        "integrate.quad(lambda x: special.jv(1,x), 0, 10)"
      ]
    },
    {
      "cell_type": "code",
      "source": [
        "print(\"Using trapezoidal integration:\")\n",
        "x = np.arange(0, 10, 0.01)\n",
        "integrate.trapezoid((lambda x: special.jv(1,x))(x), x)\n",
        "\n",
        "#I don't understand why I have to make this bessel function j1(x) while in normal integration I do not\n",
        "#I used chatGPT for parts of this"
      ],
      "metadata": {
        "id": "kaymSYp8hacE"
      },
      "id": "kaymSYp8hacE",
      "execution_count": null,
      "outputs": []
    },
    {
      "cell_type": "markdown",
      "id": "87643987",
      "metadata": {
        "id": "87643987"
      },
      "source": [
        "### Curve-fitting"
      ]
    },
    {
      "cell_type": "markdown",
      "id": "72563b49",
      "metadata": {
        "id": "72563b49"
      },
      "source": [
        "If you take anything from this homework, **curve fitting may be one of the most important topics to remember.** In experimental physics, a vast majority of data processesing (and eventually, discoveries!) are made by fitting functions, either by hand or with machine learning, to data. This way, theoretical predictions can be matched to real data and background noise can be removed. Let's generate some random data and fit a 1. linear function and 2. a normal distribution to it."
      ]
    },
    {
      "cell_type": "markdown",
      "id": "6b9c9d63",
      "metadata": {
        "id": "6b9c9d63"
      },
      "source": [
        "To create a histogram of data, we use the `Boost_Histogram`package. This package allows us to create an \"axis\" of \"bins\" we can \"fill\" with data (i.e. if there are five data points, x = 0,1,2,4,5 and two bins, one between x = 0 and x = 3 and one between x = 3 and x = 6, three datapoints would go in the first bin and two in the second bin). In this example, we fill a `Boost_Histogram` histogram called `random_hist` with our data and plot it. You can get the center \"x\" value of each histogram bin (if a bin spans from x = 0 to x = 3, its center will be at x = 1.5) using `random_hist.axes[0].centers` (you can define a histogram with multiple axes; here, we use a histogram with just one axis, a.k.a. a 1D axis). `random_hist.values()` returns an array of the number of datapoints in each bin, and `random_hist.axes[0].widths` return an array of the \"size\" of each bin along the \"x\" axis (a bin that spans from x = 0 to 3 will have a width of 3)."
      ]
    },
    {
      "cell_type": "code",
      "source": [
        "!pip install boost-histogram"
      ],
      "metadata": {
        "id": "QUwoMAjRrKAw"
      },
      "id": "QUwoMAjRrKAw",
      "execution_count": null,
      "outputs": []
    },
    {
      "cell_type": "code",
      "execution_count": null,
      "id": "0477cd4d",
      "metadata": {
        "id": "0477cd4d"
      },
      "outputs": [],
      "source": [
        "#First, let's import.\n",
        "import scipy.optimize as optimize\n",
        "\n",
        "#Now, let's create some data.\n",
        "random = np.random.normal(loc=0, scale=1, size=1000) #This is a normal distribution centered around 0 with a standard distribution of 1.\n",
        "\n",
        "#We'll fill a histogram with these data.\n",
        "import boost_histogram as bh\n",
        "random_hist = bh.Histogram(bh.axis.Regular(20, -3, 3))\n",
        "random_hist.fill(random)\n",
        "\n",
        "#Let's plot this data. We use `matplotlib` to plot histograms. We'll discuss this later in the notebook.\n",
        "import matplotlib.pyplot as plt\n",
        "random_plot = plt.bar(random_hist.axes[0].centers, random_hist.values(), width=random_hist.axes[0].widths, color = \"mediumspringgreen\")\n",
        "plt.xlabel(\"Value\")\n",
        "plt.ylabel(\"Frequency\")"
      ]
    },
    {
      "cell_type": "code",
      "execution_count": null,
      "id": "25ee1143",
      "metadata": {
        "id": "25ee1143"
      },
      "outputs": [],
      "source": [
        "#Now, we will use curve_fit to fit a linear function to the data and plot it on he same graph. We'll notice that the linear function doesn't \"fit\" very well to this normal distribution, which makes sense.\n",
        "#To do this, we need to define a linear function fro curve_fit to use as the first argument.\n",
        "\n",
        "def linear(x, a, b):\n",
        "    return a*x+b   #Pretty underwhelming. The point of `curve_fit` is to find an a and b that produce a line that best matches the `random` data.\n",
        "\n",
        "#`optimize.curve_fit` will return a tuple of parameters that describe the geometry of the function of best fit. For it to compute the linear regression on the data that produces this function of best fit,\n",
        "#we must provide it an \"x\" axis through which to analyze (we'll use a linear range, defined using np.linspace(), to provide this axis) and the y function (the regression function in action) to analyze.\n",
        "\n",
        "x = np.linspace(-4, 4, 1000)\n",
        "\n",
        "#We can now fit a cur\n",
        "parameters = scipy.optimize.curve_fit(linear, random_hist.axes[0].centers, random_hist.values(), p0=[0,60]) #\"Linear\" is our function of best fit, \"x\" is our x-axis range,\"random\" are our randomly generated data graphed above, and \"p0\" is an optional \"starting place\" we can provide the curve_fit function for [a,b] to help it \"make guesses\" as it calculates the regression.\n",
        "print(parameters)"
      ]
    },
    {
      "cell_type": "markdown",
      "id": "6569b799",
      "metadata": {
        "id": "6569b799"
      },
      "source": [
        "We have now printed an tuple this two arrays: the first, `parameters[0]`, are the a and b values of `linear` which produce the line of best fit. `parameters[1]` are the values of the covariance matrix for the line of best fit. The covariance matrix describes the 'proportionality' of the variables in question (in this case, `a` and `b`). Because the [1,2] and [2,1] entries (covariances) of the covariance matrix are both positive, we know that when `curve_fit` is running the regression, large `a` values tend to correspond to large `b` values (positive correlation). See: https://en.wikipedia.org/wiki/Covariance\n",
        "\n",
        "Notice the produced `a` and `b` values are pretty close to our initial guess `p0` in the `curve_fit` function. Feel free to change this `p0` and see what happens. Since this is a pretty simple dataset and function, statistically speaking, `curve_fit` does a pretty good job, no matter what the initial guess is, generating the line of best fit.  \n",
        "\n",
        "Let's plot the line of best fit with the data."
      ]
    },
    {
      "cell_type": "code",
      "execution_count": null,
      "id": "9f914acf",
      "metadata": {
        "id": "9f914acf"
      },
      "outputs": [],
      "source": [
        "a_b_values = parameters[0]\n",
        "a = a_b_values[0]\n",
        "b = a_b_values[1]\n",
        "print(a)\n",
        "print(b)\n",
        "\n",
        "random_plot = plt.hist(random, bins=20, range=[-4,4], color = 'mediumspringgreen')\n",
        "random_plot_linear = plt.plot(x, linear(x, a, b), color = 'purple')\n",
        "plt.xlabel(\"Value\")\n",
        "plt.ylabel(\"Frequency\")\n",
        "plt.show()"
      ]
    },
    {
      "cell_type": "markdown",
      "id": "1ff6fbb4",
      "metadata": {
        "id": "1ff6fbb4"
      },
      "source": [
        "The line of best fit is placed about halfway up the \"pile\" of data. It won't look very \"well-fit,\" so to speak. Why do you think this is?"
      ]
    },
    {
      "cell_type": "markdown",
      "source": [
        "It's not very well fit because the data is random, and that means one data point shouldn't really have any correlation to the others (no pattern)"
      ],
      "metadata": {
        "id": "afy_yOyXt7Tv"
      },
      "id": "afy_yOyXt7Tv"
    },
    {
      "cell_type": "markdown",
      "id": "915591b6",
      "metadata": {
        "id": "915591b6"
      },
      "source": [
        "### $\\color{orange}{\\text{Activity 11: Fitting a Normal Curve}}$"
      ]
    },
    {
      "cell_type": "markdown",
      "id": "4ad899f1",
      "metadata": {
        "id": "4ad899f1"
      },
      "source": [
        "Similar to the example, fit a Gaussian normal curve to the data in `random_hist`. Print the parameters generated and plot the Gaussian with the data. Use the provided function `Gaussian` to define the curve."
      ]
    },
    {
      "cell_type": "code",
      "execution_count": null,
      "id": "16c20d9f",
      "metadata": {
        "id": "16c20d9f"
      },
      "outputs": [],
      "source": [
        "def normal_distribution(x, m, s):\n",
        "    return (1 / (s * np.sqrt(2 * np.pi))) * np.exp(-0.5 * ((x - m) / s) ** 2) #I definitely didn't use ChatGPT to generate this function."
      ]
    },
    {
      "cell_type": "code",
      "execution_count": null,
      "id": "3ee9376f",
      "metadata": {
        "id": "3ee9376f"
      },
      "outputs": [],
      "source": [
        "#Activity 11\n",
        "\n",
        "#I'm not sure what to do here"
      ]
    },
    {
      "cell_type": "markdown",
      "id": "e850b711",
      "metadata": {
        "id": "e850b711"
      },
      "source": [
        "_______________________________________________"
      ]
    },
    {
      "cell_type": "markdown",
      "id": "2294432e",
      "metadata": {
        "id": "2294432e"
      },
      "source": [
        "# Pandas"
      ]
    },
    {
      "cell_type": "markdown",
      "id": "a96d201e",
      "metadata": {
        "id": "a96d201e"
      },
      "source": [
        "Lastly, we will take a look at the Python package `Pandas`. `Pandas` is a package for manipulating dataframes, which are more organized \"structures\" or \"tables\" of data that can easily be edited.\n",
        "\n",
        "`Pandas` hosts two main object types for holding data, the series and the dataframe. Most commonly, a dataframe will be used, which serves as an organized matrix of data with column and row titles, reflecting how someone may input data into an Excel spreadsheet. Let's generate a dataframe for us to use using `Pandas`. `Pandas` dataframes can use a combination of string and float entry values. Recall we imported `Pandas` as \"pd.\""
      ]
    },
    {
      "cell_type": "code",
      "execution_count": 80,
      "id": "37ab7215",
      "metadata": {
        "id": "37ab7215",
        "colab": {
          "base_uri": "https://localhost:8080/"
        },
        "outputId": "8dc1caa0-b6a1-4705-e733-c9a45974bf09"
      },
      "outputs": [
        {
          "output_type": "stream",
          "name": "stdout",
          "text": [
            "  Experiment Name          Experiment Type  Fiducial Volume (Tonnes)  \\\n",
            "0         XENONnT         Liquid Xenon TPC                   7.00000   \n",
            "1              LZ         Liquid Xenon TPC                   6.00000   \n",
            "2             LUX         Liquid Xenon TPC                   0.37000   \n",
            "3       PandaX-II         Liquid Xenon TPC                   0.50000   \n",
            "4      CRESST-III  Cryogenic Scintillators                   0.00002   \n",
            "\n",
            "   Unnamed Random Statistic Detected Darkmatter?  \n",
            "0                    0.3350                   No  \n",
            "1                    0.1345                   No  \n",
            "2                    0.4420                   No  \n",
            "3                    0.4620                   No  \n",
            "4                    0.8590                   No  \n"
          ]
        }
      ],
      "source": [
        "#Let's create some data that needs organized\n",
        "experiment_names = [\"XENONnT\", \"LZ\", \"LUX\", \"PandaX-II\", \"CRESST-III\"]\n",
        "experiment_type = [\"Liquid Xenon TPC\", \"Liquid Xenon TPC\", \"Liquid Xenon TPC\", \"Liquid Xenon TPC\", \"Cryogenic Scintillators\"]\n",
        "fiducial_volume_tonnes = [7, 6, 0.37, 0.5, 0.00002]\n",
        "random_other_statistic = [0.335, 0.1345, 0.442, 0.462, 0.859]\n",
        "detected_darkmatter = [\"No\", \"No\", \"No\", \"No\", \"No\"]\n",
        "\n",
        "#Constructing the dataframe\n",
        "dark_matter_data = pd.DataFrame({\"Experiment Name\": experiment_names, \"Experiment Type\": experiment_type, \"Fiducial Volume (Tonnes)\": fiducial_volume_tonnes, \"Unnamed Random Statistic\": random_other_statistic, \"Detected Darkmatter?\": detected_darkmatter})\n",
        "\n",
        "#Let's view our dataframe.\n",
        "print(dark_matter_data)"
      ]
    },
    {
      "cell_type": "markdown",
      "id": "fd54aa75",
      "metadata": {
        "id": "fd54aa75"
      },
      "source": [
        "When a `Pandas` dataframe is printed, it will contain a somewhat unorganized display of all columns and their contents. Let's say our dataframe is HUGE. That is, maybe it has several hundred rows and we just want to view the first few or last few rows to get a sense of the data contained inside. To do this, we use the `.head()` and `.tail()` function. Additionally, `Pandas` will format the data into a much more readable display."
      ]
    },
    {
      "cell_type": "code",
      "execution_count": 81,
      "id": "b2723166",
      "metadata": {
        "id": "b2723166",
        "colab": {
          "base_uri": "https://localhost:8080/",
          "height": 112
        },
        "outputId": "bd5ec23a-d600-4017-d240-aaaaeb535d5e"
      },
      "outputs": [
        {
          "output_type": "execute_result",
          "data": {
            "text/plain": [
              "  Experiment Name   Experiment Type  Fiducial Volume (Tonnes)  \\\n",
              "0         XENONnT  Liquid Xenon TPC                       7.0   \n",
              "1              LZ  Liquid Xenon TPC                       6.0   \n",
              "\n",
              "   Unnamed Random Statistic Detected Darkmatter?  \n",
              "0                    0.3350                   No  \n",
              "1                    0.1345                   No  "
            ],
            "text/html": [
              "\n",
              "  <div id=\"df-2e0da3d7-2133-4cf3-92c8-80413984bcda\" class=\"colab-df-container\">\n",
              "    <div>\n",
              "<style scoped>\n",
              "    .dataframe tbody tr th:only-of-type {\n",
              "        vertical-align: middle;\n",
              "    }\n",
              "\n",
              "    .dataframe tbody tr th {\n",
              "        vertical-align: top;\n",
              "    }\n",
              "\n",
              "    .dataframe thead th {\n",
              "        text-align: right;\n",
              "    }\n",
              "</style>\n",
              "<table border=\"1\" class=\"dataframe\">\n",
              "  <thead>\n",
              "    <tr style=\"text-align: right;\">\n",
              "      <th></th>\n",
              "      <th>Experiment Name</th>\n",
              "      <th>Experiment Type</th>\n",
              "      <th>Fiducial Volume (Tonnes)</th>\n",
              "      <th>Unnamed Random Statistic</th>\n",
              "      <th>Detected Darkmatter?</th>\n",
              "    </tr>\n",
              "  </thead>\n",
              "  <tbody>\n",
              "    <tr>\n",
              "      <th>0</th>\n",
              "      <td>XENONnT</td>\n",
              "      <td>Liquid Xenon TPC</td>\n",
              "      <td>7.0</td>\n",
              "      <td>0.3350</td>\n",
              "      <td>No</td>\n",
              "    </tr>\n",
              "    <tr>\n",
              "      <th>1</th>\n",
              "      <td>LZ</td>\n",
              "      <td>Liquid Xenon TPC</td>\n",
              "      <td>6.0</td>\n",
              "      <td>0.1345</td>\n",
              "      <td>No</td>\n",
              "    </tr>\n",
              "  </tbody>\n",
              "</table>\n",
              "</div>\n",
              "    <div class=\"colab-df-buttons\">\n",
              "\n",
              "  <div class=\"colab-df-container\">\n",
              "    <button class=\"colab-df-convert\" onclick=\"convertToInteractive('df-2e0da3d7-2133-4cf3-92c8-80413984bcda')\"\n",
              "            title=\"Convert this dataframe to an interactive table.\"\n",
              "            style=\"display:none;\">\n",
              "\n",
              "  <svg xmlns=\"http://www.w3.org/2000/svg\" height=\"24px\" viewBox=\"0 -960 960 960\">\n",
              "    <path d=\"M120-120v-720h720v720H120Zm60-500h600v-160H180v160Zm220 220h160v-160H400v160Zm0 220h160v-160H400v160ZM180-400h160v-160H180v160Zm440 0h160v-160H620v160ZM180-180h160v-160H180v160Zm440 0h160v-160H620v160Z\"/>\n",
              "  </svg>\n",
              "    </button>\n",
              "\n",
              "  <style>\n",
              "    .colab-df-container {\n",
              "      display:flex;\n",
              "      gap: 12px;\n",
              "    }\n",
              "\n",
              "    .colab-df-convert {\n",
              "      background-color: #E8F0FE;\n",
              "      border: none;\n",
              "      border-radius: 50%;\n",
              "      cursor: pointer;\n",
              "      display: none;\n",
              "      fill: #1967D2;\n",
              "      height: 32px;\n",
              "      padding: 0 0 0 0;\n",
              "      width: 32px;\n",
              "    }\n",
              "\n",
              "    .colab-df-convert:hover {\n",
              "      background-color: #E2EBFA;\n",
              "      box-shadow: 0px 1px 2px rgba(60, 64, 67, 0.3), 0px 1px 3px 1px rgba(60, 64, 67, 0.15);\n",
              "      fill: #174EA6;\n",
              "    }\n",
              "\n",
              "    .colab-df-buttons div {\n",
              "      margin-bottom: 4px;\n",
              "    }\n",
              "\n",
              "    [theme=dark] .colab-df-convert {\n",
              "      background-color: #3B4455;\n",
              "      fill: #D2E3FC;\n",
              "    }\n",
              "\n",
              "    [theme=dark] .colab-df-convert:hover {\n",
              "      background-color: #434B5C;\n",
              "      box-shadow: 0px 1px 3px 1px rgba(0, 0, 0, 0.15);\n",
              "      filter: drop-shadow(0px 1px 2px rgba(0, 0, 0, 0.3));\n",
              "      fill: #FFFFFF;\n",
              "    }\n",
              "  </style>\n",
              "\n",
              "    <script>\n",
              "      const buttonEl =\n",
              "        document.querySelector('#df-2e0da3d7-2133-4cf3-92c8-80413984bcda button.colab-df-convert');\n",
              "      buttonEl.style.display =\n",
              "        google.colab.kernel.accessAllowed ? 'block' : 'none';\n",
              "\n",
              "      async function convertToInteractive(key) {\n",
              "        const element = document.querySelector('#df-2e0da3d7-2133-4cf3-92c8-80413984bcda');\n",
              "        const dataTable =\n",
              "          await google.colab.kernel.invokeFunction('convertToInteractive',\n",
              "                                                    [key], {});\n",
              "        if (!dataTable) return;\n",
              "\n",
              "        const docLinkHtml = 'Like what you see? Visit the ' +\n",
              "          '<a target=\"_blank\" href=https://colab.research.google.com/notebooks/data_table.ipynb>data table notebook</a>'\n",
              "          + ' to learn more about interactive tables.';\n",
              "        element.innerHTML = '';\n",
              "        dataTable['output_type'] = 'display_data';\n",
              "        await google.colab.output.renderOutput(dataTable, element);\n",
              "        const docLink = document.createElement('div');\n",
              "        docLink.innerHTML = docLinkHtml;\n",
              "        element.appendChild(docLink);\n",
              "      }\n",
              "    </script>\n",
              "  </div>\n",
              "\n",
              "\n",
              "<div id=\"df-e572bd04-27e4-49d4-8948-bd0feeeec55d\">\n",
              "  <button class=\"colab-df-quickchart\" onclick=\"quickchart('df-e572bd04-27e4-49d4-8948-bd0feeeec55d')\"\n",
              "            title=\"Suggest charts\"\n",
              "            style=\"display:none;\">\n",
              "\n",
              "<svg xmlns=\"http://www.w3.org/2000/svg\" height=\"24px\"viewBox=\"0 0 24 24\"\n",
              "     width=\"24px\">\n",
              "    <g>\n",
              "        <path d=\"M19 3H5c-1.1 0-2 .9-2 2v14c0 1.1.9 2 2 2h14c1.1 0 2-.9 2-2V5c0-1.1-.9-2-2-2zM9 17H7v-7h2v7zm4 0h-2V7h2v10zm4 0h-2v-4h2v4z\"/>\n",
              "    </g>\n",
              "</svg>\n",
              "  </button>\n",
              "\n",
              "<style>\n",
              "  .colab-df-quickchart {\n",
              "      --bg-color: #E8F0FE;\n",
              "      --fill-color: #1967D2;\n",
              "      --hover-bg-color: #E2EBFA;\n",
              "      --hover-fill-color: #174EA6;\n",
              "      --disabled-fill-color: #AAA;\n",
              "      --disabled-bg-color: #DDD;\n",
              "  }\n",
              "\n",
              "  [theme=dark] .colab-df-quickchart {\n",
              "      --bg-color: #3B4455;\n",
              "      --fill-color: #D2E3FC;\n",
              "      --hover-bg-color: #434B5C;\n",
              "      --hover-fill-color: #FFFFFF;\n",
              "      --disabled-bg-color: #3B4455;\n",
              "      --disabled-fill-color: #666;\n",
              "  }\n",
              "\n",
              "  .colab-df-quickchart {\n",
              "    background-color: var(--bg-color);\n",
              "    border: none;\n",
              "    border-radius: 50%;\n",
              "    cursor: pointer;\n",
              "    display: none;\n",
              "    fill: var(--fill-color);\n",
              "    height: 32px;\n",
              "    padding: 0;\n",
              "    width: 32px;\n",
              "  }\n",
              "\n",
              "  .colab-df-quickchart:hover {\n",
              "    background-color: var(--hover-bg-color);\n",
              "    box-shadow: 0 1px 2px rgba(60, 64, 67, 0.3), 0 1px 3px 1px rgba(60, 64, 67, 0.15);\n",
              "    fill: var(--button-hover-fill-color);\n",
              "  }\n",
              "\n",
              "  .colab-df-quickchart-complete:disabled,\n",
              "  .colab-df-quickchart-complete:disabled:hover {\n",
              "    background-color: var(--disabled-bg-color);\n",
              "    fill: var(--disabled-fill-color);\n",
              "    box-shadow: none;\n",
              "  }\n",
              "\n",
              "  .colab-df-spinner {\n",
              "    border: 2px solid var(--fill-color);\n",
              "    border-color: transparent;\n",
              "    border-bottom-color: var(--fill-color);\n",
              "    animation:\n",
              "      spin 1s steps(1) infinite;\n",
              "  }\n",
              "\n",
              "  @keyframes spin {\n",
              "    0% {\n",
              "      border-color: transparent;\n",
              "      border-bottom-color: var(--fill-color);\n",
              "      border-left-color: var(--fill-color);\n",
              "    }\n",
              "    20% {\n",
              "      border-color: transparent;\n",
              "      border-left-color: var(--fill-color);\n",
              "      border-top-color: var(--fill-color);\n",
              "    }\n",
              "    30% {\n",
              "      border-color: transparent;\n",
              "      border-left-color: var(--fill-color);\n",
              "      border-top-color: var(--fill-color);\n",
              "      border-right-color: var(--fill-color);\n",
              "    }\n",
              "    40% {\n",
              "      border-color: transparent;\n",
              "      border-right-color: var(--fill-color);\n",
              "      border-top-color: var(--fill-color);\n",
              "    }\n",
              "    60% {\n",
              "      border-color: transparent;\n",
              "      border-right-color: var(--fill-color);\n",
              "    }\n",
              "    80% {\n",
              "      border-color: transparent;\n",
              "      border-right-color: var(--fill-color);\n",
              "      border-bottom-color: var(--fill-color);\n",
              "    }\n",
              "    90% {\n",
              "      border-color: transparent;\n",
              "      border-bottom-color: var(--fill-color);\n",
              "    }\n",
              "  }\n",
              "</style>\n",
              "\n",
              "  <script>\n",
              "    async function quickchart(key) {\n",
              "      const quickchartButtonEl =\n",
              "        document.querySelector('#' + key + ' button');\n",
              "      quickchartButtonEl.disabled = true;  // To prevent multiple clicks.\n",
              "      quickchartButtonEl.classList.add('colab-df-spinner');\n",
              "      try {\n",
              "        const charts = await google.colab.kernel.invokeFunction(\n",
              "            'suggestCharts', [key], {});\n",
              "      } catch (error) {\n",
              "        console.error('Error during call to suggestCharts:', error);\n",
              "      }\n",
              "      quickchartButtonEl.classList.remove('colab-df-spinner');\n",
              "      quickchartButtonEl.classList.add('colab-df-quickchart-complete');\n",
              "    }\n",
              "    (() => {\n",
              "      let quickchartButtonEl =\n",
              "        document.querySelector('#df-e572bd04-27e4-49d4-8948-bd0feeeec55d button');\n",
              "      quickchartButtonEl.style.display =\n",
              "        google.colab.kernel.accessAllowed ? 'block' : 'none';\n",
              "    })();\n",
              "  </script>\n",
              "</div>\n",
              "\n",
              "    </div>\n",
              "  </div>\n"
            ],
            "application/vnd.google.colaboratory.intrinsic+json": {
              "type": "dataframe",
              "variable_name": "dark_matter_data",
              "summary": "{\n  \"name\": \"dark_matter_data\",\n  \"rows\": 5,\n  \"fields\": [\n    {\n      \"column\": \"Experiment Name\",\n      \"properties\": {\n        \"dtype\": \"string\",\n        \"num_unique_values\": 5,\n        \"samples\": [\n          \"LZ\",\n          \"CRESST-III\",\n          \"LUX\"\n        ],\n        \"semantic_type\": \"\",\n        \"description\": \"\"\n      }\n    },\n    {\n      \"column\": \"Experiment Type\",\n      \"properties\": {\n        \"dtype\": \"category\",\n        \"num_unique_values\": 2,\n        \"samples\": [\n          \"Cryogenic Scintillators\",\n          \"Liquid Xenon TPC\"\n        ],\n        \"semantic_type\": \"\",\n        \"description\": \"\"\n      }\n    },\n    {\n      \"column\": \"Fiducial Volume (Tonnes)\",\n      \"properties\": {\n        \"dtype\": \"number\",\n        \"std\": 3.424595196527613,\n        \"min\": 2e-05,\n        \"max\": 7.0,\n        \"num_unique_values\": 5,\n        \"samples\": [\n          6.0,\n          2e-05\n        ],\n        \"semantic_type\": \"\",\n        \"description\": \"\"\n      }\n    },\n    {\n      \"column\": \"Unnamed Random Statistic\",\n      \"properties\": {\n        \"dtype\": \"number\",\n        \"std\": 0.2646662993280406,\n        \"min\": 0.1345,\n        \"max\": 0.859,\n        \"num_unique_values\": 5,\n        \"samples\": [\n          0.1345,\n          0.859\n        ],\n        \"semantic_type\": \"\",\n        \"description\": \"\"\n      }\n    },\n    {\n      \"column\": \"Detected Darkmatter?\",\n      \"properties\": {\n        \"dtype\": \"category\",\n        \"num_unique_values\": 1,\n        \"samples\": [\n          \"No\"\n        ],\n        \"semantic_type\": \"\",\n        \"description\": \"\"\n      }\n    }\n  ]\n}"
            }
          },
          "metadata": {},
          "execution_count": 81
        }
      ],
      "source": [
        "dark_matter_data.head(2) #Prints the first two ROWS of data."
      ]
    },
    {
      "cell_type": "code",
      "execution_count": 82,
      "id": "6fd60305",
      "metadata": {
        "id": "6fd60305",
        "colab": {
          "base_uri": "https://localhost:8080/",
          "height": 112
        },
        "outputId": "21cdbd70-935e-4d59-9be2-7f569319dbfe"
      },
      "outputs": [
        {
          "output_type": "execute_result",
          "data": {
            "text/plain": [
              "  Experiment Name          Experiment Type  Fiducial Volume (Tonnes)  \\\n",
              "3       PandaX-II         Liquid Xenon TPC                   0.50000   \n",
              "4      CRESST-III  Cryogenic Scintillators                   0.00002   \n",
              "\n",
              "   Unnamed Random Statistic Detected Darkmatter?  \n",
              "3                     0.462                   No  \n",
              "4                     0.859                   No  "
            ],
            "text/html": [
              "\n",
              "  <div id=\"df-215ca3d8-fc12-40d0-b4b5-91a248c51735\" class=\"colab-df-container\">\n",
              "    <div>\n",
              "<style scoped>\n",
              "    .dataframe tbody tr th:only-of-type {\n",
              "        vertical-align: middle;\n",
              "    }\n",
              "\n",
              "    .dataframe tbody tr th {\n",
              "        vertical-align: top;\n",
              "    }\n",
              "\n",
              "    .dataframe thead th {\n",
              "        text-align: right;\n",
              "    }\n",
              "</style>\n",
              "<table border=\"1\" class=\"dataframe\">\n",
              "  <thead>\n",
              "    <tr style=\"text-align: right;\">\n",
              "      <th></th>\n",
              "      <th>Experiment Name</th>\n",
              "      <th>Experiment Type</th>\n",
              "      <th>Fiducial Volume (Tonnes)</th>\n",
              "      <th>Unnamed Random Statistic</th>\n",
              "      <th>Detected Darkmatter?</th>\n",
              "    </tr>\n",
              "  </thead>\n",
              "  <tbody>\n",
              "    <tr>\n",
              "      <th>3</th>\n",
              "      <td>PandaX-II</td>\n",
              "      <td>Liquid Xenon TPC</td>\n",
              "      <td>0.50000</td>\n",
              "      <td>0.462</td>\n",
              "      <td>No</td>\n",
              "    </tr>\n",
              "    <tr>\n",
              "      <th>4</th>\n",
              "      <td>CRESST-III</td>\n",
              "      <td>Cryogenic Scintillators</td>\n",
              "      <td>0.00002</td>\n",
              "      <td>0.859</td>\n",
              "      <td>No</td>\n",
              "    </tr>\n",
              "  </tbody>\n",
              "</table>\n",
              "</div>\n",
              "    <div class=\"colab-df-buttons\">\n",
              "\n",
              "  <div class=\"colab-df-container\">\n",
              "    <button class=\"colab-df-convert\" onclick=\"convertToInteractive('df-215ca3d8-fc12-40d0-b4b5-91a248c51735')\"\n",
              "            title=\"Convert this dataframe to an interactive table.\"\n",
              "            style=\"display:none;\">\n",
              "\n",
              "  <svg xmlns=\"http://www.w3.org/2000/svg\" height=\"24px\" viewBox=\"0 -960 960 960\">\n",
              "    <path d=\"M120-120v-720h720v720H120Zm60-500h600v-160H180v160Zm220 220h160v-160H400v160Zm0 220h160v-160H400v160ZM180-400h160v-160H180v160Zm440 0h160v-160H620v160ZM180-180h160v-160H180v160Zm440 0h160v-160H620v160Z\"/>\n",
              "  </svg>\n",
              "    </button>\n",
              "\n",
              "  <style>\n",
              "    .colab-df-container {\n",
              "      display:flex;\n",
              "      gap: 12px;\n",
              "    }\n",
              "\n",
              "    .colab-df-convert {\n",
              "      background-color: #E8F0FE;\n",
              "      border: none;\n",
              "      border-radius: 50%;\n",
              "      cursor: pointer;\n",
              "      display: none;\n",
              "      fill: #1967D2;\n",
              "      height: 32px;\n",
              "      padding: 0 0 0 0;\n",
              "      width: 32px;\n",
              "    }\n",
              "\n",
              "    .colab-df-convert:hover {\n",
              "      background-color: #E2EBFA;\n",
              "      box-shadow: 0px 1px 2px rgba(60, 64, 67, 0.3), 0px 1px 3px 1px rgba(60, 64, 67, 0.15);\n",
              "      fill: #174EA6;\n",
              "    }\n",
              "\n",
              "    .colab-df-buttons div {\n",
              "      margin-bottom: 4px;\n",
              "    }\n",
              "\n",
              "    [theme=dark] .colab-df-convert {\n",
              "      background-color: #3B4455;\n",
              "      fill: #D2E3FC;\n",
              "    }\n",
              "\n",
              "    [theme=dark] .colab-df-convert:hover {\n",
              "      background-color: #434B5C;\n",
              "      box-shadow: 0px 1px 3px 1px rgba(0, 0, 0, 0.15);\n",
              "      filter: drop-shadow(0px 1px 2px rgba(0, 0, 0, 0.3));\n",
              "      fill: #FFFFFF;\n",
              "    }\n",
              "  </style>\n",
              "\n",
              "    <script>\n",
              "      const buttonEl =\n",
              "        document.querySelector('#df-215ca3d8-fc12-40d0-b4b5-91a248c51735 button.colab-df-convert');\n",
              "      buttonEl.style.display =\n",
              "        google.colab.kernel.accessAllowed ? 'block' : 'none';\n",
              "\n",
              "      async function convertToInteractive(key) {\n",
              "        const element = document.querySelector('#df-215ca3d8-fc12-40d0-b4b5-91a248c51735');\n",
              "        const dataTable =\n",
              "          await google.colab.kernel.invokeFunction('convertToInteractive',\n",
              "                                                    [key], {});\n",
              "        if (!dataTable) return;\n",
              "\n",
              "        const docLinkHtml = 'Like what you see? Visit the ' +\n",
              "          '<a target=\"_blank\" href=https://colab.research.google.com/notebooks/data_table.ipynb>data table notebook</a>'\n",
              "          + ' to learn more about interactive tables.';\n",
              "        element.innerHTML = '';\n",
              "        dataTable['output_type'] = 'display_data';\n",
              "        await google.colab.output.renderOutput(dataTable, element);\n",
              "        const docLink = document.createElement('div');\n",
              "        docLink.innerHTML = docLinkHtml;\n",
              "        element.appendChild(docLink);\n",
              "      }\n",
              "    </script>\n",
              "  </div>\n",
              "\n",
              "\n",
              "<div id=\"df-817943bd-bbda-4620-915b-6848c697c1d7\">\n",
              "  <button class=\"colab-df-quickchart\" onclick=\"quickchart('df-817943bd-bbda-4620-915b-6848c697c1d7')\"\n",
              "            title=\"Suggest charts\"\n",
              "            style=\"display:none;\">\n",
              "\n",
              "<svg xmlns=\"http://www.w3.org/2000/svg\" height=\"24px\"viewBox=\"0 0 24 24\"\n",
              "     width=\"24px\">\n",
              "    <g>\n",
              "        <path d=\"M19 3H5c-1.1 0-2 .9-2 2v14c0 1.1.9 2 2 2h14c1.1 0 2-.9 2-2V5c0-1.1-.9-2-2-2zM9 17H7v-7h2v7zm4 0h-2V7h2v10zm4 0h-2v-4h2v4z\"/>\n",
              "    </g>\n",
              "</svg>\n",
              "  </button>\n",
              "\n",
              "<style>\n",
              "  .colab-df-quickchart {\n",
              "      --bg-color: #E8F0FE;\n",
              "      --fill-color: #1967D2;\n",
              "      --hover-bg-color: #E2EBFA;\n",
              "      --hover-fill-color: #174EA6;\n",
              "      --disabled-fill-color: #AAA;\n",
              "      --disabled-bg-color: #DDD;\n",
              "  }\n",
              "\n",
              "  [theme=dark] .colab-df-quickchart {\n",
              "      --bg-color: #3B4455;\n",
              "      --fill-color: #D2E3FC;\n",
              "      --hover-bg-color: #434B5C;\n",
              "      --hover-fill-color: #FFFFFF;\n",
              "      --disabled-bg-color: #3B4455;\n",
              "      --disabled-fill-color: #666;\n",
              "  }\n",
              "\n",
              "  .colab-df-quickchart {\n",
              "    background-color: var(--bg-color);\n",
              "    border: none;\n",
              "    border-radius: 50%;\n",
              "    cursor: pointer;\n",
              "    display: none;\n",
              "    fill: var(--fill-color);\n",
              "    height: 32px;\n",
              "    padding: 0;\n",
              "    width: 32px;\n",
              "  }\n",
              "\n",
              "  .colab-df-quickchart:hover {\n",
              "    background-color: var(--hover-bg-color);\n",
              "    box-shadow: 0 1px 2px rgba(60, 64, 67, 0.3), 0 1px 3px 1px rgba(60, 64, 67, 0.15);\n",
              "    fill: var(--button-hover-fill-color);\n",
              "  }\n",
              "\n",
              "  .colab-df-quickchart-complete:disabled,\n",
              "  .colab-df-quickchart-complete:disabled:hover {\n",
              "    background-color: var(--disabled-bg-color);\n",
              "    fill: var(--disabled-fill-color);\n",
              "    box-shadow: none;\n",
              "  }\n",
              "\n",
              "  .colab-df-spinner {\n",
              "    border: 2px solid var(--fill-color);\n",
              "    border-color: transparent;\n",
              "    border-bottom-color: var(--fill-color);\n",
              "    animation:\n",
              "      spin 1s steps(1) infinite;\n",
              "  }\n",
              "\n",
              "  @keyframes spin {\n",
              "    0% {\n",
              "      border-color: transparent;\n",
              "      border-bottom-color: var(--fill-color);\n",
              "      border-left-color: var(--fill-color);\n",
              "    }\n",
              "    20% {\n",
              "      border-color: transparent;\n",
              "      border-left-color: var(--fill-color);\n",
              "      border-top-color: var(--fill-color);\n",
              "    }\n",
              "    30% {\n",
              "      border-color: transparent;\n",
              "      border-left-color: var(--fill-color);\n",
              "      border-top-color: var(--fill-color);\n",
              "      border-right-color: var(--fill-color);\n",
              "    }\n",
              "    40% {\n",
              "      border-color: transparent;\n",
              "      border-right-color: var(--fill-color);\n",
              "      border-top-color: var(--fill-color);\n",
              "    }\n",
              "    60% {\n",
              "      border-color: transparent;\n",
              "      border-right-color: var(--fill-color);\n",
              "    }\n",
              "    80% {\n",
              "      border-color: transparent;\n",
              "      border-right-color: var(--fill-color);\n",
              "      border-bottom-color: var(--fill-color);\n",
              "    }\n",
              "    90% {\n",
              "      border-color: transparent;\n",
              "      border-bottom-color: var(--fill-color);\n",
              "    }\n",
              "  }\n",
              "</style>\n",
              "\n",
              "  <script>\n",
              "    async function quickchart(key) {\n",
              "      const quickchartButtonEl =\n",
              "        document.querySelector('#' + key + ' button');\n",
              "      quickchartButtonEl.disabled = true;  // To prevent multiple clicks.\n",
              "      quickchartButtonEl.classList.add('colab-df-spinner');\n",
              "      try {\n",
              "        const charts = await google.colab.kernel.invokeFunction(\n",
              "            'suggestCharts', [key], {});\n",
              "      } catch (error) {\n",
              "        console.error('Error during call to suggestCharts:', error);\n",
              "      }\n",
              "      quickchartButtonEl.classList.remove('colab-df-spinner');\n",
              "      quickchartButtonEl.classList.add('colab-df-quickchart-complete');\n",
              "    }\n",
              "    (() => {\n",
              "      let quickchartButtonEl =\n",
              "        document.querySelector('#df-817943bd-bbda-4620-915b-6848c697c1d7 button');\n",
              "      quickchartButtonEl.style.display =\n",
              "        google.colab.kernel.accessAllowed ? 'block' : 'none';\n",
              "    })();\n",
              "  </script>\n",
              "</div>\n",
              "\n",
              "    </div>\n",
              "  </div>\n"
            ],
            "application/vnd.google.colaboratory.intrinsic+json": {
              "type": "dataframe",
              "summary": "{\n  \"name\": \"dark_matter_data\",\n  \"rows\": 2,\n  \"fields\": [\n    {\n      \"column\": \"Experiment Name\",\n      \"properties\": {\n        \"dtype\": \"string\",\n        \"num_unique_values\": 2,\n        \"samples\": [\n          \"CRESST-III\",\n          \"PandaX-II\"\n        ],\n        \"semantic_type\": \"\",\n        \"description\": \"\"\n      }\n    },\n    {\n      \"column\": \"Experiment Type\",\n      \"properties\": {\n        \"dtype\": \"string\",\n        \"num_unique_values\": 2,\n        \"samples\": [\n          \"Cryogenic Scintillators\",\n          \"Liquid Xenon TPC\"\n        ],\n        \"semantic_type\": \"\",\n        \"description\": \"\"\n      }\n    },\n    {\n      \"column\": \"Fiducial Volume (Tonnes)\",\n      \"properties\": {\n        \"dtype\": \"number\",\n        \"std\": 0.35353924845765006,\n        \"min\": 2e-05,\n        \"max\": 0.5,\n        \"num_unique_values\": 2,\n        \"samples\": [\n          2e-05,\n          0.5\n        ],\n        \"semantic_type\": \"\",\n        \"description\": \"\"\n      }\n    },\n    {\n      \"column\": \"Unnamed Random Statistic\",\n      \"properties\": {\n        \"dtype\": \"number\",\n        \"std\": 0.28072139213105934,\n        \"min\": 0.462,\n        \"max\": 0.859,\n        \"num_unique_values\": 2,\n        \"samples\": [\n          0.859,\n          0.462\n        ],\n        \"semantic_type\": \"\",\n        \"description\": \"\"\n      }\n    },\n    {\n      \"column\": \"Detected Darkmatter?\",\n      \"properties\": {\n        \"dtype\": \"string\",\n        \"num_unique_values\": 1,\n        \"samples\": [\n          \"No\"\n        ],\n        \"semantic_type\": \"\",\n        \"description\": \"\"\n      }\n    }\n  ]\n}"
            }
          },
          "metadata": {},
          "execution_count": 82
        }
      ],
      "source": [
        "dark_matter_data.tail(2) #Prints the last two rows of data."
      ]
    },
    {
      "cell_type": "markdown",
      "id": "b6430e25",
      "metadata": {
        "id": "b6430e25"
      },
      "source": [
        "Using `.describe()` prints a statistical summary of the data in your dataframe."
      ]
    },
    {
      "cell_type": "code",
      "execution_count": 83,
      "id": "02ec1402",
      "metadata": {
        "id": "02ec1402",
        "colab": {
          "base_uri": "https://localhost:8080/",
          "height": 300
        },
        "outputId": "880440b6-e30d-4df6-bb78-5f26b8508215"
      },
      "outputs": [
        {
          "output_type": "execute_result",
          "data": {
            "text/plain": [
              "       Fiducial Volume (Tonnes)  Unnamed Random Statistic\n",
              "count                  5.000000                  5.000000\n",
              "mean                   2.774004                  0.446500\n",
              "std                    3.424595                  0.264666\n",
              "min                    0.000020                  0.134500\n",
              "25%                    0.370000                  0.335000\n",
              "50%                    0.500000                  0.442000\n",
              "75%                    6.000000                  0.462000\n",
              "max                    7.000000                  0.859000"
            ],
            "text/html": [
              "\n",
              "  <div id=\"df-7ae06bf9-878c-47da-9055-87ffe64d0429\" class=\"colab-df-container\">\n",
              "    <div>\n",
              "<style scoped>\n",
              "    .dataframe tbody tr th:only-of-type {\n",
              "        vertical-align: middle;\n",
              "    }\n",
              "\n",
              "    .dataframe tbody tr th {\n",
              "        vertical-align: top;\n",
              "    }\n",
              "\n",
              "    .dataframe thead th {\n",
              "        text-align: right;\n",
              "    }\n",
              "</style>\n",
              "<table border=\"1\" class=\"dataframe\">\n",
              "  <thead>\n",
              "    <tr style=\"text-align: right;\">\n",
              "      <th></th>\n",
              "      <th>Fiducial Volume (Tonnes)</th>\n",
              "      <th>Unnamed Random Statistic</th>\n",
              "    </tr>\n",
              "  </thead>\n",
              "  <tbody>\n",
              "    <tr>\n",
              "      <th>count</th>\n",
              "      <td>5.000000</td>\n",
              "      <td>5.000000</td>\n",
              "    </tr>\n",
              "    <tr>\n",
              "      <th>mean</th>\n",
              "      <td>2.774004</td>\n",
              "      <td>0.446500</td>\n",
              "    </tr>\n",
              "    <tr>\n",
              "      <th>std</th>\n",
              "      <td>3.424595</td>\n",
              "      <td>0.264666</td>\n",
              "    </tr>\n",
              "    <tr>\n",
              "      <th>min</th>\n",
              "      <td>0.000020</td>\n",
              "      <td>0.134500</td>\n",
              "    </tr>\n",
              "    <tr>\n",
              "      <th>25%</th>\n",
              "      <td>0.370000</td>\n",
              "      <td>0.335000</td>\n",
              "    </tr>\n",
              "    <tr>\n",
              "      <th>50%</th>\n",
              "      <td>0.500000</td>\n",
              "      <td>0.442000</td>\n",
              "    </tr>\n",
              "    <tr>\n",
              "      <th>75%</th>\n",
              "      <td>6.000000</td>\n",
              "      <td>0.462000</td>\n",
              "    </tr>\n",
              "    <tr>\n",
              "      <th>max</th>\n",
              "      <td>7.000000</td>\n",
              "      <td>0.859000</td>\n",
              "    </tr>\n",
              "  </tbody>\n",
              "</table>\n",
              "</div>\n",
              "    <div class=\"colab-df-buttons\">\n",
              "\n",
              "  <div class=\"colab-df-container\">\n",
              "    <button class=\"colab-df-convert\" onclick=\"convertToInteractive('df-7ae06bf9-878c-47da-9055-87ffe64d0429')\"\n",
              "            title=\"Convert this dataframe to an interactive table.\"\n",
              "            style=\"display:none;\">\n",
              "\n",
              "  <svg xmlns=\"http://www.w3.org/2000/svg\" height=\"24px\" viewBox=\"0 -960 960 960\">\n",
              "    <path d=\"M120-120v-720h720v720H120Zm60-500h600v-160H180v160Zm220 220h160v-160H400v160Zm0 220h160v-160H400v160ZM180-400h160v-160H180v160Zm440 0h160v-160H620v160ZM180-180h160v-160H180v160Zm440 0h160v-160H620v160Z\"/>\n",
              "  </svg>\n",
              "    </button>\n",
              "\n",
              "  <style>\n",
              "    .colab-df-container {\n",
              "      display:flex;\n",
              "      gap: 12px;\n",
              "    }\n",
              "\n",
              "    .colab-df-convert {\n",
              "      background-color: #E8F0FE;\n",
              "      border: none;\n",
              "      border-radius: 50%;\n",
              "      cursor: pointer;\n",
              "      display: none;\n",
              "      fill: #1967D2;\n",
              "      height: 32px;\n",
              "      padding: 0 0 0 0;\n",
              "      width: 32px;\n",
              "    }\n",
              "\n",
              "    .colab-df-convert:hover {\n",
              "      background-color: #E2EBFA;\n",
              "      box-shadow: 0px 1px 2px rgba(60, 64, 67, 0.3), 0px 1px 3px 1px rgba(60, 64, 67, 0.15);\n",
              "      fill: #174EA6;\n",
              "    }\n",
              "\n",
              "    .colab-df-buttons div {\n",
              "      margin-bottom: 4px;\n",
              "    }\n",
              "\n",
              "    [theme=dark] .colab-df-convert {\n",
              "      background-color: #3B4455;\n",
              "      fill: #D2E3FC;\n",
              "    }\n",
              "\n",
              "    [theme=dark] .colab-df-convert:hover {\n",
              "      background-color: #434B5C;\n",
              "      box-shadow: 0px 1px 3px 1px rgba(0, 0, 0, 0.15);\n",
              "      filter: drop-shadow(0px 1px 2px rgba(0, 0, 0, 0.3));\n",
              "      fill: #FFFFFF;\n",
              "    }\n",
              "  </style>\n",
              "\n",
              "    <script>\n",
              "      const buttonEl =\n",
              "        document.querySelector('#df-7ae06bf9-878c-47da-9055-87ffe64d0429 button.colab-df-convert');\n",
              "      buttonEl.style.display =\n",
              "        google.colab.kernel.accessAllowed ? 'block' : 'none';\n",
              "\n",
              "      async function convertToInteractive(key) {\n",
              "        const element = document.querySelector('#df-7ae06bf9-878c-47da-9055-87ffe64d0429');\n",
              "        const dataTable =\n",
              "          await google.colab.kernel.invokeFunction('convertToInteractive',\n",
              "                                                    [key], {});\n",
              "        if (!dataTable) return;\n",
              "\n",
              "        const docLinkHtml = 'Like what you see? Visit the ' +\n",
              "          '<a target=\"_blank\" href=https://colab.research.google.com/notebooks/data_table.ipynb>data table notebook</a>'\n",
              "          + ' to learn more about interactive tables.';\n",
              "        element.innerHTML = '';\n",
              "        dataTable['output_type'] = 'display_data';\n",
              "        await google.colab.output.renderOutput(dataTable, element);\n",
              "        const docLink = document.createElement('div');\n",
              "        docLink.innerHTML = docLinkHtml;\n",
              "        element.appendChild(docLink);\n",
              "      }\n",
              "    </script>\n",
              "  </div>\n",
              "\n",
              "\n",
              "<div id=\"df-4b682716-32ed-451a-b35e-75759f3ccd2b\">\n",
              "  <button class=\"colab-df-quickchart\" onclick=\"quickchart('df-4b682716-32ed-451a-b35e-75759f3ccd2b')\"\n",
              "            title=\"Suggest charts\"\n",
              "            style=\"display:none;\">\n",
              "\n",
              "<svg xmlns=\"http://www.w3.org/2000/svg\" height=\"24px\"viewBox=\"0 0 24 24\"\n",
              "     width=\"24px\">\n",
              "    <g>\n",
              "        <path d=\"M19 3H5c-1.1 0-2 .9-2 2v14c0 1.1.9 2 2 2h14c1.1 0 2-.9 2-2V5c0-1.1-.9-2-2-2zM9 17H7v-7h2v7zm4 0h-2V7h2v10zm4 0h-2v-4h2v4z\"/>\n",
              "    </g>\n",
              "</svg>\n",
              "  </button>\n",
              "\n",
              "<style>\n",
              "  .colab-df-quickchart {\n",
              "      --bg-color: #E8F0FE;\n",
              "      --fill-color: #1967D2;\n",
              "      --hover-bg-color: #E2EBFA;\n",
              "      --hover-fill-color: #174EA6;\n",
              "      --disabled-fill-color: #AAA;\n",
              "      --disabled-bg-color: #DDD;\n",
              "  }\n",
              "\n",
              "  [theme=dark] .colab-df-quickchart {\n",
              "      --bg-color: #3B4455;\n",
              "      --fill-color: #D2E3FC;\n",
              "      --hover-bg-color: #434B5C;\n",
              "      --hover-fill-color: #FFFFFF;\n",
              "      --disabled-bg-color: #3B4455;\n",
              "      --disabled-fill-color: #666;\n",
              "  }\n",
              "\n",
              "  .colab-df-quickchart {\n",
              "    background-color: var(--bg-color);\n",
              "    border: none;\n",
              "    border-radius: 50%;\n",
              "    cursor: pointer;\n",
              "    display: none;\n",
              "    fill: var(--fill-color);\n",
              "    height: 32px;\n",
              "    padding: 0;\n",
              "    width: 32px;\n",
              "  }\n",
              "\n",
              "  .colab-df-quickchart:hover {\n",
              "    background-color: var(--hover-bg-color);\n",
              "    box-shadow: 0 1px 2px rgba(60, 64, 67, 0.3), 0 1px 3px 1px rgba(60, 64, 67, 0.15);\n",
              "    fill: var(--button-hover-fill-color);\n",
              "  }\n",
              "\n",
              "  .colab-df-quickchart-complete:disabled,\n",
              "  .colab-df-quickchart-complete:disabled:hover {\n",
              "    background-color: var(--disabled-bg-color);\n",
              "    fill: var(--disabled-fill-color);\n",
              "    box-shadow: none;\n",
              "  }\n",
              "\n",
              "  .colab-df-spinner {\n",
              "    border: 2px solid var(--fill-color);\n",
              "    border-color: transparent;\n",
              "    border-bottom-color: var(--fill-color);\n",
              "    animation:\n",
              "      spin 1s steps(1) infinite;\n",
              "  }\n",
              "\n",
              "  @keyframes spin {\n",
              "    0% {\n",
              "      border-color: transparent;\n",
              "      border-bottom-color: var(--fill-color);\n",
              "      border-left-color: var(--fill-color);\n",
              "    }\n",
              "    20% {\n",
              "      border-color: transparent;\n",
              "      border-left-color: var(--fill-color);\n",
              "      border-top-color: var(--fill-color);\n",
              "    }\n",
              "    30% {\n",
              "      border-color: transparent;\n",
              "      border-left-color: var(--fill-color);\n",
              "      border-top-color: var(--fill-color);\n",
              "      border-right-color: var(--fill-color);\n",
              "    }\n",
              "    40% {\n",
              "      border-color: transparent;\n",
              "      border-right-color: var(--fill-color);\n",
              "      border-top-color: var(--fill-color);\n",
              "    }\n",
              "    60% {\n",
              "      border-color: transparent;\n",
              "      border-right-color: var(--fill-color);\n",
              "    }\n",
              "    80% {\n",
              "      border-color: transparent;\n",
              "      border-right-color: var(--fill-color);\n",
              "      border-bottom-color: var(--fill-color);\n",
              "    }\n",
              "    90% {\n",
              "      border-color: transparent;\n",
              "      border-bottom-color: var(--fill-color);\n",
              "    }\n",
              "  }\n",
              "</style>\n",
              "\n",
              "  <script>\n",
              "    async function quickchart(key) {\n",
              "      const quickchartButtonEl =\n",
              "        document.querySelector('#' + key + ' button');\n",
              "      quickchartButtonEl.disabled = true;  // To prevent multiple clicks.\n",
              "      quickchartButtonEl.classList.add('colab-df-spinner');\n",
              "      try {\n",
              "        const charts = await google.colab.kernel.invokeFunction(\n",
              "            'suggestCharts', [key], {});\n",
              "      } catch (error) {\n",
              "        console.error('Error during call to suggestCharts:', error);\n",
              "      }\n",
              "      quickchartButtonEl.classList.remove('colab-df-spinner');\n",
              "      quickchartButtonEl.classList.add('colab-df-quickchart-complete');\n",
              "    }\n",
              "    (() => {\n",
              "      let quickchartButtonEl =\n",
              "        document.querySelector('#df-4b682716-32ed-451a-b35e-75759f3ccd2b button');\n",
              "      quickchartButtonEl.style.display =\n",
              "        google.colab.kernel.accessAllowed ? 'block' : 'none';\n",
              "    })();\n",
              "  </script>\n",
              "</div>\n",
              "\n",
              "    </div>\n",
              "  </div>\n"
            ],
            "application/vnd.google.colaboratory.intrinsic+json": {
              "type": "dataframe",
              "summary": "{\n  \"name\": \"dark_matter_data\",\n  \"rows\": 8,\n  \"fields\": [\n    {\n      \"column\": \"Fiducial Volume (Tonnes)\",\n      \"properties\": {\n        \"dtype\": \"number\",\n        \"std\": 2.7059561790331004,\n        \"min\": 2e-05,\n        \"max\": 7.0,\n        \"num_unique_values\": 8,\n        \"samples\": [\n          2.7740039999999997,\n          0.5,\n          5.0\n        ],\n        \"semantic_type\": \"\",\n        \"description\": \"\"\n      }\n    },\n    {\n      \"column\": \"Unnamed Random Statistic\",\n      \"properties\": {\n        \"dtype\": \"number\",\n        \"std\": 1.6326440197078653,\n        \"min\": 0.1345,\n        \"max\": 5.0,\n        \"num_unique_values\": 8,\n        \"samples\": [\n          0.4465,\n          0.442,\n          5.0\n        ],\n        \"semantic_type\": \"\",\n        \"description\": \"\"\n      }\n    }\n  ]\n}"
            }
          },
          "metadata": {},
          "execution_count": 83
        }
      ],
      "source": [
        "dark_matter_data.describe()"
      ]
    },
    {
      "cell_type": "markdown",
      "id": "befe3fc7",
      "metadata": {
        "id": "befe3fc7"
      },
      "source": [
        "Let's say we imported a dataframe and need to check how large it is. There are two ways to do this. One way, using the `np.size()` function, prints the number of elements in the dataframe. Then, the `np.shape()` function returns the dimensions, in (row,column) format, of the dataframe. Let's try it. As you can tell from the format, these are actually `NumPy` functions that we are applying to `Pandas` dataframe."
      ]
    },
    {
      "cell_type": "code",
      "execution_count": 85,
      "id": "ba712fd7",
      "metadata": {
        "id": "ba712fd7",
        "colab": {
          "base_uri": "https://localhost:8080/"
        },
        "outputId": "aed913f8-491c-4909-d118-69a014bc7c98"
      },
      "outputs": [
        {
          "output_type": "execute_result",
          "data": {
            "text/plain": [
              "25"
            ]
          },
          "metadata": {},
          "execution_count": 85
        }
      ],
      "source": [
        "np.size(dark_matter_data)"
      ]
    },
    {
      "cell_type": "code",
      "execution_count": 84,
      "id": "28915b77",
      "metadata": {
        "id": "28915b77",
        "colab": {
          "base_uri": "https://localhost:8080/"
        },
        "outputId": "8ff802b4-68e2-41c3-a9d9-59ca4deadfc6"
      },
      "outputs": [
        {
          "output_type": "execute_result",
          "data": {
            "text/plain": [
              "(5, 5)"
            ]
          },
          "metadata": {},
          "execution_count": 84
        }
      ],
      "source": [
        "np.shape(dark_matter_data)"
      ]
    },
    {
      "cell_type": "markdown",
      "id": "46005c53",
      "metadata": {
        "id": "46005c53"
      },
      "source": [
        "### $\\color{orange}{\\text{Activity 12: Working with Dataframes}}$"
      ]
    },
    {
      "cell_type": "markdown",
      "id": "9e35c6c3",
      "metadata": {
        "id": "9e35c6c3"
      },
      "source": [
        "You will need to reference documentation for this problem: https://pandas.pydata.org/docs/user_guide/10min.html\n",
        "\n",
        "You need to generate a `Pandas` dataframe containing some data you collected in the lab. This dataframe should have 5 columns and 7 rows. Construct a dataframe, containing a combination of floating-point data and strings, that describe a fictional experiment of your own design (i.e. the data can be random). Then:\n",
        "\n",
        "**1.** Print the size and shape of the dataframe. Print a list of statistics for the floating-point values in your dataframe.\n",
        "\n",
        "**2.** Oops! You made a systematic error in taking three of your datapoints. Use indexing to replace 3 elements of data, at random, with a `NaN`. What does `NaN` represent?\n",
        "\n",
        "**3.** Use the `concat()` function and indexing to select the 3rd and 5th column and create a new dataframe with them.\n",
        "\n",
        "**4.** Convert your original dataframe (not the one from part 3) to a .csv file and then read it back in from the .csv format."
      ]
    },
    {
      "cell_type": "code",
      "execution_count": 99,
      "id": "ffd652c7",
      "metadata": {
        "id": "ffd652c7",
        "colab": {
          "base_uri": "https://localhost:8080/"
        },
        "outputId": "87135d4a-d1c7-44db-8801-17a5fe71241c"
      },
      "outputs": [
        {
          "output_type": "stream",
          "name": "stdout",
          "text": [
            "This is the size of the gym data 35\n",
            "This is the shape of the gym data (7, 5)\n",
            "  Categories    One exercise Weight comparitively Chance of injury  \\\n",
            "0       arms            curl                  low              low   \n",
            "1  shoulders  shoulder press                  low       medium low   \n",
            "2      chest             NaN               medium              low   \n",
            "3       back        deadlift                 high           medium   \n",
            "4       legs           squat                 high       medium low   \n",
            "5       core       leg lifts                  low              low   \n",
            "6        NaN         running                  N/A              low   \n",
            "\n",
            "  Enjoyability  \n",
            "0         0.80  \n",
            "1         0.50  \n",
            "2         0.75  \n",
            "3          NaN  \n",
            "4         0.30  \n",
            "5         0.60  \n",
            "6         0.50  \n",
            "  Weight comparitively Enjoyability\n",
            "0                  low         0.80\n",
            "1                  low         0.50\n",
            "2               medium         0.75\n",
            "3                 high          NaN\n",
            "4                 high         0.30\n",
            "5                  low         0.60\n",
            "6                  N/A         0.50\n",
            "   Unnamed: 0 Categories    One exercise Weight comparitively  \\\n",
            "0           0       arms            curl                  low   \n",
            "1           1  shoulders  shoulder press                  low   \n",
            "2           2      chest             NaN               medium   \n",
            "3           3       back        deadlift                 high   \n",
            "4           4       legs           squat                 high   \n",
            "5           5       core       leg lifts                  low   \n",
            "6           6        NaN         running                  NaN   \n",
            "\n",
            "  Chance of injury  Enjoyability  \n",
            "0              low          0.80  \n",
            "1       medium low          0.50  \n",
            "2              low          0.75  \n",
            "3           medium           NaN  \n",
            "4       medium low          0.30  \n",
            "5              low          0.60  \n",
            "6              low          0.50  \n"
          ]
        }
      ],
      "source": [
        "#Activity 12\n",
        "\n",
        "gym_categories = [\"arms\", \"shoulders\", \"chest\", \"back\", \"legs\", \"core\", \"cardio\"]\n",
        "exercise = [\"curl\", \"shoulder press\", \"bench press\", \"deadlift\", \"squat\", \"leg lifts\", \"running\"]\n",
        "weight = [\"low\", \"low\", \"medium\", \"high\", \"high\", \"low\", \"N/A\"] #Just comparitively how much weight people usually do\n",
        "chance_of_injury = [\"low\", \"medium low\", \"low\", \"medium\", \"medium low\", \"low\", \"low\"] #From what I think\n",
        "enjoyable = [\"0.80\", \"0.50\", \"0.75\", \"0.40\", \"0.30\", \"0.60\", \"0.50\"] #How enjoyable they are to me out of 1\n",
        "\n",
        "gym_data = pd.DataFrame({\"Categories\": gym_categories, \"One exercise\": exercise, \"Weight comparitively\": weight, \"Chance of injury\": chance_of_injury, \"Enjoyability\": enjoyable})\n",
        "\n",
        "print(f\"This is the size of the gym data {gym_data.size}\")\n",
        "print(f\"This is the shape of the gym data {gym_data.shape}\")\n",
        "\n",
        "i = 0\n",
        "while(i<3):\n",
        "  a = np.random.randint(0,7)\n",
        "  b = np.random.randint(0,5)\n",
        "  gym_data.iloc[a,b] = np.nan #Nan means \"Not a number\", basically empty data I believe\n",
        "  i+=1\n",
        "\n",
        "print(gym_data)\n",
        "\n",
        "gym_data2 = pd.concat([gym_data.iloc[:,2], gym_data.iloc[:,4]], axis = 1)\n",
        "print(gym_data2)\n",
        "\n",
        "gym_data.to_csv(\"gym_data.csv\")\n",
        "print(pd.read_csv(\"gym_data.csv\"))"
      ]
    },
    {
      "cell_type": "code",
      "source": [
        "print(f\"This is the size of the gym data {gym_data.size}\")\n",
        "print(f\"This is the shape of the gym data {gym_data.shape}\")\n",
        "\n",
        "i = 0\n",
        "while(i<3):\n",
        "  a = np.random.randint(0,7)\n",
        "  b = np.random.randint(0,5)\n",
        "  gym_data.iloc[a,b] = np.nan #Nan means \"Not a number\", basically empty data I believe\n",
        "  i+=1\n",
        "\n",
        "print(gym_data)\n",
        "\n",
        "gym_data2 = pd.concat([gym_data.iloc[:,2], gym_data.iloc[:,4]])\n",
        "print(gym_data2)"
      ],
      "metadata": {
        "colab": {
          "base_uri": "https://localhost:8080/"
        },
        "id": "Kh66GPuk9Flt",
        "outputId": "4bb5ec0d-6b5c-4971-ba90-c6ca6b28a0ba"
      },
      "id": "Kh66GPuk9Flt",
      "execution_count": 96,
      "outputs": [
        {
          "output_type": "stream",
          "name": "stdout",
          "text": [
            "This is the size of the gym data 35\n",
            "This is the shape of the gym data (7, 5)\n",
            "  Categories    One exercise Weight comparitively Chance of injury  \\\n",
            "0       arms             NaN                  low              low   \n",
            "1  shoulders  shoulder press                  NaN       medium low   \n",
            "2      chest     bench press               medium              low   \n",
            "3       back             NaN                 high           medium   \n",
            "4       legs           squat                 high       medium low   \n",
            "5       core       leg lifts                  low              low   \n",
            "6     cardio         running                  N/A              low   \n",
            "\n",
            "  Enjoyability  \n",
            "0         0.80  \n",
            "1         0.50  \n",
            "2         0.75  \n",
            "3         0.40  \n",
            "4         0.30  \n",
            "5         0.60  \n",
            "6         0.50  \n"
          ]
        }
      ]
    },
    {
      "cell_type": "markdown",
      "id": "5c37fc0f",
      "metadata": {
        "id": "5c37fc0f"
      },
      "source": [
        "___________________________"
      ]
    },
    {
      "cell_type": "markdown",
      "id": "99f45b1a",
      "metadata": {
        "id": "99f45b1a"
      },
      "source": [
        "## $\\color{Blue}{\\text{Congrats! You've completed Week 1 of STARTUP homework!}}$\n",
        "### $\\color{Orange}{\\text{Remember to commit this notebook to GitHub as instructed in Activity 2.}}$"
      ]
    }
  ],
  "metadata": {
    "kernelspec": {
      "display_name": "Python 3.9 (Default)",
      "language": "python",
      "name": "python3"
    },
    "language_info": {
      "codemirror_mode": {
        "name": "ipython",
        "version": 3
      },
      "file_extension": ".py",
      "mimetype": "text/x-python",
      "name": "python",
      "nbconvert_exporter": "python",
      "pygments_lexer": "ipython3",
      "version": "3.9.7"
    },
    "colab": {
      "provenance": []
    }
  },
  "nbformat": 4,
  "nbformat_minor": 5
}