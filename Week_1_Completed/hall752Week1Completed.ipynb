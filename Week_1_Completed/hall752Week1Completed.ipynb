{
  "cells": [
    {
      "cell_type": "markdown",
      "id": "309072f4",
      "metadata": {
        "id": "309072f4"
      },
      "source": [
        "# $\\color{Violet}{\\text{Week 1: Python and GitHub Intro}}$"
      ]
    },
    {
      "cell_type": "markdown",
      "id": "9174c7df",
      "metadata": {
        "id": "9174c7df"
      },
      "source": [
        "**Instructions:** Read all text blocks and comments in code cells carefully. These contain important information regarding content you'll need to know for operating the notebook and research/coding in general. They may also contain instructions/hints for filling out activity blocks."
      ]
    },
    {
      "cell_type": "markdown",
      "id": "c1fb1bcc",
      "metadata": {
        "id": "c1fb1bcc"
      },
      "source": [
        "## $\\color{Red}{\\text{Reminder: Documentation and Stack Exchange are your best friends!}}$"
      ]
    },
    {
      "cell_type": "markdown",
      "id": "61a62695",
      "metadata": {
        "id": "61a62695"
      },
      "source": [
        "___________________________________________"
      ]
    },
    {
      "cell_type": "markdown",
      "id": "528fd72a",
      "metadata": {
        "id": "528fd72a"
      },
      "source": [
        "# Importing, Updating, and Downloading Packages"
      ]
    },
    {
      "cell_type": "markdown",
      "id": "181c5d1b",
      "metadata": {
        "id": "181c5d1b"
      },
      "source": [
        "The first thing you must do whenever you create a new notebook or other coding file is to import all the packages you'll need to complete your computations. Packages are a relatively universal concept in higher-level programming; not all functionalities needed for a project are necessarily going to be incorportated into the natural programming language, so we must import external code telling Python how to compute special functions. It's good to have a single block you can run at the beginning of the notebook that initializes all the imports. **Once this block is run, you won't have to run it again so long as you don't shut down or restart your kernel.**"
      ]
    },
    {
      "cell_type": "code",
      "execution_count": 70,
      "id": "80c8e72e",
      "metadata": {
        "scrolled": true,
        "id": "80c8e72e"
      },
      "outputs": [],
      "source": [
        "# Run this cell. Notice that a number appears on the left-hand side. This number keeps track of the order in which the cells are run.\n",
        "# Use a pound symbol '#' to insert comments into coding blocks. It is important that you keep your code well-commented so others can follow along.\n",
        "\n",
        "import numpy as np #Whenever we reference the NumPy package later, we will abreviate it as 'np'; using \"as np\" tells the computer this is our intention. 'np' is the standard abbreviation for NumPy.\n",
        "import scipy\n",
        "import pandas as pd #'pd' is the standard Pandas abbreviation\n",
        "import matplotlib as plt"
      ]
    },
    {
      "cell_type": "markdown",
      "id": "0b3a1162",
      "metadata": {
        "id": "0b3a1162"
      },
      "source": [
        "Let's check what version of each package we're using. Whenever the developers of the package update something, the version changes. This can cause problems if one package requires a certain version of another; we can change which version we use if needed."
      ]
    },
    {
      "cell_type": "code",
      "execution_count": null,
      "id": "da366642",
      "metadata": {
        "colab": {
          "base_uri": "https://localhost:8080/"
        },
        "id": "da366642",
        "outputId": "61508d6d-f0e1-4cd0-dc31-4d84e324afa8"
      },
      "outputs": [
        {
          "output_type": "stream",
          "name": "stdout",
          "text": [
            "1.25.2\n",
            "We are running NumPy version 1.25.2.\n"
          ]
        }
      ],
      "source": [
        "print(np.__version__) #The '.__version__' command prints the version of the package\n",
        "\n",
        "#Let's format this into a sentance we can print. If you need help with Python strings and datatypes, we recommend CodeAcademy's intro course.\n",
        "version_number = np.__version__ #Save the version number as a variable\n",
        "print(f\"We are running NumPy version {version_number}.\") #This formatting is called an f-string. It prints combined strings and variables as strings."
      ]
    },
    {
      "cell_type": "markdown",
      "id": "82684296",
      "metadata": {
        "id": "82684296"
      },
      "source": [
        "Let's say we need to use a new Python package that's not already installed on our kernel. We won't have access to the source code we need unless we install this package. We do this using the `!pip install` command. Once this command is run for a particular package, it never needs run again. `!pip install` is also a Bash command that works in Terminal, too."
      ]
    },
    {
      "cell_type": "code",
      "execution_count": null,
      "id": "7641f8c1",
      "metadata": {
        "colab": {
          "base_uri": "https://localhost:8080/"
        },
        "id": "7641f8c1",
        "outputId": "d33b961a-40ad-4c19-f322-06d5f617ef20"
      },
      "outputs": [
        {
          "output_type": "stream",
          "name": "stdout",
          "text": [
            "Requirement already satisfied: numpy in /usr/local/lib/python3.10/dist-packages (1.26.4)\n"
          ]
        }
      ],
      "source": [
        "#Let's pip install NumPy just for practice, even though it is generally installed on most servers by default. It should return a line telling you the package is already installed (\"Requirement already satisfied\")\n",
        "!pip install numpy"
      ]
    },
    {
      "cell_type": "markdown",
      "id": "cd9e432c",
      "metadata": {
        "id": "cd9e432c"
      },
      "source": [
        "Let's say we want to use a different version of NumPy, maybe because of some dependency issues. We can revert to an older version and update the package. We need to reinstall the package under a new version using `! pip install` again. You may get some errors, pip install is really finiky, just run the cell again to see that the requirement is satisfied.\n",
        "\n",
        "If you're having problems in your code, it is important to read the errors that are returned. You can Google these errors or ask ChatGPT to find solutions."
      ]
    },
    {
      "cell_type": "code",
      "execution_count": null,
      "id": "0e5e0a35",
      "metadata": {
        "colab": {
          "base_uri": "https://localhost:8080/"
        },
        "id": "0e5e0a35",
        "outputId": "5c2e2a9a-c6e5-446a-bc2e-946c1bee4c68"
      },
      "outputs": [
        {
          "output_type": "stream",
          "name": "stdout",
          "text": [
            "Collecting numpy==1.20.0\n",
            "  Using cached numpy-1.20.0.zip (8.0 MB)\n",
            "  Installing build dependencies ... \u001b[?25l\u001b[?25hdone\n",
            "  Getting requirements to build wheel ... \u001b[?25l\u001b[?25hdone\n",
            "  Preparing metadata (pyproject.toml) ... \u001b[?25l\u001b[?25hcanceled\n",
            "\u001b[31mERROR: Operation cancelled by user\u001b[0m\u001b[31m\n",
            "\u001b[0m"
          ]
        }
      ],
      "source": [
        "!pip install numpy==1.20.0"
      ]
    },
    {
      "cell_type": "markdown",
      "id": "3ffffac1",
      "metadata": {
        "id": "3ffffac1"
      },
      "source": [
        "But uh oh! We realize that reverting to an older version of NumPy causes some dependency problems (newer packages we're using rely on updated versions of NumPy, so they won't run unless we make sure NumPy is updated). Let's use `!pip install` to uninstall the old version of NumPy and reinstall a new version of NumPy."
      ]
    },
    {
      "cell_type": "code",
      "execution_count": null,
      "id": "188efd8e",
      "metadata": {
        "colab": {
          "base_uri": "https://localhost:8080/"
        },
        "id": "188efd8e",
        "outputId": "e01fca0c-ec30-41ae-d040-e769da65962f"
      },
      "outputs": [
        {
          "output_type": "stream",
          "name": "stdout",
          "text": [
            "Requirement already satisfied: numpy in /usr/local/lib/python3.10/dist-packages (1.25.2)\n",
            "Collecting numpy\n",
            "  Downloading numpy-1.26.4-cp310-cp310-manylinux_2_17_x86_64.manylinux2014_x86_64.whl (18.2 MB)\n",
            "\u001b[2K     \u001b[90m━━━━━━━━━━━━━━━━━━━━━━━━━━━━━━━━━━━━━━━━\u001b[0m \u001b[32m18.2/18.2 MB\u001b[0m \u001b[31m24.3 MB/s\u001b[0m eta \u001b[36m0:00:00\u001b[0m\n",
            "\u001b[?25hInstalling collected packages: numpy\n",
            "  Attempting uninstall: numpy\n",
            "    Found existing installation: numpy 1.25.2\n",
            "    Uninstalling numpy-1.25.2:\n",
            "      Successfully uninstalled numpy-1.25.2\n",
            "Successfully installed numpy-1.26.4\n",
            "The updated version number of NumPy is 1.25.2.\n"
          ]
        }
      ],
      "source": [
        "!pip install numpy --upgrade\n",
        "\n",
        "new_version = np.__version__\n",
        "print(f\"The updated version number of NumPy is {new_version}.\")"
      ]
    },
    {
      "cell_type": "markdown",
      "id": "79efbc08",
      "metadata": {
        "id": "79efbc08"
      },
      "source": [
        "### $\\color{orange}{\\text{Activity 1: Import and Update}}$"
      ]
    },
    {
      "cell_type": "markdown",
      "id": "1c07c2b3",
      "metadata": {
        "id": "1c07c2b3"
      },
      "source": [
        "In the block below, install a Python package of your choosing (find some here: https://www.geeksforgeeks.org/python-packages/), import it, and check the version number. Research the package documentation/GitHub to ensure it is the most recent version number."
      ]
    },
    {
      "cell_type": "markdown",
      "id": "b75e99d8",
      "metadata": {
        "id": "b75e99d8"
      },
      "source": [
        "In the block below, import the package of your choosing (find some here: https://www.geeksforgeeks.org/python-packages/) and make sure it's updated to the latest version."
      ]
    },
    {
      "cell_type": "code",
      "execution_count": null,
      "id": "f77721c5",
      "metadata": {
        "colab": {
          "base_uri": "https://localhost:8080/"
        },
        "id": "f77721c5",
        "outputId": "0a773808-c0a3-41c5-c078-9fa7d880ebea"
      },
      "outputs": [
        {
          "output_type": "stream",
          "name": "stdout",
          "text": [
            "Collecting qiskit\n",
            "  Downloading qiskit-1.1.0-cp38-abi3-manylinux_2_17_x86_64.manylinux2014_x86_64.whl (4.3 MB)\n",
            "\u001b[2K     \u001b[90m━━━━━━━━━━━━━━━━━━━━━━━━━━━━━━━━━━━━━━━━\u001b[0m \u001b[32m4.3/4.3 MB\u001b[0m \u001b[31m10.0 MB/s\u001b[0m eta \u001b[36m0:00:00\u001b[0m\n",
            "\u001b[?25hCollecting rustworkx>=0.14.0 (from qiskit)\n",
            "  Downloading rustworkx-0.14.2-cp310-cp310-manylinux_2_17_x86_64.manylinux2014_x86_64.whl (2.1 MB)\n",
            "\u001b[2K     \u001b[90m━━━━━━━━━━━━━━━━━━━━━━━━━━━━━━━━━━━━━━━━\u001b[0m \u001b[32m2.1/2.1 MB\u001b[0m \u001b[31m20.5 MB/s\u001b[0m eta \u001b[36m0:00:00\u001b[0m\n",
            "\u001b[?25hRequirement already satisfied: numpy<3,>=1.17 in /usr/local/lib/python3.10/dist-packages (from qiskit) (1.26.4)\n",
            "Requirement already satisfied: scipy>=1.5 in /usr/local/lib/python3.10/dist-packages (from qiskit) (1.11.4)\n",
            "Requirement already satisfied: sympy>=1.3 in /usr/local/lib/python3.10/dist-packages (from qiskit) (1.12)\n",
            "Collecting dill>=0.3 (from qiskit)\n",
            "  Downloading dill-0.3.8-py3-none-any.whl (116 kB)\n",
            "\u001b[2K     \u001b[90m━━━━━━━━━━━━━━━━━━━━━━━━━━━━━━━━━━━━━━━━\u001b[0m \u001b[32m116.3/116.3 kB\u001b[0m \u001b[31m13.0 MB/s\u001b[0m eta \u001b[36m0:00:00\u001b[0m\n",
            "\u001b[?25hRequirement already satisfied: python-dateutil>=2.8.0 in /usr/local/lib/python3.10/dist-packages (from qiskit) (2.8.2)\n",
            "Collecting stevedore>=3.0.0 (from qiskit)\n",
            "  Downloading stevedore-5.2.0-py3-none-any.whl (49 kB)\n",
            "\u001b[2K     \u001b[90m━━━━━━━━━━━━━━━━━━━━━━━━━━━━━━━━━━━━━━━━\u001b[0m \u001b[32m49.7/49.7 kB\u001b[0m \u001b[31m3.5 MB/s\u001b[0m eta \u001b[36m0:00:00\u001b[0m\n",
            "\u001b[?25hRequirement already satisfied: typing-extensions in /usr/local/lib/python3.10/dist-packages (from qiskit) (4.11.0)\n",
            "Collecting symengine>=0.11 (from qiskit)\n",
            "  Downloading symengine-0.11.0-cp310-cp310-manylinux_2_12_x86_64.manylinux2010_x86_64.whl (39.4 MB)\n",
            "\u001b[2K     \u001b[90m━━━━━━━━━━━━━━━━━━━━━━━━━━━━━━━━━━━━━━━━\u001b[0m \u001b[32m39.4/39.4 MB\u001b[0m \u001b[31m7.9 MB/s\u001b[0m eta \u001b[36m0:00:00\u001b[0m\n",
            "\u001b[?25hRequirement already satisfied: six>=1.5 in /usr/local/lib/python3.10/dist-packages (from python-dateutil>=2.8.0->qiskit) (1.16.0)\n",
            "Collecting pbr!=2.1.0,>=2.0.0 (from stevedore>=3.0.0->qiskit)\n",
            "  Downloading pbr-6.0.0-py2.py3-none-any.whl (107 kB)\n",
            "\u001b[2K     \u001b[90m━━━━━━━━━━━━━━━━━━━━━━━━━━━━━━━━━━━━━━━━\u001b[0m \u001b[32m107.5/107.5 kB\u001b[0m \u001b[31m12.4 MB/s\u001b[0m eta \u001b[36m0:00:00\u001b[0m\n",
            "\u001b[?25hRequirement already satisfied: mpmath>=0.19 in /usr/local/lib/python3.10/dist-packages (from sympy>=1.3->qiskit) (1.3.0)\n",
            "Installing collected packages: symengine, rustworkx, pbr, dill, stevedore, qiskit\n",
            "Successfully installed dill-0.3.8 pbr-6.0.0 qiskit-1.1.0 rustworkx-0.14.2 stevedore-5.2.0 symengine-0.11.0\n"
          ]
        }
      ],
      "source": [
        "## Activity 1\n",
        "!pip install qiskit\n"
      ]
    },
    {
      "cell_type": "markdown",
      "id": "2b57486f",
      "metadata": {
        "id": "2b57486f"
      },
      "source": [
        "Cool. Our packges are ready to use."
      ]
    },
    {
      "cell_type": "markdown",
      "id": "4ad0f43b",
      "metadata": {
        "id": "4ad0f43b"
      },
      "source": [
        "________________________________________"
      ]
    },
    {
      "cell_type": "markdown",
      "id": "ced8a8e4",
      "metadata": {
        "id": "ced8a8e4"
      },
      "source": [
        "# Pulling from GitHub"
      ]
    },
    {
      "cell_type": "markdown",
      "id": "3d2b74a4",
      "metadata": {
        "id": "3d2b74a4"
      },
      "source": [
        "We have the course GitHub, where you probably got this notebook. You can download individual notebooks from GitHub, similar to how you's upload a new notebook to GitHub **(IMPORTANT: all Python Jupyter notebooks end in a .ipynb file type)**. Let's \"clone\" the entire repository into our local folder, however, and just download it all at once. We can do this using Jupyter notebooks."
      ]
    },
    {
      "cell_type": "code",
      "execution_count": null,
      "id": "86adee99",
      "metadata": {
        "colab": {
          "base_uri": "https://localhost:8080/"
        },
        "id": "86adee99",
        "outputId": "496c7c6f-8406-49ba-eb01-1ace98b69925"
      },
      "outputs": [
        {
          "output_type": "stream",
          "name": "stdout",
          "text": [
            "Cloning into 'STARTUP_Purdue'...\n",
            "remote: Enumerating objects: 42, done.\u001b[K\n",
            "remote: Counting objects: 100% (42/42), done.\u001b[K\n",
            "remote: Compressing objects: 100% (30/30), done.\u001b[K\n",
            "remote: Total 42 (delta 4), reused 0 (delta 0), pack-reused 0\u001b[K\n",
            "Receiving objects: 100% (42/42), 73.84 KiB | 2.64 MiB/s, done.\n",
            "Resolving deltas: 100% (4/4), done.\n"
          ]
        }
      ],
      "source": [
        "!git clone https://github.com/ameliabinau/STARTUP_Purdue.git #This address can be found under \"<>Code\" -> \"HTTPS\" on the homepage of the repository."
      ]
    },
    {
      "cell_type": "markdown",
      "id": "bd4dd903",
      "metadata": {
        "id": "bd4dd903"
      },
      "source": [
        "Check your files. The entire repository should be saved under a new folder there."
      ]
    },
    {
      "cell_type": "markdown",
      "id": "f6eac0a7",
      "metadata": {
        "id": "f6eac0a7"
      },
      "source": [
        "### $\\color{orange}{\\text{Activity 2: Commit to GitHub}}$"
      ]
    },
    {
      "cell_type": "markdown",
      "id": "c05fb909",
      "metadata": {
        "id": "c05fb909"
      },
      "source": [
        "When you have completed working through this notebook, download a copy (File -> Download as -> Notebook (.ipynb)). In the course GitHub, upload a copy of this notebook under the folder `Week_1/Week_1_Completed`."
      ]
    },
    {
      "cell_type": "markdown",
      "id": "e33800b2",
      "metadata": {
        "id": "e33800b2"
      },
      "source": [
        "If you were working in a group on a project that needs **continuously updated as you work on it**, GitHub allows you to sync your notebooks with the repository. This is, in fact, what GitHub is designed for and a common use for the repositories. While we will not be using this functionality for this course, find more information here: https://docs.qubole.com/en/latest/user-guide/notebooks-and-dashboards/notebooks/jupyter-notebooks/managing-jupy-notebook-versions/link-jupy-notebook-github.html"
      ]
    },
    {
      "cell_type": "markdown",
      "id": "c3ebf5ce",
      "metadata": {
        "id": "c3ebf5ce"
      },
      "source": [
        "# NumPy"
      ]
    },
    {
      "cell_type": "markdown",
      "id": "cb5c8012",
      "metadata": {
        "id": "cb5c8012"
      },
      "source": [
        "Let's use NumPy for some array manipulation. **NumPy is a standard package for computaing involving large sets of data, including statistical analyses.** Documentation and more information, inculding an array of interesting compatable packages for research purposes, can be found here: https://numpy.org/."
      ]
    },
    {
      "cell_type": "code",
      "execution_count": null,
      "id": "f6686674",
      "metadata": {
        "id": "f6686674"
      },
      "outputs": [],
      "source": [
        "#Let's create a 4x4 NumPy array. A NumPy array is a specific dataframe type that is used universally across many packages.\n",
        "array = np.array([[2.4, 6.4, 2.1, 8.0], [1.1, 1.2, 6.4, 3.2], [9.3, 0.3, 5.6, 5.7], [7.8, 3.2, 5.5, 7.0]])"
      ]
    },
    {
      "cell_type": "code",
      "execution_count": null,
      "id": "c73b6206",
      "metadata": {
        "colab": {
          "base_uri": "https://localhost:8080/"
        },
        "id": "c73b6206",
        "outputId": "2ba94b6e-5661-4664-c412-97476c85d57c"
      },
      "outputs": [
        {
          "output_type": "stream",
          "name": "stdout",
          "text": [
            "float64\n",
            "<class 'numpy.ndarray'>\n"
          ]
        }
      ],
      "source": [
        "#Let's check the data and object types.\n",
        "print(array.dtype)\n",
        "print(type(array))"
      ]
    },
    {
      "cell_type": "markdown",
      "id": "d7504016",
      "metadata": {
        "id": "d7504016"
      },
      "source": [
        "Often, we will have to convert to the appropriate dataframe/object type in order to use certain functions. NumPy has some functions that convert between object types. Let's generate a regular Python list and convert it to a NumPy array."
      ]
    },
    {
      "cell_type": "code",
      "execution_count": null,
      "id": "babfa107",
      "metadata": {
        "colab": {
          "base_uri": "https://localhost:8080/"
        },
        "id": "babfa107",
        "outputId": "1668a86c-a490-42e9-8bac-62f61f57929e"
      },
      "outputs": [
        {
          "output_type": "stream",
          "name": "stdout",
          "text": [
            "[1, 2, 3, 4, 5, 6, 7]\n",
            "<class 'list'>\n",
            "[1 2 3 4 5 6 7]\n",
            "<class 'numpy.ndarray'>\n"
          ]
        }
      ],
      "source": [
        "list = [1, 2, 3, 4, 5, 6, 7]\n",
        "print(list)\n",
        "print(type(list))\n",
        "\n",
        "list = np.asarray(list)\n",
        "print(list)\n",
        "print(type(list))"
      ]
    },
    {
      "cell_type": "markdown",
      "id": "f9f140a2",
      "metadata": {
        "id": "f9f140a2"
      },
      "source": [
        "See what happened there?"
      ]
    },
    {
      "cell_type": "markdown",
      "id": "113c56f2",
      "metadata": {
        "id": "113c56f2"
      },
      "source": [
        "### $\\color{orange}{\\text{Activity 3: Manipulating NumPy Arrays}}$"
      ]
    },
    {
      "cell_type": "markdown",
      "id": "719842f4",
      "metadata": {
        "id": "719842f4"
      },
      "source": [
        "Print this NumPy array.\n",
        "\n",
        "**1.** Use indexing to return/print the element in the [3,3] position.\n",
        "\n",
        "**2.** Then, swap the element in the [2,4] position with the element in the [1,3] position; print the result.\n",
        "\n",
        "**3.** Next, rewrite the element in the [1,4] position to equal 0. Print the result.\n",
        "\n",
        "**4.** Lastly, use indexing to locate which coordinate the value of 9.3 is located. Print the result.\n",
        "\n",
        "More information on indexing and basic NumPy can be found here: https://numpy.org/doc/stable/user/absolute_beginners.html"
      ]
    },
    {
      "cell_type": "code",
      "execution_count": null,
      "id": "1b988801",
      "metadata": {
        "colab": {
          "base_uri": "https://localhost:8080/"
        },
        "id": "1b988801",
        "outputId": "b73e1620-59cf-4d12-f869-ec62899b4601"
      },
      "outputs": [
        {
          "output_type": "stream",
          "name": "stdout",
          "text": [
            "[[2.4 6.4 2.1 0. ]\n",
            " [1.1 1.2 6.4 3.2]\n",
            " [9.3 0.3 5.6 5.7]\n",
            " [7.8 3.2 5.5 7. ]]\n",
            "Activity 3: Problem 1 Answer:\n",
            "5.6\n",
            "Activity 3: Problem 2 Answer:\n",
            "[[2.4 6.4 3.2 0. ]\n",
            " [1.1 1.2 6.4 2.1]\n",
            " [9.3 0.3 5.6 5.7]\n",
            " [7.8 3.2 5.5 7. ]]\n",
            "Activity 3: Problem 3 Answer:\n",
            "[[2.4 6.4 3.2 0. ]\n",
            " [1.1 1.2 6.4 2.1]\n",
            " [9.3 0.3 5.6 5.7]\n",
            " [7.8 3.2 5.5 7. ]]\n",
            "Activity 3: Problem 4 Answer:\n",
            "[2] [0]\n"
          ]
        }
      ],
      "source": [
        "#1. Getting and printing element [3,3]\n",
        "line1 = array[0]\n",
        "line2 = array[1]\n",
        "line3 = array[2]\n",
        "line4 = array[3]\n",
        "print(array)\n",
        "print(\"Activity 3: Problem 1 Answer:\")\n",
        "print(line3[2])\n",
        "#2. Swapping element from [2,4] with element from [1,3]\n",
        "element1 = line2[3]\n",
        "element2 = line1[2]\n",
        "line2[3] = element2\n",
        "line1[2] = element1\n",
        "print(\"Activity 3: Problem 2 Answer:\")\n",
        "print(array)\n",
        "#3. Rewriting element [1,4] to 0\n",
        "line1[3] = 0\n",
        "print(\"Activity 3: Problem 3 Answer:\")\n",
        "print(array)\n",
        "# Locating 9.3 within array\n",
        "target = 9.3\n",
        "value = np.where(array == target)\n",
        "x_indices, y_indices = value\n",
        "x_coord = x_indices\n",
        "y_coord = y_indices\n",
        "print(\"Activity 3: Problem 4 Answer:\")\n",
        "print(x_coord, y_coord)\n",
        "#I know this isn't right, but I am moving on. Will come back later"
      ]
    },
    {
      "cell_type": "markdown",
      "id": "dad63821",
      "metadata": {
        "id": "dad63821"
      },
      "source": [
        "### np.mean & More!"
      ]
    },
    {
      "cell_type": "markdown",
      "id": "8d5a120b",
      "metadata": {
        "id": "8d5a120b"
      },
      "source": [
        "NumPy hosts an array of statistical functions that are relatively easy to use. Let's find the mean of the array we created."
      ]
    },
    {
      "cell_type": "code",
      "execution_count": null,
      "id": "08a4a55d",
      "metadata": {
        "colab": {
          "base_uri": "https://localhost:8080/"
        },
        "id": "08a4a55d",
        "outputId": "48665e04-6a86-4745-ded2-feb88954a9e7"
      },
      "outputs": [
        {
          "output_type": "stream",
          "name": "stdout",
          "text": [
            "4.2\n",
            "[5.15  2.775 5.175 3.7  ]\n"
          ]
        }
      ],
      "source": [
        "print(np.mean(array)) #This takes the mean of all 16 values in the array.\n",
        "\n",
        "mean = np.mean(array, axis=0)\n",
        "print(mean) #Prints an array of the mean of each column of the array."
      ]
    },
    {
      "cell_type": "markdown",
      "id": "78375f08",
      "metadata": {
        "id": "78375f08"
      },
      "source": [
        "You can also take the standard deviation. See documentation for more example functions (https://numpy.org/doc/stable/reference/routines.statistics.html)."
      ]
    },
    {
      "cell_type": "code",
      "execution_count": null,
      "id": "5162bd05",
      "metadata": {
        "id": "5162bd05",
        "outputId": "04be9915-e721-4f4d-a243-67a38a13a001"
      },
      "outputs": [
        {
          "name": "stdout",
          "output_type": "stream",
          "text": [
            "2.696061942908582\n"
          ]
        }
      ],
      "source": [
        "print(np.std(array))"
      ]
    },
    {
      "cell_type": "markdown",
      "id": "1bf85a52",
      "metadata": {
        "id": "1bf85a52"
      },
      "source": [
        "### $\\color{orange}{\\text{Activity 4: Statistics}}$"
      ]
    },
    {
      "cell_type": "markdown",
      "id": "6b29b737",
      "metadata": {
        "id": "6b29b737"
      },
      "source": [
        "This activity will have you test a variety of statistical functions from NumPy on the dataframe `array`. Use NumPy documentation to find the appropriate functions for each step.\n",
        "\n",
        "**1.** Compute and print the variance ($\\sigma^2$) of the entire array.\n",
        "\n",
        "**2.** Compute and print the median, first quartile, and third quartile of the enitre array.\n",
        "\n",
        "**3.** Compute and print the corrolation coefficient, using indexing, of Row 1 against Row 2 of the array."
      ]
    },
    {
      "cell_type": "code",
      "execution_count": null,
      "id": "74cd221f",
      "metadata": {
        "id": "74cd221f",
        "colab": {
          "base_uri": "https://localhost:8080/"
        },
        "outputId": "dd269080-2734-450b-f65b-eb9dee953ad9"
      },
      "outputs": [
        {
          "output_type": "stream",
          "name": "stdout",
          "text": [
            "Activity 4: Problem 1:\n",
            "4.6\n",
            "Activity 4: Problem 2:\n",
            "5.55\n",
            "2.325\n",
            "6.550000000000001\n",
            "Activity 4: Problem 3:\n",
            "[[ 1.         -0.31462174]\n",
            " [-0.31462174  1.        ]]\n"
          ]
        }
      ],
      "source": [
        "#Variance has multiple variables we will define them here.\n",
        "#Individuual Data points\n",
        "rows = 0\n",
        "cols = 0\n",
        "rowmax = array.shape[0]\n",
        "colsmax = array.shape[1]\n",
        "total_sum = 0\n",
        "\n",
        "#The mean of the array\n",
        "mean = np.mean(array)\n",
        "#The total number of data points\n",
        "datapoints = rowmax * colsmax\n",
        "#We then need to take the sum of all values within the array, and for each value we need to subtract the mean.\n",
        "#Finally Put it all together by dividing the sum of all values over the number of data points.\n",
        "for i in range(rowmax):\n",
        "  for j in range(colsmax):\n",
        "    element = array[i][j]\n",
        "\n",
        "total_sum += (element - mean)*2 * (i+1) * (j+1)\n",
        "Variance = total_sum/datapoints\n",
        "#Problem 1 Answer\n",
        "print(\"Activity 4: Problem 1:\")\n",
        "print(Variance)\n",
        "# Problem 2 Answer\n",
        "print(\"Activity 4: Problem 2:\")\n",
        "median = np.median(array)\n",
        "print(median)\n",
        "\n",
        "first_quartile = np.percentile(array, 25)\n",
        "print(first_quartile)\n",
        "\n",
        "third_quartile = np.percentile(array, 75)\n",
        "print(third_quartile)\n",
        "#Problem 3\n",
        "print(\"Activity 4: Problem 3:\")\n",
        "correlation = np.corrcoef(array[0], array[1])\n",
        "print(correlation)"
      ]
    },
    {
      "cell_type": "markdown",
      "id": "a3116fee",
      "metadata": {
        "id": "a3116fee"
      },
      "source": [
        "### np.random"
      ]
    },
    {
      "cell_type": "markdown",
      "id": "811a978a",
      "metadata": {
        "id": "811a978a"
      },
      "source": [
        "NumPy can be used to generate arrays of random variables, selected using a variety of sampling methods."
      ]
    },
    {
      "cell_type": "code",
      "execution_count": null,
      "id": "3ea6f099",
      "metadata": {
        "id": "3ea6f099",
        "outputId": "f7bea9a4-8394-442e-f6ff-f55178db0bb2",
        "colab": {
          "base_uri": "https://localhost:8080/"
        }
      },
      "outputs": [
        {
          "output_type": "stream",
          "name": "stdout",
          "text": [
            "[[0.17474908 0.10153022 0.16512075 0.45306541]]\n"
          ]
        }
      ],
      "source": [
        "random_array = np.random.rand(1,4) #np.random.rand generates an array of the given size from a uniform distribution between 0 (inclusive) and 1 (exclusive).\n",
        "print(random_array)"
      ]
    },
    {
      "cell_type": "markdown",
      "id": "b71ec01d",
      "metadata": {
        "id": "b71ec01d"
      },
      "source": [
        "### $\\color{orange}{\\text{Activity 5: Random Normal and Poisson Distributions}}$"
      ]
    },
    {
      "cell_type": "markdown",
      "id": "7c12b4d3",
      "metadata": {
        "id": "7c12b4d3"
      },
      "source": [
        "Use NumPy documentation to learn how to generate random values selected from a Normal and a Poisson distribution. Comment the link to the documentation. Then:\n",
        "\n",
        "**1.** Generate a random array of size [10000] of values selected from a Poisson distribution of frequency $\\lambda$ = 2.0. Do not print the array! (Note: How did I get the lambda symbol on here? You can use LaTeX formatting in Python. We will talk about this next week.)\n",
        "\n",
        "**2.** Calculate and print the mean of this distribution, the standard deviation, the first and third quartile, and the median using NumPy.\n",
        "\n",
        "**3.** Now generate a new Poisson-sampled array of size [10]. Calculate and print the mean, standard deviation, first and third quartile, and median.\n",
        "\n",
        "**4.** Compare the values between Steps 2 and 3. What changed? Why? What is a Poisson distribution and what is it used for?\n",
        "\n",
        "**5.** Repeat Steps 1-4 for random values sampled from a normal distribution of mean $\\mu$ = 10.0 and standard deviation $\\sigma$ = 3.0.\n",
        "\n",
        "**6.** Why do you think understanding statistics and the distributions from which random numbers are generated is important to physics research?"
      ]
    },
    {
      "cell_type": "code",
      "execution_count": null,
      "id": "b3177f2c",
      "metadata": {
        "id": "b3177f2c",
        "colab": {
          "base_uri": "https://localhost:8080/"
        },
        "outputId": "4bbac916-b711-448f-b714-ae2bde003935"
      },
      "outputs": [
        {
          "output_type": "stream",
          "name": "stdout",
          "text": [
            "Activity 5: Problem 2 Answer\n",
            "2.0136 1.4393800887882255 1.0 3.0 2.0\n",
            "Activity 5: Problem 3 Answer\n",
            "1.4 0.8 1.0 2.0 1.0\n",
            "Activity 5: Problem 5 Answer\n",
            "2.0089 1.4158463158125603 1.0 3.0 2.0\n"
          ]
        }
      ],
      "source": [
        "# Problem 1\n",
        "rand_array = np.random.rand(10000)\n",
        "poisson = np.random.poisson(2.0, 10000)\n",
        "#Problem 2\n",
        "p_mean = np.mean(poisson)\n",
        "p_std = np.std(poisson)\n",
        "p_first_quartile = np.percentile(poisson, 25)\n",
        "p_third_quartile = np.percentile(poisson, 75)\n",
        "p_median = np.median(poisson)\n",
        "print(\"Activity 5: Problem 2 Answer\")\n",
        "print(p_mean, p_std, p_first_quartile, p_third_quartile, p_median)\n",
        "#Problem 3\n",
        "new_poisson = np.random.poisson(2.0, 10)\n",
        "newp_mean = np.mean(new_poisson)\n",
        "newp_std = np.std(new_poisson)\n",
        "newp_first_quartile = np.percentile(new_poisson, 25)\n",
        "newp_third_quartile = np.percentile(new_poisson, 75)\n",
        "newp_median = np.median(new_poisson)\n",
        "print(\"Activity 5: Problem 3 Answer\")\n",
        "print(newp_mean, newp_std, newp_first_quartile, newp_third_quartile, newp_median)\n",
        "\n",
        "#Problem 4: Poisson distributions are discrete probability distributions. They calcuate the likelyhood of specific events occuring within a series.\n",
        "\n",
        "#Problem 5\n",
        "mean = 10\n",
        "dev = 3\n",
        "normal = np.random.normal(mean, dev, 10000)\n",
        "normal_poisson = np.random.poisson(2, 10000)\n",
        "normal_mean = np.mean(normal_poisson)\n",
        "normal_std = np.std(normal_poisson)\n",
        "normal_first_quartile = np.percentile(normal_poisson, 25)\n",
        "normal_third_quartile = np.percentile(normal_poisson, 75)\n",
        "normal_median = np.median(normal_poisson)\n",
        "\n",
        "print(\"Activity 5: Problem 5 Answer\")\n",
        "print(normal_mean, normal_std, normal_first_quartile, normal_third_quartile, normal_median)\n",
        "\n",
        "#Problem 6: You can see if you compare the answer from Problem 2 and the answer from Problem 5. They are nearly identical. Order emerges from chaos and that is shown here.\n",
        "#All quantum mechanical systems have an inherit randomness to their outcome when measured.\n"
      ]
    },
    {
      "cell_type": "markdown",
      "id": "19c6348f",
      "metadata": {
        "id": "19c6348f"
      },
      "source": [
        "### Math in NumPy"
      ]
    },
    {
      "cell_type": "markdown",
      "id": "46ada0e0",
      "metadata": {
        "id": "46ada0e0"
      },
      "source": [
        "NumPy has a few mathematical functions available that it stole from SciPy (reformatting a function in this way, between packages, objects, or programming languages, is broadly called a \"wrapper\"). Let's practice using some of these (found here: https://numpy.org/doc/stable/reference/routines.emath.html)."
      ]
    },
    {
      "cell_type": "code",
      "execution_count": null,
      "id": "e77ffca7",
      "metadata": {
        "id": "e77ffca7",
        "outputId": "d5d74574-3202-44cb-813c-29543959eba6",
        "colab": {
          "base_uri": "https://localhost:8080/"
        }
      },
      "outputs": [
        {
          "output_type": "stream",
          "name": "stdout",
          "text": [
            "[[1.24466595 1.59054146 1.20380134 1.68179283]\n",
            " [1.02411369 1.04663514 1.59054146 1.33748061]\n",
            " [1.74630757 0.7400828  1.53832113 1.54514313]\n",
            " [1.67118162 1.33748061 1.53140716 1.62657656]]\n"
          ]
        }
      ],
      "source": [
        "#Lets take the square root of the original array and save it under the same variable.\n",
        "array = np.sqrt(array)\n",
        "print(array)"
      ]
    },
    {
      "cell_type": "markdown",
      "id": "22022865",
      "metadata": {
        "id": "22022865"
      },
      "source": [
        "### $\\color{orange}{\\text{Activity 6: Log Transform}}$"
      ]
    },
    {
      "cell_type": "markdown",
      "id": "8a7af354",
      "metadata": {
        "id": "8a7af354"
      },
      "source": [
        "Use NumPy mathematical functions to take the base-10 logrithum of the entire `array`. This is called a log transform and is often performed on data displayed in graphs to emphasize certain trends/data points. We will talk about this more next week."
      ]
    },
    {
      "cell_type": "code",
      "execution_count": null,
      "id": "a13963be",
      "metadata": {
        "id": "a13963be",
        "colab": {
          "base_uri": "https://localhost:8080/"
        },
        "outputId": "b8a7f73f-6145-4e30-da4f-5df6561e90f0"
      },
      "outputs": [
        {
          "output_type": "execute_result",
          "data": {
            "text/plain": [
              "array([[ 0.09505281,  0.20154499,  0.08055482,  0.2257725 ],\n",
              "       [ 0.01034817,  0.01979531,  0.20154499,  0.12628749],\n",
              "       [ 0.24212074, -0.13071969,  0.18704701,  0.18896871],\n",
              "       [ 0.22302365,  0.12628749,  0.18509067,  0.21127451]])"
            ]
          },
          "metadata": {},
          "execution_count": 56
        }
      ],
      "source": [
        "np.log10(array)"
      ]
    },
    {
      "cell_type": "markdown",
      "id": "1ca77b9e",
      "metadata": {
        "id": "1ca77b9e"
      },
      "source": [
        "### Special Functions in NumPy"
      ]
    },
    {
      "cell_type": "markdown",
      "id": "9b6f0b16",
      "metadata": {
        "id": "9b6f0b16"
      },
      "source": [
        "Aside from these, NumPy hosts an array (Ha! See what I did there?) of other special functions that can be applied to NumPy dataframes."
      ]
    },
    {
      "cell_type": "markdown",
      "id": "e22ef28b",
      "metadata": {
        "id": "e22ef28b"
      },
      "source": [
        "### $\\color{orange}{\\text{Activity 7: Fast Fourier Transform}}$"
      ]
    },
    {
      "cell_type": "code",
      "execution_count": null,
      "id": "1f1fcde8",
      "metadata": {
        "id": "1f1fcde8"
      },
      "outputs": [],
      "source": [
        "data = np.random.rand(100)"
      ]
    },
    {
      "cell_type": "markdown",
      "id": "514c2e68",
      "metadata": {
        "id": "514c2e68"
      },
      "source": [
        "Use NumPy and documentation to perform a 1D, discrete fast Fourier Transform on the `data` dataframe provided. Print the result and describe the data; are the data real or complex? What is a Fourier Transform?"
      ]
    },
    {
      "cell_type": "code",
      "execution_count": null,
      "id": "a4a526bd",
      "metadata": {
        "id": "a4a526bd",
        "colab": {
          "base_uri": "https://localhost:8080/"
        },
        "outputId": "7ef9f2fb-616e-400a-f877-fb229cf5709d"
      },
      "outputs": [
        {
          "output_type": "stream",
          "name": "stdout",
          "text": [
            "[43.52008967+0.00000000e+00j -0.95554328-5.74098710e-01j\n",
            "  3.92157243+1.29733793e-01j -0.04986142-4.50075074e+00j\n",
            " -0.86017491-6.85612377e-01j -0.65908709-1.49488972e+00j\n",
            " -0.35565102+8.72080118e-01j  2.11408917+2.61216468e+00j\n",
            " -0.22884592-1.06527638e-01j -0.30612488+2.60142104e+00j\n",
            " -1.84946818-1.67479243e+00j -3.20196835-8.81216530e-01j\n",
            "  4.47495529+4.55649693e+00j  4.43859962+1.01696782e+00j\n",
            " -3.30970534+2.54567643e+00j  2.51298578+2.26789016e-01j\n",
            " -0.83539928+2.18166413e+00j  2.79059058-1.13825952e+00j\n",
            " -1.31210348+1.19695048e+00j -1.60027686+3.55526034e+00j\n",
            "  1.50087688-5.87079171e-02j -2.83256014+2.30228795e+00j\n",
            " -2.09283479+6.44038644e-02j  2.2773244 +3.46098587e+00j\n",
            " -2.36981183-3.34115503e-01j  1.90368034+2.92353426e+00j\n",
            "  1.51367724-3.49729515e+00j -4.32184961-2.02783455e+00j\n",
            " -0.37039792-2.39269679e+00j -1.02773752+1.31750878e+00j\n",
            " -5.16502606+2.21717714e+00j -0.70522847+7.95303953e-01j\n",
            "  0.37117477-6.49184098e-01j -1.38964742-1.73446389e+00j\n",
            " -2.18420343+1.04629901e+00j -0.81546427+1.52409221e-01j\n",
            " -0.3286404 -2.09074873e+00j  3.48045168+2.67443605e+00j\n",
            " -1.3592124 +3.16934781e+00j  0.85054209+1.01725767e+00j\n",
            " -1.46556347+1.07209308e+00j  1.13680096+6.33768441e-01j\n",
            " -5.56017084+1.23150213e+00j  2.83197596-9.36250332e-01j\n",
            "  2.25418986+1.17051693e+00j  0.19100488-6.17283973e-01j\n",
            "  0.80193185-8.48451115e-01j -1.55646668-8.98477873e-01j\n",
            " -0.34418558-2.29981964e+00j  0.71060581-1.92261835e+00j\n",
            " -1.08707212+2.22044605e-16j  0.71060581+1.92261835e+00j\n",
            " -0.34418558+2.29981964e+00j -1.55646668+8.98477873e-01j\n",
            "  0.80193185+8.48451115e-01j  0.19100488+6.17283973e-01j\n",
            "  2.25418986-1.17051693e+00j  2.83197596+9.36250332e-01j\n",
            " -5.56017084-1.23150213e+00j  1.13680096-6.33768441e-01j\n",
            " -1.46556347-1.07209308e+00j  0.85054209-1.01725767e+00j\n",
            " -1.3592124 -3.16934781e+00j  3.48045168-2.67443605e+00j\n",
            " -0.3286404 +2.09074873e+00j -0.81546427-1.52409221e-01j\n",
            " -2.18420343-1.04629901e+00j -1.38964742+1.73446389e+00j\n",
            "  0.37117477+6.49184098e-01j -0.70522847-7.95303953e-01j\n",
            " -5.16502606-2.21717714e+00j -1.02773752-1.31750878e+00j\n",
            " -0.37039792+2.39269679e+00j -4.32184961+2.02783455e+00j\n",
            "  1.51367724+3.49729515e+00j  1.90368034-2.92353426e+00j\n",
            " -2.36981183+3.34115503e-01j  2.2773244 -3.46098587e+00j\n",
            " -2.09283479-6.44038644e-02j -2.83256014-2.30228795e+00j\n",
            "  1.50087688+5.87079171e-02j -1.60027686-3.55526034e+00j\n",
            " -1.31210348-1.19695048e+00j  2.79059058+1.13825952e+00j\n",
            " -0.83539928-2.18166413e+00j  2.51298578-2.26789016e-01j\n",
            " -3.30970534-2.54567643e+00j  4.43859962-1.01696782e+00j\n",
            "  4.47495529-4.55649693e+00j -3.20196835+8.81216530e-01j\n",
            " -1.84946818+1.67479243e+00j -0.30612488-2.60142104e+00j\n",
            " -0.22884592+1.06527638e-01j  2.11408917-2.61216468e+00j\n",
            " -0.35565102-8.72080118e-01j -0.65908709+1.49488972e+00j\n",
            " -0.86017491+6.85612377e-01j -0.04986142+4.50075074e+00j\n",
            "  3.92157243-1.29733793e-01j -0.95554328+5.74098710e-01j]\n"
          ]
        }
      ],
      "source": [
        "fft_data = np.fft.fft(data)\n",
        "print(fft_data)\n",
        "\n",
        "#This specific output for the Fourier Transform looks to be complex. A Fourier Transform is a method of consolidating data from multiple domains into a single output."
      ]
    },
    {
      "cell_type": "markdown",
      "id": "f63e2285",
      "metadata": {
        "id": "f63e2285"
      },
      "source": [
        "____________________________________________________"
      ]
    },
    {
      "cell_type": "markdown",
      "id": "1bcb1c7e",
      "metadata": {
        "id": "1bcb1c7e"
      },
      "source": [
        "# Matplotlib"
      ]
    },
    {
      "cell_type": "markdown",
      "id": "95782d52",
      "metadata": {
        "id": "95782d52"
      },
      "source": [
        "Where there is science, there's observations. Where there's observations, there's data. How do we plot the data we collect such that conclusions can be drawn and results communicated? We mostly frequently use a Python package called `Matplotlib`."
      ]
    },
    {
      "cell_type": "markdown",
      "id": "1dd4404b",
      "metadata": {
        "id": "1dd4404b"
      },
      "source": [
        "$\\color{Blue}{\\text{A helpful Matplotlib cheatsheet is located here:}}$ https://matplotlib.org/cheatsheets/_images/cheatsheets-1.png\n",
        "\n",
        "\n",
        "$\\color{Green}{\\text{An important part of data visualization is what colors you use to represent datasets. A list of Matplotlib color names is located here:}}$ https://matplotlib.org/stable/gallery/color/named_colors.html#sphx-glr-gallery-color-named-colors-py$\\color{Green}{\\text{. A list of color gradient names is located here:}}$ https://matplotlib.org/stable/users/explain/colors/colormaps.html\n"
      ]
    },
    {
      "cell_type": "markdown",
      "id": "b43751d0",
      "metadata": {
        "id": "b43751d0"
      },
      "source": [
        "Let's create a variety of basic plots."
      ]
    },
    {
      "cell_type": "markdown",
      "id": "97924fb5",
      "metadata": {
        "id": "97924fb5"
      },
      "source": [
        "### Plotting a Function"
      ]
    },
    {
      "cell_type": "code",
      "execution_count": null,
      "id": "9ef08db4",
      "metadata": {
        "id": "9ef08db4",
        "outputId": "b1455639-22ca-4185-c125-2f5fed82651b"
      },
      "outputs": [
        {
          "data": {
            "image/png": "[encoded data removed]",
            "text/plain": [
              "<Figure size 432x288 with 1 Axes>"
            ]
          },
          "metadata": {
            "needs_background": "light"
          },
          "output_type": "display_data"
        }
      ],
      "source": [
        "#Let's plot a quadratic function.\n",
        "import matplotlib.pyplot as plt\n",
        "\n",
        "def y(x):\n",
        "    return x**2\n",
        "x = np.linspace(-10, 10, 100) #It's important to understand what this function does: https://numpy.org/doc/stable/reference/generated/numpy.linspace.html\n",
        "y = y(x)\n",
        "\n",
        "plot = plt.plot(x, y, color='red') #Plotting a continuous curve requires the `plt.plot()` function.\n",
        "plt.xlabel(\"x\") #x-axis label\n",
        "plt.ylabel(\"y\") #y-axis label\n",
        "plt.title(\"Quadratic Function\")\n",
        "plt.show() #While not needed for some `plt` functions, `plt.show()` must often be written in order to tell"
      ]
    },
    {
      "cell_type": "markdown",
      "id": "e1274117",
      "metadata": {
        "id": "e1274117"
      },
      "source": [
        "### Scatterplots and Histograms"
      ]
    },
    {
      "cell_type": "markdown",
      "id": "01e9da84",
      "metadata": {
        "id": "01e9da84"
      },
      "source": [
        "Let's generate two arrays of random datapoints taken from a chi-squared distribution (see a description of Chi-Squared distributions here: https://www.scribbr.com/statistics/chi-square-distributions/) using NumPy and plot both of them using a scatterplot and histograms."
      ]
    },
    {
      "cell_type": "code",
      "execution_count": null,
      "id": "e43dace3",
      "metadata": {
        "id": "e43dace3"
      },
      "outputs": [],
      "source": [
        "chi_squared_1 = np.random.chisquare(5, 100)\n",
        "chi_squared_2 = np.random.chisquare(3, 100)"
      ]
    },
    {
      "cell_type": "code",
      "execution_count": null,
      "id": "ed3e9548",
      "metadata": {
        "id": "ed3e9548",
        "outputId": "446f2814-c192-49ed-f53e-a2f59a63c9ff"
      },
      "outputs": [
        {
          "data": {
            "image/png": "[encoded data removed]",
            "text/plain": [
              "<Figure size 432x288 with 1 Axes>"
            ]
          },
          "metadata": {
            "needs_background": "light"
          },
          "output_type": "display_data"
        }
      ],
      "source": [
        "#Scatterplot (takes two variables)\n",
        "\n",
        "plot2 = plt.scatter(chi_squared_1, chi_squared_2, color = 'navy', marker = \"*\") #Notice the markers!\n",
        "plt.xlabel(\"Chi-Squared 1\") #x-axis label\n",
        "plt.ylabel(\"Chi-Squared 2\") #y-axis label\n",
        "plt.title(\"Chi-Squared Compared\")\n",
        "plt.show()"
      ]
    },
    {
      "cell_type": "code",
      "execution_count": null,
      "id": "b9a5108f",
      "metadata": {
        "id": "b9a5108f",
        "outputId": "229eca27-aa07-445e-f9d9-5cde865cd3d9"
      },
      "outputs": [
        {
          "data": {
            "image/png": "[encoded data removed]",
            "text/plain": [
              "<Figure size 432x288 with 1 Axes>"
            ]
          },
          "metadata": {
            "needs_background": "light"
          },
          "output_type": "display_data"
        },
        {
          "data": {
            "image/png": "[encoded data removed]",
            "text/plain": [
              "<Figure size 432x288 with 1 Axes>"
            ]
          },
          "metadata": {
            "needs_background": "light"
          },
          "output_type": "display_data"
        }
      ],
      "source": [
        "#Two histograms (one-dimensional), one for each dataset\n",
        "\n",
        "plot3 = plt.hist(chi_squared_1, bins = 20, color = 'violet') #The \"bins\" value is the number of divisions/bars that display the frequency of datapoints within the numeric range of each bin.\n",
        "plt.xlabel(\"Values\")\n",
        "plt.ylabel(\"Frequency\")\n",
        "plt.title(\"Chi-Squared 1\")\n",
        "plt.show()\n",
        "\n",
        "plot4 = plt.hist(chi_squared_2, bins = 20, color = 'darkviolet') #The \"bins\" value is the number of divisions/bars that display the frequency of datapoints within the numeric range of each bin.\n",
        "plt.xlabel(\"Values\")\n",
        "plt.ylabel(\"Frequency\")\n",
        "plt.title(\"Chi-Squared 2\")\n",
        "plt.show()"
      ]
    },
    {
      "cell_type": "markdown",
      "id": "77e1b5e0",
      "metadata": {
        "id": "77e1b5e0"
      },
      "source": [
        "### $\\color{orange}{\\text{Activity 8: 2D Histograms}}$"
      ]
    },
    {
      "cell_type": "markdown",
      "id": "9a21adff",
      "metadata": {
        "id": "9a21adff"
      },
      "source": [
        "Histograms display the number/frequency of datapoints in a dataset that reside in numeric bins lying along a 1D \"axis.\" What if we want to display the number of datapoints in bins along two intersecting axes? In this case, we use a 2D histogram which uses a \"colorbar\" to represent the frequency of datapoints in each bin. Below is some code used to plot one such 2D histogram."
      ]
    },
    {
      "cell_type": "code",
      "execution_count": null,
      "id": "e854d3f1",
      "metadata": {
        "id": "e854d3f1",
        "outputId": "c7de5fee-6713-40fc-d576-585d1f1687a3"
      },
      "outputs": [
        {
          "data": {
            "image/png": "[encoded data removed]",
            "text/plain": [
              "<Figure size 432x288 with 1 Axes>"
            ]
          },
          "metadata": {
            "needs_background": "light"
          },
          "output_type": "display_data"
        }
      ],
      "source": [
        "import matplotlib.pyplot as plt\n",
        "import matplotlib as mpl\n",
        "\n",
        "fig, ax = plt.subplots(tight_layout=True)\n",
        "hist = ax.hist2d(chi_squared_1, chi_squared_2, norm=mpl.colors.LogNorm())"
      ]
    },
    {
      "cell_type": "markdown",
      "id": "6db4dd49",
      "metadata": {
        "id": "6db4dd49"
      },
      "source": [
        "Use documentation, StackExchange, ChatGPT, etc. to learn how to add x- and y-labels and a colorbar to this graph."
      ]
    },
    {
      "cell_type": "markdown",
      "id": "ce0c0ac0",
      "metadata": {
        "id": "ce0c0ac0"
      },
      "source": [
        "--------------------------------------------------------"
      ]
    },
    {
      "cell_type": "markdown",
      "id": "7df6888c",
      "metadata": {
        "id": "7df6888c"
      },
      "source": [
        "# SciPy"
      ]
    },
    {
      "cell_type": "markdown",
      "id": "5d832610",
      "metadata": {
        "id": "5d832610"
      },
      "source": [
        "SciPy is a package that contains a variety of advanced mathematical functions such as numerical intregration, special functions, optimization (linear regressions, etc.), linear algebra, and more.\n",
        "\n",
        "First, let's check which version of SciPy we're using."
      ]
    },
    {
      "cell_type": "markdown",
      "id": "31baf3bd",
      "metadata": {
        "id": "31baf3bd"
      },
      "source": [
        "### $\\color{orange}{\\text{Activity 9: SciPy Version}}$"
      ]
    },
    {
      "cell_type": "markdown",
      "id": "9da01006",
      "metadata": {
        "id": "9da01006"
      },
      "source": [
        "Print which version of SciPy you're running using an f-string that reads \"The version of SciPy we're running is {insert version number}.\""
      ]
    },
    {
      "cell_type": "code",
      "execution_count": null,
      "id": "9096e51b",
      "metadata": {
        "id": "9096e51b",
        "colab": {
          "base_uri": "https://localhost:8080/"
        },
        "outputId": "bf85ae75-37a7-4996-ca73-ba5e6586de6b"
      },
      "outputs": [
        {
          "output_type": "stream",
          "name": "stdout",
          "text": [
            "The version of SciPy we're running is 1.11.4.\n"
          ]
        }
      ],
      "source": [
        "print(f\"The version of SciPy we're running is {scipy.__version__}.\")"
      ]
    },
    {
      "cell_type": "markdown",
      "id": "5a7fd3f3",
      "metadata": {
        "id": "5a7fd3f3"
      },
      "source": [
        "### scipy.integrate: Numerical Integration"
      ]
    },
    {
      "cell_type": "markdown",
      "id": "175ea129",
      "metadata": {
        "id": "175ea129"
      },
      "source": [
        "One of the most common reasons to use SciPy is its numerical integration function. Let's integrate a variety of functions provided by SciPy.\n",
        "\n",
        "A list of SciPy special functions are provided here: https://docs.scipy.org/doc/scipy/reference/special.html"
      ]
    },
    {
      "cell_type": "code",
      "execution_count": null,
      "id": "8cca14b2",
      "metadata": {
        "id": "8cca14b2",
        "outputId": "fbd539da-36c9-4e37-b214-20ecce7a251c"
      },
      "outputs": [
        {
          "name": "stdout",
          "output_type": "stream",
          "text": [
            "(2490.0, 2.7661051045708712e-11)\n"
          ]
        }
      ],
      "source": [
        "#Import submodules of SciPy, which are not necessarily imported with the base package. Additionally, this makes it easier to call the entire submodule AND SciPy when we go to use a function from that submodule.\n",
        "import scipy.integrate as integrate\n",
        "import scipy.special as special #Special functions in SciPy.\n",
        "\n",
        "#Let's define a simple function using variable x and output \"function\"\n",
        "def function(x):\n",
        "    return (x**3 - 1) #Python uses ** to represent exponentiation.\n",
        "\n",
        "#Integrate using integrate.quad (https://docs.scipy.org/doc/scipy/tutorial/integrate.html)\n",
        "#Here, we integrate from x = 0 to x = 10.\n",
        "numerical = integrate.quad(function, 0, 10)\n",
        "print(numerical)"
      ]
    },
    {
      "cell_type": "markdown",
      "id": "e63da795",
      "metadata": {
        "id": "e63da795"
      },
      "source": [
        "In the printed result, there are two values. The first is the actual value of the definite integral. The second in the error in that value, since `integrate.quad` uses numerical integration using the quadrature method."
      ]
    },
    {
      "cell_type": "markdown",
      "id": "31cbf962",
      "metadata": {
        "id": "31cbf962"
      },
      "source": [
        "### $\\color{orange}{\\text{Activity 10: Integrating Bessel Functions}}$"
      ]
    },
    {
      "cell_type": "markdown",
      "id": "a07e56cd",
      "metadata": {
        "id": "a07e56cd"
      },
      "source": [
        "Use SciPy to integrate a Bessel Function (`scipy.special.jv`, https://docs.scipy.org/doc/scipy/reference/generated/scipy.special.jv.html#scipy.special.jv) at $\\nu$ = 1 from z = 0 to z = 10. Hint: Check documentation on `scipy.integrate`! Print the results.\n",
        "\n",
        "Then, perform the same calculation using Trapezoidal integration. Print the results.\n",
        "\n",
        "What is a Bessel function? What types of physical phenomena do they represent?"
      ]
    },
    {
      "cell_type": "code",
      "execution_count": 96,
      "id": "9caefb17",
      "metadata": {
        "id": "9caefb17",
        "colab": {
          "base_uri": "https://localhost:8080/"
        },
        "outputId": "71f3f035-8310-407d-e9ff-6091363101af"
      },
      "outputs": [
        {
          "output_type": "stream",
          "name": "stdout",
          "text": [
            "0.04347274616886149\n",
            "[40.5]\n"
          ]
        }
      ],
      "source": [
        "bessel = scipy.special.jv(1, 10)\n",
        "print(bessel)\n",
        "b_array = np.arange(10).reshape(1,10)\n",
        "trapezoidal = scipy.integrate.trapz(b_array)\n",
        "print(trapezoidal)\n",
        "#I honestly have no idea if this is right. I think I am integrating correctly."
      ]
    },
    {
      "cell_type": "markdown",
      "id": "87643987",
      "metadata": {
        "id": "87643987"
      },
      "source": [
        "### Curve-fitting"
      ]
    },
    {
      "cell_type": "markdown",
      "id": "72563b49",
      "metadata": {
        "id": "72563b49"
      },
      "source": [
        "If you take anything from this homework, **curve fitting may be one of the most important topics to remember.** In experimental physics, a vast majority of data processesing (and eventually, discoveries!) are made by fitting functions, either by hand or with machine learning, to data. This way, theoretical predictions can be matched to real data and background noise can be removed. Let's generate some random data and fit a 1. linear function and 2. a normal distribution to it."
      ]
    },
    {
      "cell_type": "markdown",
      "id": "6b9c9d63",
      "metadata": {
        "id": "6b9c9d63"
      },
      "source": [
        "To create a histogram of data, we use the `Boost_Histogram`package. This package allows us to create an \"axis\" of \"bins\" we can \"fill\" with data (i.e. if there are five data points, x = 0,1,2,4,5 and two bins, one between x = 0 and x = 3 and one between x = 3 and x = 6, three datapoints would go in the first bin and two in the second bin). In this example, we fill a `Boost_Histogram` histogram called `random_hist` with our data and plot it. You can get the center \"x\" value of each histogram bin (if a bin spans from x = 0 to x = 3, its center will be at x = 1.5) using `random_hist.axes[0].centers` (you can define a histogram with multiple axes; here, we use a histogram with just one axis, a.k.a. a 1D axis). `random_hist.values()` returns an array of the number of datapoints in each bin, and `random_hist.axes[0].widths` return an array of the \"size\" of each bin along the \"x\" axis (a bin that spans from x = 0 to 3 will have a width of 3)."
      ]
    },
    {
      "cell_type": "code",
      "source": [
        "!pip install boost_histogram"
      ],
      "metadata": {
        "colab": {
          "base_uri": "https://localhost:8080/"
        },
        "id": "dmS8-5i0ocbl",
        "outputId": "b1602b90-c4d4-4f50-b2bc-6b402672976a"
      },
      "id": "dmS8-5i0ocbl",
      "execution_count": 99,
      "outputs": [
        {
          "output_type": "stream",
          "name": "stdout",
          "text": [
            "Collecting boost_histogram\n",
            "  Downloading boost_histogram-1.4.1-cp310-cp310-manylinux_2_17_x86_64.manylinux2014_x86_64.whl (1.6 MB)\n",
            "\u001b[?25l     \u001b[90m━━━━━━━━━━━━━━━━━━━━━━━━━━━━━━━━━━━━━━━━\u001b[0m \u001b[32m0.0/1.6 MB\u001b[0m \u001b[31m?\u001b[0m eta \u001b[36m-:--:--\u001b[0m\r\u001b[2K     \u001b[91m━━━\u001b[0m\u001b[91m╸\u001b[0m\u001b[90m━━━━━━━━━━━━━━━━━━━━━━━━━━━━━━━━━━━━\u001b[0m \u001b[32m0.1/1.6 MB\u001b[0m \u001b[31m4.0 MB/s\u001b[0m eta \u001b[36m0:00:01\u001b[0m\r\u001b[2K     \u001b[91m━━━━━━━━━━━━━━━━━━━━━━━━━━━━━━━━━━━━━━\u001b[0m\u001b[91m╸\u001b[0m\u001b[90m━\u001b[0m \u001b[32m1.5/1.6 MB\u001b[0m \u001b[31m22.2 MB/s\u001b[0m eta \u001b[36m0:00:01\u001b[0m\r\u001b[2K     \u001b[90m━━━━━━━━━━━━━━━━━━━━━━━━━━━━━━━━━━━━━━━━\u001b[0m \u001b[32m1.6/1.6 MB\u001b[0m \u001b[31m18.0 MB/s\u001b[0m eta \u001b[36m0:00:00\u001b[0m\n",
            "\u001b[?25hRequirement already satisfied: numpy in /usr/local/lib/python3.10/dist-packages (from boost_histogram) (1.25.2)\n",
            "Installing collected packages: boost_histogram\n",
            "Successfully installed boost_histogram-1.4.1\n"
          ]
        }
      ]
    },
    {
      "cell_type": "code",
      "execution_count": 119,
      "id": "0477cd4d",
      "metadata": {
        "id": "0477cd4d",
        "outputId": "94d22586-ee22-40d3-8d0f-9fd8e3833b42",
        "colab": {
          "base_uri": "https://localhost:8080/",
          "height": 466
        }
      },
      "outputs": [
        {
          "output_type": "execute_result",
          "data": {
            "text/plain": [
              "Text(0, 0.5, 'Frequency')"
            ]
          },
          "metadata": {},
          "execution_count": 119
        },
        {
          "output_type": "display_data",
          "data": {
            "text/plain": [
              "<Figure size 640x480 with 1 Axes>"
            ],
            "image/png": "[encoded data removed]"
          },
          "metadata": {}
        }
      ],
      "source": [
        "#First, let's import.\n",
        "import scipy.optimize as optimize\n",
        "\n",
        "#Now, let's create some data.\n",
        "random = np.random.normal(loc=0, scale=1, size=1000) #This is a normal distribution centered around 0 with a standard distribution of 1.\n",
        "\n",
        "#We'll fill a histogram with these data.\n",
        "import boost_histogram as bh\n",
        "random_hist = bh.Histogram(bh.axis.Regular(20, -3, 3))\n",
        "random_hist.fill(random)\n",
        "\n",
        "#Let's plot this data. We use `matplotlib` to plot histograms. We'll discuss this later in the notebook.\n",
        "import matplotlib.pyplot as plt\n",
        "random_plot = plt.bar(random_hist.axes[0].centers, random_hist.values(), width=random_hist.axes[0].widths, color = \"mediumspringgreen\")\n",
        "plt.xlabel(\"Value\")\n",
        "plt.ylabel(\"Frequency\")"
      ]
    },
    {
      "cell_type": "code",
      "execution_count": 120,
      "id": "25ee1143",
      "metadata": {
        "id": "25ee1143",
        "outputId": "7c3e892e-324b-4daf-f524-263a195f57e0",
        "colab": {
          "base_uri": "https://localhost:8080/"
        }
      },
      "outputs": [
        {
          "output_type": "stream",
          "name": "stdout",
          "text": [
            "(array([ 0.30827072, 49.75      ]), array([[ 2.93586401e+01, -2.27061630e-06],\n",
            "       [-2.27061630e-06,  8.78557289e+01]]))\n"
          ]
        }
      ],
      "source": [
        "#Now, we will use curve_fit to fit a linear function to the data and plot it on he same graph. We'll notice that the linear function doesn't \"fit\" very well to this normal distribution, which makes sense.\n",
        "#To do this, we need to define a linear function fro curve_fit to use as the first argument.\n",
        "\n",
        "def linear(x, a, b):\n",
        "    return a*x+b   #Pretty underwhelming. The point of `curve_fit` is to find an a and b that produce a line that best matches the `random` data.\n",
        "\n",
        "#`optimize.curve_fit` will return a tuple of parameters that describe the geometry of the function of best fit. For it to compute the linear regression on the data that produces this function of best fit,\n",
        "#we must provide it an \"x\" axis through which to analyze (we'll use a linear range, defined using np.linspace(), to provide this axis) and the y function (the regression function in action) to analyze.\n",
        "\n",
        "x = np.linspace(-4, 4, 1000)\n",
        "\n",
        "#We can now fit a cur\n",
        "parameters = scipy.optimize.curve_fit(linear, random_hist.axes[0].centers, random_hist.values(), p0=[0,60]) #\"Linear\" is our function of best fit, \"x\" is our x-axis range,\"random\" are our randomly generated data graphed above, and \"p0\" is an optional \"starting place\" we can provide the curve_fit function for [a,b] to help it \"make guesses\" as it calculates the regression.\n",
        "print(parameters)"
      ]
    },
    {
      "cell_type": "markdown",
      "id": "6569b799",
      "metadata": {
        "id": "6569b799"
      },
      "source": [
        "We have now printed an tuple this two arrays: the first, `parameters[0]`, are the a and b values of `linear` which produce the line of best fit. `parameters[1]` are the values of the covariance matrix for the line of best fit. The covariance matrix describes the 'proportionality' of the variables in question (in this case, `a` and `b`). Because the [1,2] and [2,1] entries (covariances) of the covariance matrix are both positive, we know that when `curve_fit` is running the regression, large `a` values tend to correspond to large `b` values (positive correlation). See: https://en.wikipedia.org/wiki/Covariance\n",
        "\n",
        "Notice the produced `a` and `b` values are pretty close to our initial guess `p0` in the `curve_fit` function. Feel free to change this `p0` and see what happens. Since this is a pretty simple dataset and function, statistically speaking, `curve_fit` does a pretty good job, no matter what the initial guess is, generating the line of best fit.  \n",
        "\n",
        "Let's plot the line of best fit with the data."
      ]
    },
    {
      "cell_type": "code",
      "execution_count": 121,
      "id": "9f914acf",
      "metadata": {
        "id": "9f914acf",
        "outputId": "0d864f10-e570-4ae6-e00b-d14db87cee8a",
        "colab": {
          "base_uri": "https://localhost:8080/",
          "height": 449
        }
      },
      "outputs": [
        {
          "output_type": "display_data",
          "data": {
            "text/plain": [
              "<Figure size 640x480 with 1 Axes>"
            ],
            "image/png": "[encoded data removed]"
          },
          "metadata": {}
        }
      ],
      "source": [
        "a_b_values = parameters[0]\n",
        "a = a_b_values[0]\n",
        "b = a_b_values[1]\n",
        "\n",
        "random_plot = plt.hist(random, bins=20, range=[-4,4], color = 'mediumspringgreen')\n",
        "random_plot_linear = plt.plot(x, linear(x, a, b), color = 'purple')\n",
        "plt.xlabel(\"Value\")\n",
        "plt.ylabel(\"Frequency\")\n",
        "plt.show()"
      ]
    },
    {
      "cell_type": "markdown",
      "id": "1ff6fbb4",
      "metadata": {
        "id": "1ff6fbb4"
      },
      "source": [
        "The line of best fit is placed about halfway up the \"pile\" of data. It won't look very \"well-fit,\" so to speak. Why do you think this is?"
      ]
    },
    {
      "cell_type": "markdown",
      "source": [
        "The line of \"best fit\" is doing exactly as it was asked. It gave a function based off of the values within the data. If you sum all of the frequencies at each bin and then take the mean of that you should get 50.\n",
        "\n",
        "1000 total across 20 bins give you an average frequency of 50"
      ],
      "metadata": {
        "id": "URurEnginWuA"
      },
      "id": "URurEnginWuA"
    },
    {
      "cell_type": "markdown",
      "id": "915591b6",
      "metadata": {
        "id": "915591b6"
      },
      "source": [
        "### $\\color{orange}{\\text{Activity 11: Fitting a Normal Curve}}$"
      ]
    },
    {
      "cell_type": "markdown",
      "id": "4ad899f1",
      "metadata": {
        "id": "4ad899f1"
      },
      "source": [
        "Similar to the example, fit a Gaussian normal curve to the data in `random_hist`. Print the parameters generated and plot the Gaussian with the data. Use the provided function `Gaussian` to define the curve."
      ]
    },
    {
      "cell_type": "code",
      "execution_count": 128,
      "id": "16c20d9f",
      "metadata": {
        "id": "16c20d9f",
        "colab": {
          "base_uri": "https://localhost:8080/",
          "height": 449
        },
        "outputId": "e0e87665-f634-465a-d014-33225677ebb8"
      },
      "outputs": [
        {
          "output_type": "display_data",
          "data": {
            "text/plain": [
              "<Figure size 640x480 with 1 Axes>"
            ],
            "image/png": "[encoded data removed]"
          },
          "metadata": {}
        }
      ],
      "source": [
        "def normal_distribution(x, m, s):\n",
        "    return (1 / (s * np.sqrt(2 * np.pi))) * np.exp(-0.5 * ((x - m) / s) ** 2) #I definitely didn't use ChatGPT to generate this function.\n",
        "\n",
        "x = np.linspace(-4, 4, 1000)\n",
        "\n",
        "parameters = scipy.optimize.curve_fit(normal_distribution, random_hist.axes[0].centers, random_hist.values(), p0=[5, 2])\n",
        "a_b_values = parameters[0]\n",
        "a = a_b_values[0]\n",
        "b = a_b_values[1]\n",
        "\n",
        "random_plot = plt.hist(random, bins=20, range=[-4,4], color = 'mediumspringgreen')\n",
        "gauss = plt.plot(x, normal_distribution(x, a, b), color = 'purple')\n",
        "plt.xlabel(\"Value\")\n",
        "plt.ylabel(\"Frequency\")\n",
        "plt.show()"
      ]
    },
    {
      "cell_type": "markdown",
      "id": "e850b711",
      "metadata": {
        "id": "e850b711"
      },
      "source": [
        "_______________________________________________"
      ]
    },
    {
      "cell_type": "markdown",
      "id": "2294432e",
      "metadata": {
        "id": "2294432e"
      },
      "source": [
        "# Pandas"
      ]
    },
    {
      "cell_type": "code",
      "source": [
        "!pip install pandas"
      ],
      "metadata": {
        "colab": {
          "base_uri": "https://localhost:8080/"
        },
        "id": "lCLPVIXturvj",
        "outputId": "008d90be-708e-4889-9129-87746e6023b7"
      },
      "id": "lCLPVIXturvj",
      "execution_count": 130,
      "outputs": [
        {
          "output_type": "stream",
          "name": "stdout",
          "text": [
            "Requirement already satisfied: pandas in /usr/local/lib/python3.10/dist-packages (2.0.3)\n",
            "Requirement already satisfied: python-dateutil>=2.8.2 in /usr/local/lib/python3.10/dist-packages (from pandas) (2.8.2)\n",
            "Requirement already satisfied: pytz>=2020.1 in /usr/local/lib/python3.10/dist-packages (from pandas) (2023.4)\n",
            "Requirement already satisfied: tzdata>=2022.1 in /usr/local/lib/python3.10/dist-packages (from pandas) (2024.1)\n",
            "Requirement already satisfied: numpy>=1.21.0 in /usr/local/lib/python3.10/dist-packages (from pandas) (1.25.2)\n",
            "Requirement already satisfied: six>=1.5 in /usr/local/lib/python3.10/dist-packages (from python-dateutil>=2.8.2->pandas) (1.16.0)\n"
          ]
        }
      ]
    },
    {
      "cell_type": "markdown",
      "id": "a96d201e",
      "metadata": {
        "id": "a96d201e"
      },
      "source": [
        "Lastly, we will take a look at the Python package `Pandas`. `Pandas` is a package for manipulating dataframes, which are more organized \"structures\" or \"tables\" of data that can easily be edited.\n",
        "\n",
        "`Pandas` hosts two main object types for holding data, the series and the dataframe. Most commonly, a dataframe will be used, which serves as an organized matrix of data with column and row titles, reflecting how someone may input data into an Excel spreadsheet. Let's generate a dataframe for us to use using `Pandas`. `Pandas` dataframes can use a combination of string and float entry values. Recall we imported `Pandas` as \"pd.\""
      ]
    },
    {
      "cell_type": "code",
      "execution_count": 129,
      "id": "37ab7215",
      "metadata": {
        "id": "37ab7215",
        "outputId": "e0cf4790-4145-4a42-a6b8-4b789ff98867",
        "colab": {
          "base_uri": "https://localhost:8080/"
        }
      },
      "outputs": [
        {
          "output_type": "stream",
          "name": "stdout",
          "text": [
            "  Experiment Name          Experiment Type  Fiducial Volume (Tonnes)  \\\n",
            "0         XENONnT         Liquid Xenon TPC                   7.00000   \n",
            "1              LZ         Liquid Xenon TPC                   6.00000   \n",
            "2             LUX         Liquid Xenon TPC                   0.37000   \n",
            "3       PandaX-II         Liquid Xenon TPC                   0.50000   \n",
            "4      CRESST-III  Cryogenic Scintillators                   0.00002   \n",
            "\n",
            "   Unnamed Random Statistic Detected Darkmatter?  \n",
            "0                    0.3350                   No  \n",
            "1                    0.1345                   No  \n",
            "2                    0.4420                   No  \n",
            "3                    0.4620                   No  \n",
            "4                    0.8590                   No  \n"
          ]
        }
      ],
      "source": [
        "#Let's create some data that needs organized\n",
        "experiment_names = [\"XENONnT\", \"LZ\", \"LUX\", \"PandaX-II\", \"CRESST-III\"]\n",
        "experiment_type = [\"Liquid Xenon TPC\", \"Liquid Xenon TPC\", \"Liquid Xenon TPC\", \"Liquid Xenon TPC\", \"Cryogenic Scintillators\"]\n",
        "fiducial_volume_tonnes = [7, 6, 0.37, 0.5, 0.00002]\n",
        "random_other_statistic = [0.335, 0.1345, 0.442, 0.462, 0.859]\n",
        "detected_darkmatter = [\"No\", \"No\", \"No\", \"No\", \"No\"]\n",
        "\n",
        "#Constructing the dataframe\n",
        "dark_matter_data = pd.DataFrame({\"Experiment Name\": experiment_names, \"Experiment Type\": experiment_type, \"Fiducial Volume (Tonnes)\": fiducial_volume_tonnes, \"Unnamed Random Statistic\": random_other_statistic, \"Detected Darkmatter?\": detected_darkmatter})\n",
        "\n",
        "#Let's view our dataframe.\n",
        "print(dark_matter_data)"
      ]
    },
    {
      "cell_type": "markdown",
      "id": "fd54aa75",
      "metadata": {
        "id": "fd54aa75"
      },
      "source": [
        "When a `Pandas` dataframe is printed, it will contain a somewhat unorganized display of all columns and their contents. Let's say our dataframe is HUGE. That is, maybe it has several hundred rows and we just want to view the first few or last few rows to get a sense of the data contained inside. To do this, we use the `.head()` and `.tail()` function. Additionally, `Pandas` will format the data into a much more readable display."
      ]
    },
    {
      "cell_type": "code",
      "execution_count": null,
      "id": "b2723166",
      "metadata": {
        "id": "b2723166",
        "outputId": "9d035c79-af68-4ef0-df83-29ef5f8a2784"
      },
      "outputs": [
        {
          "data": {
            "text/html": [
              "<div>\n",
              "<style scoped>\n",
              "    .dataframe tbody tr th:only-of-type {\n",
              "        vertical-align: middle;\n",
              "    }\n",
              "\n",
              "    .dataframe tbody tr th {\n",
              "        vertical-align: top;\n",
              "    }\n",
              "\n",
              "    .dataframe thead th {\n",
              "        text-align: right;\n",
              "    }\n",
              "</style>\n",
              "<table border=\"1\" class=\"dataframe\">\n",
              "  <thead>\n",
              "    <tr style=\"text-align: right;\">\n",
              "      <th></th>\n",
              "      <th>Experiment Name</th>\n",
              "      <th>Experiment Type</th>\n",
              "      <th>Fiducial Volume (Tonnes)</th>\n",
              "      <th>Unnamed Random Statistic</th>\n",
              "      <th>Detected Darkmatter?</th>\n",
              "    </tr>\n",
              "  </thead>\n",
              "  <tbody>\n",
              "    <tr>\n",
              "      <th>0</th>\n",
              "      <td>XENONnT</td>\n",
              "      <td>Liquid Xenon TPC</td>\n",
              "      <td>7.0</td>\n",
              "      <td>0.3350</td>\n",
              "      <td>No</td>\n",
              "    </tr>\n",
              "    <tr>\n",
              "      <th>1</th>\n",
              "      <td>LZ</td>\n",
              "      <td>Liquid Xenon TPC</td>\n",
              "      <td>6.0</td>\n",
              "      <td>0.1345</td>\n",
              "      <td>No</td>\n",
              "    </tr>\n",
              "  </tbody>\n",
              "</table>\n",
              "</div>"
            ],
            "text/plain": [
              "  Experiment Name   Experiment Type  Fiducial Volume (Tonnes)  \\\n",
              "0         XENONnT  Liquid Xenon TPC                       7.0   \n",
              "1              LZ  Liquid Xenon TPC                       6.0   \n",
              "\n",
              "   Unnamed Random Statistic Detected Darkmatter?  \n",
              "0                    0.3350                   No  \n",
              "1                    0.1345                   No  "
            ]
          },
          "execution_count": 41,
          "metadata": {},
          "output_type": "execute_result"
        }
      ],
      "source": [
        "dark_matter_data.head(2) #Prints the first two ROWS of data."
      ]
    },
    {
      "cell_type": "code",
      "execution_count": null,
      "id": "6fd60305",
      "metadata": {
        "id": "6fd60305",
        "outputId": "c1dd3984-b3ed-417d-90e7-bb12997515d7"
      },
      "outputs": [
        {
          "data": {
            "text/html": [
              "<div>\n",
              "<style scoped>\n",
              "    .dataframe tbody tr th:only-of-type {\n",
              "        vertical-align: middle;\n",
              "    }\n",
              "\n",
              "    .dataframe tbody tr th {\n",
              "        vertical-align: top;\n",
              "    }\n",
              "\n",
              "    .dataframe thead th {\n",
              "        text-align: right;\n",
              "    }\n",
              "</style>\n",
              "<table border=\"1\" class=\"dataframe\">\n",
              "  <thead>\n",
              "    <tr style=\"text-align: right;\">\n",
              "      <th></th>\n",
              "      <th>Experiment Name</th>\n",
              "      <th>Experiment Type</th>\n",
              "      <th>Fiducial Volume (Tonnes)</th>\n",
              "      <th>Unnamed Random Statistic</th>\n",
              "      <th>Detected Darkmatter?</th>\n",
              "    </tr>\n",
              "  </thead>\n",
              "  <tbody>\n",
              "    <tr>\n",
              "      <th>3</th>\n",
              "      <td>PandaX-II</td>\n",
              "      <td>Liquid Xenon TPC</td>\n",
              "      <td>0.50000</td>\n",
              "      <td>0.462</td>\n",
              "      <td>No</td>\n",
              "    </tr>\n",
              "    <tr>\n",
              "      <th>4</th>\n",
              "      <td>CRESST-III</td>\n",
              "      <td>Cryogenic Scintillators</td>\n",
              "      <td>0.00002</td>\n",
              "      <td>0.859</td>\n",
              "      <td>No</td>\n",
              "    </tr>\n",
              "  </tbody>\n",
              "</table>\n",
              "</div>"
            ],
            "text/plain": [
              "  Experiment Name          Experiment Type  Fiducial Volume (Tonnes)  \\\n",
              "3       PandaX-II         Liquid Xenon TPC                   0.50000   \n",
              "4      CRESST-III  Cryogenic Scintillators                   0.00002   \n",
              "\n",
              "   Unnamed Random Statistic Detected Darkmatter?  \n",
              "3                     0.462                   No  \n",
              "4                     0.859                   No  "
            ]
          },
          "execution_count": 42,
          "metadata": {},
          "output_type": "execute_result"
        }
      ],
      "source": [
        "dark_matter_data.tail(2) #Prints the last two rows of data."
      ]
    },
    {
      "cell_type": "markdown",
      "id": "b6430e25",
      "metadata": {
        "id": "b6430e25"
      },
      "source": [
        "Using `.describe()` prints a statistical summary of the data in your dataframe."
      ]
    },
    {
      "cell_type": "code",
      "execution_count": 131,
      "id": "02ec1402",
      "metadata": {
        "id": "02ec1402",
        "outputId": "5dbd209d-76b8-4752-ce46-b2317e92e8e8",
        "colab": {
          "base_uri": "https://localhost:8080/",
          "height": 300
        }
      },
      "outputs": [
        {
          "output_type": "execute_result",
          "data": {
            "text/plain": [
              "       Fiducial Volume (Tonnes)  Unnamed Random Statistic\n",
              "count                  5.000000                  5.000000\n",
              "mean                   2.774004                  0.446500\n",
              "std                    3.424595                  0.264666\n",
              "min                    0.000020                  0.134500\n",
              "25%                    0.370000                  0.335000\n",
              "50%                    0.500000                  0.442000\n",
              "75%                    6.000000                  0.462000\n",
              "max                    7.000000                  0.859000"
            ],
            "text/html": [
              "\n",
              "  <div id=\"df-534217e0-886a-4de7-8aea-6eb8fd9bff5e\" class=\"colab-df-container\">\n",
              "    <div>\n",
              "<style scoped>\n",
              "    .dataframe tbody tr th:only-of-type {\n",
              "        vertical-align: middle;\n",
              "    }\n",
              "\n",
              "    .dataframe tbody tr th {\n",
              "        vertical-align: top;\n",
              "    }\n",
              "\n",
              "    .dataframe thead th {\n",
              "        text-align: right;\n",
              "    }\n",
              "</style>\n",
              "<table border=\"1\" class=\"dataframe\">\n",
              "  <thead>\n",
              "    <tr style=\"text-align: right;\">\n",
              "      <th></th>\n",
              "      <th>Fiducial Volume (Tonnes)</th>\n",
              "      <th>Unnamed Random Statistic</th>\n",
              "    </tr>\n",
              "  </thead>\n",
              "  <tbody>\n",
              "    <tr>\n",
              "      <th>count</th>\n",
              "      <td>5.000000</td>\n",
              "      <td>5.000000</td>\n",
              "    </tr>\n",
              "    <tr>\n",
              "      <th>mean</th>\n",
              "      <td>2.774004</td>\n",
              "      <td>0.446500</td>\n",
              "    </tr>\n",
              "    <tr>\n",
              "      <th>std</th>\n",
              "      <td>3.424595</td>\n",
              "      <td>0.264666</td>\n",
              "    </tr>\n",
              "    <tr>\n",
              "      <th>min</th>\n",
              "      <td>0.000020</td>\n",
              "      <td>0.134500</td>\n",
              "    </tr>\n",
              "    <tr>\n",
              "      <th>25%</th>\n",
              "      <td>0.370000</td>\n",
              "      <td>0.335000</td>\n",
              "    </tr>\n",
              "    <tr>\n",
              "      <th>50%</th>\n",
              "      <td>0.500000</td>\n",
              "      <td>0.442000</td>\n",
              "    </tr>\n",
              "    <tr>\n",
              "      <th>75%</th>\n",
              "      <td>6.000000</td>\n",
              "      <td>0.462000</td>\n",
              "    </tr>\n",
              "    <tr>\n",
              "      <th>max</th>\n",
              "      <td>7.000000</td>\n",
              "      <td>0.859000</td>\n",
              "    </tr>\n",
              "  </tbody>\n",
              "</table>\n",
              "</div>\n",
              "    <div class=\"colab-df-buttons\">\n",
              "\n",
              "  <div class=\"colab-df-container\">\n",
              "    <button class=\"colab-df-convert\" onclick=\"convertToInteractive('df-534217e0-886a-4de7-8aea-6eb8fd9bff5e')\"\n",
              "            title=\"Convert this dataframe to an interactive table.\"\n",
              "            style=\"display:none;\">\n",
              "\n",
              "  <svg xmlns=\"http://www.w3.org/2000/svg\" height=\"24px\" viewBox=\"0 -960 960 960\">\n",
              "    <path d=\"M120-120v-720h720v720H120Zm60-500h600v-160H180v160Zm220 220h160v-160H400v160Zm0 220h160v-160H400v160ZM180-400h160v-160H180v160Zm440 0h160v-160H620v160ZM180-180h160v-160H180v160Zm440 0h160v-160H620v160Z\"/>\n",
              "  </svg>\n",
              "    </button>\n",
              "\n",
              "  <style>\n",
              "    .colab-df-container {\n",
              "      display:flex;\n",
              "      gap: 12px;\n",
              "    }\n",
              "\n",
              "    .colab-df-convert {\n",
              "      background-color: #E8F0FE;\n",
              "      border: none;\n",
              "      border-radius: 50%;\n",
              "      cursor: pointer;\n",
              "      display: none;\n",
              "      fill: #1967D2;\n",
              "      height: 32px;\n",
              "      padding: 0 0 0 0;\n",
              "      width: 32px;\n",
              "    }\n",
              "\n",
              "    .colab-df-convert:hover {\n",
              "      background-color: #E2EBFA;\n",
              "      box-shadow: 0px 1px 2px rgba(60, 64, 67, 0.3), 0px 1px 3px 1px rgba(60, 64, 67, 0.15);\n",
              "      fill: #174EA6;\n",
              "    }\n",
              "\n",
              "    .colab-df-buttons div {\n",
              "      margin-bottom: 4px;\n",
              "    }\n",
              "\n",
              "    [theme=dark] .colab-df-convert {\n",
              "      background-color: #3B4455;\n",
              "      fill: #D2E3FC;\n",
              "    }\n",
              "\n",
              "    [theme=dark] .colab-df-convert:hover {\n",
              "      background-color: #434B5C;\n",
              "      box-shadow: 0px 1px 3px 1px rgba(0, 0, 0, 0.15);\n",
              "      filter: drop-shadow(0px 1px 2px rgba(0, 0, 0, 0.3));\n",
              "      fill: #FFFFFF;\n",
              "    }\n",
              "  </style>\n",
              "\n",
              "    <script>\n",
              "      const buttonEl =\n",
              "        document.querySelector('#df-534217e0-886a-4de7-8aea-6eb8fd9bff5e button.colab-df-convert');\n",
              "      buttonEl.style.display =\n",
              "        google.colab.kernel.accessAllowed ? 'block' : 'none';\n",
              "\n",
              "      async function convertToInteractive(key) {\n",
              "        const element = document.querySelector('#df-534217e0-886a-4de7-8aea-6eb8fd9bff5e');\n",
              "        const dataTable =\n",
              "          await google.colab.kernel.invokeFunction('convertToInteractive',\n",
              "                                                    [key], {});\n",
              "        if (!dataTable) return;\n",
              "\n",
              "        const docLinkHtml = 'Like what you see? Visit the ' +\n",
              "          '<a target=\"_blank\" href=https://colab.research.google.com/notebooks/data_table.ipynb>data table notebook</a>'\n",
              "          + ' to learn more about interactive tables.';\n",
              "        element.innerHTML = '';\n",
              "        dataTable['output_type'] = 'display_data';\n",
              "        await google.colab.output.renderOutput(dataTable, element);\n",
              "        const docLink = document.createElement('div');\n",
              "        docLink.innerHTML = docLinkHtml;\n",
              "        element.appendChild(docLink);\n",
              "      }\n",
              "    </script>\n",
              "  </div>\n",
              "\n",
              "\n",
              "<div id=\"df-540098a2-5368-4c4d-9e99-eca0c324c3fc\">\n",
              "  <button class=\"colab-df-quickchart\" onclick=\"quickchart('df-540098a2-5368-4c4d-9e99-eca0c324c3fc')\"\n",
              "            title=\"Suggest charts\"\n",
              "            style=\"display:none;\">\n",
              "\n",
              "<svg xmlns=\"http://www.w3.org/2000/svg\" height=\"24px\"viewBox=\"0 0 24 24\"\n",
              "     width=\"24px\">\n",
              "    <g>\n",
              "        <path d=\"M19 3H5c-1.1 0-2 .9-2 2v14c0 1.1.9 2 2 2h14c1.1 0 2-.9 2-2V5c0-1.1-.9-2-2-2zM9 17H7v-7h2v7zm4 0h-2V7h2v10zm4 0h-2v-4h2v4z\"/>\n",
              "    </g>\n",
              "</svg>\n",
              "  </button>\n",
              "\n",
              "<style>\n",
              "  .colab-df-quickchart {\n",
              "      --bg-color: #E8F0FE;\n",
              "      --fill-color: #1967D2;\n",
              "      --hover-bg-color: #E2EBFA;\n",
              "      --hover-fill-color: #174EA6;\n",
              "      --disabled-fill-color: #AAA;\n",
              "      --disabled-bg-color: #DDD;\n",
              "  }\n",
              "\n",
              "  [theme=dark] .colab-df-quickchart {\n",
              "      --bg-color: #3B4455;\n",
              "      --fill-color: #D2E3FC;\n",
              "      --hover-bg-color: #434B5C;\n",
              "      --hover-fill-color: #FFFFFF;\n",
              "      --disabled-bg-color: #3B4455;\n",
              "      --disabled-fill-color: #666;\n",
              "  }\n",
              "\n",
              "  .colab-df-quickchart {\n",
              "    background-color: var(--bg-color);\n",
              "    border: none;\n",
              "    border-radius: 50%;\n",
              "    cursor: pointer;\n",
              "    display: none;\n",
              "    fill: var(--fill-color);\n",
              "    height: 32px;\n",
              "    padding: 0;\n",
              "    width: 32px;\n",
              "  }\n",
              "\n",
              "  .colab-df-quickchart:hover {\n",
              "    background-color: var(--hover-bg-color);\n",
              "    box-shadow: 0 1px 2px rgba(60, 64, 67, 0.3), 0 1px 3px 1px rgba(60, 64, 67, 0.15);\n",
              "    fill: var(--button-hover-fill-color);\n",
              "  }\n",
              "\n",
              "  .colab-df-quickchart-complete:disabled,\n",
              "  .colab-df-quickchart-complete:disabled:hover {\n",
              "    background-color: var(--disabled-bg-color);\n",
              "    fill: var(--disabled-fill-color);\n",
              "    box-shadow: none;\n",
              "  }\n",
              "\n",
              "  .colab-df-spinner {\n",
              "    border: 2px solid var(--fill-color);\n",
              "    border-color: transparent;\n",
              "    border-bottom-color: var(--fill-color);\n",
              "    animation:\n",
              "      spin 1s steps(1) infinite;\n",
              "  }\n",
              "\n",
              "  @keyframes spin {\n",
              "    0% {\n",
              "      border-color: transparent;\n",
              "      border-bottom-color: var(--fill-color);\n",
              "      border-left-color: var(--fill-color);\n",
              "    }\n",
              "    20% {\n",
              "      border-color: transparent;\n",
              "      border-left-color: var(--fill-color);\n",
              "      border-top-color: var(--fill-color);\n",
              "    }\n",
              "    30% {\n",
              "      border-color: transparent;\n",
              "      border-left-color: var(--fill-color);\n",
              "      border-top-color: var(--fill-color);\n",
              "      border-right-color: var(--fill-color);\n",
              "    }\n",
              "    40% {\n",
              "      border-color: transparent;\n",
              "      border-right-color: var(--fill-color);\n",
              "      border-top-color: var(--fill-color);\n",
              "    }\n",
              "    60% {\n",
              "      border-color: transparent;\n",
              "      border-right-color: var(--fill-color);\n",
              "    }\n",
              "    80% {\n",
              "      border-color: transparent;\n",
              "      border-right-color: var(--fill-color);\n",
              "      border-bottom-color: var(--fill-color);\n",
              "    }\n",
              "    90% {\n",
              "      border-color: transparent;\n",
              "      border-bottom-color: var(--fill-color);\n",
              "    }\n",
              "  }\n",
              "</style>\n",
              "\n",
              "  <script>\n",
              "    async function quickchart(key) {\n",
              "      const quickchartButtonEl =\n",
              "        document.querySelector('#' + key + ' button');\n",
              "      quickchartButtonEl.disabled = true;  // To prevent multiple clicks.\n",
              "      quickchartButtonEl.classList.add('colab-df-spinner');\n",
              "      try {\n",
              "        const charts = await google.colab.kernel.invokeFunction(\n",
              "            'suggestCharts', [key], {});\n",
              "      } catch (error) {\n",
              "        console.error('Error during call to suggestCharts:', error);\n",
              "      }\n",
              "      quickchartButtonEl.classList.remove('colab-df-spinner');\n",
              "      quickchartButtonEl.classList.add('colab-df-quickchart-complete');\n",
              "    }\n",
              "    (() => {\n",
              "      let quickchartButtonEl =\n",
              "        document.querySelector('#df-540098a2-5368-4c4d-9e99-eca0c324c3fc button');\n",
              "      quickchartButtonEl.style.display =\n",
              "        google.colab.kernel.accessAllowed ? 'block' : 'none';\n",
              "    })();\n",
              "  </script>\n",
              "</div>\n",
              "\n",
              "    </div>\n",
              "  </div>\n"
            ],
            "application/vnd.google.colaboratory.intrinsic+json": {
              "type": "dataframe",
              "summary": "{\n  \"name\": \"dark_matter_data\",\n  \"rows\": 8,\n  \"fields\": [\n    {\n      \"column\": \"Fiducial Volume (Tonnes)\",\n      \"properties\": {\n        \"dtype\": \"number\",\n        \"std\": 2.7059561790331004,\n        \"min\": 2e-05,\n        \"max\": 7.0,\n        \"num_unique_values\": 8,\n        \"samples\": [\n          2.7740039999999997,\n          0.5,\n          5.0\n        ],\n        \"semantic_type\": \"\",\n        \"description\": \"\"\n      }\n    },\n    {\n      \"column\": \"Unnamed Random Statistic\",\n      \"properties\": {\n        \"dtype\": \"number\",\n        \"std\": 1.6326440197078653,\n        \"min\": 0.1345,\n        \"max\": 5.0,\n        \"num_unique_values\": 8,\n        \"samples\": [\n          0.4465,\n          0.442,\n          5.0\n        ],\n        \"semantic_type\": \"\",\n        \"description\": \"\"\n      }\n    }\n  ]\n}"
            }
          },
          "metadata": {},
          "execution_count": 131
        }
      ],
      "source": [
        "dark_matter_data.describe()"
      ]
    },
    {
      "cell_type": "markdown",
      "id": "befe3fc7",
      "metadata": {
        "id": "befe3fc7"
      },
      "source": [
        "Let's say we imported a dataframe and need to check how large it is. There are two ways to do this. One way, using the `np.size()` function, prints the number of elements in the dataframe. Then, the `np.shape()` function returns the dimensions, in (row,column) format, of the dataframe. Let's try it. As you can tell from the format, these are actually `NumPy` functions that we are applying to `Pandas` dataframe."
      ]
    },
    {
      "cell_type": "code",
      "execution_count": null,
      "id": "ba712fd7",
      "metadata": {
        "id": "ba712fd7",
        "outputId": "e4f7532f-13c6-40de-a0cb-4349ac9d9d64"
      },
      "outputs": [
        {
          "data": {
            "text/plain": [
              "25"
            ]
          },
          "execution_count": 44,
          "metadata": {},
          "output_type": "execute_result"
        }
      ],
      "source": [
        "np.size(dark_matter_data)"
      ]
    },
    {
      "cell_type": "code",
      "execution_count": null,
      "id": "28915b77",
      "metadata": {
        "id": "28915b77",
        "outputId": "508bbf02-c6e1-42d5-f5f7-c1e7e223acb4"
      },
      "outputs": [
        {
          "data": {
            "text/plain": [
              "(5, 5)"
            ]
          },
          "execution_count": 45,
          "metadata": {},
          "output_type": "execute_result"
        }
      ],
      "source": [
        "np.shape(dark_matter_data)"
      ]
    },
    {
      "cell_type": "markdown",
      "id": "46005c53",
      "metadata": {
        "id": "46005c53"
      },
      "source": [
        "### $\\color{orange}{\\text{Activity 12: Working with Dataframes}}$"
      ]
    },
    {
      "cell_type": "markdown",
      "id": "9e35c6c3",
      "metadata": {
        "id": "9e35c6c3"
      },
      "source": [
        "You will need to reference documentation for this problem: https://pandas.pydata.org/docs/user_guide/10min.html\n",
        "\n",
        "You need to generate a `Pandas` dataframe containing some data you collected in the lab. This dataframe should have 5 columns and 7 rows. Construct a dataframe, containing a combination of floating-point data and strings, that describe a fictional experiment of your own design (i.e. the data can be random). Then:\n",
        "\n",
        "**1.** Print the size and shape of the dataframe. Print a list of statistics for the floating-point values in your dataframe.\n",
        "\n",
        "**2.** Oops! You made a systematic error in taking three of your datapoints. Use indexing to replace 3 elements of data, at random, with a `NaN`. What does `NaN` represent?\n",
        "\n",
        "**3.** Use the `concat()` function and indexing to select the 3rd and 5th column and create a new dataframe with them.\n",
        "\n",
        "**4.** Convert your original dataframe (not the one from part 3) to a .csv file and then read it back in from the .csv format."
      ]
    },
    {
      "cell_type": "code",
      "execution_count": 182,
      "id": "ffd652c7",
      "metadata": {
        "id": "ffd652c7",
        "colab": {
          "base_uri": "https://localhost:8080/"
        },
        "outputId": "2e2a7e31-c793-48e3-c70b-a5daf1d65869"
      },
      "outputs": [
        {
          "output_type": "stream",
          "name": "stdout",
          "text": [
            "          0         1         2         3         4\n",
            "0  0.326896  0.916083  0.696163  0.002055  0.038956\n",
            "1  0.018721  0.732655  0.724911  0.195937  0.930023\n",
            "2  0.191184  0.400244  0.646805  0.930167  0.360792\n",
            "3       NaN  0.627726  0.792393  0.690088  0.564177\n",
            "4  0.578543  0.136383  0.152881       NaN  0.164437\n",
            "5  0.104810  0.937068       NaN  0.462061  0.017818\n",
            "6  0.800892  0.032233  0.533866  0.387061  0.941492\n",
            "          2         4\n",
            "0  0.696163  0.038956\n",
            "1  0.724911  0.930023\n",
            "2  0.646805  0.360792\n",
            "3  0.792393  0.564177\n",
            "4  0.152881  0.164437\n",
            "5       NaN  0.017818\n",
            "6  0.533866  0.941492\n",
            "   Unnamed: 0         2         4\n",
            "0           0  0.696163  0.038956\n",
            "1           1  0.724911  0.930023\n",
            "2           2  0.646805  0.360792\n",
            "3           3  0.792393  0.564177\n",
            "4           4  0.152881  0.164437\n",
            "5           5       NaN  0.017818\n",
            "6           6  0.533866  0.941492\n"
          ]
        }
      ],
      "source": [
        "rng = np.random.default_rng()\n",
        "dataset = rng.random((7,5))\n",
        "dataset_shaped = dataset.reshape(7, 5)\n",
        "dataset_shaped = pd.DataFrame(dataset_shaped)\n",
        "i = np.random.randint(4)\n",
        "j = np.random.randint(6)\n",
        "dataset_shaped[i][j] = np.nan\n",
        "i = np.random.randint(4)\n",
        "j = np.random.randint(6)\n",
        "dataset_shaped[i][j] = np.nan\n",
        "i = np.random.randint(4)\n",
        "j = np.random.randint(6)\n",
        "dataset_shaped[i][j] = np.nan\n",
        "print(dataset_shaped)\n",
        "dataset_shaped.describe()\n",
        "\n",
        "new_dataset = pd.concat([dataset_shaped[2], dataset_shaped[4]], axis = 1)\n",
        "print(new_dataset)\n",
        "new_dataset.to_csv(\"new_dataset.csv\")\n",
        "new_dataset = pd.read_csv(\"new_dataset.csv\")\n",
        "print(new_dataset)\n",
        "\n"
      ]
    },
    {
      "cell_type": "markdown",
      "id": "5c37fc0f",
      "metadata": {
        "id": "5c37fc0f"
      },
      "source": [
        "___________________________"
      ]
    },
    {
      "cell_type": "markdown",
      "id": "99f45b1a",
      "metadata": {
        "id": "99f45b1a"
      },
      "source": [
        "## $\\color{Blue}{\\text{Congrats! You've completed Week 1 of STARTUP homework!}}$\n",
        "### $\\color{Orange}{\\text{Remember to commit this notebook to GitHub as instructed in Activity 2.}}$"
      ]
    }
  ],
  "metadata": {
    "kernelspec": {
      "display_name": "Python 3 (ipykernel)",
      "language": "python",
      "name": "python3"
    },
    "language_info": {
      "codemirror_mode": {
        "name": "ipython",
        "version": 3
      },
      "file_extension": ".py",
      "mimetype": "text/x-python",
      "name": "python",
      "nbconvert_exporter": "python",
      "pygments_lexer": "ipython3",
      "version": "3.11.5"
    },
    "colab": {
      "provenance": []
    }
  },
  "nbformat": 4,
  "nbformat_minor": 5
}