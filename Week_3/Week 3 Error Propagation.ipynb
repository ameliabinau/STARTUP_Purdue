{
 "cells": [
  {
   "cell_type": "markdown",
   "metadata": {},
   "source": [
    "# STARTUP Week 3 - Error Propagation"
   ]
  },
  {
   "cell_type": "code",
   "execution_count": 11,
   "metadata": {},
   "outputs": [],
   "source": [
    "# For this assignment you will only need to import these three packages.\n",
    "import numpy as np\n",
    "import pandas as pd\n",
    "import statistics as stats"
   ]
  },
  {
   "cell_type": "markdown",
   "metadata": {},
   "source": [
    "# Part I: Means and Standard Deviations\n",
    "\n",
    "### For this assignment you will build off what was learned about error propagation in the lecture.\n",
    "\n",
    "1. Start by importing the startup_sample.csv file as a dataframe. The file has four columns of data labeled a, b, c, and d. "
   ]
  },
  {
   "cell_type": "code",
   "execution_count": 17,
   "metadata": {},
   "outputs": [
    {
     "name": "stdout",
     "output_type": "stream",
     "text": [
      "     a  b   c   d\n",
      "0   31  6  23  50\n",
      "1   30  6  21  50\n",
      "2   30  5  26  51\n",
      "3   30  6  26  52\n",
      "4   42  9  23  52\n",
      "5   35  6  25  50\n",
      "6   31  8  21  48\n",
      "7   29  8  20  41\n",
      "8   34  4  20  43\n",
      "9   26  6   8  56\n",
      "10  31  5  15  50\n",
      "11  31  7  23  52\n",
      "12  30  5  22  50\n",
      "13  31  6  22  50\n",
      "14  32  1  23  51\n"
     ]
    }
   ],
   "source": [
    "# Load the csv file as \"sample\"\n",
    "data = pd.read_csv('startup_sample.csv')\n",
    "print(data)"
   ]
  },
  {
   "cell_type": "markdown",
   "metadata": {},
   "source": [
    "2. Using numpy, find the mean of each column in the sample dataframe. An example of how to start is given below."
   ]
  },
  {
   "cell_type": "code",
   "execution_count": 18,
   "metadata": {},
   "outputs": [],
   "source": [
    "# To get a list of data from the sample dataframe you must \"call\" the individual columns. Find the mean and repeat this for all four columns.\n",
    "a = data['a']\n",
    "a_mean = '???'"
   ]
  },
  {
   "cell_type": "markdown",
   "metadata": {},
   "source": [
    "3. Calculate the standard deviation for each column. Given how small the data set is, use the sandard deviation formula for a population. Numpy has functions for square roots and sums.\n",
    "4. Once you have calculated it algebraically, use the stats.stdev() function and compare your answers for each column. (You can print both to compare.)"
   ]
  },
  {
   "cell_type": "code",
   "execution_count": 19,
   "metadata": {},
   "outputs": [],
   "source": [
    "# Use the standard deviation formula for a population given that you have already calculated the mean.\n",
    "a_stdev = \"???\"\n",
    "\n",
    "# Find the alternative standard deviation using the statistics import.\n",
    "a_stdev_alt = stats.stdev(a)"
   ]
  },
  {
   "cell_type": "markdown",
   "metadata": {},
   "source": [
    "# Part II: Error Propagation\n",
    "\n",
    "5. Solve for the standard deviation of each function using error propagation formulas provided in the lecture. USE THE MEAN OF EACH COLUMN TO SOLVE THE FUNCTIONS!"
   ]
  },
  {
   "cell_type": "markdown",
   "metadata": {},
   "source": [
    "### Addition and Subtraction\n",
    "\n",
    "x1 = a + b - (c + d)"
   ]
  },
  {
   "cell_type": "code",
   "execution_count": 21,
   "metadata": {},
   "outputs": [],
   "source": [
    "# Calculate x1 and x1_stdev\n",
    "\n"
   ]
  },
  {
   "cell_type": "markdown",
   "metadata": {},
   "source": [
    "### Multiplication and Division\n",
    "\n",
    "x2 = a * b * c / d"
   ]
  },
  {
   "cell_type": "code",
   "execution_count": 22,
   "metadata": {},
   "outputs": [],
   "source": [
    "# Calculate x2 and x2_stdev\n",
    "\n"
   ]
  },
  {
   "cell_type": "markdown",
   "metadata": {},
   "source": [
    "### Exponential\n",
    "\n",
    "x3 = b ** pi"
   ]
  },
  {
   "cell_type": "code",
   "execution_count": 23,
   "metadata": {},
   "outputs": [],
   "source": [
    "# Calculate x3 and x3_stdev\n",
    "\n"
   ]
  },
  {
   "cell_type": "markdown",
   "metadata": {},
   "source": [
    "### Logarithmic\n",
    "\n",
    "x4 = log(d)"
   ]
  },
  {
   "cell_type": "code",
   "execution_count": 24,
   "metadata": {},
   "outputs": [],
   "source": [
    "# Calculate x4 and x4_stdev\n",
    "\n"
   ]
  },
  {
   "cell_type": "markdown",
   "metadata": {},
   "source": [
    "6. Print your results!"
   ]
  },
  {
   "cell_type": "code",
   "execution_count": null,
   "metadata": {},
   "outputs": [],
   "source": [
    "print('Addition and Subtraction:    x1 = '+str(x1)+' and x1_stdev = '+str(x1_stdev))\n",
    "print('Multiplication and Division: x2 = '+str(x2)+' and x2_stdev = '+str(x2_stdev))\n",
    "print('Exponential:                 x3 = '+str(x3)+' and x3_stdev = '+str(x3_stdev))\n",
    "print('Logarithmic:                 x4 = '+str(x4)+' and x4_stdev = '+str(x4_stdev))"
   ]
  }
 ],
 "metadata": {
  "kernelspec": {
   "display_name": "galaxyconda",
   "language": "python",
   "name": "python3"
  },
  "language_info": {
   "codemirror_mode": {
    "name": "ipython",
    "version": 3
   },
   "file_extension": ".py",
   "mimetype": "text/x-python",
   "name": "python",
   "nbconvert_exporter": "python",
   "pygments_lexer": "ipython3",
   "version": "3.12.2"
  }
 },
 "nbformat": 4,
 "nbformat_minor": 2
}
