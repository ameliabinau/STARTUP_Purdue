{
  "cells": [
    {
      "cell_type": "markdown",
      "metadata": {
        "id": "lMLrU2bUOp_K"
      },
      "source": [
        "# STARTUP Week 3 - Error Propagation"
      ]
    },
    {
      "cell_type": "code",
      "execution_count": null,
      "metadata": {
        "id": "Mz7-3PsNOp_M"
      },
      "outputs": [],
      "source": [
        "# For this assignment you will only need to import these three packages.\n",
        "import numpy as np\n",
        "import pandas as pd\n",
        "import statistics as stats"
      ]
    },
    {
      "cell_type": "markdown",
      "metadata": {
        "id": "KlYYDwHJOp_N"
      },
      "source": [
        "# Part I: Means and Standard Deviations\n",
        "\n",
        "### For this assignment you will build off what was learned about error propagation in the lecture.\n",
        "\n",
        "1. Start by importing the startup_sample.csv file as a dataframe. The file has four columns of data labeled a, b, c, and d."
      ]
    },
    {
      "cell_type": "code",
      "execution_count": null,
      "metadata": {
        "colab": {
          "base_uri": "https://localhost:8080/"
        },
        "id": "-fw8FKuyOp_O",
        "outputId": "e792b355-84e1-45e6-be23-997743e5826f"
      },
      "outputs": [
        {
          "output_type": "stream",
          "name": "stdout",
          "text": [
            "     a  b   c   d\n",
            "0   31  6  23  50\n",
            "1   30  6  21  50\n",
            "2   30  5  26  51\n",
            "3   30  6  26  52\n",
            "4   42  9  23  52\n",
            "5   35  6  25  50\n",
            "6   31  8  21  48\n",
            "7   29  8  20  41\n",
            "8   34  4  20  43\n",
            "9   26  6   8  56\n",
            "10  31  5  15  50\n",
            "11  31  7  23  52\n",
            "12  30  5  22  50\n",
            "13  31  6  22  50\n",
            "14  32  1  23  51\n"
          ]
        }
      ],
      "source": [
        "# Load the csv file as \"sample\"\n",
        "data = pd.read_csv('startup_sample.csv')\n",
        "print(data)"
      ]
    },
    {
      "cell_type": "markdown",
      "metadata": {
        "id": "zc46mJKiOp_O"
      },
      "source": [
        "2. Using numpy, find the mean of each column in the sample dataframe. An example of how to start is given below."
      ]
    },
    {
      "cell_type": "code",
      "execution_count": null,
      "metadata": {
        "colab": {
          "base_uri": "https://localhost:8080/"
        },
        "id": "61XofFwvOp_P",
        "outputId": "77242871-6451-4569-c2ec-fa335cafe4f2"
      },
      "outputs": [
        {
          "output_type": "stream",
          "name": "stdout",
          "text": [
            "mean of column a: 31.533333333333335\n",
            "mean of column b: 5.866666666666666\n",
            "mean of column c: 21.2\n",
            "mean of column d: 49.733333333333334\n"
          ]
        }
      ],
      "source": [
        "# To get a list of data from the sample dataframe you must \"call\" the individual columns. Find the mean and repeat this for all four columns.\n",
        "a = data['a']\n",
        "b = data['b']\n",
        "c = data['c']\n",
        "d = data['d']\n",
        "a_mean = np.mean(a)\n",
        "b_mean = np.mean(b)\n",
        "c_mean = np.mean(c)\n",
        "d_mean = np.mean(d)\n",
        "\n",
        "print(f'mean of column a: {a_mean}')\n",
        "print(f'mean of column b: {b_mean}')\n",
        "print(f'mean of column c: {c_mean}')\n",
        "print(f'mean of column d: {d_mean}')\n"
      ]
    },
    {
      "cell_type": "markdown",
      "metadata": {
        "id": "DhqcQDuCOp_P"
      },
      "source": [
        "3. Calculate the standard deviation for each column. Given how small the data set is, use the sandard deviation formula for a population. Numpy has functions for square roots and sums.\n",
        "4. Once you have calculated it algebraically, use the stats.stdev() function and compare your answers for each column. (You can print both to compare.)"
      ]
    },
    {
      "cell_type": "code",
      "execution_count": null,
      "metadata": {
        "colab": {
          "base_uri": "https://localhost:8080/"
        },
        "id": "p4RuG65wOp_P",
        "outputId": "e0ff5b6f-aa8c-4fc4-d54c-09b1ce722a8e"
      },
      "outputs": [
        {
          "output_type": "stream",
          "name": "stdout",
          "text": [
            "standard deviation of column a: 3.4227993741315825\n",
            "standard deviation of column b: 1.8208667044996885\n",
            "standard deviation of column c: 4.4\n",
            "standard deviation of column d: 3.492213560989012\n",
            "standard deviation of column a (alt): 3.542933946940156\n",
            "standard deviation of column b (alt): 1.88477610139267\n",
            "standard deviation of column c (alt): 4.554432691659538\n",
            "standard deviation of column d (alt): 3.6147844564602556\n"
          ]
        }
      ],
      "source": [
        "# Use the standard deviation formula for a population given that you have already calculated the mean.\n",
        "a_stdev = np.std(a)\n",
        "b_stdev = np.std(b)\n",
        "c_stdev = np.std(c)\n",
        "d_stdev = np.std(d)\n",
        "\n",
        "print(f'standard deviation of column a: {a_stdev}')\n",
        "print(f'standard deviation of column b: {b_stdev}')\n",
        "print(f'standard deviation of column c: {c_stdev}')\n",
        "print(f'standard deviation of column d: {d_stdev}')\n",
        "\n",
        "# Find the alternative standard deviation using the statistics import.\n",
        "a_stdev_alt = stats.stdev(a)\n",
        "b_stdev_alt = stats.stdev(b)\n",
        "c_stdev_alt = stats.stdev(c)\n",
        "d_stdev_alt = stats.stdev(d)\n",
        "\n",
        "\n",
        "print(f'standard deviation of column a (alt): {a_stdev_alt}')\n",
        "print(f'standard deviation of column b (alt): {b_stdev_alt}')\n",
        "print(f'standard deviation of column c (alt): {c_stdev_alt}')\n",
        "print(f'standard deviation of column d (alt): {d_stdev_alt}')"
      ]
    },
    {
      "cell_type": "markdown",
      "metadata": {
        "id": "iHgompkcOp_P"
      },
      "source": [
        "# Part II: Error Propagation\n",
        "\n",
        "5. Solve for the standard deviation of each function using error propagation formulas provided in the lecture. USE THE MEAN OF EACH COLUMN TO SOLVE THE FUNCTIONS!"
      ]
    },
    {
      "cell_type": "markdown",
      "metadata": {
        "id": "u95t9LhFOp_Q"
      },
      "source": [
        "### Addition and Subtraction\n",
        "\n",
        "x1 = a + b - (c + d)"
      ]
    },
    {
      "cell_type": "code",
      "execution_count": null,
      "metadata": {
        "id": "fp842o-eOp_Q"
      },
      "outputs": [],
      "source": [
        "# Calculate x1 and x1_stdev\n",
        "x1 = a_mean + b_mean - (c_mean + d_mean)\n",
        "x1_stdev = np.sqrt((a_stdev**2) + (b_stdev**2) + (c_stdev**2))\n",
        "\n"
      ]
    },
    {
      "cell_type": "markdown",
      "metadata": {
        "id": "ZpIVegMFOp_Q"
      },
      "source": [
        "### Multiplication and Division\n",
        "\n",
        "x2 = a * b * c / d"
      ]
    },
    {
      "cell_type": "code",
      "execution_count": null,
      "metadata": {
        "id": "y07G1MBcOp_R"
      },
      "outputs": [],
      "source": [
        "# Calculate x2 and x2_stdev\n",
        "x2 = (a_mean * b_mean * c_mean)/d_mean\n",
        "x2_stdev = np.sqrt(((a_stdev/a_mean)**2) + ((b_stdev/b_mean)**2) + ((c_stdev/c_mean)**2))\n",
        "\n"
      ]
    },
    {
      "cell_type": "markdown",
      "metadata": {
        "id": "3U6ZodoaOp_R"
      },
      "source": [
        "### Exponential\n",
        "\n",
        "x3 = b ** pi"
      ]
    },
    {
      "cell_type": "code",
      "execution_count": null,
      "metadata": {
        "id": "e40LrvJ6Op_R"
      },
      "outputs": [],
      "source": [
        "# Calculate x3 and x3_stdev\n",
        "x3 = b ** (np.pi)\n",
        "x3_stdev = (np.pi) * (b_stdev/b_mean)\n",
        "\n"
      ]
    },
    {
      "cell_type": "markdown",
      "metadata": {
        "id": "XYx6uOndOp_S"
      },
      "source": [
        "### Logarithmic\n",
        "\n",
        "x4 = log(d)"
      ]
    },
    {
      "cell_type": "code",
      "execution_count": null,
      "metadata": {
        "id": "mfotSl9HOp_S"
      },
      "outputs": [],
      "source": [
        "# Calculate x4 and x4_stdev\n",
        "x4 = np.log(d_mean)\n",
        "x4_stdev = 0.434 * (d_stdev/d_mean)"
      ]
    },
    {
      "cell_type": "markdown",
      "metadata": {
        "id": "RhvR7WkpOp_S"
      },
      "source": [
        "6. Print your results!"
      ]
    },
    {
      "cell_type": "code",
      "execution_count": null,
      "metadata": {
        "colab": {
          "base_uri": "https://localhost:8080/"
        },
        "id": "4tZkrs0HOp_S",
        "outputId": "557a57a9-62f0-45b9-bd33-43decfb23090"
      },
      "outputs": [
        {
          "output_type": "stream",
          "name": "stdout",
          "text": [
            "Addition and Subtraction:    x1 = -33.53333333333334 and x1_stdev = 5.8643934989997994\n",
            "Multiplication and Division: x2 = 78.85869526362823 and x2_stdev = 0.3888323336844346\n",
            "Exponential:                 x3 = 0     278.377578\n",
            "1     278.377578\n",
            "2     156.992545\n",
            "3     278.377578\n",
            "4     995.041645\n",
            "5     278.377578\n",
            "6     687.291335\n",
            "7     687.291335\n",
            "8      77.880234\n",
            "9     278.377578\n",
            "10    156.992545\n",
            "11    451.807873\n",
            "12    156.992545\n",
            "13    278.377578\n",
            "14      1.000000\n",
            "Name: b, dtype: float64 and x3_stdev = 0.975071840117468\n",
            "Logarithmic:                 x4 = 3.906675399101551 and x4_stdev = 0.030474946758764703\n"
          ]
        }
      ],
      "source": [
        "print('Addition and Subtraction:    x1 = '+str(x1)+' and x1_stdev = '+str(x1_stdev))\n",
        "print('Multiplication and Division: x2 = '+str(x2)+' and x2_stdev = '+str(x2_stdev))\n",
        "print('Exponential:                 x3 = '+str(x3)+' and x3_stdev = '+str(x3_stdev))\n",
        "print('Logarithmic:                 x4 = '+str(x4)+' and x4_stdev = '+str(x4_stdev))"
      ]
    }
  ],
  "metadata": {
    "kernelspec": {
      "display_name": "galaxyconda",
      "language": "python",
      "name": "python3"
    },
    "language_info": {
      "codemirror_mode": {
        "name": "ipython",
        "version": 3
      },
      "file_extension": ".py",
      "mimetype": "text/x-python",
      "name": "python",
      "nbconvert_exporter": "python",
      "pygments_lexer": "ipython3",
      "version": "3.12.2"
    },
    "colab": {
      "provenance": []
    }
  },
  "nbformat": 4,
  "nbformat_minor": 0
}
