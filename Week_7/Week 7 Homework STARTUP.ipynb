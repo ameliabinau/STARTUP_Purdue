{
 "cells": [
  {
   "cell_type": "markdown",
   "id": "74bb8fed",
   "metadata": {},
   "source": [
    "# $\\color{Violet}{\\text{Week 7: Plotting Simulated High-Energy Physics Observables}}$ \n",
    "Below is a series of code blocks importing a simulated 4D histogram named `hist4D`. This histogram contains four axes and can be unpacked using `BoostHistogram` (https://boost-histogram.readthedocs.io/en/latest/). In this homework, you will be asked to create plots of various slices into this histogram. While simulating this data, many hadrons were manually set to not decay so their spectra can be viewed. "
   ]
  },
  {
   "cell_type": "code",
   "execution_count": 1,
   "id": "6b66faf9",
   "metadata": {},
   "outputs": [],
   "source": [
    "import numpy as np\n",
    "import numpy.ma as ma\n",
    "import matplotlib.pyplot as plt\n",
    "import boost_histogram as bh\n",
    "import mplhep\n",
    "import pickle\n",
    "import gzip\n",
    "import pathlib\n",
    "import math\n",
    "\n",
    "import boost_histogram as bh"
   ]
  },
  {
   "cell_type": "code",
   "execution_count": 2,
   "id": "8c838449",
   "metadata": {},
   "outputs": [],
   "source": [
    "histfile = pathlib.Path(\"hist.simulated_particles1.pkl.gz\") #Pickle is a package that allows you to \"serialize\", save, and extract Python objects.\n",
    "\n",
    "with gzip.open(histfile, \"rb\") as f: #Must gzip to uncompress the compressed file\n",
    "    saved_dict = pickle.load(f)\n",
    "\n",
    "hist4D = saved_dict[\"hist4D\"] #Renaming the histogram\n",
    "check = saved_dict[\"charged_part_density\"]\n",
    "n_events = saved_dict[\"n_events\"]"
   ]
  },
  {
   "cell_type": "code",
   "execution_count": 3,
   "id": "7b427a91",
   "metadata": {},
   "outputs": [
    {
     "data": {
      "text/plain": [
       "Histogram(\n",
       "  Variable([2, 42, 62, 82, 104, 142, 160.28, 186, 220, 272.076, 322], underflow=False, overflow=False, metadata='N Charged'),\n",
       "  Regular(50, 10, 10000, transform=log, metadata='$p_\\\\mathrm{T}$ / $\\\\mathrm{MeV}\\\\,c^{-1}$'),\n",
       "  Regular(29, -14.5, 14.5, metadata='Eta'),\n",
       "  IntCategory([1, 2, 3, 4, 5, 6, 11, 12, 13, 14, 15, 16, 21, 22, 23, 24, 25, 2212, -2212, 211, -211, 310, 130, 321, -321, 3122, -3122, 3322, -3322, 3312, -3312, 3334, -3334, 3222, -3222, 3212, -3212, 3112, -3112, 333], metadata='PID'),\n",
       "  storage=Double()) # Sum: 163781.0 (169654.0 with flow)"
      ]
     },
     "execution_count": 3,
     "metadata": {},
     "output_type": "execute_result"
    }
   ],
   "source": [
    "hist4D #Printing the description of each axis by just running a cell with the  histogram name in it. "
   ]
  },
  {
   "cell_type": "markdown",
   "id": "3b528285",
   "metadata": {},
   "source": [
    "You can index into each axis of the histogram as so: `hist4D.axes[#]` where 0 represents the first (N Charged) axis. This axis quantifies the number of final-state charged particles that result from the collison. Axis 1 represents the transverse momenta of the final state particles in MeV. Axis 2 holds the pseudorapidity of the final state particles (\"Eta\"). Lastly, axis 3 holds the PDGID's of a selection of final-state particles and their quantites. "
   ]
  },
  {
   "cell_type": "markdown",
   "id": "2f42a4b2",
   "metadata": {},
   "source": [
    "## Denisty Spectra"
   ]
  },
  {
   "cell_type": "markdown",
   "id": "e071c168",
   "metadata": {},
   "source": [
    "Density spectra are simply histograms of a particular observable that are normalized (divided by; standardized) to the total number of events/observations/counts/etc and/or the bin width. "
   ]
  },
  {
   "cell_type": "code",
   "execution_count": 4,
   "id": "45838ae0",
   "metadata": {},
   "outputs": [
    {
     "name": "stdout",
     "output_type": "stream",
     "text": [
      "[   1.48153621    1.70103117    1.9530451     2.2423958     2.57461486\n",
      "    2.95605338    3.39400339    3.89683729    4.47416784    5.13703201\n",
      "    5.89810191    6.77192706    7.77521258    8.92713848   10.24972638\n",
      "   11.76826046   13.51177087   15.51358866   17.811983     20.45089279\n",
      "   23.48076661   26.95952722   30.95367882   35.53957843   40.80489568\n",
      "   46.85028875   53.7913287    61.76070885   70.91078153   81.41647062\n",
      "   93.47861559  107.32781103  123.22881492  141.48561012  162.44721565\n",
      "  186.51435895  214.14713669  245.87381053  282.30090599  324.12480756\n",
      "  372.14507162  427.2797117   490.58274838  563.2643592   646.71401387\n",
      "  742.5270371   852.5351067   978.84127022 1123.86014927 1290.36410044]\n"
     ]
    }
   ],
   "source": [
    "print(hist4D.axes[1].widths) #Notice that the bins in this histogram axis are not in even intervals. "
   ]
  },
  {
   "cell_type": "code",
   "execution_count": 5,
   "id": "22318dc0",
   "metadata": {},
   "outputs": [
    {
     "data": {
      "text/plain": [
       "Text(0.5, 1.0, 'Momenta Density Spectrum for 1000 Events')"
      ]
     },
     "execution_count": 5,
     "metadata": {},
     "output_type": "execute_result"
    },
    {
     "data": {
      "image/png": "[encoded data removed]",
      "text/plain": [
       "<Figure size 432x288 with 1 Axes>"
      ]
     },
     "metadata": {
      "needs_background": "light"
     },
     "output_type": "display_data"
    }
   ],
   "source": [
    "#Densities - pt (Momenta)         \n",
    "plt.stairs(hist4D.project(1).values() / n_events / hist4D.axes[1].widths, hist4D.axes[1].edges) #stairs expects bins\n",
    "plt.semilogx()\n",
    "plt.xlabel(\"Momenta\")\n",
    "plt.ylabel(\"Counts/event/width\")\n",
    "plt.title(\"Momenta Density Spectrum for \" + str(n_events) + \" Events\")"
   ]
  },
  {
   "cell_type": "markdown",
   "id": "7e00d5ed",
   "metadata": {},
   "source": [
    "And there's a desnity plot of particle transverse momenta! Is it as you'd expect? "
   ]
  },
  {
   "cell_type": "markdown",
   "id": "693c58d6",
   "metadata": {},
   "source": [
    "### $\\color{orange}{\\text{Activity 1: Pseudorapidity Densities}}$ "
   ]
  },
  {
   "cell_type": "markdown",
   "id": "8656cb7a",
   "metadata": {},
   "source": [
    "Using the example above, create a similar denisty spectrum of particle pseudorapidities (eta). Label appropriately. In a markdown cell, describe what you see. Knowing what you do about how we geometrically define pseudorapidity with respect to collider beamlines (ex. CMS, ATLAS), how do you interpret this spectrum? "
   ]
  },
  {
   "cell_type": "code",
   "execution_count": 6,
   "id": "70dfdb09",
   "metadata": {},
   "outputs": [],
   "source": [
    "#Densities - Eta (Angle)\n",
    "\n",
    "\n"
   ]
  },
  {
   "cell_type": "markdown",
   "id": "7e8317d7",
   "metadata": {},
   "source": [
    "## Average Particle Frequencies"
   ]
  },
  {
   "cell_type": "markdown",
   "id": "9728dea8",
   "metadata": {},
   "source": [
    "### $\\color{orange}{\\text{Activity 2: Average Particle Frequencies}}$ "
   ]
  },
  {
   "cell_type": "markdown",
   "id": "87b7432a",
   "metadata": {},
   "source": [
    "Let's execute an algorithum that averages the total frequencies of each final state particle species we collected data on over the total number of particle collisions our histogram represents. The hard part here is that we need to assign names to each of the particles based on their PDGID's (these are the numerical tags listed as an array in axis 3's description). Let's print these ID's, run the averaging algorithum, and then plot the results. This will require you to look up what each of the ID numbers for each particle correspond to here: https://pdg.lbl.gov/2007/reviews/montecarlorpp.pdf. **Look up new, unfamilar particles as you stumble across them!** Feel free to use LaTeX formatting in your particle species labels. \n",
    "\n",
    "Note: This code is very brute forced and could be cleaned up much nicer :)"
   ]
  },
  {
   "cell_type": "code",
   "execution_count": 7,
   "id": "b7cdbba3",
   "metadata": {},
   "outputs": [
    {
     "data": {
      "text/plain": [
       "IntCategory([1, 2, 3, 4, 5, 6, 11, 12, 13, 14, 15, 16, 21, 22, 23, 24, 25, 2212, -2212, 211, -211, 310, 130, 321, -321, 3122, -3122, 3322, -3322, 3312, -3312, 3334, -3334, 3222, -3222, 3212, -3212, 3112, -3112, 333], metadata='PID')"
      ]
     },
     "execution_count": 7,
     "metadata": {},
     "output_type": "execute_result"
    }
   ],
   "source": [
    "hist4D.axes[3]"
   ]
  },
  {
   "cell_type": "code",
   "execution_count": 8,
   "id": "c8ccc490",
   "metadata": {},
   "outputs": [
    {
     "name": "stdout",
     "output_type": "stream",
     "text": [
      "[0.0, 0.0, 0.0, 0.0, 0.0, 0.0, 0.492, 0.018, 0.024, 0.015, 0.0, 0.003, 0.0, 77.328, 0.0, 0.0, 0.0, 2.912, 1.88, 32.429, 31.61, 3.709, 3.803, 3.831, 3.729, 0.514, 0.43, 0.044, 0.061, 0.056, 0.064, 0.002, 0.001, 0.272, 0.214, 0.273, 0.253, 0.258, 0.243, 0.307]\n"
     ]
    }
   ],
   "source": [
    "nevents = 1000 \n",
    "average_pt = 0\n",
    "total = 0\n",
    "x = 0\n",
    "species = [1, 2, 3, 4, 5, 6, 11, 12, 13, 14, 15, 16, 21, 22, 23, 24, 25, 2212, -2212, 211, -211, 310, 130, 321, -321, 3122, -3122, 3322, -3322, 3312, -3312, 3334, -3334, 3222, -3222, 3212, -3212, 3112, -3112, 333]\n",
    "ID = species[x]\n",
    "\n",
    "averages = []\n",
    "pid = hist4D.project(3)\n",
    "for ID, total in zip(species, pid.values()):\n",
    "    average = total / nevents\n",
    "    averages.append(average)\n",
    "\n",
    "print(averages)"
   ]
  },
  {
   "cell_type": "code",
   "execution_count": 9,
   "id": "e541250b",
   "metadata": {},
   "outputs": [
    {
     "data": {
      "image/png": "[encoded data removed]",
      "text/plain": [
       "<Figure size 432x288 with 1 Axes>"
      ]
     },
     "metadata": {
      "needs_background": "light"
     },
     "output_type": "display_data"
    },
    {
     "data": {
      "text/plain": [
       "<Figure size 1080x432 with 0 Axes>"
      ]
     },
     "metadata": {},
     "output_type": "display_data"
    }
   ],
   "source": [
    "species_number = len(species)\n",
    "#Remove integers and insert an array of each ID's corresponding particle names as strings here\n",
    "particles = [1,2,3,4,5,6,7,8,9,10,11,12,13,14,15,16,17,18,19,20,21,22,23,24,25,26,27,28,29,30,31,32,33,34,35,36,37,38,39,40] \n",
    "\n",
    "freq = [averages[0], averages[1], averages[2], averages[3], averages[4], averages[5], averages[6], averages[7], averages[8], averages[9], averages[10], averages[11], averages[12], averages[13], averages[14], averages[15], averages[16], averages[17], averages[18], averages[19], averages[20], averages[21], averages[22], averages[23], averages[24], averages[25],averages[26],averages[27],averages[28],averages[29],averages[30],averages[31],averages[32],averages[33],averages[34],averages[35],averages[36],averages[37],averages[38],averages[39]]\n",
    "\n",
    "plt.bar(particles, freq, width = 0.8, color=['orchid'])\n",
    "plt.xlabel(\"Particles\")\n",
    "plt.xticks(fontsize=8)\n",
    "plt.ylabel(\"Frequency\")\n",
    "title1 = \"Average Particle Frequencies for \" + str(nevents) + \" Simulated Events\"\n",
    "plt.title(title1)\n",
    "plt.yscale('log')\n",
    "plt.figure(figsize=(15,6))\n",
    "\n",
    "plt.show()"
   ]
  },
  {
   "cell_type": "markdown",
   "id": "dcdc841b",
   "metadata": {},
   "source": [
    "Describe what you see. Why are there no final state quarks? "
   ]
  },
  {
   "cell_type": "markdown",
   "id": "38a8012c",
   "metadata": {},
   "source": [
    "## Slicing into Histograms"
   ]
  },
  {
   "cell_type": "markdown",
   "id": "35964103",
   "metadata": {},
   "source": [
    "### $\\color{orange}{\\text{Activity 3: Slicing into Histograms}}$ "
   ]
  },
  {
   "cell_type": "markdown",
   "id": "4a27ae80",
   "metadata": {},
   "source": [
    "Slicing a histogram means using indexing to select one spectrum from one axis of the histogram based on restrictions/filters imposed onto other, overlapping axes. For example, below is a spectra of momenta specifically for protons. Using this example, plot a sliced density plot for the pseudorapidities of protons. Then, create your own slice (ex. what are all the frequencies of particle species with pseudorapidities equal to 0, what is the momentum spectrum of electrons, etc). See `BoostHistogram`'s Quickstart or Indexing page for help (https://boost-histogram.readthedocs.io/en/latest/user-guide/quickstart.html). "
   ]
  },
  {
   "cell_type": "code",
   "execution_count": 10,
   "id": "1f96fb31",
   "metadata": {},
   "outputs": [
    {
     "data": {
      "text/plain": [
       "Text(0.5, 1.0, 'Proton Momenta Density Spectrum for 1000 Events')"
      ]
     },
     "execution_count": 10,
     "metadata": {},
     "output_type": "execute_result"
    },
    {
     "data": {
      "image/png": "[encoded data removed]",
      "text/plain": [
       "<Figure size 432x288 with 1 Axes>"
      ]
     },
     "metadata": {
      "needs_background": "light"
     },
     "output_type": "display_data"
    }
   ],
   "source": [
    "momenta_proton = hist4D[sum, : , sum, bh.loc(2212)]\n",
    "plt.stairs(momenta_proton.project(0).values() / n_events / hist4D.axes[1].widths, hist4D.axes[1].edges) #stairs expects bins\n",
    "plt.semilogx()\n",
    "plt.xlabel(\"Momenta\")\n",
    "plt.ylabel(\"Counts/event/width\")\n",
    "plt.title(\"Proton Momenta Density Spectrum for \" + str(n_events) + \" Events\")"
   ]
  },
  {
   "cell_type": "code",
   "execution_count": null,
   "id": "4de3fce2",
   "metadata": {},
   "outputs": [],
   "source": []
  }
 ],
 "metadata": {
  "kernelspec": {
   "display_name": "Python 3.9 (Default)",
   "language": "python",
   "name": "python3"
  },
  "language_info": {
   "codemirror_mode": {
    "name": "ipython",
    "version": 3
   },
   "file_extension": ".py",
   "mimetype": "text/x-python",
   "name": "python",
   "nbconvert_exporter": "python",
   "pygments_lexer": "ipython3",
   "version": "3.9.7"
  }
 },
 "nbformat": 4,
 "nbformat_minor": 5
}
