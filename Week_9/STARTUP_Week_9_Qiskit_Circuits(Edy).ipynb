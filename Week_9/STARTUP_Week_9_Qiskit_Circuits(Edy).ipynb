{
  "cells": [
    {
      "cell_type": "markdown",
      "id": "af915211",
      "metadata": {
        "id": "af915211"
      },
      "source": [
        "# $\\color{Violet}{\\text{Week 9: Visualizing Quantum circuits in Qiskit}}$"
      ]
    },
    {
      "cell_type": "markdown",
      "id": "ee81193d",
      "metadata": {
        "id": "ee81193d"
      },
      "source": [
        "`Qiskit` is one of the most well-dcoumented and universally used Python packages in the field of quantum computing. It has a varity of subfunctions that allow for easy circuit design/visualization, connectivity to real quantum computers, and quantum error analysis. In this homework, we will focus on practicing using `Qiskit` to contruct and visualize quantum circuits and simulate the final measured states of qubits passing through them."
      ]
    },
    {
      "cell_type": "markdown",
      "id": "UJsikJNnstne",
      "metadata": {
        "id": "UJsikJNnstne"
      },
      "source": [
        "IBM Qunatum has produced a free interface which allows you to manually create these circuits, run them on IBM quantum computers, and even produces code to replicate them here! Use the IBM Qunatum interface alongside this homework assignment. Replicate each circuit in IBM Quantum and compare your result with the code. You will need to make an account to run your circuit on an IBM quantum computer.\n",
        "\n",
        "IBM Quantum: https://quantum.ibm.com/composer/files/e326d7d40aa340f043d495be3ddeec3c3f192de8a65e55fef2797f2199cc94f9"
      ]
    },
    {
      "cell_type": "markdown",
      "id": "b61ecf40",
      "metadata": {
        "id": "b61ecf40"
      },
      "source": [
        "### Contructing a Single-Qubit Circuit"
      ]
    },
    {
      "cell_type": "markdown",
      "id": "99813867",
      "metadata": {
        "id": "99813867"
      },
      "source": [
        "Let's contruct a single-qubit circuit so we can explore the gates availble in Qiskit's base package simply."
      ]
    },
    {
      "cell_type": "code",
      "execution_count": null,
      "id": "171022a6",
      "metadata": {
        "colab": {
          "base_uri": "https://localhost:8080/"
        },
        "id": "171022a6",
        "outputId": "9e88b506-5c3c-40b3-a8ca-d0025b5e0e82"
      },
      "outputs": [
        {
          "output_type": "stream",
          "name": "stdout",
          "text": [
            "Collecting qiskit\n",
            "  Downloading qiskit-1.1.1-cp38-abi3-manylinux_2_17_x86_64.manylinux2014_x86_64.whl.metadata (12 kB)\n",
            "Collecting rustworkx>=0.14.0 (from qiskit)\n",
            "  Downloading rustworkx-0.15.1-cp38-abi3-manylinux_2_17_x86_64.manylinux2014_x86_64.whl.metadata (9.9 kB)\n",
            "Requirement already satisfied: numpy<3,>=1.17 in /usr/local/lib/python3.10/dist-packages (from qiskit) (1.26.4)\n",
            "Requirement already satisfied: scipy>=1.5 in /usr/local/lib/python3.10/dist-packages (from qiskit) (1.13.1)\n",
            "Requirement already satisfied: sympy>=1.3 in /usr/local/lib/python3.10/dist-packages (from qiskit) (1.13.1)\n",
            "Collecting dill>=0.3 (from qiskit)\n",
            "  Downloading dill-0.3.8-py3-none-any.whl.metadata (10 kB)\n",
            "Requirement already satisfied: python-dateutil>=2.8.0 in /usr/local/lib/python3.10/dist-packages (from qiskit) (2.8.2)\n",
            "Collecting stevedore>=3.0.0 (from qiskit)\n",
            "  Downloading stevedore-5.2.0-py3-none-any.whl.metadata (2.3 kB)\n",
            "Requirement already satisfied: typing-extensions in /usr/local/lib/python3.10/dist-packages (from qiskit) (4.12.2)\n",
            "Collecting symengine>=0.11 (from qiskit)\n",
            "  Downloading symengine-0.11.0-cp310-cp310-manylinux_2_12_x86_64.manylinux2010_x86_64.whl.metadata (1.2 kB)\n",
            "Requirement already satisfied: six>=1.5 in /usr/local/lib/python3.10/dist-packages (from python-dateutil>=2.8.0->qiskit) (1.16.0)\n",
            "Collecting pbr!=2.1.0,>=2.0.0 (from stevedore>=3.0.0->qiskit)\n",
            "  Downloading pbr-6.0.0-py2.py3-none-any.whl.metadata (1.3 kB)\n",
            "Requirement already satisfied: mpmath<1.4,>=1.1.0 in /usr/local/lib/python3.10/dist-packages (from sympy>=1.3->qiskit) (1.3.0)\n",
            "Downloading qiskit-1.1.1-cp38-abi3-manylinux_2_17_x86_64.manylinux2014_x86_64.whl (4.3 MB)\n",
            "\u001b[2K   \u001b[90m━━━━━━━━━━━━━━━━━━━━━━━━━━━━━━━━━━━━━━━━\u001b[0m \u001b[32m4.3/4.3 MB\u001b[0m \u001b[31m26.9 MB/s\u001b[0m eta \u001b[36m0:00:00\u001b[0m\n",
            "\u001b[?25hDownloading dill-0.3.8-py3-none-any.whl (116 kB)\n",
            "\u001b[2K   \u001b[90m━━━━━━━━━━━━━━━━━━━━━━━━━━━━━━━━━━━━━━━━\u001b[0m \u001b[32m116.3/116.3 kB\u001b[0m \u001b[31m7.3 MB/s\u001b[0m eta \u001b[36m0:00:00\u001b[0m\n",
            "\u001b[?25hDownloading rustworkx-0.15.1-cp38-abi3-manylinux_2_17_x86_64.manylinux2014_x86_64.whl (2.0 MB)\n",
            "\u001b[2K   \u001b[90m━━━━━━━━━━━━━━━━━━━━━━━━━━━━━━━━━━━━━━━━\u001b[0m \u001b[32m2.0/2.0 MB\u001b[0m \u001b[31m18.3 MB/s\u001b[0m eta \u001b[36m0:00:00\u001b[0m\n",
            "\u001b[?25hDownloading stevedore-5.2.0-py3-none-any.whl (49 kB)\n",
            "\u001b[2K   \u001b[90m━━━━━━━━━━━━━━━━━━━━━━━━━━━━━━━━━━━━━━━━\u001b[0m \u001b[32m49.7/49.7 kB\u001b[0m \u001b[31m1.6 MB/s\u001b[0m eta \u001b[36m0:00:00\u001b[0m\n",
            "\u001b[?25hDownloading symengine-0.11.0-cp310-cp310-manylinux_2_12_x86_64.manylinux2010_x86_64.whl (39.4 MB)\n",
            "\u001b[2K   \u001b[90m━━━━━━━━━━━━━━━━━━━━━━━━━━━━━━━━━━━━━━━━\u001b[0m \u001b[32m39.4/39.4 MB\u001b[0m \u001b[31m10.7 MB/s\u001b[0m eta \u001b[36m0:00:00\u001b[0m\n",
            "\u001b[?25hDownloading pbr-6.0.0-py2.py3-none-any.whl (107 kB)\n",
            "\u001b[2K   \u001b[90m━━━━━━━━━━━━━━━━━━━━━━━━━━━━━━━━━━━━━━━━\u001b[0m \u001b[32m107.5/107.5 kB\u001b[0m \u001b[31m4.7 MB/s\u001b[0m eta \u001b[36m0:00:00\u001b[0m\n",
            "\u001b[?25hInstalling collected packages: symengine, rustworkx, pbr, dill, stevedore, qiskit\n",
            "Successfully installed dill-0.3.8 pbr-6.0.0 qiskit-1.1.1 rustworkx-0.15.1 stevedore-5.2.0 symengine-0.11.0\n",
            "Collecting pylatexenc\n",
            "  Downloading pylatexenc-2.10.tar.gz (162 kB)\n",
            "\u001b[2K     \u001b[90m━━━━━━━━━━━━━━━━━━━━━━━━━━━━━━━━━━━━━━━━\u001b[0m \u001b[32m162.6/162.6 kB\u001b[0m \u001b[31m5.4 MB/s\u001b[0m eta \u001b[36m0:00:00\u001b[0m\n",
            "\u001b[?25h  Preparing metadata (setup.py) ... \u001b[?25l\u001b[?25hdone\n",
            "Building wheels for collected packages: pylatexenc\n",
            "  Building wheel for pylatexenc (setup.py) ... \u001b[?25l\u001b[?25hdone\n",
            "  Created wheel for pylatexenc: filename=pylatexenc-2.10-py3-none-any.whl size=136817 sha256=f35491619dfbeae74536a55087fff3cec69fe701bad8449e742303abe51d7739\n",
            "  Stored in directory: /root/.cache/pip/wheels/d3/31/8b/e09b0386afd80cfc556c00408c9aeea5c35c4d484a9c762fd5\n",
            "Successfully built pylatexenc\n",
            "Installing collected packages: pylatexenc\n",
            "Successfully installed pylatexenc-2.10\n",
            "Collecting qiskit-aer-gpu\n",
            "  Downloading qiskit_aer_gpu-0.14.2-cp310-cp310-manylinux_2_17_x86_64.manylinux2014_x86_64.whl.metadata (8.4 kB)\n",
            "Requirement already satisfied: qiskit>=0.45.2 in /usr/local/lib/python3.10/dist-packages (from qiskit-aer-gpu) (1.1.1)\n",
            "Requirement already satisfied: numpy>=1.16.3 in /usr/local/lib/python3.10/dist-packages (from qiskit-aer-gpu) (1.26.4)\n",
            "Requirement already satisfied: scipy>=1.0 in /usr/local/lib/python3.10/dist-packages (from qiskit-aer-gpu) (1.13.1)\n",
            "Requirement already satisfied: psutil>=5 in /usr/local/lib/python3.10/dist-packages (from qiskit-aer-gpu) (5.9.5)\n",
            "Collecting nvidia-cuda-runtime-cu12>=12.1.105 (from qiskit-aer-gpu)\n",
            "  Downloading nvidia_cuda_runtime_cu12-12.5.82-py3-none-manylinux2014_x86_64.whl.metadata (1.5 kB)\n",
            "Collecting nvidia-nvjitlink-cu12 (from qiskit-aer-gpu)\n",
            "  Downloading nvidia_nvjitlink_cu12-12.5.82-py3-none-manylinux2014_x86_64.whl.metadata (1.5 kB)\n",
            "Collecting nvidia-cublas-cu12>=12.1.3.1 (from qiskit-aer-gpu)\n",
            "  Downloading nvidia_cublas_cu12-12.5.3.2-py3-none-manylinux2014_x86_64.whl.metadata (1.5 kB)\n",
            "Collecting nvidia-cusolver-cu12>=11.4.5.107 (from qiskit-aer-gpu)\n",
            "  Downloading nvidia_cusolver_cu12-11.6.3.83-py3-none-manylinux2014_x86_64.whl.metadata (1.6 kB)\n",
            "Collecting nvidia-cusparse-cu12>=12.1.0.106 (from qiskit-aer-gpu)\n",
            "  Downloading nvidia_cusparse_cu12-12.5.1.3-py3-none-manylinux2014_x86_64.whl.metadata (1.6 kB)\n",
            "Collecting cuquantum-cu12>=23.3.0 (from qiskit-aer-gpu)\n",
            "  Downloading cuquantum_cu12-24.3.0.post1-py3-none-manylinux2014_x86_64.whl.metadata (2.7 kB)\n",
            "Collecting custatevec-cu12==1.6.0.post1 (from cuquantum-cu12>=23.3.0->qiskit-aer-gpu)\n",
            "  Downloading custatevec_cu12-1.6.0.post1-py3-none-manylinux2014_x86_64.whl.metadata (2.1 kB)\n",
            "Collecting cutensornet-cu12==2.4.0.post1 (from cuquantum-cu12>=23.3.0->qiskit-aer-gpu)\n",
            "  Downloading cutensornet_cu12-2.4.0.post1-py3-none-manylinux2014_x86_64.whl.metadata (2.1 kB)\n",
            "Collecting cutensor-cu12<3,>=2.0.1 (from cutensornet-cu12==2.4.0.post1->cuquantum-cu12>=23.3.0->qiskit-aer-gpu)\n",
            "  Downloading cutensor_cu12-2.0.2-py3-none-manylinux2014_x86_64.whl.metadata (2.1 kB)\n",
            "Requirement already satisfied: rustworkx>=0.14.0 in /usr/local/lib/python3.10/dist-packages (from qiskit>=0.45.2->qiskit-aer-gpu) (0.15.1)\n",
            "Requirement already satisfied: sympy>=1.3 in /usr/local/lib/python3.10/dist-packages (from qiskit>=0.45.2->qiskit-aer-gpu) (1.13.1)\n",
            "Requirement already satisfied: dill>=0.3 in /usr/local/lib/python3.10/dist-packages (from qiskit>=0.45.2->qiskit-aer-gpu) (0.3.8)\n",
            "Requirement already satisfied: python-dateutil>=2.8.0 in /usr/local/lib/python3.10/dist-packages (from qiskit>=0.45.2->qiskit-aer-gpu) (2.8.2)\n",
            "Requirement already satisfied: stevedore>=3.0.0 in /usr/local/lib/python3.10/dist-packages (from qiskit>=0.45.2->qiskit-aer-gpu) (5.2.0)\n",
            "Requirement already satisfied: typing-extensions in /usr/local/lib/python3.10/dist-packages (from qiskit>=0.45.2->qiskit-aer-gpu) (4.12.2)\n",
            "Requirement already satisfied: symengine>=0.11 in /usr/local/lib/python3.10/dist-packages (from qiskit>=0.45.2->qiskit-aer-gpu) (0.11.0)\n",
            "Requirement already satisfied: six>=1.5 in /usr/local/lib/python3.10/dist-packages (from python-dateutil>=2.8.0->qiskit>=0.45.2->qiskit-aer-gpu) (1.16.0)\n",
            "Requirement already satisfied: pbr!=2.1.0,>=2.0.0 in /usr/local/lib/python3.10/dist-packages (from stevedore>=3.0.0->qiskit>=0.45.2->qiskit-aer-gpu) (6.0.0)\n",
            "Requirement already satisfied: mpmath<1.4,>=1.1.0 in /usr/local/lib/python3.10/dist-packages (from sympy>=1.3->qiskit>=0.45.2->qiskit-aer-gpu) (1.3.0)\n",
            "Downloading qiskit_aer_gpu-0.14.2-cp310-cp310-manylinux_2_17_x86_64.manylinux2014_x86_64.whl (18.8 MB)\n",
            "\u001b[2K   \u001b[90m━━━━━━━━━━━━━━━━━━━━━━━━━━━━━━━━━━━━━━━━\u001b[0m \u001b[32m18.8/18.8 MB\u001b[0m \u001b[31m52.3 MB/s\u001b[0m eta \u001b[36m0:00:00\u001b[0m\n",
            "\u001b[?25hDownloading cuquantum_cu12-24.3.0.post1-py3-none-manylinux2014_x86_64.whl (7.5 kB)\n",
            "Downloading custatevec_cu12-1.6.0.post1-py3-none-manylinux2014_x86_64.whl (38.7 MB)\n",
            "\u001b[2K   \u001b[90m━━━━━━━━━━━━━━━━━━━━━━━━━━━━━━━━━━━━━━━━\u001b[0m \u001b[32m38.7/38.7 MB\u001b[0m \u001b[31m20.3 MB/s\u001b[0m eta \u001b[36m0:00:00\u001b[0m\n",
            "\u001b[?25hDownloading cutensornet_cu12-2.4.0.post1-py3-none-manylinux2014_x86_64.whl (2.2 MB)\n",
            "\u001b[2K   \u001b[90m━━━━━━━━━━━━━━━━━━━━━━━━━━━━━━━━━━━━━━━━\u001b[0m \u001b[32m2.2/2.2 MB\u001b[0m \u001b[31m47.5 MB/s\u001b[0m eta \u001b[36m0:00:00\u001b[0m\n",
            "\u001b[?25hDownloading nvidia_cublas_cu12-12.5.3.2-py3-none-manylinux2014_x86_64.whl (363.3 MB)\n",
            "\u001b[2K   \u001b[90m━━━━━━━━━━━━━━━━━━━━━━━━━━━━━━━━━━━━━━━━\u001b[0m \u001b[32m363.3/363.3 MB\u001b[0m \u001b[31m3.8 MB/s\u001b[0m eta \u001b[36m0:00:00\u001b[0m\n",
            "\u001b[?25hDownloading nvidia_cuda_runtime_cu12-12.5.82-py3-none-manylinux2014_x86_64.whl (895 kB)\n",
            "\u001b[2K   \u001b[90m━━━━━━━━━━━━━━━━━━━━━━━━━━━━━━━━━━━━━━━━\u001b[0m \u001b[32m895.7/895.7 kB\u001b[0m \u001b[31m38.5 MB/s\u001b[0m eta \u001b[36m0:00:00\u001b[0m\n",
            "\u001b[?25hDownloading nvidia_cusolver_cu12-11.6.3.83-py3-none-manylinux2014_x86_64.whl (130.3 MB)\n",
            "\u001b[2K   \u001b[90m━━━━━━━━━━━━━━━━━━━━━━━━━━━━━━━━━━━━━━━━\u001b[0m \u001b[32m130.3/130.3 MB\u001b[0m \u001b[31m6.9 MB/s\u001b[0m eta \u001b[36m0:00:00\u001b[0m\n",
            "\u001b[?25hDownloading nvidia_cusparse_cu12-12.5.1.3-py3-none-manylinux2014_x86_64.whl (217.6 MB)\n",
            "\u001b[2K   \u001b[90m━━━━━━━━━━━━━━━━━━━━━━━━━━━━━━━━━━━━━━━━\u001b[0m \u001b[32m217.6/217.6 MB\u001b[0m \u001b[31m5.3 MB/s\u001b[0m eta \u001b[36m0:00:00\u001b[0m\n",
            "\u001b[?25hDownloading nvidia_nvjitlink_cu12-12.5.82-py3-none-manylinux2014_x86_64.whl (21.3 MB)\n",
            "\u001b[2K   \u001b[90m━━━━━━━━━━━━━━━━━━━━━━━━━━━━━━━━━━━━━━━━\u001b[0m \u001b[32m21.3/21.3 MB\u001b[0m \u001b[31m50.0 MB/s\u001b[0m eta \u001b[36m0:00:00\u001b[0m\n",
            "\u001b[?25hDownloading cutensor_cu12-2.0.2-py3-none-manylinux2014_x86_64.whl (156.9 MB)\n",
            "\u001b[2K   \u001b[90m━━━━━━━━━━━━━━━━━━━━━━━━━━━━━━━━━━━━━━━━\u001b[0m \u001b[32m156.9/156.9 MB\u001b[0m \u001b[31m6.9 MB/s\u001b[0m eta \u001b[36m0:00:00\u001b[0m\n",
            "\u001b[?25hInstalling collected packages: cutensor-cu12, custatevec-cu12, nvidia-nvjitlink-cu12, nvidia-cuda-runtime-cu12, nvidia-cublas-cu12, cutensornet-cu12, nvidia-cusparse-cu12, cuquantum-cu12, nvidia-cusolver-cu12, qiskit-aer-gpu\n",
            "\u001b[31mERROR: pip's dependency resolver does not currently take into account all the packages that are installed. This behaviour is the source of the following dependency conflicts.\n",
            "torch 2.3.1+cu121 requires nvidia-cuda-cupti-cu12==12.1.105; platform_system == \"Linux\" and platform_machine == \"x86_64\", which is not installed.\n",
            "torch 2.3.1+cu121 requires nvidia-cuda-nvrtc-cu12==12.1.105; platform_system == \"Linux\" and platform_machine == \"x86_64\", which is not installed.\n",
            "torch 2.3.1+cu121 requires nvidia-cudnn-cu12==8.9.2.26; platform_system == \"Linux\" and platform_machine == \"x86_64\", which is not installed.\n",
            "torch 2.3.1+cu121 requires nvidia-cufft-cu12==11.0.2.54; platform_system == \"Linux\" and platform_machine == \"x86_64\", which is not installed.\n",
            "torch 2.3.1+cu121 requires nvidia-curand-cu12==10.3.2.106; platform_system == \"Linux\" and platform_machine == \"x86_64\", which is not installed.\n",
            "torch 2.3.1+cu121 requires nvidia-nccl-cu12==2.20.5; platform_system == \"Linux\" and platform_machine == \"x86_64\", which is not installed.\n",
            "torch 2.3.1+cu121 requires nvidia-nvtx-cu12==12.1.105; platform_system == \"Linux\" and platform_machine == \"x86_64\", which is not installed.\n",
            "torch 2.3.1+cu121 requires nvidia-cublas-cu12==12.1.3.1; platform_system == \"Linux\" and platform_machine == \"x86_64\", but you have nvidia-cublas-cu12 12.5.3.2 which is incompatible.\n",
            "torch 2.3.1+cu121 requires nvidia-cuda-runtime-cu12==12.1.105; platform_system == \"Linux\" and platform_machine == \"x86_64\", but you have nvidia-cuda-runtime-cu12 12.5.82 which is incompatible.\n",
            "torch 2.3.1+cu121 requires nvidia-cusolver-cu12==11.4.5.107; platform_system == \"Linux\" and platform_machine == \"x86_64\", but you have nvidia-cusolver-cu12 11.6.3.83 which is incompatible.\n",
            "torch 2.3.1+cu121 requires nvidia-cusparse-cu12==12.1.0.106; platform_system == \"Linux\" and platform_machine == \"x86_64\", but you have nvidia-cusparse-cu12 12.5.1.3 which is incompatible.\u001b[0m\u001b[31m\n",
            "\u001b[0mSuccessfully installed cuquantum-cu12-24.3.0.post1 custatevec-cu12-1.6.0.post1 cutensor-cu12-2.0.2 cutensornet-cu12-2.4.0.post1 nvidia-cublas-cu12-12.5.3.2 nvidia-cuda-runtime-cu12-12.5.82 nvidia-cusolver-cu12-11.6.3.83 nvidia-cusparse-cu12-12.5.1.3 nvidia-nvjitlink-cu12-12.5.82 qiskit-aer-gpu-0.14.2\n"
          ]
        }
      ],
      "source": [
        "!pip install qiskit\n",
        "!pip install pylatexenc\n",
        "!pip install qiskit-aer-gpu"
      ]
    },
    {
      "cell_type": "code",
      "execution_count": null,
      "id": "96c42771",
      "metadata": {
        "id": "96c42771"
      },
      "outputs": [],
      "source": [
        "import numpy as np\n",
        "import qiskit\n",
        "from qiskit import QuantumCircuit #This is a subclass of qiskit\n",
        "from qiskit import QuantumRegister, ClassicalRegister\n",
        "from qiskit_aer import AerSimulator\n",
        "import matplotlib as mpl\n",
        "import matplotlib.pyplot as plt\n",
        "\n",
        "from qiskit_aer import Aer\n",
        "from qiskit.quantum_info import Statevector"
      ]
    },
    {
      "cell_type": "markdown",
      "id": "8595bdb9",
      "metadata": {
        "id": "8595bdb9"
      },
      "source": [
        "#### Circuit design start here"
      ]
    },
    {
      "cell_type": "code",
      "execution_count": null,
      "id": "ae3655c2",
      "metadata": {
        "colab": {
          "base_uri": "https://localhost:8080/",
          "height": 62
        },
        "id": "ae3655c2",
        "outputId": "fa34ee69-5452-45f8-deb5-ad39d57cdd4e"
      },
      "outputs": [
        {
          "output_type": "execute_result",
          "data": {
            "text/plain": [
              "   \n",
              "q: \n",
              "   "
            ],
            "text/html": [
              "<pre style=\"word-wrap: normal;white-space: pre;background: #fff0;line-height: 1.1;font-family: &quot;Courier New&quot;,Courier,monospace\">   \n",
              "q: \n",
              "   </pre>"
            ]
          },
          "metadata": {},
          "execution_count": 192
        }
      ],
      "source": [
        "single_qubit = QuantumCircuit(1) #Generate a single-qubit circuit. We cannot use any two-qubit gates if we only have one qubit.\n",
        "#Let's draw what we have so far.\n",
        "single_qubit.draw()"
      ]
    },
    {
      "cell_type": "code",
      "execution_count": null,
      "id": "254fd2b1",
      "metadata": {
        "id": "254fd2b1",
        "colab": {
          "base_uri": "https://localhost:8080/",
          "height": 92
        },
        "outputId": "b42dbdbb-352c-45e1-ef49-f66d2cb24579"
      },
      "outputs": [
        {
          "output_type": "execute_result",
          "data": {
            "text/plain": [
              "         ░ ┌─┐\n",
              "     q: ─░─┤M├\n",
              "         ░ └╥┘\n",
              "meas: 1/════╩═\n",
              "            0 "
            ],
            "text/html": [
              "<pre style=\"word-wrap: normal;white-space: pre;background: #fff0;line-height: 1.1;font-family: &quot;Courier New&quot;,Courier,monospace\">         ░ ┌─┐\n",
              "     q: ─░─┤M├\n",
              "         ░ └╥┘\n",
              "meas: 1/════╩═\n",
              "            0 </pre>"
            ]
          },
          "metadata": {},
          "execution_count": 193
        }
      ],
      "source": [
        "single_qubit.measure_all() #Measure a probabilistic, collapsed final state the qubit should be in after passing through the circuit. Since this qubit is not in a superposition state, it has a 100% chance of collapsing into the initialized state.\n",
        "single_qubit.draw()"
      ]
    },
    {
      "cell_type": "markdown",
      "id": "2153b4af",
      "metadata": {
        "id": "2153b4af"
      },
      "source": [
        "Oh, it's just a q for qubit in state |0⟩. This is because we haven't added any logic gates (operators) to the circuit. So, it's less of a circuit and just a qubit standing alone. In this ideal situation, this qubit is not interacting with the environment, so it's just sitting there existing. For instance, think of it as a single electron with some undefined spin vector existing in space. Let's change that - let's add some single-qubit operators, starting with one of the most basic. We can also make the diagram a little more pretty by adding `output=\"mpl\"` to the `.draw()` attribute."
      ]
    },
    {
      "cell_type": "code",
      "execution_count": null,
      "id": "6a857172",
      "metadata": {
        "colab": {
          "base_uri": "https://localhost:8080/",
          "height": 191
        },
        "id": "6a857172",
        "outputId": "1cff2633-9cd1-4e34-e1fb-1e5b81fe7207"
      },
      "outputs": [
        {
          "output_type": "execute_result",
          "data": {
            "text/plain": [
              "<Figure size 413.165x200.667 with 1 Axes>"
            ],
            "image/png": "[encoded data removed]"
          },
          "metadata": {},
          "execution_count": 194
        }
      ],
      "source": [
        "#At this point, make sure you've commented out the code block above and rerun all blocks dictating the circuit design; Qiskit builds the circuit further after each command is called on that circuit. Otherwise, it'll misplace a measurement meter in your circuit.\n",
        "single_qubit.x(0)\n",
        "single_qubit.draw(output=\"mpl\")"
      ]
    },
    {
      "cell_type": "code",
      "execution_count": null,
      "id": "uatSAHhKocn-",
      "metadata": {
        "colab": {
          "base_uri": "https://localhost:8080/"
        },
        "id": "uatSAHhKocn-",
        "outputId": "8b868993-38bd-4758-ff1c-337d9e23d3b3"
      },
      "outputs": [
        {
          "output_type": "stream",
          "name": "stdout",
          "text": [
            "[0. 1.]\n"
          ]
        }
      ],
      "source": [
        "#This part I took instruction from https://quantumcomputing.stackexchange.com/questions/24031/how-to-get-probabilities-from-a-simulator-without-sampling-for-a-qiskit-circuit\n",
        "\n",
        "#Simulate using Qiskit Aer; what is the probability the qubit will now come out of the x-gate as |0⟩ OR |1⟩ at this point in the circuit?\n",
        "backend = Aer.get_backend('statevector_simulator')\n",
        "outputstate = backend.run(single_qubit, shots=1).result().get_statevector()\n",
        "probs = Statevector(outputstate).probabilities()\n",
        "\n",
        "print(probs)"
      ]
    },
    {
      "cell_type": "markdown",
      "id": "71057797",
      "metadata": {
        "id": "71057797"
      },
      "source": [
        "The probabilites displaced in `probs` indicate the likelyhood that the qubit at the end of this circuit will collapse into the |0⟩ state (first value of `probs`) or the |1⟩ state (second value of `probs`) upon measurement. Notice that in this simulated measurement, the state of |q⟩ changed from |0⟩ to |1⟩. This is because `.x(0)` enacted a Pauli x operator on |q⟩, which we learned in lecture acts as a bit-flip/not gate. That is, the state of the qubit (here, automatically initialized as |1⟩), has flipped 180 degrees along the z-axis (around the x-axis).\n",
        "\n",
        "Let's add more gates! Do make sure you rerun the circuit design from the very start again - otherwise it'll compile on itself if you re-run out of order. One way to get around this is `Qiskit`'s `.append()`, but for complexity purposes, we will simply continue to rerun this code."
      ]
    },
    {
      "cell_type": "code",
      "execution_count": null,
      "id": "5fee03b7",
      "metadata": {
        "colab": {
          "base_uri": "https://localhost:8080/",
          "height": 191
        },
        "id": "5fee03b7",
        "outputId": "84d2406f-0def-40a6-9976-8954f74b5b5e"
      },
      "outputs": [
        {
          "output_type": "execute_result",
          "data": {
            "text/plain": [
              "<Figure size 496.776x200.667 with 1 Axes>"
            ],
            "image/png": "[encoded data removed]"
          },
          "metadata": {},
          "execution_count": 196
        }
      ],
      "source": [
        "#Let's apply a Hadamard gate and re-measure the collapse probabilities.\n",
        "single_qubit.h(0)\n",
        "#single_qubit.measure_all()\n",
        "single_qubit.draw(output=\"mpl\")"
      ]
    },
    {
      "cell_type": "code",
      "execution_count": null,
      "id": "zwfmdx64qdM5",
      "metadata": {
        "colab": {
          "base_uri": "https://localhost:8080/"
        },
        "id": "zwfmdx64qdM5",
        "outputId": "1daeeeac-9eb2-4fed-abfe-583f06ea4844"
      },
      "outputs": [
        {
          "output_type": "stream",
          "name": "stdout",
          "text": [
            "[0.5 0.5]\n"
          ]
        }
      ],
      "source": [
        "#Simulate using Qiskit Aer; what is the probability the qubit will now come out of the x-gate as |0⟩ OR |1⟩ at this point in the circuit?\n",
        "backend = Aer.get_backend('statevector_simulator')\n",
        "outputstate = backend.run(single_qubit, shots=1).result().get_statevector()\n",
        "probs = Statevector(outputstate).probabilities()\n",
        "\n",
        "print(probs)"
      ]
    },
    {
      "cell_type": "markdown",
      "id": "GDTtXw02qjGc",
      "metadata": {
        "id": "GDTtXw02qjGc"
      },
      "source": [
        "After operating the Hadamard gate and re-measuring our state probabilities, we see there is a 50% chance the qubit will collapse to state |0⟩ and a 50% chance it'll collpase to |1⟩. Why? This is because the Hadamard gate transforms our |1⟩ state to a superposition of |0⟩ and |1⟩. In fact, it is in the state $\\frac{|0⟩+|1⟩}{\\sqrt{2}}$, which means it's equally likely to collapse either way. What happens if we add a third Hadamard gate? Remember to re-run the circuit from the start."
      ]
    },
    {
      "cell_type": "code",
      "execution_count": null,
      "id": "mXkN0XqHoD9_",
      "metadata": {
        "colab": {
          "base_uri": "https://localhost:8080/",
          "height": 191
        },
        "id": "mXkN0XqHoD9_",
        "outputId": "b3035d41-9886-42b7-fd73-b933557aa615"
      },
      "outputs": [
        {
          "output_type": "execute_result",
          "data": {
            "text/plain": [
              "<Figure size 580.387x200.667 with 1 Axes>"
            ],
            "image/png": "[encoded data removed]"
          },
          "metadata": {},
          "execution_count": 198
        }
      ],
      "source": [
        "#Let's apply a Hadamard gate\n",
        "single_qubit.h(0)\n",
        "#single_qubit.measure_all()\n",
        "single_qubit.draw(output=\"mpl\")"
      ]
    },
    {
      "cell_type": "code",
      "execution_count": null,
      "id": "aa4a24a3",
      "metadata": {
        "colab": {
          "base_uri": "https://localhost:8080/"
        },
        "id": "aa4a24a3",
        "outputId": "91d0e4ba-b8c5-451b-f65e-f3bb131064d1"
      },
      "outputs": [
        {
          "output_type": "stream",
          "name": "stdout",
          "text": [
            "[3.74939946e-33 1.00000000e+00]\n"
          ]
        }
      ],
      "source": [
        "#Simulate using Qiskit Aer; what is the probability the qubit will now come out of the x-gate as |0⟩ OR |1⟩ at this point in the circuit?\n",
        "backend = Aer.get_backend('statevector_simulator')\n",
        "outputstate = backend.run(single_qubit, shots=1).result().get_statevector()\n",
        "probs = Statevector(outputstate).probabilities()\n",
        "\n",
        "print(probs)"
      ]
    },
    {
      "cell_type": "markdown",
      "id": "MAHF8C3jscy3",
      "metadata": {
        "id": "MAHF8C3jscy3"
      },
      "source": [
        "Take note of the probability values - why do you think this is?"
      ]
    },
    {
      "cell_type": "markdown",
      "id": "4-xHs300tSmZ",
      "metadata": {
        "id": "4-xHs300tSmZ"
      },
      "source": [
        "## $\\color{Orange}{\\text{Activity: Constructing a 2-Qubit Circuit}}$"
      ]
    },
    {
      "cell_type": "markdown",
      "id": "0RXIgSjUt5xM",
      "metadata": {
        "id": "0RXIgSjUt5xM"
      },
      "source": [
        "Let's construct a circuit with a CNOT gate. That is, when the first qubit is in a specific state, the target qubit will be in the opposite state."
      ]
    },
    {
      "cell_type": "code",
      "execution_count": null,
      "id": "t9ESvq3puQG9",
      "metadata": {
        "colab": {
          "base_uri": "https://localhost:8080/",
          "height": 122
        },
        "id": "t9ESvq3puQG9",
        "outputId": "422dc7c5-44ce-4941-9605-a414d2198812"
      },
      "outputs": [
        {
          "output_type": "execute_result",
          "data": {
            "text/plain": [
              "         ░ ┌─┐   \n",
              "   q_0: ─░─┤M├───\n",
              "         ░ └╥┘┌─┐\n",
              "   q_1: ─░──╫─┤M├\n",
              "         ░  ║ └╥┘\n",
              "meas: 2/════╩══╩═\n",
              "            0  1 "
            ],
            "text/html": [
              "<pre style=\"word-wrap: normal;white-space: pre;background: #fff0;line-height: 1.1;font-family: &quot;Courier New&quot;,Courier,monospace\">         ░ ┌─┐   \n",
              "   q_0: ─░─┤M├───\n",
              "         ░ └╥┘┌─┐\n",
              "   q_1: ─░──╫─┤M├\n",
              "         ░  ║ └╥┘\n",
              "meas: 2/════╩══╩═\n",
              "            0  1 </pre>"
            ]
          },
          "metadata": {},
          "execution_count": 200
        }
      ],
      "source": [
        "single_qubit = QuantumCircuit(2)\n",
        "single_qubit.measure_all()\n",
        "single_qubit.draw()"
      ]
    },
    {
      "cell_type": "markdown",
      "id": "aE3WuL4yukEL",
      "metadata": {
        "id": "aE3WuL4yukEL"
      },
      "source": [
        "The two-qubit circuit has been initialized in the |01⟩ state; that is, the first qubit is in the |0⟩ state and the second qubit is in the |1⟩ state. Use a combination of our code above, documentation, and IBM Quantum to construct a CNOT gate and measure the probabilities of both qubits after they pass through that gate."
      ]
    },
    {
      "cell_type": "code",
      "execution_count": null,
      "id": "gQ7CWDVjuifU",
      "metadata": {
        "colab": {
          "base_uri": "https://localhost:8080/",
          "height": 255
        },
        "id": "gQ7CWDVjuifU",
        "outputId": "e7d217fd-9213-4aa7-899e-1b6e93432944"
      },
      "outputs": [
        {
          "output_type": "execute_result",
          "data": {
            "text/plain": [
              "<Figure size 496.776x284.278 with 1 Axes>"
            ],
            "image/png": "[encoded data removed]"
          },
          "metadata": {},
          "execution_count": 201
        }
      ],
      "source": [
        "single_qubit.cx(1,0)\n",
        "single_qubit.draw(output='mpl')"
      ]
    },
    {
      "cell_type": "code",
      "source": [
        "# @title Default title text\n",
        "backend = Aer.get_backend('statevector_simulator')\n",
        "outputstate = backend.run(single_qubit, shots=1).result().get_statevector()\n",
        "probs = Statevector(outputstate).probabilities()\n",
        "\n",
        "print(probs)"
      ],
      "metadata": {
        "colab": {
          "base_uri": "https://localhost:8080/"
        },
        "id": "ftlxVsOiashu",
        "outputId": "c487cd78-071c-4bd0-ccd6-fc7448bd2a0a"
      },
      "id": "ftlxVsOiashu",
      "execution_count": null,
      "outputs": [
        {
          "output_type": "stream",
          "name": "stdout",
          "text": [
            "[1. 0. 0. 0.]\n"
          ]
        }
      ]
    }
  ],
  "metadata": {
    "colab": {
      "provenance": []
    },
    "kernelspec": {
      "display_name": "Python 3.9 (Default)",
      "language": "python",
      "name": "python3"
    },
    "language_info": {
      "codemirror_mode": {
        "name": "ipython",
        "version": 3
      },
      "file_extension": ".py",
      "mimetype": "text/x-python",
      "name": "python",
      "nbconvert_exporter": "python",
      "pygments_lexer": "ipython3",
      "version": "3.9.7"
    }
  },
  "nbformat": 4,
  "nbformat_minor": 5
}