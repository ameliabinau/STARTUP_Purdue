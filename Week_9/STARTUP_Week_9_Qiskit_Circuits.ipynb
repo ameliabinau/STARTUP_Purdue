{
  "cells": [
    {
      "cell_type": "markdown",
      "id": "af915211",
      "metadata": {
        "id": "af915211"
      },
      "source": [
        "# $\\color{Violet}{\\text{Week 9: Visualizing Quantum circuits in Qiskit}}$"
      ]
    },
    {
      "cell_type": "markdown",
      "id": "ee81193d",
      "metadata": {
        "id": "ee81193d"
      },
      "source": [
        "`Qiskit` is one of the most well-documented and universally used Python packages in the field of quantum computing. It has a varity of subfunctions that allow for easy circuit design/visualization, connectivity to real quantum computers, and quantum error analysis. In this homework, we will focus on practicing using `Qiskit` to contruct and visualize quantum circuits and simulate the final measured states of qubits passing through them."
      ]
    },
    {
      "cell_type": "markdown",
      "source": [
        "IBM Qunatum has produced a free interface which allows you to manually create these circuits, run them on IBM quantum computers, and even produces code to replicate them here! Use the IBM Qunatum interface alongside this homework assignment. Replicate each circuit in IBM Quantum and compare your result with the code. You will need to make an account to run your circuit on an IBM quantum computer.\n",
        "\n",
        "IBM Quantum: https://quantum.ibm.com/composer/files/e326d7d40aa340f043d495be3ddeec3c3f192de8a65e55fef2797f2199cc94f9"
      ],
      "metadata": {
        "id": "UJsikJNnstne"
      },
      "id": "UJsikJNnstne"
    },
    {
      "cell_type": "markdown",
      "id": "b61ecf40",
      "metadata": {
        "id": "b61ecf40"
      },
      "source": [
        "### Contructing a Single-Qubit Circuit"
      ]
    },
    {
      "cell_type": "markdown",
      "id": "99813867",
      "metadata": {
        "id": "99813867"
      },
      "source": [
        "Let's contruct a single-qubit circuit so we can explore the gates availble in Qiskit's base package simply."
      ]
    },
    {
      "cell_type": "code",
      "execution_count": 2,
      "id": "171022a6",
      "metadata": {
        "colab": {
          "base_uri": "https://localhost:8080/"
        },
        "id": "171022a6",
        "outputId": "b4026874-0e33-4dbb-aeea-0177b8fb8908"
      },
      "outputs": [
        {
          "output_type": "stream",
          "name": "stdout",
          "text": [
            "Collecting qiskit\n",
            "  Downloading qiskit-1.1.1-cp38-abi3-manylinux_2_17_x86_64.manylinux2014_x86_64.whl.metadata (12 kB)\n",
            "Collecting rustworkx>=0.14.0 (from qiskit)\n",
            "  Downloading rustworkx-0.15.1-cp38-abi3-manylinux_2_17_x86_64.manylinux2014_x86_64.whl.metadata (9.9 kB)\n",
            "Requirement already satisfied: numpy<3,>=1.17 in /usr/local/lib/python3.10/dist-packages (from qiskit) (1.25.2)\n",
            "Requirement already satisfied: scipy>=1.5 in /usr/local/lib/python3.10/dist-packages (from qiskit) (1.11.4)\n",
            "Requirement already satisfied: sympy>=1.3 in /usr/local/lib/python3.10/dist-packages (from qiskit) (1.13.1)\n",
            "Collecting dill>=0.3 (from qiskit)\n",
            "  Downloading dill-0.3.8-py3-none-any.whl.metadata (10 kB)\n",
            "Requirement already satisfied: python-dateutil>=2.8.0 in /usr/local/lib/python3.10/dist-packages (from qiskit) (2.8.2)\n",
            "Collecting stevedore>=3.0.0 (from qiskit)\n",
            "  Downloading stevedore-5.2.0-py3-none-any.whl.metadata (2.3 kB)\n",
            "Requirement already satisfied: typing-extensions in /usr/local/lib/python3.10/dist-packages (from qiskit) (4.12.2)\n",
            "Collecting symengine>=0.11 (from qiskit)\n",
            "  Downloading symengine-0.11.0-cp310-cp310-manylinux_2_12_x86_64.manylinux2010_x86_64.whl.metadata (1.2 kB)\n",
            "Requirement already satisfied: six>=1.5 in /usr/local/lib/python3.10/dist-packages (from python-dateutil>=2.8.0->qiskit) (1.16.0)\n",
            "Collecting pbr!=2.1.0,>=2.0.0 (from stevedore>=3.0.0->qiskit)\n",
            "  Downloading pbr-6.0.0-py2.py3-none-any.whl.metadata (1.3 kB)\n",
            "Requirement already satisfied: mpmath<1.4,>=1.1.0 in /usr/local/lib/python3.10/dist-packages (from sympy>=1.3->qiskit) (1.3.0)\n",
            "Downloading qiskit-1.1.1-cp38-abi3-manylinux_2_17_x86_64.manylinux2014_x86_64.whl (4.3 MB)\n",
            "\u001b[2K   \u001b[90m━━━━━━━━━━━━━━━━━━━━━━━━━━━━━━━━━━━━━━━━\u001b[0m \u001b[32m4.3/4.3 MB\u001b[0m \u001b[31m34.3 MB/s\u001b[0m eta \u001b[36m0:00:00\u001b[0m\n",
            "\u001b[?25hDownloading dill-0.3.8-py3-none-any.whl (116 kB)\n",
            "\u001b[2K   \u001b[90m━━━━━━━━━━━━━━━━━━━━━━━━━━━━━━━━━━━━━━━━\u001b[0m \u001b[32m116.3/116.3 kB\u001b[0m \u001b[31m6.0 MB/s\u001b[0m eta \u001b[36m0:00:00\u001b[0m\n",
            "\u001b[?25hDownloading rustworkx-0.15.1-cp38-abi3-manylinux_2_17_x86_64.manylinux2014_x86_64.whl (2.0 MB)\n",
            "\u001b[2K   \u001b[90m━━━━━━━━━━━━━━━━━━━━━━━━━━━━━━━━━━━━━━━━\u001b[0m \u001b[32m2.0/2.0 MB\u001b[0m \u001b[31m48.4 MB/s\u001b[0m eta \u001b[36m0:00:00\u001b[0m\n",
            "\u001b[?25hDownloading stevedore-5.2.0-py3-none-any.whl (49 kB)\n",
            "\u001b[2K   \u001b[90m━━━━━━━━━━━━━━━━━━━━━━━━━━━━━━━━━━━━━━━━\u001b[0m \u001b[32m49.7/49.7 kB\u001b[0m \u001b[31m2.1 MB/s\u001b[0m eta \u001b[36m0:00:00\u001b[0m\n",
            "\u001b[?25hDownloading symengine-0.11.0-cp310-cp310-manylinux_2_12_x86_64.manylinux2010_x86_64.whl (39.4 MB)\n",
            "\u001b[2K   \u001b[90m━━━━━━━━━━━━━━━━━━━━━━━━━━━━━━━━━━━━━━━━\u001b[0m \u001b[32m39.4/39.4 MB\u001b[0m \u001b[31m18.7 MB/s\u001b[0m eta \u001b[36m0:00:00\u001b[0m\n",
            "\u001b[?25hDownloading pbr-6.0.0-py2.py3-none-any.whl (107 kB)\n",
            "\u001b[2K   \u001b[90m━━━━━━━━━━━━━━━━━━━━━━━━━━━━━━━━━━━━━━━━\u001b[0m \u001b[32m107.5/107.5 kB\u001b[0m \u001b[31m6.5 MB/s\u001b[0m eta \u001b[36m0:00:00\u001b[0m\n",
            "\u001b[?25hInstalling collected packages: symengine, rustworkx, pbr, dill, stevedore, qiskit\n",
            "Successfully installed dill-0.3.8 pbr-6.0.0 qiskit-1.1.1 rustworkx-0.15.1 stevedore-5.2.0 symengine-0.11.0\n"
          ]
        }
      ],
      "source": [
        "#pip install qiskit\n",
        "#pip install pylatexenc\n",
        "#pip install qiskit-aer-gpu"
      ]
    },
    {
      "cell_type": "code",
      "execution_count": 96,
      "id": "96c42771",
      "metadata": {
        "id": "96c42771"
      },
      "outputs": [],
      "source": [
        "import numpy as np\n",
        "import qiskit\n",
        "from qiskit import QuantumCircuit #This is a subclass of qiskit\n",
        "from qiskit_aer import AerSimulator\n",
        "import matplotlib as mpl\n",
        "import matplotlib.pyplot as plt\n",
        "\n",
        "from qiskit_aer import Aer\n",
        "from qiskit.quantum_info import Statevector"
      ]
    },
    {
      "cell_type": "markdown",
      "id": "8595bdb9",
      "metadata": {
        "id": "8595bdb9"
      },
      "source": [
        "#### Circuit design start here"
      ]
    },
    {
      "cell_type": "code",
      "execution_count": 130,
      "id": "ae3655c2",
      "metadata": {
        "colab": {
          "base_uri": "https://localhost:8080/",
          "height": 63
        },
        "id": "ae3655c2",
        "outputId": "8d3ac438-8552-4c80-b470-8910954296fb"
      },
      "outputs": [
        {
          "output_type": "execute_result",
          "data": {
            "text/plain": [
              "   \n",
              "q: \n",
              "   "
            ],
            "text/html": [
              "<pre style=\"word-wrap: normal;white-space: pre;background: #fff0;line-height: 1.1;font-family: &quot;Courier New&quot;,Courier,monospace\">   \n",
              "q: \n",
              "   </pre>"
            ]
          },
          "metadata": {},
          "execution_count": 130
        }
      ],
      "source": [
        "single_qubit = QuantumCircuit(1) #Generate a single-qubit circuit. We cannot use any two-qubit gates if we only have one qubit.\n",
        "#Let's draw what we have so far.\n",
        "single_qubit.draw()"
      ]
    },
    {
      "cell_type": "code",
      "execution_count": 131,
      "id": "254fd2b1",
      "metadata": {
        "colab": {
          "base_uri": "https://localhost:8080/",
          "height": 94
        },
        "id": "254fd2b1",
        "outputId": "9df520b8-9f53-40e3-c3be-5b2a1b22728c"
      },
      "outputs": [
        {
          "output_type": "execute_result",
          "data": {
            "text/plain": [
              "         ░ ┌─┐\n",
              "     q: ─░─┤M├\n",
              "         ░ └╥┘\n",
              "meas: 1/════╩═\n",
              "            0 "
            ],
            "text/html": [
              "<pre style=\"word-wrap: normal;white-space: pre;background: #fff0;line-height: 1.1;font-family: &quot;Courier New&quot;,Courier,monospace\">         ░ ┌─┐\n",
              "     q: ─░─┤M├\n",
              "         ░ └╥┘\n",
              "meas: 1/════╩═\n",
              "            0 </pre>"
            ]
          },
          "metadata": {},
          "execution_count": 131
        }
      ],
      "source": [
        "single_qubit.measure_all() #Measure a probabilistic, collapsed final state the qubit should be in after passing through the circuit. Since this qubit is not in a superposition state, it has a 100% chance of collapsing into the initialized state.\n",
        "single_qubit.draw()"
      ]
    },
    {
      "cell_type": "markdown",
      "id": "2153b4af",
      "metadata": {
        "id": "2153b4af"
      },
      "source": [
        "Oh, it's just a q for qubit in state |0⟩. This is because we haven't added any logic gates (operators) to the circuit. So, it's less of a circuit and just a qubit standing alone. In this ideal situation, this qubit is not interacting with the environment, so it's just sitting there existing. For instance, think of it as a single electron with some undefined spin vector existing in space. Let's change that - let's add some single-qubit operators, starting with one of the most basic. We can also make the diagram a little more pretty by adding `output=\"mpl\"` to the `.draw()` attribute."
      ]
    },
    {
      "cell_type": "code",
      "execution_count": 132,
      "id": "6a857172",
      "metadata": {
        "colab": {
          "base_uri": "https://localhost:8080/",
          "height": 191
        },
        "id": "6a857172",
        "outputId": "ecdc408b-659a-4069-c46a-67da97b69483"
      },
      "outputs": [
        {
          "output_type": "execute_result",
          "data": {
            "text/plain": [
              "<Figure size 413.165x200.667 with 1 Axes>"
            ],
            "image/png": "[encoded data removed]"
          },
          "metadata": {},
          "execution_count": 132
        }
      ],
      "source": [
        "#At this point, make sure you've commented out the code block above and rerun all blocks dictating the circuit design; Qiskit builds the circuit further after each command is called on that circuit. Otherwise, it'll misplace a measurement meter in your circuit.\n",
        "single_qubit.x(0)\n",
        "single_qubit.draw(output=\"mpl\")"
      ]
    },
    {
      "cell_type": "code",
      "source": [
        "#This part I took instruction from https://quantumcomputing.stackexchange.com/questions/24031/how-to-get-probabilities-from-a-simulator-without-sampling-for-a-qiskit-circuit\n",
        "\n",
        "#Simulate using Qiskit Aer; what is the probability the qubit will now come out of the x-gate as |0⟩ OR |1⟩ at this point in the circuit?\n",
        "backend = Aer.get_backend('statevector_simulator')\n",
        "outputstate = backend.run(single_qubit, shots=1).result().get_statevector()\n",
        "probs = Statevector(outputstate).probabilities()\n",
        "\n",
        "print(probs)"
      ],
      "metadata": {
        "colab": {
          "base_uri": "https://localhost:8080/"
        },
        "id": "uatSAHhKocn-",
        "outputId": "bcde8b0d-8463-4503-cde8-810095c77973"
      },
      "id": "uatSAHhKocn-",
      "execution_count": 133,
      "outputs": [
        {
          "output_type": "stream",
          "name": "stdout",
          "text": [
            "[0. 1.]\n"
          ]
        }
      ]
    },
    {
      "cell_type": "markdown",
      "id": "71057797",
      "metadata": {
        "id": "71057797"
      },
      "source": [
        "The probabilites displaced in `probs` indicate the likelyhood that the qubit at the end of this circuit will collapse into the |0⟩ state (first value of `probs`) or the |1⟩ state (second value of `probs`) upon measurement. Notice that in this simulated measurement, the state of |q⟩ changed from |0⟩ to |1⟩. This is because `.x(0)` enacted a Pauli x operator on |q⟩, which we learned in lecture acts as a bit-flip/not gate. That is, the state of the qubit (here, automatically initialized as |1⟩), has flipped 180 degrees along the z-axis (around the x-axis).\n",
        "\n",
        "Let's add more gates! Do make sure you rerun the circuit design from the very start again - otherwise it'll compile on itself if you re-run out of order. One way to get around this is `Qiskit`'s `.append()`, but for complexity purposes, we will simply continue to rerun this code."
      ]
    },
    {
      "cell_type": "code",
      "execution_count": 134,
      "id": "5fee03b7",
      "metadata": {
        "colab": {
          "base_uri": "https://localhost:8080/",
          "height": 191
        },
        "id": "5fee03b7",
        "outputId": "bee2ba21-da99-4e50-cacd-e28f17ac1646"
      },
      "outputs": [
        {
          "output_type": "execute_result",
          "data": {
            "text/plain": [
              "<Figure size 496.776x200.667 with 1 Axes>"
            ],
            "image/png": "[encoded data removed]"
          },
          "metadata": {},
          "execution_count": 134
        }
      ],
      "source": [
        "#Let's apply a Hadamard gate and re-measure the collapse probabilities.\n",
        "single_qubit.h(0)\n",
        "#single_qubit.measure_all()\n",
        "single_qubit.draw(output=\"mpl\")"
      ]
    },
    {
      "cell_type": "code",
      "source": [
        "#Simulate using Qiskit Aer; what is the probability the qubit will now come out of the x-gate as |0⟩ OR |1⟩ at this point in the circuit?\n",
        "backend = Aer.get_backend('statevector_simulator')\n",
        "outputstate = backend.run(single_qubit, shots=1).result().get_statevector()\n",
        "probs = Statevector(outputstate).probabilities()\n",
        "\n",
        "print(probs)"
      ],
      "metadata": {
        "colab": {
          "base_uri": "https://localhost:8080/"
        },
        "id": "zwfmdx64qdM5",
        "outputId": "4a69916f-9c28-4efc-985b-c170bc68e60b"
      },
      "id": "zwfmdx64qdM5",
      "execution_count": 135,
      "outputs": [
        {
          "output_type": "stream",
          "name": "stdout",
          "text": [
            "[0.5 0.5]\n"
          ]
        }
      ]
    },
    {
      "cell_type": "markdown",
      "source": [
        "After operating the Hadamard gate and re-measuring our state probabilities, we see there is a 50% chance the qubit will collapse to state |0⟩ and a 50% chance it'll collpase to |1⟩. Why? This is because the Hadamard gate transforms our |1⟩ state to a superposition of |0⟩ and |1⟩. In fact, it is in the state $\\frac{|0⟩+|1⟩}{\\sqrt{2}}$, which means it's equally likely to collapse either way. What happens if we add a third Hadamard gate? Remember to re-run the circuit from the start."
      ],
      "metadata": {
        "id": "GDTtXw02qjGc"
      },
      "id": "GDTtXw02qjGc"
    },
    {
      "cell_type": "code",
      "source": [
        "#Let's apply a Hadamard gate\n",
        "single_qubit.h(0)\n",
        "#single_qubit.measure_all()\n",
        "single_qubit.draw(output=\"mpl\")"
      ],
      "metadata": {
        "colab": {
          "base_uri": "https://localhost:8080/",
          "height": 191
        },
        "id": "mXkN0XqHoD9_",
        "outputId": "723f1db5-2b0a-423d-93fa-6682a97242b3"
      },
      "id": "mXkN0XqHoD9_",
      "execution_count": 136,
      "outputs": [
        {
          "output_type": "execute_result",
          "data": {
            "text/plain": [
              "<Figure size 580.387x200.667 with 1 Axes>"
            ],
            "image/png": "[encoded data removed]"
          },
          "metadata": {},
          "execution_count": 136
        }
      ]
    },
    {
      "cell_type": "code",
      "execution_count": 137,
      "id": "aa4a24a3",
      "metadata": {
        "colab": {
          "base_uri": "https://localhost:8080/"
        },
        "id": "aa4a24a3",
        "outputId": "16b72b0f-19fd-443f-d348-95550e79c31f"
      },
      "outputs": [
        {
          "output_type": "stream",
          "name": "stdout",
          "text": [
            "[3.74939946e-33 1.00000000e+00]\n"
          ]
        }
      ],
      "source": [
        "#Simulate using Qiskit Aer; what is the probability the qubit will now come out of the x-gate as |0⟩ OR |1⟩ at this point in the circuit?\n",
        "backend = Aer.get_backend('statevector_simulator')\n",
        "outputstate = backend.run(single_qubit, shots=1).result().get_statevector()\n",
        "probs = Statevector(outputstate).probabilities()\n",
        "\n",
        "print(probs)"
      ]
    },
    {
      "cell_type": "markdown",
      "source": [
        "Take note of the probability values - why do you think this is?"
      ],
      "metadata": {
        "id": "MAHF8C3jscy3"
      },
      "id": "MAHF8C3jscy3"
    },
    {
      "cell_type": "markdown",
      "source": [
        "## $\\color{Orange}{\\text{Activity: Constructing a 2-Qubit Circuit}}$"
      ],
      "metadata": {
        "id": "4-xHs300tSmZ"
      },
      "id": "4-xHs300tSmZ"
    },
    {
      "cell_type": "markdown",
      "source": [
        "Let's construct a circuit with a CNOT gate. That is, when the first qubit is in a specific state, the target qubit will be in the opposite state."
      ],
      "metadata": {
        "id": "0RXIgSjUt5xM"
      },
      "id": "0RXIgSjUt5xM"
    },
    {
      "cell_type": "code",
      "source": [
        "single_qubit = QuantumCircuit(2)\n",
        "single_qubit.measure_all()\n",
        "single_qubit.draw()"
      ],
      "metadata": {
        "colab": {
          "base_uri": "https://localhost:8080/",
          "height": 125
        },
        "id": "t9ESvq3puQG9",
        "outputId": "c5adff39-b6ca-4b85-d850-5fcfcbe10aee"
      },
      "id": "t9ESvq3puQG9",
      "execution_count": 138,
      "outputs": [
        {
          "output_type": "execute_result",
          "data": {
            "text/plain": [
              "         ░ ┌─┐   \n",
              "   q_0: ─░─┤M├───\n",
              "         ░ └╥┘┌─┐\n",
              "   q_1: ─░──╫─┤M├\n",
              "         ░  ║ └╥┘\n",
              "meas: 2/════╩══╩═\n",
              "            0  1 "
            ],
            "text/html": [
              "<pre style=\"word-wrap: normal;white-space: pre;background: #fff0;line-height: 1.1;font-family: &quot;Courier New&quot;,Courier,monospace\">         ░ ┌─┐   \n",
              "   q_0: ─░─┤M├───\n",
              "         ░ └╥┘┌─┐\n",
              "   q_1: ─░──╫─┤M├\n",
              "         ░  ║ └╥┘\n",
              "meas: 2/════╩══╩═\n",
              "            0  1 </pre>"
            ]
          },
          "metadata": {},
          "execution_count": 138
        }
      ]
    },
    {
      "cell_type": "markdown",
      "source": [
        "The two-qubit circuit has been initialized in the |01⟩ state; that is, the first qubit is in the |0⟩ state and the second qubit is in the |1⟩ state. Use a combination of our code above, documentation, and IBM Quantum to construct a CNOT gate and measure the probabilities of both qubits after they pass through that gate."
      ],
      "metadata": {
        "id": "aE3WuL4yukEL"
      },
      "id": "aE3WuL4yukEL"
    },
    {
      "cell_type": "code",
      "source": [],
      "metadata": {
        "id": "gQ7CWDVjuifU"
      },
      "id": "gQ7CWDVjuifU",
      "execution_count": null,
      "outputs": []
    }
  ],
  "metadata": {
    "kernelspec": {
      "display_name": "Python 3.9 (Default)",
      "language": "python",
      "name": "python3"
    },
    "language_info": {
      "codemirror_mode": {
        "name": "ipython",
        "version": 3
      },
      "file_extension": ".py",
      "mimetype": "text/x-python",
      "name": "python",
      "nbconvert_exporter": "python",
      "pygments_lexer": "ipython3",
      "version": "3.9.7"
    },
    "colab": {
      "provenance": []
    }
  },
  "nbformat": 4,
  "nbformat_minor": 5
}
